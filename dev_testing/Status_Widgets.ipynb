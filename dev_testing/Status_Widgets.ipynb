{
 "cells": [
  {
   "cell_type": "code",
   "execution_count": 2,
   "id": "dad45b7e",
   "metadata": {},
   "outputs": [],
   "source": [
    "import Trough_GUI.status_widgets as status"
   ]
  },
  {
   "cell_type": "code",
   "execution_count": 4,
   "id": "a6853889",
   "metadata": {},
   "outputs": [
    {
     "data": {
      "application/vnd.jupyter.widget-view+json": {
       "model_id": "aa6279b466d74ae3ae3704a9e4bb0db4",
       "version_major": 2,
       "version_minor": 0
      },
      "text/plain": [
       "Text(value='', description='mg', disabled=True, style=DescriptionStyle(description_width='initial'))"
      ]
     },
     "metadata": {},
     "output_type": "display_data"
    }
   ],
   "source": [
    "display(status.mg)"
   ]
  },
  {
   "cell_type": "code",
   "execution_count": 5,
   "id": "aefbac4a",
   "metadata": {},
   "outputs": [
    {
     "data": {
      "text/plain": [
       "['Accordion',\n",
       " 'Bar_Area',\n",
       " 'Bar_Area_per_Molec',\n",
       " 'Bar_Frac',\n",
       " 'Bar_Sep',\n",
       " 'BoundedIntText',\n",
       " 'Box',\n",
       " 'Button',\n",
       " 'Checkbox',\n",
       " 'Dropdown',\n",
       " 'FloatText',\n",
       " 'GridBox',\n",
       " 'HBox',\n",
       " 'Label',\n",
       " 'Layout',\n",
       " 'RadioButtons',\n",
       " 'Status',\n",
       " 'Tab',\n",
       " 'Text',\n",
       " 'VBox',\n",
       " '__builtins__',\n",
       " '__cached__',\n",
       " '__doc__',\n",
       " '__file__',\n",
       " '__loader__',\n",
       " '__name__',\n",
       " '__package__',\n",
       " '__spec__',\n",
       " 'degC',\n",
       " 'longdesc',\n",
       " 'mg',\n",
       " 'moles_molec',\n",
       " 'plate_circumference',\n",
       " 'richLabel',\n",
       " 'surf_press',\n",
       " 'texLabel',\n",
       " 'zero_press']"
      ]
     },
     "execution_count": 5,
     "metadata": {},
     "output_type": "execute_result"
    }
   ],
   "source": [
    "dir(status)"
   ]
  },
  {
   "cell_type": "code",
   "execution_count": 2,
   "id": "a8aa28d7",
   "metadata": {},
   "outputs": [
    {
     "ename": "SyntaxError",
     "evalue": "invalid syntax (calibration_utils.py, line 71)",
     "output_type": "error",
     "traceback": [
      "Traceback \u001b[0;36m(most recent call last)\u001b[0m:\n",
      "\u001b[0m  File \u001b[1;32m~/GIT/troughtsting/venv/lib/python3.10/site-packages/IPython/core/interactiveshell.py:3433\u001b[0m in \u001b[1;35mrun_code\u001b[0m\n    exec(code_obj, self.user_global_ns, self.user_ns)\u001b[0m\n",
      "\u001b[0;36m  Cell \u001b[0;32mIn [2], line 1\u001b[0;36m\n\u001b[0;31m    import Trough_GUI.calibration_utils\u001b[0;36m\n",
      "\u001b[0;36m  File \u001b[0;32m~/GIT/troughtsting/Trough_GUI/calibration_utils.py:71\u001b[0;36m\u001b[0m\n\u001b[0;31m    from AdvancedHTMLParser.\u001b[0m\n\u001b[0m                            ^\u001b[0m\n\u001b[0;31mSyntaxError\u001b[0m\u001b[0;31m:\u001b[0m invalid syntax\n"
     ]
    }
   ],
   "source": [
    "import Trough_GUI.calibration_utils"
   ]
  },
  {
   "cell_type": "code",
   "execution_count": 3,
   "id": "55556f7a",
   "metadata": {},
   "outputs": [
    {
     "data": {
      "text/plain": [
       "datetime.datetime(2022, 11, 29, 11, 31, 4, 46322)"
      ]
     },
     "execution_count": 3,
     "metadata": {},
     "output_type": "execute_result"
    }
   ],
   "source": [
    "import datetime\n",
    "datetime.datetime.now()"
   ]
  },
  {
   "cell_type": "code",
   "execution_count": 5,
   "id": "5822d797",
   "metadata": {},
   "outputs": [
    {
     "data": {
      "text/plain": [
       "datetime.datetime(2022, 11, 29, 11, 31, 29, 231476)"
      ]
     },
     "execution_count": 5,
     "metadata": {},
     "output_type": "execute_result"
    }
   ],
   "source": [
    "datetime.datetime.today()"
   ]
  },
  {
   "cell_type": "code",
   "execution_count": 8,
   "id": "3a8b066a",
   "metadata": {},
   "outputs": [
    {
     "data": {
      "text/plain": [
       "'2022-11-29T11:33:58.388710'"
      ]
     },
     "execution_count": 8,
     "metadata": {},
     "output_type": "execute_result"
    }
   ],
   "source": [
    "datetime.datetime.now().isoformat()"
   ]
  },
  {
   "cell_type": "code",
   "execution_count": 10,
   "id": "f16f6ba0",
   "metadata": {},
   "outputs": [
    {
     "data": {
      "text/plain": [
       "1669743322.211636"
      ]
     },
     "execution_count": 10,
     "metadata": {},
     "output_type": "execute_result"
    }
   ],
   "source": [
    "datetime.datetime.now().timestamp()"
   ]
  },
  {
   "cell_type": "code",
   "execution_count": 60,
   "id": "4e75ee61",
   "metadata": {},
   "outputs": [],
   "source": [
    "class el():\n",
    "    def __init__(self,parent,index):\n",
    "        self.parent = parent\n",
    "        self.indent = parent.indent+'\\t'\n",
    "        self.index = index\n",
    "        self.contents = []\n",
    "\n",
    "    def increase_index(self):\n",
    "        self.index+=1\n",
    "        pass\n",
    "\n",
    "    def decrease_index(self):\n",
    "        self.index-=1\n",
    "        pass\n",
    "\n",
    "    def append(self):\n",
    "        obj = el(self,len(self.contents))\n",
    "        self.contents.append(obj)\n",
    "        pass\n",
    "    \n",
    "class outline():\n",
    "    def __init__(self):\n",
    "        self.contents = []\n",
    "        self.indent = ''\n",
    "        pass\n",
    "       \n",
    "    def append(self):\n",
    "        obj = el(self,len(self.contents))\n",
    "        self.contents.append(obj)\n",
    "        pass"
   ]
  },
  {
   "cell_type": "code",
   "execution_count": 61,
   "id": "65d454be",
   "metadata": {},
   "outputs": [
    {
     "data": {
      "text/plain": [
       "[]"
      ]
     },
     "execution_count": 61,
     "metadata": {},
     "output_type": "execute_result"
    }
   ],
   "source": [
    "test= outline()\n",
    "test.contents"
   ]
  },
  {
   "cell_type": "code",
   "execution_count": 62,
   "id": "85e4fe72",
   "metadata": {},
   "outputs": [
    {
     "name": "stdout",
     "output_type": "stream",
     "text": [
      "\t0\n",
      "\t1\n"
     ]
    }
   ],
   "source": [
    "test.append()\n",
    "test.append()\n",
    "for k in test.contents:\n",
    "    print(k.indent+str(k.index))"
   ]
  },
  {
   "cell_type": "code",
   "execution_count": 63,
   "id": "ff044f08",
   "metadata": {},
   "outputs": [],
   "source": [
    "test.contents[0].append()\n",
    "test.contents[0].append()\n",
    "test.contents[0].append()"
   ]
  },
  {
   "cell_type": "code",
   "execution_count": 65,
   "id": "d7a977e7",
   "metadata": {},
   "outputs": [
    {
     "name": "stdout",
     "output_type": "stream",
     "text": [
      "\t0\n",
      "\t\t0\n",
      "\t\t1\n",
      "\t\t2\n",
      "\t1\n"
     ]
    }
   ],
   "source": [
    "for k in test.contents:\n",
    "    print(k.indent+str(k.index))\n",
    "    for j in k.contents:\n",
    "        print(j.indent+str(j.index))"
   ]
  },
  {
   "cell_type": "code",
   "execution_count": 69,
   "id": "316a408d",
   "metadata": {},
   "outputs": [
    {
     "data": {
      "text/plain": [
       "[None, None, None, None, None]"
      ]
     },
     "execution_count": 69,
     "metadata": {},
     "output_type": "execute_result"
    }
   ],
   "source": [
    "param = 5*[None]\n",
    "param"
   ]
  },
  {
   "cell_type": "code",
   "execution_count": 75,
   "id": "a6b6420d",
   "metadata": {},
   "outputs": [
    {
     "name": "stdout",
     "output_type": "stream",
     "text": [
      "0\n",
      "1\n",
      "2\n"
     ]
    }
   ],
   "source": [
    "order = 2\n",
    "for k in range(0,order+1):\n",
    "    print(k)"
   ]
  },
  {
   "cell_type": "code",
   "execution_count": 76,
   "id": "423f1d4b",
   "metadata": {},
   "outputs": [
    {
     "ename": "AttributeError",
     "evalue": "'outline' object has no attribute '_name_'",
     "output_type": "error",
     "traceback": [
      "\u001b[0;31m---------------------------------------------------------------------------\u001b[0m",
      "\u001b[0;31mAttributeError\u001b[0m                            Traceback (most recent call last)",
      "Cell \u001b[0;32mIn [76], line 1\u001b[0m\n\u001b[0;32m----> 1\u001b[0m \u001b[43mtest\u001b[49m\u001b[38;5;241;43m.\u001b[39;49m\u001b[43m_name_\u001b[49m\n",
      "\u001b[0;31mAttributeError\u001b[0m: 'outline' object has no attribute '_name_'"
     ]
    }
   ],
   "source": [
    "test._name_"
   ]
  },
  {
   "cell_type": "code",
   "execution_count": 77,
   "id": "ae6e4c88",
   "metadata": {},
   "outputs": [
    {
     "ename": "AttributeError",
     "evalue": "'outline' object has no attribute '__name__'",
     "output_type": "error",
     "traceback": [
      "\u001b[0;31m---------------------------------------------------------------------------\u001b[0m",
      "\u001b[0;31mAttributeError\u001b[0m                            Traceback (most recent call last)",
      "Cell \u001b[0;32mIn [77], line 1\u001b[0m\n\u001b[0;32m----> 1\u001b[0m \u001b[43mtest\u001b[49m\u001b[38;5;241;43m.\u001b[39;49m\u001b[38;5;18;43m__name__\u001b[39;49m\n",
      "\u001b[0;31mAttributeError\u001b[0m: 'outline' object has no attribute '__name__'"
     ]
    }
   ],
   "source": [
    "test.__name__"
   ]
  },
  {
   "cell_type": "code",
   "execution_count": 78,
   "id": "9fe7cc0c",
   "metadata": {},
   "outputs": [
    {
     "data": {
      "text/plain": [
       "['__class__',\n",
       " '__delattr__',\n",
       " '__dict__',\n",
       " '__dir__',\n",
       " '__doc__',\n",
       " '__eq__',\n",
       " '__format__',\n",
       " '__ge__',\n",
       " '__getattribute__',\n",
       " '__gt__',\n",
       " '__hash__',\n",
       " '__init__',\n",
       " '__init_subclass__',\n",
       " '__le__',\n",
       " '__lt__',\n",
       " '__module__',\n",
       " '__ne__',\n",
       " '__new__',\n",
       " '__reduce__',\n",
       " '__reduce_ex__',\n",
       " '__repr__',\n",
       " '__setattr__',\n",
       " '__sizeof__',\n",
       " '__str__',\n",
       " '__subclasshook__',\n",
       " '__weakref__',\n",
       " 'append',\n",
       " 'contents',\n",
       " 'indent']"
      ]
     },
     "execution_count": 78,
     "metadata": {},
     "output_type": "execute_result"
    }
   ],
   "source": [
    "dir(test)"
   ]
  },
  {
   "cell_type": "code",
   "execution_count": 79,
   "id": "06ef67d4",
   "metadata": {},
   "outputs": [
    {
     "data": {
      "text/plain": [
       "__main__.outline"
      ]
     },
     "execution_count": 79,
     "metadata": {},
     "output_type": "execute_result"
    }
   ],
   "source": [
    "test.__class__"
   ]
  },
  {
   "cell_type": "code",
   "execution_count": 80,
   "id": "a790f8c8",
   "metadata": {},
   "outputs": [],
   "source": [
    "test.__doc__"
   ]
  },
  {
   "cell_type": "code",
   "execution_count": 81,
   "id": "85613212",
   "metadata": {},
   "outputs": [
    {
     "data": {
      "text/plain": [
       "['__add__',\n",
       " '__class__',\n",
       " '__class_getitem__',\n",
       " '__contains__',\n",
       " '__delattr__',\n",
       " '__delitem__',\n",
       " '__dir__',\n",
       " '__doc__',\n",
       " '__eq__',\n",
       " '__format__',\n",
       " '__ge__',\n",
       " '__getattribute__',\n",
       " '__getitem__',\n",
       " '__gt__',\n",
       " '__hash__',\n",
       " '__iadd__',\n",
       " '__imul__',\n",
       " '__init__',\n",
       " '__init_subclass__',\n",
       " '__iter__',\n",
       " '__le__',\n",
       " '__len__',\n",
       " '__lt__',\n",
       " '__mul__',\n",
       " '__ne__',\n",
       " '__new__',\n",
       " '__reduce__',\n",
       " '__reduce_ex__',\n",
       " '__repr__',\n",
       " '__reversed__',\n",
       " '__rmul__',\n",
       " '__setattr__',\n",
       " '__setitem__',\n",
       " '__sizeof__',\n",
       " '__str__',\n",
       " '__subclasshook__',\n",
       " 'append',\n",
       " 'clear',\n",
       " 'copy',\n",
       " 'count',\n",
       " 'extend',\n",
       " 'index',\n",
       " 'insert',\n",
       " 'pop',\n",
       " 'remove',\n",
       " 'reverse',\n",
       " 'sort']"
      ]
     },
     "execution_count": 81,
     "metadata": {},
     "output_type": "execute_result"
    }
   ],
   "source": [
    "dir(param)"
   ]
  },
  {
   "cell_type": "code",
   "execution_count": null,
   "id": "b5327ec9",
   "metadata": {},
   "outputs": [],
   "source": []
  }
 ],
 "metadata": {
  "kernelspec": {
   "display_name": "Python 3 (ipykernel)",
   "language": "python",
   "name": "python3"
  },
  "language_info": {
   "codemirror_mode": {
    "name": "ipython",
    "version": 3
   },
   "file_extension": ".py",
   "mimetype": "text/x-python",
   "name": "python",
   "nbconvert_exporter": "python",
   "pygments_lexer": "ipython3",
   "version": "3.11.1"
  }
 },
 "nbformat": 4,
 "nbformat_minor": 5
}
