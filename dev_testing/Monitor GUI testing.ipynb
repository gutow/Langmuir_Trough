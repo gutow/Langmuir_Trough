{
 "cells": [
  {
   "cell_type": "code",
   "execution_count": 1,
   "id": "b7987216",
   "metadata": {},
   "outputs": [
    {
     "name": "stdout",
     "output_type": "stream",
     "text": [
      "['Starting Motor Calibration. Please wait...']\n",
      "['Trough ready']\n"
     ]
    }
   ],
   "source": [
    "import Trough_GUI"
   ]
  },
  {
   "cell_type": "code",
   "execution_count": 2,
   "id": "4f32dfa3",
   "metadata": {
    "scrolled": false
   },
   "outputs": [
    {
     "data": {
      "application/vnd.jupyter.widget-view+json": {
       "model_id": "56c92707c837497fa125c252b128c018",
       "version_major": 2,
       "version_minor": 0
      },
      "text/plain": [
       "VBox(children=(HBox(children=(Label(value='BALANCE:'), VBox(children=(Text(value='-3.2000', description='mg', …"
      ]
     },
     "metadata": {},
     "output_type": "display_data"
    },
    {
     "ename": "ValueError",
     "evalue": "Attempting to measure barrier speed, but it was not moving. The speed setting: 0.1",
     "output_type": "error",
     "traceback": [
      "\u001b[0;31m---------------------------------------------------------------------------\u001b[0m",
      "\u001b[0;31mValueError\u001b[0m                                Traceback (most recent call last)",
      "\u001b[0;32m~/Documents/troughtsting/Trough_GUI/Monitor_Calibrate.py\u001b[0m in \u001b[0;36mon_calib_barr\u001b[0;34m(change)\u001b[0m\n\u001b[1;32m    218\u001b[0m             \u001b[0;32mwhile\u001b[0m \u001b[0mn_moving_end\u001b[0m \u001b[0;34m<\u001b[0m \u001b[0;36m3\u001b[0m \u001b[0;32mor\u001b[0m \u001b[0mn_moving_start\u001b[0m \u001b[0;34m<\u001b[0m \u001b[0;36m3\u001b[0m\u001b[0;34m:\u001b[0m\u001b[0;34m\u001b[0m\u001b[0;34m\u001b[0m\u001b[0m\n\u001b[1;32m    219\u001b[0m                 \u001b[0;32mif\u001b[0m \u001b[0mtempindex_end\u001b[0m \u001b[0;34m<\u001b[0m \u001b[0;36m2\u001b[0m\u001b[0;34m:\u001b[0m\u001b[0;34m\u001b[0m\u001b[0;34m\u001b[0m\u001b[0m\n\u001b[0;32m--> 220\u001b[0;31m                     raise ValueError('Attempting to measure barrier speed, but '\n\u001b[0m\u001b[1;32m    221\u001b[0m                                      \u001b[0;34m'it was not moving. The speed setting: '\u001b[0m\u001b[0;31m \u001b[0m\u001b[0;31m\\\u001b[0m\u001b[0;34m\u001b[0m\u001b[0;34m\u001b[0m\u001b[0m\n\u001b[1;32m    222\u001b[0m                                      +str(steps[calibrating_barr_step][\n",
      "\u001b[0;31mValueError\u001b[0m: Attempting to measure barrier speed, but it was not moving. The speed setting: 0.1"
     ]
    }
   ],
   "source": [
    "Trough_GUI.Monitor_Calibrate.Monitor_Setup_Trough(Trough_GUI.calibrations)"
   ]
  },
  {
   "cell_type": "code",
   "execution_count": null,
   "id": "712ce17e",
   "metadata": {},
   "outputs": [],
   "source": [
    "Trough_GUI.status_widgets.update_status({'bal_raw':1.27,'bal_dev':0.02,\n",
    "                                         'barr_raw':0.8,'barr_dev':0.002,\n",
    "                                         'temp_raw':3.30,'temp_dev':0.01,\n",
    "                                         'messages':['No updates',]}, cals)"
   ]
  },
  {
   "cell_type": "code",
   "execution_count": null,
   "id": "dc00da1d",
   "metadata": {},
   "outputs": [],
   "source": [
    "cals.barriers.cal_apply([0.7613993559219399, 0.7613712807244503, 0.7614248322753392],\n",
    "                       [2.684617327574853e-05, 2.057942843404166e-05, 2.3285347508477762e-05])"
   ]
  },
  {
   "cell_type": "code",
   "execution_count": null,
   "id": "837c15c4",
   "metadata": {},
   "outputs": [],
   "source": [
    "from multiprocessing import Process\n",
    "isinstance(TROUGH,Process)"
   ]
  },
  {
   "cell_type": "code",
   "execution_count": null,
   "id": "5899d608",
   "metadata": {},
   "outputs": [],
   "source": [
    "TROUGH.is_alive()"
   ]
  },
  {
   "cell_type": "code",
   "execution_count": null,
   "id": "488e4564",
   "metadata": {},
   "outputs": [],
   "source": [
    "import Trough_Control\n",
    "if not Trough_Control.trough_util.is_trough_initialized():\n",
    "    cmdsend, datarcv, TROUGH = Trough_Control.trough_util.init_trough()"
   ]
  },
  {
   "cell_type": "code",
   "execution_count": null,
   "id": "2822a55f",
   "metadata": {},
   "outputs": [],
   "source": [
    "# Asynchronous update of status widgets\n",
    "# TODO should this include the calibrations or simply be an asynchronous GUI\n",
    "import threading\n",
    "import Trough_GUI\n",
    "trough_lock = threading.Lock()\n",
    "\n",
    "def status_updater(trough_lock, cmdsend, datarcv, cals):\n",
    "    import time\n",
    "    datapkg = []\n",
    "    run = True\n",
    "    update = 0\n",
    "    while run:\n",
    "        min_next_time = time.time() + 2.0\n",
    "        trough_lock.acquire()\n",
    "        cmdsend.send(['Send',''])\n",
    "        waiting = True\n",
    "        while waiting:\n",
    "            if datarcv.poll():\n",
    "                datapkg =datarcv.recv()\n",
    "                update_dict = {'barr_raw':datapkg[1][-1],\n",
    "                               'barr_dev':datapkg[2][-1],\n",
    "                               'bal_raw':datapkg[3][-1],\n",
    "                               'bal_dev':datapkg[4][-1],\n",
    "                               'temp_raw':datapkg[5][-1],\n",
    "                               'temp_dev':datapkg[6][-1],\n",
    "                               'messages':datapkg[7]}\n",
    "                Trough_GUI.status_widgets.update_status(update_dict, cals)\n",
    "                waiting = False\n",
    "        trough_lock.release()\n",
    "        if time.time()< min_next_time:\n",
    "            time.sleep(min_next_time - time.time())\n",
    "    return\n",
    "\n",
    "status_update_thread = threading.Thread(target=status_updater, args=(trough_lock, cmdsend, datarcv, Trough_GUI.calibrations,))\n",
    "status_update_thread.start()"
   ]
  },
  {
   "cell_type": "code",
   "execution_count": null,
   "id": "ddb2fa46",
   "metadata": {},
   "outputs": [],
   "source": [
    "trough_lock.acquire()"
   ]
  },
  {
   "cell_type": "code",
   "execution_count": null,
   "id": "4b0c294f",
   "metadata": {},
   "outputs": [],
   "source": [
    "trough_lock.release()"
   ]
  },
  {
   "cell_type": "code",
   "execution_count": null,
   "id": "bbd2aa29",
   "metadata": {},
   "outputs": [],
   "source": [
    "# Clean shutdown\n",
    "cmdsend.send(['ShutDown',''])"
   ]
  },
  {
   "cell_type": "code",
   "execution_count": null,
   "id": "ef27c01e",
   "metadata": {},
   "outputs": [],
   "source": [
    "thread.is_alive()"
   ]
  },
  {
   "cell_type": "code",
   "execution_count": null,
   "id": "865f206f",
   "metadata": {},
   "outputs": [],
   "source": [
    "threa"
   ]
  }
 ],
 "metadata": {
  "kernelspec": {
   "display_name": "Python 3 (ipykernel)",
   "language": "python",
   "name": "python3"
  },
  "language_info": {
   "codemirror_mode": {
    "name": "ipython",
    "version": 3
   },
   "file_extension": ".py",
   "mimetype": "text/x-python",
   "name": "python",
   "nbconvert_exporter": "python",
   "pygments_lexer": "ipython3",
   "version": "3.8.10"
  }
 },
 "nbformat": 4,
 "nbformat_minor": 5
}
