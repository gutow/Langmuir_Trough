{
 "cells": [
  {
   "cell_type": "code",
   "execution_count": 1,
   "id": "b7987216",
   "metadata": {},
   "outputs": [],
   "source": [
    "import Trough_GUI"
   ]
  },
  {
   "cell_type": "code",
   "execution_count": 2,
   "id": "a0eb1cb2",
   "metadata": {},
   "outputs": [],
   "source": [
    "cals = Trough_GUI.calibration_utils.Calibrations()"
   ]
  },
  {
   "cell_type": "code",
   "execution_count": 3,
   "id": "4f32dfa3",
   "metadata": {},
   "outputs": [
    {
     "data": {
      "application/vnd.jupyter.widget-view+json": {
       "model_id": "c967d48ee9614998bcf49b3818192219",
       "version_major": 2,
       "version_minor": 0
      },
      "text/plain": [
       "VBox(children=(HBox(children=(Label(value='BALANCE:'), VBox(children=(Text(value='', description='mg', disable…"
      ]
     },
     "metadata": {},
     "output_type": "display_data"
    }
   ],
   "source": [
    "Trough_GUI.Monitor_Calibrate.Monitor_Setup_Trough(cals)"
   ]
  },
  {
   "cell_type": "code",
   "execution_count": 4,
   "id": "bf7fb6b2",
   "metadata": {},
   "outputs": [
    {
     "name": "stdout",
     "output_type": "stream",
     "text": [
      "mg cm C\n"
     ]
    }
   ],
   "source": [
    "print(cals.balance.units, cals.barriers.units, cals.temperature.units)"
   ]
  },
  {
   "cell_type": "code",
   "execution_count": 5,
   "id": "712ce17e",
   "metadata": {},
   "outputs": [],
   "source": [
    "Trough_GUI.status_widgets.update_status({'bal_raw':1.27,'barr_raw':0.8,'temp_raw':-4.56}, cals)"
   ]
  },
  {
   "cell_type": "code",
   "execution_count": null,
   "id": "e9750bef",
   "metadata": {},
   "outputs": [
    {
     "name": "stderr",
     "output_type": "stream",
     "text": [
      "Process Process-1:\n",
      "Traceback (most recent call last):\n",
      "  File \"/Library/Frameworks/Python.framework/Versions/3.11/lib/python3.11/multiprocessing/process.py\", line 314, in _bootstrap\n",
      "    self.run()\n",
      "  File \"/Library/Frameworks/Python.framework/Versions/3.11/lib/python3.11/multiprocessing/process.py\", line 108, in run\n",
      "    self._target(*self._args, **self._kwargs)\n",
      "  File \"/Users/gutow/GIT/troughtsting/Trough_Control/trough_util.py\", line 121, in troughctl\n",
      "    from piplates import DAQC2plate as DAQC2\n",
      "  File \"/Users/gutow/.local/share/virtualenvs/troughtsting-ufjcH9aA/lib/python3.11/site-packages/piplates/DAQC2plate.py\", line 1, in <module>\n",
      "    import spidev\n",
      "ModuleNotFoundError: No module named 'spidev'\n"
     ]
    }
   ],
   "source": [
    "# First initialize trough\n",
    "import Trough_Control\n",
    "if not Trough_Control.trough_util.is_trough_initialized():\n",
    "    cmdsend, datarcv, TROUGH = Trough_Control.trough_util.init_trough()\n",
    "# Event loop\n",
    "from time import time, sleep\n",
    "datapkg = []\n",
    "run = True\n",
    "update = 0\n",
    "while run:\n",
    "    # send for data at a maximum rate of 1 Hz\n",
    "    min_next_time = time() + 1.0\n",
    "    cmdsend.send(['Send',''])\n",
    "    waiting = True\n",
    "    while waiting:\n",
    "        if datarcv.poll():\n",
    "            datapkg =datarcv.recv()\n",
    "            update_dict = {'barr_raw':datapkg[1][:-1],\n",
    "                           'bal_raw':datapkg[3][:-1],\n",
    "                           'temp_raw':datapkg[5][:-1]}\n",
    "            print(str(update))\n",
    "            print(str(update_dict))\n",
    "            print(str(datapkg))\n",
    "            if len(update_dict['barr_raw'])>=1:\n",
    "                Trough_GUI.status_widgets.update_status(update_dict, cals)\n",
    "                update+=1\n",
    "            waiting = False\n",
    "    if time()< min_next_time:\n",
    "        sleep(1)"
   ]
  },
  {
   "cell_type": "code",
   "execution_count": 12,
   "id": "837c15c4",
   "metadata": {},
   "outputs": [
    {
     "data": {
      "text/plain": [
       "True"
      ]
     },
     "execution_count": 12,
     "metadata": {},
     "output_type": "execute_result"
    }
   ],
   "source": [
    "from multiprocessing import Process\n",
    "isinstance(TROUGH,Process)"
   ]
  },
  {
   "cell_type": "code",
   "execution_count": 13,
   "id": "e658fd42",
   "metadata": {},
   "outputs": [
    {
     "data": {
      "text/plain": [
       "False"
      ]
     },
     "execution_count": 13,
     "metadata": {},
     "output_type": "execute_result"
    }
   ],
   "source": [
    "TROUGH.is_alive()"
   ]
  },
  {
   "cell_type": "code",
   "execution_count": null,
   "id": "46cc7396",
   "metadata": {},
   "outputs": [],
   "source": [
    "from IPython import get_ipython\n",
    "get_ipython"
   ]
  }
 ],
 "metadata": {
  "kernelspec": {
   "display_name": "Python 3 (ipykernel)",
   "language": "python",
   "name": "python3"
  },
  "language_info": {
   "codemirror_mode": {
    "name": "ipython",
    "version": 3
   },
   "file_extension": ".py",
   "mimetype": "text/x-python",
   "name": "python",
   "nbconvert_exporter": "python",
   "pygments_lexer": "ipython3",
   "version": "3.11.1"
  }
 },
 "nbformat": 4,
 "nbformat_minor": 5
}
