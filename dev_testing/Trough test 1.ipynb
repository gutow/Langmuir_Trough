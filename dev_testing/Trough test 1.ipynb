{
 "cells": [
  {
   "cell_type": "code",
   "execution_count": 1,
   "id": "7caceaa1",
   "metadata": {},
   "outputs": [
    {
     "name": "stdout",
     "output_type": "stream",
     "text": [
      "Importing drivers and searching for available data acquisition hardware."
     ]
    },
    {
     "data": {
      "text/html": [
       "<script type=\"text/javascript\">// Jupyter Notebook Utilities\n",
       "JPSLUtils = new Object();\n",
       "\n",
       "/*\n",
       "Cell Utilities\n",
       "*/\n",
       "\n",
       "JPSLUtils.select_containing_cell = function(elem){\n",
       "    //Create a synthetic click in the cell to force selection of the cell containing the table\n",
       "    var event = new MouseEvent('click', {\n",
       "    view: window,\n",
       "    bubbles: true,\n",
       "    cancelable: true\n",
       "    });\n",
       "    var cancelled = !elem.dispatchEvent(event);\n",
       "    if (cancelled) {\n",
       "    // A handler called preventDefault.\n",
       "    alert(\"Something is wrong. Try running the cell that creates this table.\");\n",
       "    }\n",
       "};\n",
       "\n",
       "JPSLUtils.insert_newline_at_end_of_current_cell = function(text){\n",
       "    var lastline = Jupyter.notebook.get_selected_cell().code_mirror.doc.\n",
       "        lineCount();\n",
       "    Jupyter.notebook.get_selected_cell().code_mirror.doc.setCursor(lastline,0);\n",
       "    Jupyter.notebook.get_selected_cell().code_mirror.doc.\n",
       "         replaceSelection(\"\\n\" + text);\n",
       "};\n",
       "\n",
       "JPSLUtils.insert_text_at_beginning_of_current_cell = function(text){\n",
       "    // append \\n to line insert as a separate line.\n",
       "    Jupyter.notebook.get_selected_cell().code_mirror.doc.\n",
       "           setCursor({line:0,ch:0});\n",
       "    Jupyter.notebook.get_selected_cell().code_mirror.doc.\n",
       "           replaceSelection(text);\n",
       "};\n",
       "\n",
       "/*\n",
       "input/textarea utilities\n",
       "*/\n",
       "\n",
       "JPSLUtils.record_input = function (element){\n",
       "    var nodetype = element.nodeName.toLowerCase();\n",
       "    var tempval = ''+element.value;//force to string\n",
       "    var tempsize = ''+element.size;\n",
       "    if (tempsize==null){tempsize='7'};\n",
       "    var tempclass = element.className;\n",
       "    if (tempclass==null){tempclass=''};\n",
       "    var tempid = element.id;\n",
       "    if (tempid==null){tempid=''};\n",
       "    var tempelem = document.createElement(nodetype);\n",
       "    tempelem.className =tempclass;\n",
       "    tempelem.id=tempid;\n",
       "    tempelem.setAttribute('size',tempsize);\n",
       "    if (nodetype=='input'){\n",
       "        tempelem.setAttribute('value',tempval);\n",
       "    } else {\n",
       "        tempelem.innerHTML = element.value;\n",
       "    }\n",
       "    tempelem.setAttribute('onblur','JPSLUtils.record_input(this)');\n",
       "    element.replaceWith(tempelem);\n",
       "};\n",
       "\n",
       "/*\n",
       "Python Execution\n",
       "*/\n",
       "\n",
       "JPSLUtils.executePython = function(python) {\n",
       "    return new Promise((resolve, reject) => {\n",
       "        var callbacks = {\n",
       "            iopub: {\n",
       "                output: (data) => resolve(data.content.text.trim())\n",
       "            }\n",
       "        };\n",
       "        Jupyter.notebook.kernel.execute(`print(${python})`, callbacks);\n",
       "    });\n",
       "};\n",
       "\n",
       "JPSLUtils.executePython2 = function(python) {\n",
       "    return new Promise((resolve, reject) => {\n",
       "        var callbacks = {\n",
       "            iopub: {\n",
       "                output: (data) => resolve(JSON.stringify(data, null, 4))\n",
       "            }\n",
       "        };\n",
       "        Jupyter.notebook.kernel.execute(`print(${python})`, callbacks);\n",
       "    });\n",
       "};\n",
       "\n",
       "/*\n",
       "Dialogs\n",
       "*/\n",
       "\n",
       "JPSLUtils.record_names = function(){\n",
       "    var currentcell = Jupyter.notebook.get_selected_cell();\n",
       "    var dlg = document.createElement('div');\n",
       "    dlg.setAttribute('id','get_names_dlg');\n",
       "    var tmp = document.createElement('H4');\n",
       "    var inststr = \"In the box below type your name and your partners' names\";\n",
       "    inststr += \" (one per line):\";\n",
       "    tmp.innerHTML=inststr\n",
       "    dlg.append(tmp);\n",
       "    tmp = document.createElement('div');\n",
       "    tmp.innerHTML = '<textarea cols=\"30\" onblur=\"JPSLUtils.record_input(this)\"/>';\n",
       "    dlg.append(tmp);\n",
       "    $(dlg).dialog({modal:true,\n",
       "                  close: function(){$(this).dialog('destroy')},\n",
       "                  buttons:[\n",
       "                  {text: 'Cancel',\n",
       "                  click: function(){$(this).dialog('destroy')}},\n",
       "                  {text: 'OK/Do It',\n",
       "                  click: function(){var rcrd = document.getElementById(\n",
       "                                    'Last-User');\n",
       "                                    var parent = rcrd.parentNode;\n",
       "                                    var dlg = document.getElementById(\n",
       "                                    'get_names_dlg');\n",
       "                                    var textboxes = dlg.querySelectorAll(\n",
       "                                    \"textarea\");\n",
       "                                    var tmp = document.createElement('div');\n",
       "                                    tmp.setAttribute('id','Grp-names');\n",
       "                                    tmp.\n",
       "                                    setAttribute('style','font-weight:bold;');\n",
       "                                    var refeed = /\\r?\\n|\\n\\r?|\\n/g;\n",
       "                                    var tmpstr = 'Partners: '+ textboxes[0]\n",
       "                                    .innerHTML.replace(refeed,'; ');\n",
       "                                    //tmpstr.replace(refeed,'; ');\n",
       "                                    tmp.innerHTML = tmpstr;\n",
       "                                    tmpstr = '# '+rcrd.innerHTML +'\\n# '\n",
       "                                    +tmpstr;\n",
       "                                    //rcrd.append(tmp);\n",
       "                                    JPSLUtils.\n",
       "                                    insert_newline_at_end_of_current_cell(\n",
       "                                    tmpstr);\n",
       "                                   $(this).dialog('destroy');}}\n",
       "                  ]})\n",
       "    Jupyter.notebook.focus_cell();//Make sure keyboard manager doesn't grab inputs.\n",
       "    Jupyter.notebook.keyboard_manager.enabled=false;\n",
       "    dlg.focus();\n",
       "    Jupyter.notebook.keyboard_manager.enabled=false; //Make sure keyboard manager doesn't grab inputs.\n",
       "};</script>"
      ],
      "text/plain": [
       "<IPython.core.display.HTML object>"
      ]
     },
     "metadata": {},
     "output_type": "display_data"
    },
    {
     "name": "stdout",
     "output_type": "stream",
     "text": [
      "..........."
     ]
    },
    {
     "data": {
      "text/html": [
       "<script type=\"text/javascript\">var insertruncount = 0\n",
       "var newrunstr = 'fig$ = go.FigureWidget() # Create figure to show data.\\n'\n",
       "newrunstr += 'newRun(fig$) # Initiate run setup.\\n'\n",
       "newrunstr += 'fig$ # Display the live figure.'\n",
       "\n",
       "function insertnewRun(){\n",
       "    //Insert a cell below the current selection\n",
       "    Jupyter.notebook.insert_cell_below();\n",
       "    Jupyter.notebook.select_next(true);\n",
       "    Jupyter.notebook.focus_cell();\n",
       "    var currentcell = Jupyter.notebook.get_selected_cell();\n",
       "    insertruncount += 1\n",
       "    var cmdstr = newrunstr.replaceAll('$',insertruncount)\n",
       "    currentcell.set_text(cmdstr);\n",
       "    currentcell.execute()\n",
       "}\n",
       "\n",
       "function addnewRun(){\n",
       "    //find the last cell in notebook\n",
       "    var lastcellidx = Jupyter.notebook.ncells()-1;\n",
       "    var lastcell=Jupyter.notebook.get_cell(lastcellidx);\n",
       "    Jupyter.notebook.select(lastcellidx);\n",
       "    //If the cell is empty put command in it. Otherwise\n",
       "    //add another cell at the end of the worksheet. Then\n",
       "    //put the command in the new lastcell.\n",
       "    insertruncount += 1\n",
       "    var cmdstr = newrunstr.replaceAll('$',insertruncount)\n",
       "    if(lastcell.get_text()==''){\n",
       "        lastcell.set_text(cmdstr);\n",
       "    }else{\n",
       "        Jupyter.notebook.insert_cell_below();\n",
       "        Jupyter.notebook.select_next(true);\n",
       "        Jupyter.notebook.focus_cell();\n",
       "        lastcell=Jupyter.notebook.get_cell(lastcellidx+1);\n",
       "        lastcell.set_text(cmdstr);\n",
       "    }\n",
       "    lastcell.execute()\n",
       "}\n",
       "\n",
       "function showDataTable(){\n",
       "    //find the currently active cell\n",
       "    var currentcell = Jupyter.notebook.get_selected_cell();\n",
       "    //Because we could destroy date created by having run\n",
       "    //this cell previously do not use this cell if it contains\n",
       "    //anything\n",
       "    if (currentcell.get_text()==''){\n",
       "        currentcell.set_text('showDataTable()');\n",
       "    }else{\n",
       "        Jupyter.notebook.insert_cell_below();\n",
       "        Jupyter.notebook.select_next(true);\n",
       "        Jupyter.notebook.focus_cell();\n",
       "        currentcell = Jupyter.notebook.get_selected_cell();\n",
       "        currentcell.set_text('showDataTable()');\n",
       "    }\n",
       "    currentcell.execute()\n",
       "}\n",
       "\n",
       "function newCalculatedColumn(){\n",
       "    //Insert a cell below the current selection\n",
       "    Jupyter.notebook.insert_cell_below();\n",
       "    Jupyter.notebook.select_next(true);\n",
       "    Jupyter.notebook.focus_cell();\n",
       "    var currentcell = Jupyter.notebook.get_selected_cell();\n",
       "     currentcell.set_text('newCalculatedColumn()');\n",
       "    currentcell.execute()\n",
       "}\n",
       "\n",
       "function newPlot(){\n",
       "    //Insert a cell below the current selection\n",
       "    Jupyter.notebook.insert_cell_below();\n",
       "    Jupyter.notebook.select_next(true);\n",
       "    Jupyter.notebook.focus_cell();\n",
       "    var currentcell = Jupyter.notebook.get_selected_cell();\n",
       "     currentcell.set_text('newPlot()');\n",
       "    currentcell.execute()\n",
       "}\n",
       "\n",
       "function createCmdMenu(){\n",
       "    if(!document.getElementById('jupyterpiDAQcmdsmnu')){\n",
       "        var newselect=document.createElement('select');\n",
       "        newselect.id = 'jupyterpiDAQcmdsmnu';\n",
       "        newselect.classList.add('form-control'); //class to match notebook formatting\n",
       "        newselect.classList.add('select-xs'); //class to match notebook formatting\n",
       "        newselect.onchange=function(){\n",
       "            var lastvalue = this.value;\n",
       "            this.value='DAQ Commands';\n",
       "            if (lastvalue=='Insert New Run after selection...'){\n",
       "                insertnewRun()\n",
       "            }\n",
       "            if (lastvalue=='Append New Run to end...'){\n",
       "                addnewRun()\n",
       "            }\n",
       "            if (lastvalue=='Show data in table...'){\n",
       "                showDataTable()\n",
       "            }\n",
       "            if (lastvalue=='Calculate new column...'){\n",
       "                newCalculatedColumn()\n",
       "            }\n",
       "            if (lastvalue=='Insert new plot after selection...'){\n",
       "                newPlot()\n",
       "            }\n",
       "        }\n",
       "        var optiontxt = '<option title=\"Insert data aquisition related command.\">DAQ Commands</option>';\n",
       "        optiontxt+='<option title=\"Insert cell below selected and start new run.\">Insert New Run after selection...</option>';\n",
       "        optiontxt+='<option title=\"Add new run at end of notebook.\">Append New Run to end...</option>';\n",
       "        optiontxt+='<option title=\"Insert show data table command at end of current cell.\">Show data in table...</option>';\n",
       "        optiontxt+='<option title=\"Calculate new column below current cell.\">Calculate new column...</option>';\n",
       "        optiontxt+='<option title=\"New plot below current cell.\">Insert new plot after selection...</option>';\n",
       "        newselect.innerHTML=optiontxt;\n",
       "        if(document.getElementById('maintoolbar-container')){ //classic Jupyter\n",
       "            document.getElementById('maintoolbar-container').appendChild(newselect);\n",
       "        }\n",
       "        if(document.getElementsByClassName('jp-NotebookPanel-toolbar')[0]){\n",
       "        //JLab\n",
       "            document.getElementsByClassName('jp-NotebookPanel-toolbar')[0]\n",
       "            .appendChild(newselect); // If there is more than one only add to\n",
       "            //first.\n",
       "        }\n",
       "    }\n",
       "}\n",
       "\n",
       "function deleteCmdMenu(){\n",
       "    if(document.getElementById('jupyterpiDAQcmdsmnu')){\n",
       "        document.getElementById('jupyterpiDAQcmdsmnu').remove();\n",
       "    }\n",
       "}</script>"
      ],
      "text/plain": [
       "<IPython.core.display.HTML object>"
      ]
     },
     "metadata": {},
     "output_type": "display_data"
    },
    {
     "data": {
      "application/javascript": [
       "createCmdMenu()"
      ],
      "text/plain": [
       "<IPython.core.display.Javascript object>"
      ]
     },
     "metadata": {},
     "output_type": "display_data"
    },
    {
     "name": "stdout",
     "output_type": "stream",
     "text": [
      "Done with setup.\n"
     ]
    }
   ],
   "source": [
    "from jupyterpidaq.DAQinstance import *"
   ]
  },
  {
   "cell_type": "code",
   "execution_count": 2,
   "id": "c0e5a926",
   "metadata": {},
   "outputs": [
    {
     "data": {
      "application/vnd.jupyter.widget-view+json": {
       "model_id": "",
       "version_major": 2,
       "version_minor": 0
      },
      "text/plain": [
       "Text(value='Run-1', description='Run title', placeholder='Type title/description')"
      ]
     },
     "metadata": {},
     "output_type": "display_data"
    },
    {
     "data": {
      "application/vnd.jupyter.widget-view+json": {
       "model_id": "",
       "version_major": 2,
       "version_minor": 0
      },
      "text/plain": [
       "VBox(children=(HBox(children=(Checkbox(value=False, description='Trace 0'), Text(value='Trace_0', description=…"
      ]
     },
     "metadata": {},
     "output_type": "display_data"
    },
    {
     "data": {
      "application/vnd.jupyter.widget-view+json": {
       "model_id": "",
       "version_major": 2,
       "version_minor": 0
      },
      "text/plain": [
       "VBox(children=(HBox(children=(Checkbox(value=False, description='Trace 1'), Text(value='Trace_1', description=…"
      ]
     },
     "metadata": {},
     "output_type": "display_data"
    },
    {
     "data": {
      "application/vnd.jupyter.widget-view+json": {
       "model_id": "",
       "version_major": 2,
       "version_minor": 0
      },
      "text/plain": [
       "VBox(children=(HBox(children=(Checkbox(value=False, description='Trace 2'), Text(value='Trace_2', description=…"
      ]
     },
     "metadata": {},
     "output_type": "display_data"
    },
    {
     "data": {
      "application/vnd.jupyter.widget-view+json": {
       "model_id": "",
       "version_major": 2,
       "version_minor": 0
      },
      "text/plain": [
       "VBox(children=(HBox(children=(Checkbox(value=False, description='Trace 3'), Text(value='Trace_3', description=…"
      ]
     },
     "metadata": {},
     "output_type": "display_data"
    },
    {
     "data": {
      "application/vnd.jupyter.widget-view+json": {
       "model_id": "",
       "version_major": 2,
       "version_minor": 0
      },
      "text/plain": [
       "VBox(children=(Checkbox(value=True, description='Display multiple traces as stacked graphs. Uncheck to display…"
      ]
     },
     "metadata": {},
     "output_type": "display_data"
    },
    {
     "data": {
      "application/vnd.jupyter.widget-view+json": {
       "model_id": "5909f4736d8a4263bd5bf90dccddae19",
       "version_major": 2,
       "version_minor": 0
      },
      "text/plain": [
       "FigureWidget({\n",
       "    'data': [], 'layout': {'template': '...'}\n",
       "})"
      ]
     },
     "metadata": {},
     "output_type": "display_data"
    },
    {
     "data": {
      "text/html": [
       "<div id=\"DAQRun_1_param\"><p style=\"font-weight:bold;\">Parameters for run \"Run-1\" (run id#: 1) set to:</p><table><tr><td style=\"font-weight:bold;\">Approx. Rate (Hz):</td><td>3.0</td><td style=\"font-weight:bold;\">Approx. Delta (s):</td><td>0.3333333333333333</td><td style=\"font-weight:bold;\">X-label: </td><td>Time(s)</td></tr></table><table id=\"traceinfo\" class=\"traceinfo\"><tr><td style=\"font-weight:bold;text-align:center;\">Trace #</td><td style=\"font-weight:bold;text-align:center;\">Title</td><td style=\"font-weight:bold;text-align:center;\">Units</td><td style=\"font-weight:bold;text-align:center;\">Board</td><td style=\"font-weight:bold;text-align:center;\">Channel</td><td style=\"font-weight:bold;text-align:center;\">Sensor</td><td style=\"font-weight:bold;text-align:center;\">Gain</td></tr><tr><td style=\"text-align:center;\">0</td><td style=\"text-align:center;\">Trace_0</td><td style=\"text-align:center;\">V</td><td style=\"text-align:center;\">1 DAQC2</td><td style=\"text-align:center;\">0</td><td style=\"text-align:center;\">RawAtoD</td><td style=\"text-align:center;\">1</td></tr><tr><td style=\"text-align:center;\">1</td><td style=\"text-align:center;\">Trace_1</td><td style=\"text-align:center;\">V</td><td style=\"text-align:center;\">1 DAQC2</td><td style=\"text-align:center;\">1</td><td style=\"text-align:center;\">RawAtoD</td><td style=\"text-align:center;\">1</td></tr><tr></tr><tr></tr><tr></tr></table></div>"
      ],
      "text/plain": [
       "<IPython.core.display.HTML object>"
      ]
     },
     "metadata": {},
     "output_type": "display_data"
    },
    {
     "data": {
      "application/vnd.jupyter.widget-view+json": {
       "model_id": "",
       "version_major": 2,
       "version_minor": 0
      },
      "text/plain": [
       "Button(button_style='success', description='Start Collecting', style=ButtonStyle(), tooltip='Start collecting …"
      ]
     },
     "metadata": {},
     "output_type": "display_data"
    },
    {
     "data": {
      "application/vnd.jupyter.widget-view+json": {
       "model_id": "89cf8802038e46628337632294a71886",
       "version_major": 2,
       "version_minor": 0
      },
      "text/plain": [
       "HTML(value='<span style=\"color:blue;\"> To accurately read point location on graph you can zoom in. Drag to zoo…"
      ]
     },
     "metadata": {},
     "output_type": "display_data"
    },
    {
     "data": {
      "text/html": [
       "<span style=\"color:blue;font-weight:bold;\">DATA SAVED TO:Run-1_21-09-28_072031.csv</span>"
      ],
      "text/plain": [
       "<IPython.core.display.HTML object>"
      ]
     },
     "metadata": {},
     "output_type": "display_data"
    },
    {
     "data": {
      "application/javascript": [
       "Jupyter.actions.call(\"widgets:save-with-widgets\");"
      ],
      "text/plain": [
       "<IPython.core.display.Javascript object>"
      ]
     },
     "metadata": {},
     "output_type": "display_data"
    }
   ],
   "source": [
    "fig1 = go.FigureWidget() # Create figure to show data.\n",
    "newRun(fig1) # Initiate run setup.\n",
    "fig1 # Display the live figure."
   ]
  },
  {
   "cell_type": "code",
   "execution_count": 3,
   "id": "9fe265d2",
   "metadata": {},
   "outputs": [
    {
     "data": {
      "application/vnd.jupyter.widget-view+json": {
       "model_id": "",
       "version_major": 2,
       "version_minor": 0
      },
      "text/plain": [
       "Text(value='Run-2', description='Run title', placeholder='Type title/description')"
      ]
     },
     "metadata": {},
     "output_type": "display_data"
    },
    {
     "data": {
      "application/vnd.jupyter.widget-view+json": {
       "model_id": "",
       "version_major": 2,
       "version_minor": 0
      },
      "text/plain": [
       "VBox(children=(HBox(children=(Checkbox(value=False, description='Trace 0'), Text(value='Trace_0', description=…"
      ]
     },
     "metadata": {},
     "output_type": "display_data"
    },
    {
     "data": {
      "application/vnd.jupyter.widget-view+json": {
       "model_id": "",
       "version_major": 2,
       "version_minor": 0
      },
      "text/plain": [
       "VBox(children=(HBox(children=(Checkbox(value=False, description='Trace 1'), Text(value='Trace_1', description=…"
      ]
     },
     "metadata": {},
     "output_type": "display_data"
    },
    {
     "data": {
      "application/vnd.jupyter.widget-view+json": {
       "model_id": "",
       "version_major": 2,
       "version_minor": 0
      },
      "text/plain": [
       "VBox(children=(HBox(children=(Checkbox(value=False, description='Trace 2'), Text(value='Trace_2', description=…"
      ]
     },
     "metadata": {},
     "output_type": "display_data"
    },
    {
     "data": {
      "application/vnd.jupyter.widget-view+json": {
       "model_id": "",
       "version_major": 2,
       "version_minor": 0
      },
      "text/plain": [
       "VBox(children=(HBox(children=(Checkbox(value=False, description='Trace 3'), Text(value='Trace_3', description=…"
      ]
     },
     "metadata": {},
     "output_type": "display_data"
    },
    {
     "data": {
      "application/vnd.jupyter.widget-view+json": {
       "model_id": "",
       "version_major": 2,
       "version_minor": 0
      },
      "text/plain": [
       "VBox(children=(Checkbox(value=True, description='Display multiple traces as stacked graphs. Uncheck to display…"
      ]
     },
     "metadata": {},
     "output_type": "display_data"
    },
    {
     "data": {
      "application/vnd.jupyter.widget-view+json": {
       "model_id": "8e6025f7361948dba47003f2456f8685",
       "version_major": 2,
       "version_minor": 0
      },
      "text/plain": [
       "FigureWidget({\n",
       "    'data': [], 'layout': {'template': '...'}\n",
       "})"
      ]
     },
     "metadata": {},
     "output_type": "display_data"
    },
    {
     "data": {
      "text/html": [
       "<div id=\"DAQRun_2_param\"><p style=\"font-weight:bold;\">Parameters for run \"Run-2\" (run id#: 2) set to:</p><table><tr><td style=\"font-weight:bold;\">Approx. Rate (Hz):</td><td>1.0</td><td style=\"font-weight:bold;\">Approx. Delta (s):</td><td>1.0</td><td style=\"font-weight:bold;\">X-label: </td><td>Time(s)</td></tr></table><table id=\"traceinfo\" class=\"traceinfo\"><tr><td style=\"font-weight:bold;text-align:center;\">Trace #</td><td style=\"font-weight:bold;text-align:center;\">Title</td><td style=\"font-weight:bold;text-align:center;\">Units</td><td style=\"font-weight:bold;text-align:center;\">Board</td><td style=\"font-weight:bold;text-align:center;\">Channel</td><td style=\"font-weight:bold;text-align:center;\">Sensor</td><td style=\"font-weight:bold;text-align:center;\">Gain</td></tr><tr><td style=\"text-align:center;\">0</td><td style=\"text-align:center;\">Trace_0</td><td style=\"text-align:center;\">V</td><td style=\"text-align:center;\">1 DAQC2</td><td style=\"text-align:center;\">0</td><td style=\"text-align:center;\">RawAtoD</td><td style=\"text-align:center;\">1</td></tr><tr><td style=\"text-align:center;\">1</td><td style=\"text-align:center;\">Trace_1</td><td style=\"text-align:center;\">V</td><td style=\"text-align:center;\">1 DAQC2</td><td style=\"text-align:center;\">1</td><td style=\"text-align:center;\">RawAtoD</td><td style=\"text-align:center;\">1</td></tr><tr></tr><tr></tr><tr></tr></table></div>"
      ],
      "text/plain": [
       "<IPython.core.display.HTML object>"
      ]
     },
     "metadata": {},
     "output_type": "display_data"
    },
    {
     "data": {
      "application/vnd.jupyter.widget-view+json": {
       "model_id": "",
       "version_major": 2,
       "version_minor": 0
      },
      "text/plain": [
       "Button(button_style='success', description='Start Collecting', style=ButtonStyle(), tooltip='Start collecting …"
      ]
     },
     "metadata": {},
     "output_type": "display_data"
    },
    {
     "data": {
      "application/vnd.jupyter.widget-view+json": {
       "model_id": "6c97aac1e13a431795a77cbe0c235a33",
       "version_major": 2,
       "version_minor": 0
      },
      "text/plain": [
       "HTML(value='<span style=\"color:blue;\"> To accurately read point location on graph you can zoom in. Drag to zoo…"
      ]
     },
     "metadata": {},
     "output_type": "display_data"
    },
    {
     "data": {
      "text/html": [
       "<span style=\"color:blue;font-weight:bold;\">DATA SAVED TO:Run-2_21-09-28_072312.csv</span>"
      ],
      "text/plain": [
       "<IPython.core.display.HTML object>"
      ]
     },
     "metadata": {},
     "output_type": "display_data"
    },
    {
     "data": {
      "application/javascript": [
       "Jupyter.actions.call(\"widgets:save-with-widgets\");"
      ],
      "text/plain": [
       "<IPython.core.display.Javascript object>"
      ]
     },
     "metadata": {},
     "output_type": "display_data"
    }
   ],
   "source": [
    "fig2 = go.FigureWidget() # Create figure to show data.\n",
    "newRun(fig2) # Initiate run setup.\n",
    "fig2 # Display the live figure."
   ]
  },
  {
   "cell_type": "code",
   "execution_count": 4,
   "id": "04f1f6f4",
   "metadata": {},
   "outputs": [
    {
     "data": {
      "application/vnd.jupyter.widget-view+json": {
       "model_id": "",
       "version_major": 2,
       "version_minor": 0
      },
      "text/plain": [
       "Text(value='Run-3', description='Run title', placeholder='Type title/description')"
      ]
     },
     "metadata": {},
     "output_type": "display_data"
    },
    {
     "data": {
      "application/vnd.jupyter.widget-view+json": {
       "model_id": "",
       "version_major": 2,
       "version_minor": 0
      },
      "text/plain": [
       "VBox(children=(HBox(children=(Checkbox(value=False, description='Trace 0'), Text(value='Trace_0', description=…"
      ]
     },
     "metadata": {},
     "output_type": "display_data"
    },
    {
     "data": {
      "application/vnd.jupyter.widget-view+json": {
       "model_id": "",
       "version_major": 2,
       "version_minor": 0
      },
      "text/plain": [
       "VBox(children=(HBox(children=(Checkbox(value=False, description='Trace 1'), Text(value='Trace_1', description=…"
      ]
     },
     "metadata": {},
     "output_type": "display_data"
    },
    {
     "data": {
      "application/vnd.jupyter.widget-view+json": {
       "model_id": "",
       "version_major": 2,
       "version_minor": 0
      },
      "text/plain": [
       "VBox(children=(HBox(children=(Checkbox(value=False, description='Trace 2'), Text(value='Trace_2', description=…"
      ]
     },
     "metadata": {},
     "output_type": "display_data"
    },
    {
     "data": {
      "application/vnd.jupyter.widget-view+json": {
       "model_id": "",
       "version_major": 2,
       "version_minor": 0
      },
      "text/plain": [
       "VBox(children=(HBox(children=(Checkbox(value=False, description='Trace 3'), Text(value='Trace_3', description=…"
      ]
     },
     "metadata": {},
     "output_type": "display_data"
    },
    {
     "data": {
      "application/vnd.jupyter.widget-view+json": {
       "model_id": "",
       "version_major": 2,
       "version_minor": 0
      },
      "text/plain": [
       "VBox(children=(Checkbox(value=True, description='Display multiple traces as stacked graphs. Uncheck to display…"
      ]
     },
     "metadata": {},
     "output_type": "display_data"
    },
    {
     "data": {
      "application/vnd.jupyter.widget-view+json": {
       "model_id": "00407e7a23844025944d0c64a68071a7",
       "version_major": 2,
       "version_minor": 0
      },
      "text/plain": [
       "FigureWidget({\n",
       "    'data': [], 'layout': {'template': '...'}\n",
       "})"
      ]
     },
     "metadata": {},
     "output_type": "display_data"
    },
    {
     "data": {
      "text/html": [
       "<div id=\"DAQRun_3_param\"><p style=\"font-weight:bold;\">Parameters for run \"Run-3\" (run id#: 3) set to:</p><table><tr><td style=\"font-weight:bold;\">Approx. Rate (Hz):</td><td>1.0</td><td style=\"font-weight:bold;\">Approx. Delta (s):</td><td>1.0</td><td style=\"font-weight:bold;\">X-label: </td><td>Time(s)</td></tr></table><table id=\"traceinfo\" class=\"traceinfo\"><tr><td style=\"font-weight:bold;text-align:center;\">Trace #</td><td style=\"font-weight:bold;text-align:center;\">Title</td><td style=\"font-weight:bold;text-align:center;\">Units</td><td style=\"font-weight:bold;text-align:center;\">Board</td><td style=\"font-weight:bold;text-align:center;\">Channel</td><td style=\"font-weight:bold;text-align:center;\">Sensor</td><td style=\"font-weight:bold;text-align:center;\">Gain</td></tr><tr><td style=\"text-align:center;\">0</td><td style=\"text-align:center;\">Trace_0</td><td style=\"text-align:center;\">V</td><td style=\"text-align:center;\">1 DAQC2</td><td style=\"text-align:center;\">2</td><td style=\"text-align:center;\">RawAtoD</td><td style=\"text-align:center;\">1</td></tr><tr><td style=\"text-align:center;\">1</td><td style=\"text-align:center;\">Trace_1</td><td style=\"text-align:center;\">V</td><td style=\"text-align:center;\">1 DAQC2</td><td style=\"text-align:center;\">3</td><td style=\"text-align:center;\">RawAtoD</td><td style=\"text-align:center;\">1</td></tr><tr></tr><tr></tr><tr></tr></table></div>"
      ],
      "text/plain": [
       "<IPython.core.display.HTML object>"
      ]
     },
     "metadata": {},
     "output_type": "display_data"
    },
    {
     "data": {
      "application/vnd.jupyter.widget-view+json": {
       "model_id": "",
       "version_major": 2,
       "version_minor": 0
      },
      "text/plain": [
       "Button(button_style='success', description='Start Collecting', style=ButtonStyle(), tooltip='Start collecting …"
      ]
     },
     "metadata": {},
     "output_type": "display_data"
    },
    {
     "data": {
      "application/vnd.jupyter.widget-view+json": {
       "model_id": "34ad1f56f66840238e6613f17b02f49e",
       "version_major": 2,
       "version_minor": 0
      },
      "text/plain": [
       "HTML(value='<span style=\"color:blue;\"> To accurately read point location on graph you can zoom in. Drag to zoo…"
      ]
     },
     "metadata": {},
     "output_type": "display_data"
    },
    {
     "data": {
      "text/html": [
       "<span style=\"color:blue;font-weight:bold;\">DATA SAVED TO:Run-3_21-09-28_135217.csv</span>"
      ],
      "text/plain": [
       "<IPython.core.display.HTML object>"
      ]
     },
     "metadata": {},
     "output_type": "display_data"
    },
    {
     "data": {
      "application/javascript": [
       "Jupyter.actions.call(\"widgets:save-with-widgets\");"
      ],
      "text/plain": [
       "<IPython.core.display.Javascript object>"
      ]
     },
     "metadata": {},
     "output_type": "display_data"
    }
   ],
   "source": [
    "fig3 = go.FigureWidget() # Create figure to show data.\n",
    "newRun(fig3) # Initiate run setup.\n",
    "fig3 # Display the live figure."
   ]
  },
  {
   "cell_type": "code",
   "execution_count": 5,
   "id": "ddf65056",
   "metadata": {},
   "outputs": [
    {
     "data": {
      "application/vnd.jupyter.widget-view+json": {
       "model_id": "",
       "version_major": 2,
       "version_minor": 0
      },
      "text/plain": [
       "Text(value='Run-4', description='Run title', placeholder='Type title/description')"
      ]
     },
     "metadata": {},
     "output_type": "display_data"
    },
    {
     "data": {
      "application/vnd.jupyter.widget-view+json": {
       "model_id": "",
       "version_major": 2,
       "version_minor": 0
      },
      "text/plain": [
       "VBox(children=(HBox(children=(Checkbox(value=False, description='Trace 0'), Text(value='Trace_0', description=…"
      ]
     },
     "metadata": {},
     "output_type": "display_data"
    },
    {
     "data": {
      "application/vnd.jupyter.widget-view+json": {
       "model_id": "",
       "version_major": 2,
       "version_minor": 0
      },
      "text/plain": [
       "VBox(children=(HBox(children=(Checkbox(value=False, description='Trace 1'), Text(value='Trace_1', description=…"
      ]
     },
     "metadata": {},
     "output_type": "display_data"
    },
    {
     "data": {
      "application/vnd.jupyter.widget-view+json": {
       "model_id": "",
       "version_major": 2,
       "version_minor": 0
      },
      "text/plain": [
       "VBox(children=(HBox(children=(Checkbox(value=False, description='Trace 2'), Text(value='Trace_2', description=…"
      ]
     },
     "metadata": {},
     "output_type": "display_data"
    },
    {
     "data": {
      "application/vnd.jupyter.widget-view+json": {
       "model_id": "",
       "version_major": 2,
       "version_minor": 0
      },
      "text/plain": [
       "VBox(children=(HBox(children=(Checkbox(value=False, description='Trace 3'), Text(value='Trace_3', description=…"
      ]
     },
     "metadata": {},
     "output_type": "display_data"
    },
    {
     "data": {
      "application/vnd.jupyter.widget-view+json": {
       "model_id": "",
       "version_major": 2,
       "version_minor": 0
      },
      "text/plain": [
       "VBox(children=(Checkbox(value=True, description='Display multiple traces as stacked graphs. Uncheck to display…"
      ]
     },
     "metadata": {},
     "output_type": "display_data"
    },
    {
     "data": {
      "application/vnd.jupyter.widget-view+json": {
       "model_id": "2ab54704bda54667914909a3ccad87a0",
       "version_major": 2,
       "version_minor": 0
      },
      "text/plain": [
       "FigureWidget({\n",
       "    'data': [], 'layout': {'template': '...'}\n",
       "})"
      ]
     },
     "metadata": {},
     "output_type": "display_data"
    },
    {
     "data": {
      "text/html": [
       "<div id=\"DAQRun_4_param\"><p style=\"font-weight:bold;\">Parameters for run \"Run-4\" (run id#: 4) set to:</p><table><tr><td style=\"font-weight:bold;\">Approx. Rate (Hz):</td><td>1.0</td><td style=\"font-weight:bold;\">Approx. Delta (s):</td><td>1.0</td><td style=\"font-weight:bold;\">X-label: </td><td>Time(s)</td></tr></table><table id=\"traceinfo\" class=\"traceinfo\"><tr><td style=\"font-weight:bold;text-align:center;\">Trace #</td><td style=\"font-weight:bold;text-align:center;\">Title</td><td style=\"font-weight:bold;text-align:center;\">Units</td><td style=\"font-weight:bold;text-align:center;\">Board</td><td style=\"font-weight:bold;text-align:center;\">Channel</td><td style=\"font-weight:bold;text-align:center;\">Sensor</td><td style=\"font-weight:bold;text-align:center;\">Gain</td></tr><tr><td style=\"text-align:center;\">0</td><td style=\"text-align:center;\">Trace_0</td><td style=\"text-align:center;\">V</td><td style=\"text-align:center;\">1 DAQC2</td><td style=\"text-align:center;\">4</td><td style=\"text-align:center;\">RawAtoD</td><td style=\"text-align:center;\">1</td></tr><tr><td style=\"text-align:center;\">1</td><td style=\"text-align:center;\">Trace_1</td><td style=\"text-align:center;\">V</td><td style=\"text-align:center;\">1 DAQC2</td><td style=\"text-align:center;\">5</td><td style=\"text-align:center;\">RawAtoD</td><td style=\"text-align:center;\">1</td></tr><tr></tr><tr></tr><tr></tr></table></div>"
      ],
      "text/plain": [
       "<IPython.core.display.HTML object>"
      ]
     },
     "metadata": {},
     "output_type": "display_data"
    },
    {
     "data": {
      "application/vnd.jupyter.widget-view+json": {
       "model_id": "",
       "version_major": 2,
       "version_minor": 0
      },
      "text/plain": [
       "Button(button_style='success', description='Start Collecting', style=ButtonStyle(), tooltip='Start collecting …"
      ]
     },
     "metadata": {},
     "output_type": "display_data"
    },
    {
     "data": {
      "application/vnd.jupyter.widget-view+json": {
       "model_id": "495a2a65e5444d20886678592042f5cd",
       "version_major": 2,
       "version_minor": 0
      },
      "text/plain": [
       "HTML(value='<span style=\"color:blue;\"> To accurately read point location on graph you can zoom in. Drag to zoo…"
      ]
     },
     "metadata": {},
     "output_type": "display_data"
    },
    {
     "data": {
      "text/html": [
       "<span style=\"color:blue;font-weight:bold;\">DATA SAVED TO:Run-4_21-09-28_135726.csv</span>"
      ],
      "text/plain": [
       "<IPython.core.display.HTML object>"
      ]
     },
     "metadata": {},
     "output_type": "display_data"
    },
    {
     "data": {
      "application/javascript": [
       "Jupyter.actions.call(\"widgets:save-with-widgets\");"
      ],
      "text/plain": [
       "<IPython.core.display.Javascript object>"
      ]
     },
     "metadata": {},
     "output_type": "display_data"
    }
   ],
   "source": [
    "fig4 = go.FigureWidget() # Create figure to show data.\n",
    "newRun(fig4) # Initiate run setup.\n",
    "fig4 # Display the live figure."
   ]
  },
  {
   "cell_type": "code",
   "execution_count": 6,
   "id": "6f0b63c8",
   "metadata": {},
   "outputs": [
    {
     "data": {
      "application/vnd.jupyter.widget-view+json": {
       "model_id": "",
       "version_major": 2,
       "version_minor": 0
      },
      "text/plain": [
       "Text(value='Run-5', description='Run title', placeholder='Type title/description')"
      ]
     },
     "metadata": {},
     "output_type": "display_data"
    },
    {
     "data": {
      "application/vnd.jupyter.widget-view+json": {
       "model_id": "",
       "version_major": 2,
       "version_minor": 0
      },
      "text/plain": [
       "VBox(children=(HBox(children=(Checkbox(value=False, description='Trace 0'), Text(value='Trace_0', description=…"
      ]
     },
     "metadata": {},
     "output_type": "display_data"
    },
    {
     "data": {
      "application/vnd.jupyter.widget-view+json": {
       "model_id": "",
       "version_major": 2,
       "version_minor": 0
      },
      "text/plain": [
       "VBox(children=(HBox(children=(Checkbox(value=False, description='Trace 1'), Text(value='Trace_1', description=…"
      ]
     },
     "metadata": {},
     "output_type": "display_data"
    },
    {
     "data": {
      "application/vnd.jupyter.widget-view+json": {
       "model_id": "",
       "version_major": 2,
       "version_minor": 0
      },
      "text/plain": [
       "VBox(children=(HBox(children=(Checkbox(value=False, description='Trace 2'), Text(value='Trace_2', description=…"
      ]
     },
     "metadata": {},
     "output_type": "display_data"
    },
    {
     "data": {
      "application/vnd.jupyter.widget-view+json": {
       "model_id": "",
       "version_major": 2,
       "version_minor": 0
      },
      "text/plain": [
       "VBox(children=(HBox(children=(Checkbox(value=False, description='Trace 3'), Text(value='Trace_3', description=…"
      ]
     },
     "metadata": {},
     "output_type": "display_data"
    },
    {
     "data": {
      "application/vnd.jupyter.widget-view+json": {
       "model_id": "",
       "version_major": 2,
       "version_minor": 0
      },
      "text/plain": [
       "VBox(children=(Checkbox(value=True, description='Display multiple traces as stacked graphs. Uncheck to display…"
      ]
     },
     "metadata": {},
     "output_type": "display_data"
    },
    {
     "data": {
      "application/vnd.jupyter.widget-view+json": {
       "model_id": "43c38acee3db48dba5309ad8c2b7405c",
       "version_major": 2,
       "version_minor": 0
      },
      "text/plain": [
       "FigureWidget({\n",
       "    'data': [], 'layout': {'template': '...'}\n",
       "})"
      ]
     },
     "metadata": {},
     "output_type": "display_data"
    },
    {
     "data": {
      "text/html": [
       "<div id=\"DAQRun_5_param\"><p style=\"font-weight:bold;\">Parameters for run \"Run-5\" (run id#: 5) set to:</p><table><tr><td style=\"font-weight:bold;\">Approx. Rate (Hz):</td><td>1.0</td><td style=\"font-weight:bold;\">Approx. Delta (s):</td><td>1.0</td><td style=\"font-weight:bold;\">X-label: </td><td>Time(s)</td></tr></table><table id=\"traceinfo\" class=\"traceinfo\"><tr><td style=\"font-weight:bold;text-align:center;\">Trace #</td><td style=\"font-weight:bold;text-align:center;\">Title</td><td style=\"font-weight:bold;text-align:center;\">Units</td><td style=\"font-weight:bold;text-align:center;\">Board</td><td style=\"font-weight:bold;text-align:center;\">Channel</td><td style=\"font-weight:bold;text-align:center;\">Sensor</td><td style=\"font-weight:bold;text-align:center;\">Gain</td></tr><tr><td style=\"text-align:center;\">0</td><td style=\"text-align:center;\">Trace_0</td><td style=\"text-align:center;\">V</td><td style=\"text-align:center;\">1 DAQC2</td><td style=\"text-align:center;\">0</td><td style=\"text-align:center;\">RawAtoD</td><td style=\"text-align:center;\">1</td></tr><tr><td style=\"text-align:center;\">1</td><td style=\"text-align:center;\">Trace_1</td><td style=\"text-align:center;\">V</td><td style=\"text-align:center;\">1 DAQC2</td><td style=\"text-align:center;\">1</td><td style=\"text-align:center;\">RawAtoD</td><td style=\"text-align:center;\">1</td></tr><tr></tr><tr></tr><tr></tr></table></div>"
      ],
      "text/plain": [
       "<IPython.core.display.HTML object>"
      ]
     },
     "metadata": {},
     "output_type": "display_data"
    },
    {
     "data": {
      "application/vnd.jupyter.widget-view+json": {
       "model_id": "",
       "version_major": 2,
       "version_minor": 0
      },
      "text/plain": [
       "Button(button_style='success', description='Start Collecting', style=ButtonStyle(), tooltip='Start collecting …"
      ]
     },
     "metadata": {},
     "output_type": "display_data"
    },
    {
     "data": {
      "application/vnd.jupyter.widget-view+json": {
       "model_id": "439580b793c54f77ab604ac61650f00a",
       "version_major": 2,
       "version_minor": 0
      },
      "text/plain": [
       "HTML(value='<span style=\"color:blue;\"> To accurately read point location on graph you can zoom in. Drag to zoo…"
      ]
     },
     "metadata": {},
     "output_type": "display_data"
    },
    {
     "data": {
      "text/html": [
       "<span style=\"color:blue;font-weight:bold;\">DATA SAVED TO:Run-5_21-09-28_140028.csv</span>"
      ],
      "text/plain": [
       "<IPython.core.display.HTML object>"
      ]
     },
     "metadata": {},
     "output_type": "display_data"
    },
    {
     "data": {
      "application/javascript": [
       "Jupyter.actions.call(\"widgets:save-with-widgets\");"
      ],
      "text/plain": [
       "<IPython.core.display.Javascript object>"
      ]
     },
     "metadata": {},
     "output_type": "display_data"
    }
   ],
   "source": [
    "fig5 = go.FigureWidget() # Create figure to show data.\n",
    "newRun(fig5) # Initiate run setup.\n",
    "fig5 # Display the live figure."
   ]
  },
  {
   "cell_type": "code",
   "execution_count": 7,
   "id": "67d89c0b",
   "metadata": {},
   "outputs": [
    {
     "data": {
      "application/vnd.jupyter.widget-view+json": {
       "model_id": "",
       "version_major": 2,
       "version_minor": 0
      },
      "text/plain": [
       "Text(value='Run-6', description='Run title', placeholder='Type title/description')"
      ]
     },
     "metadata": {},
     "output_type": "display_data"
    },
    {
     "data": {
      "application/vnd.jupyter.widget-view+json": {
       "model_id": "",
       "version_major": 2,
       "version_minor": 0
      },
      "text/plain": [
       "VBox(children=(HBox(children=(Checkbox(value=False, description='Trace 0'), Text(value='Trace_0', description=…"
      ]
     },
     "metadata": {},
     "output_type": "display_data"
    },
    {
     "data": {
      "application/vnd.jupyter.widget-view+json": {
       "model_id": "",
       "version_major": 2,
       "version_minor": 0
      },
      "text/plain": [
       "VBox(children=(HBox(children=(Checkbox(value=False, description='Trace 1'), Text(value='Trace_1', description=…"
      ]
     },
     "metadata": {},
     "output_type": "display_data"
    },
    {
     "data": {
      "application/vnd.jupyter.widget-view+json": {
       "model_id": "",
       "version_major": 2,
       "version_minor": 0
      },
      "text/plain": [
       "VBox(children=(HBox(children=(Checkbox(value=False, description='Trace 2'), Text(value='Trace_2', description=…"
      ]
     },
     "metadata": {},
     "output_type": "display_data"
    },
    {
     "data": {
      "application/vnd.jupyter.widget-view+json": {
       "model_id": "",
       "version_major": 2,
       "version_minor": 0
      },
      "text/plain": [
       "VBox(children=(HBox(children=(Checkbox(value=False, description='Trace 3'), Text(value='Trace_3', description=…"
      ]
     },
     "metadata": {},
     "output_type": "display_data"
    },
    {
     "data": {
      "application/vnd.jupyter.widget-view+json": {
       "model_id": "",
       "version_major": 2,
       "version_minor": 0
      },
      "text/plain": [
       "VBox(children=(Checkbox(value=True, description='Display multiple traces as stacked graphs. Uncheck to display…"
      ]
     },
     "metadata": {},
     "output_type": "display_data"
    },
    {
     "data": {
      "application/vnd.jupyter.widget-view+json": {
       "model_id": "5612e9940b4b458aa96f5f3ab4be6ca5",
       "version_major": 2,
       "version_minor": 0
      },
      "text/plain": [
       "FigureWidget({\n",
       "    'data': [], 'layout': {'template': '...'}\n",
       "})"
      ]
     },
     "metadata": {},
     "output_type": "display_data"
    },
    {
     "data": {
      "text/html": [
       "<div id=\"DAQRun_6_param\"><p style=\"font-weight:bold;\">Parameters for run \"Run-6\" (run id#: 6) set to:</p><table><tr><td style=\"font-weight:bold;\">Approx. Rate (Hz):</td><td>1.0</td><td style=\"font-weight:bold;\">Approx. Delta (s):</td><td>1.0</td><td style=\"font-weight:bold;\">X-label: </td><td>Time(s)</td></tr></table><table id=\"traceinfo\" class=\"traceinfo\"><tr><td style=\"font-weight:bold;text-align:center;\">Trace #</td><td style=\"font-weight:bold;text-align:center;\">Title</td><td style=\"font-weight:bold;text-align:center;\">Units</td><td style=\"font-weight:bold;text-align:center;\">Board</td><td style=\"font-weight:bold;text-align:center;\">Channel</td><td style=\"font-weight:bold;text-align:center;\">Sensor</td><td style=\"font-weight:bold;text-align:center;\">Gain</td></tr><tr><td style=\"text-align:center;\">0</td><td style=\"text-align:center;\">Trace_0</td><td style=\"text-align:center;\">V</td><td style=\"text-align:center;\">1 DAQC2</td><td style=\"text-align:center;\">4</td><td style=\"text-align:center;\">RawAtoD</td><td style=\"text-align:center;\">1</td></tr><tr><td style=\"text-align:center;\">1</td><td style=\"text-align:center;\">Trace_1</td><td style=\"text-align:center;\">V</td><td style=\"text-align:center;\">1 DAQC2</td><td style=\"text-align:center;\">5</td><td style=\"text-align:center;\">RawAtoD</td><td style=\"text-align:center;\">1</td></tr><tr></tr><tr></tr><tr></tr></table></div>"
      ],
      "text/plain": [
       "<IPython.core.display.HTML object>"
      ]
     },
     "metadata": {},
     "output_type": "display_data"
    },
    {
     "data": {
      "application/vnd.jupyter.widget-view+json": {
       "model_id": "",
       "version_major": 2,
       "version_minor": 0
      },
      "text/plain": [
       "Button(button_style='success', description='Start Collecting', style=ButtonStyle(), tooltip='Start collecting …"
      ]
     },
     "metadata": {},
     "output_type": "display_data"
    },
    {
     "data": {
      "application/vnd.jupyter.widget-view+json": {
       "model_id": "09a6d2be88404dd9a45fc5502482667b",
       "version_major": 2,
       "version_minor": 0
      },
      "text/plain": [
       "HTML(value='<span style=\"color:blue;\"> To accurately read point location on graph you can zoom in. Drag to zoo…"
      ]
     },
     "metadata": {},
     "output_type": "display_data"
    },
    {
     "data": {
      "text/html": [
       "<span style=\"color:blue;font-weight:bold;\">DATA SAVED TO:Run-6_21-09-28_140434.csv</span>"
      ],
      "text/plain": [
       "<IPython.core.display.HTML object>"
      ]
     },
     "metadata": {},
     "output_type": "display_data"
    },
    {
     "data": {
      "application/javascript": [
       "Jupyter.actions.call(\"widgets:save-with-widgets\");"
      ],
      "text/plain": [
       "<IPython.core.display.Javascript object>"
      ]
     },
     "metadata": {},
     "output_type": "display_data"
    }
   ],
   "source": [
    "fig6 = go.FigureWidget() # Create figure to show data.\n",
    "newRun(fig6) # Initiate run setup.\n",
    "fig6 # Display the live figure."
   ]
  },
  {
   "cell_type": "code",
   "execution_count": 8,
   "id": "947f7d41",
   "metadata": {},
   "outputs": [
    {
     "data": {
      "application/vnd.jupyter.widget-view+json": {
       "model_id": "",
       "version_major": 2,
       "version_minor": 0
      },
      "text/plain": [
       "Text(value='Run-7', description='Run title', placeholder='Type title/description')"
      ]
     },
     "metadata": {},
     "output_type": "display_data"
    },
    {
     "data": {
      "application/vnd.jupyter.widget-view+json": {
       "model_id": "",
       "version_major": 2,
       "version_minor": 0
      },
      "text/plain": [
       "VBox(children=(HBox(children=(Checkbox(value=False, description='Trace 0'), Text(value='Trace_0', description=…"
      ]
     },
     "metadata": {},
     "output_type": "display_data"
    },
    {
     "data": {
      "application/vnd.jupyter.widget-view+json": {
       "model_id": "",
       "version_major": 2,
       "version_minor": 0
      },
      "text/plain": [
       "VBox(children=(HBox(children=(Checkbox(value=False, description='Trace 1'), Text(value='Trace_1', description=…"
      ]
     },
     "metadata": {},
     "output_type": "display_data"
    },
    {
     "data": {
      "application/vnd.jupyter.widget-view+json": {
       "model_id": "",
       "version_major": 2,
       "version_minor": 0
      },
      "text/plain": [
       "VBox(children=(HBox(children=(Checkbox(value=False, description='Trace 2'), Text(value='Trace_2', description=…"
      ]
     },
     "metadata": {},
     "output_type": "display_data"
    },
    {
     "data": {
      "application/vnd.jupyter.widget-view+json": {
       "model_id": "",
       "version_major": 2,
       "version_minor": 0
      },
      "text/plain": [
       "VBox(children=(HBox(children=(Checkbox(value=False, description='Trace 3'), Text(value='Trace_3', description=…"
      ]
     },
     "metadata": {},
     "output_type": "display_data"
    },
    {
     "data": {
      "application/vnd.jupyter.widget-view+json": {
       "model_id": "",
       "version_major": 2,
       "version_minor": 0
      },
      "text/plain": [
       "VBox(children=(Checkbox(value=True, description='Display multiple traces as stacked graphs. Uncheck to display…"
      ]
     },
     "metadata": {},
     "output_type": "display_data"
    },
    {
     "data": {
      "application/vnd.jupyter.widget-view+json": {
       "model_id": "0860141d173747349f54bd90881740c2",
       "version_major": 2,
       "version_minor": 0
      },
      "text/plain": [
       "FigureWidget({\n",
       "    'data': [], 'layout': {'template': '...'}\n",
       "})"
      ]
     },
     "metadata": {},
     "output_type": "display_data"
    },
    {
     "data": {
      "text/html": [
       "<div id=\"DAQRun_7_param\"><p style=\"font-weight:bold;\">Parameters for run \"Run-7\" (run id#: 7) set to:</p><table><tr><td style=\"font-weight:bold;\">Approx. Rate (Hz):</td><td>1.0</td><td style=\"font-weight:bold;\">Approx. Delta (s):</td><td>1.0</td><td style=\"font-weight:bold;\">X-label: </td><td>Time(s)</td></tr></table><table id=\"traceinfo\" class=\"traceinfo\"><tr><td style=\"font-weight:bold;text-align:center;\">Trace #</td><td style=\"font-weight:bold;text-align:center;\">Title</td><td style=\"font-weight:bold;text-align:center;\">Units</td><td style=\"font-weight:bold;text-align:center;\">Board</td><td style=\"font-weight:bold;text-align:center;\">Channel</td><td style=\"font-weight:bold;text-align:center;\">Sensor</td><td style=\"font-weight:bold;text-align:center;\">Gain</td></tr><tr><td style=\"text-align:center;\">0</td><td style=\"text-align:center;\">Trace_0</td><td style=\"text-align:center;\">V</td><td style=\"text-align:center;\">1 DAQC2</td><td style=\"text-align:center;\">2</td><td style=\"text-align:center;\">RawAtoD</td><td style=\"text-align:center;\">1</td></tr><tr><td style=\"text-align:center;\">1</td><td style=\"text-align:center;\">Trace_1</td><td style=\"text-align:center;\">V</td><td style=\"text-align:center;\">1 DAQC2</td><td style=\"text-align:center;\">3</td><td style=\"text-align:center;\">RawAtoD</td><td style=\"text-align:center;\">1</td></tr><tr></tr><tr></tr><tr></tr></table></div>"
      ],
      "text/plain": [
       "<IPython.core.display.HTML object>"
      ]
     },
     "metadata": {},
     "output_type": "display_data"
    },
    {
     "data": {
      "application/vnd.jupyter.widget-view+json": {
       "model_id": "",
       "version_major": 2,
       "version_minor": 0
      },
      "text/plain": [
       "Button(button_style='success', description='Start Collecting', style=ButtonStyle(), tooltip='Start collecting …"
      ]
     },
     "metadata": {},
     "output_type": "display_data"
    },
    {
     "data": {
      "application/vnd.jupyter.widget-view+json": {
       "model_id": "94fda208403c4905b3875f161e415a66",
       "version_major": 2,
       "version_minor": 0
      },
      "text/plain": [
       "HTML(value='<span style=\"color:blue;\"> To accurately read point location on graph you can zoom in. Drag to zoo…"
      ]
     },
     "metadata": {},
     "output_type": "display_data"
    },
    {
     "data": {
      "text/html": [
       "<span style=\"color:blue;font-weight:bold;\">DATA SAVED TO:Run-7_21-09-28_140736.csv</span>"
      ],
      "text/plain": [
       "<IPython.core.display.HTML object>"
      ]
     },
     "metadata": {},
     "output_type": "display_data"
    },
    {
     "data": {
      "application/javascript": [
       "Jupyter.actions.call(\"widgets:save-with-widgets\");"
      ],
      "text/plain": [
       "<IPython.core.display.Javascript object>"
      ]
     },
     "metadata": {},
     "output_type": "display_data"
    }
   ],
   "source": [
    "fig7 = go.FigureWidget() # Create figure to show data.\n",
    "newRun(fig7) # Initiate run setup.\n",
    "fig7 # Display the live figure."
   ]
  }
 ],
 "metadata": {
  "kernelspec": {
   "display_name": "Python 3 (ipykernel)",
   "language": "python",
   "name": "python3"
  },
  "language_info": {
   "codemirror_mode": {
    "name": "ipython",
    "version": 3
   },
   "file_extension": ".py",
   "mimetype": "text/x-python",
   "name": "python",
   "nbconvert_exporter": "python",
   "pygments_lexer": "ipython3",
   "version": "3.8.10"
  },
  "widgets": {
   "application/vnd.jupyter.widget-state+json": {
    "state": {
     "00334e173b934f489a2863dca86619fc": {
      "model_module": "@jupyter-widgets/base",
      "model_module_version": "1.2.0",
      "model_name": "LayoutModel",
      "state": {}
     },
     "00407e7a23844025944d0c64a68071a7": {
      "model_module": "jupyterlab-plotly",
      "model_module_version": "^5.1.0",
      "model_name": "FigureModel",
      "state": {
       "_config": {
        "plotlyServerURL": "https://plot.ly"
       },
       "_data": [
        {
         "name": "Trace_0(V)",
         "type": "scatter",
         "uid": "52c3dc34-1256-4fa4-8de9-f50db64e6409",
         "x": [
          0.21441078186035156,
          1.1676602363586426,
          2.166670322418213,
          3.166334629058838,
          4.16454291343689,
          5.163486003875732,
          6.162446022033691,
          7.161393404006958,
          8.159791469573975,
          9.158642292022705,
          10.156734943389893,
          11.156441450119019,
          12.154582738876343,
          13.153047800064087,
          14.152661323547363,
          15.151385307312012,
          16.150201559066772,
          17.149097681045532,
          18.14706516265869,
          19.14649248123169,
          20.14532732963562,
          21.14376711845398,
          22.143006801605225,
          23.14177632331848,
          24.139889001846313,
          25.139302015304565,
          26.137971878051758,
          27.136566877365112,
          28.135817289352417,
          29.134394884109497,
          30.132808208465576,
          31.13107919692993,
          32.12987804412842,
          33.12872552871704,
          34.12725067138672,
          35.12611675262451,
          36.12522554397583,
          37.12375450134277,
          38.12310743331909,
          39.121845960617065,
          40.119959354400635,
          41.11913442611694,
          42.117103099823,
          43.11672806739807,
          44.1149320602417,
          45.11447095870972,
          46.112998247146606,
          47.11170053482056,
          48.11062479019165,
          49.1088387966156,
          50.107656717300415,
          51.107075452804565,
          52.10754323005676,
          53.10653901100159,
          54.10491466522217,
          55.10385060310364,
          56.1024603843689,
          57.10110020637512,
          58.0997154712677,
          59.09865927696228,
          60.097859144210815,
          61.09512996673584,
          62.09451985359192,
          63.09335255622864,
          64.09200763702393,
          65.09037685394287,
          66.08940434455872,
          67.08875894546509,
          68.08771228790283,
          69.08556771278381,
          70.08474016189575,
          71.08562350273132,
          72.08219337463379,
          73.08149266242981,
          74.07951855659485,
          75.07840728759766,
          76.07786965370178,
          77.07675457000732,
          78.07557559013367,
          79.07355189323425,
          80.07318663597107,
          81.07194638252258,
          82.07053303718567,
          83.06919121742249,
          84.06820917129517,
          85.06735754013062,
          86.06584525108337,
          87.06548500061035,
          88.06274604797363,
          89.07507157325745,
          90.07195615768433,
          91.06997060775757,
          92.07003283500671,
          93.06831216812134,
          94.06680393218994,
          95.06556344032288,
          96.06473875045776,
          97.0630533695221,
          98.0612096786499,
          99.06014943122864,
          100.05906748771667,
          101.05864000320435,
          102.05703258514404,
          103.05554413795471,
          104.05410265922546,
          105.05302619934082,
          106.05198884010315,
          107.05095314979553,
          108.0507562160492,
          109.04776215553284,
          110.0474579334259,
          111.04600667953491,
          112.04765820503235,
          113.04309558868408,
          114.04250240325928,
          115.04107737541199,
          116.0402889251709,
          117.03914213180542,
          118.03768348693848,
          119.0362274646759,
          120.03565406799316,
          121.03360605239868,
          122.03270864486694,
          123.0317587852478,
          124.0305724143982,
          125.02938389778137,
          126.0272958278656,
          127.02694010734558,
          128.02512288093567,
          129.02408146858215,
          130.02336645126343,
          131.0221335887909,
          132.02064442634583,
          133.01912117004395,
          134.01832389831543,
          135.0173442363739,
          136.0151708126068,
          137.01427555084229,
          138.01359915733337,
          139.01219940185547,
          140.0111484527588,
          141.0090856552124,
          142.00874733924866,
          143.00733399391174,
          144.0058352947235,
          145.00481534004211,
          146.00337171554565,
          147.00214171409607,
          148.00065207481384,
          149.00012707710266,
          149.99885821342468,
          150.99807739257812,
          151.99660277366638,
          152.99481892585754,
          153.99471235275269,
          154.99260807037354,
          155.99163603782654,
          156.99018335342407,
          157.98932075500488,
          158.98798727989197,
          159.98633098602295,
          160.98480343818665,
          161.98348426818848,
          162.98231291770935,
          163.9812216758728,
          164.98254418373108,
          165.97949862480164,
          166.97784304618835,
          167.9762876033783,
          168.97542190551758,
          169.97461605072021,
          170.97288751602173,
          171.97246265411377,
          172.9704716205597,
          173.96992874145508,
          174.9678876399994,
          175.96757459640503,
          176.9656732082367,
          177.96514201164246,
          178.96381640434265,
          179.9626178741455,
          180.9606146812439,
          181.96049880981445,
          182.95904922485352,
          183.95728397369385,
          184.956885099411,
          185.9552183151245,
          186.95357418060303,
          187.95280647277832,
          188.95187973976135,
          189.95102787017822,
          190.95047092437744,
          191.94891381263733,
          192.94761204719543,
          193.94627952575684,
          194.94461798667908,
          195.94400024414062,
          196.94270157814026,
          197.94154477119446,
          198.93935441970825,
          199.93790745735168,
          200.93724608421326,
          201.93545722961426,
          202.93444752693176,
          203.93278193473816,
          204.93196749687195,
          205.93059968948364,
          206.92923784255981,
          207.92764711380005,
          208.92666864395142,
          209.92607975006104,
          210.926687002182,
          211.92360997200012,
          212.92243242263794,
          213.92104411125183,
          214.91986274719238,
          215.91834473609924,
          216.91756868362427,
          217.91686129570007,
          218.91476035118103,
          219.91427445411682,
          220.91219973564148,
          221.91165566444397,
          222.91080164909363,
          223.90972590446472,
          224.9074900150299,
          225.90683913230896,
          226.90561819076538,
          227.90435457229614,
          228.90303778648376,
          229.90166974067688,
          230.90071654319763,
          231.8992257118225,
          232.89864659309387,
          233.89661717414856,
          234.89587783813477,
          235.89439415931702,
          236.8933665752411,
          237.8921241760254,
          238.8909969329834,
          239.88939380645752,
          240.88853931427002,
          241.8870244026184,
          242.8861048221588,
          243.8849813938141,
          244.8835256099701,
          245.8828399181366,
          246.88134908676147,
          247.88002371788025,
          248.87862300872803,
          249.87795281410217,
          250.87660002708435,
          251.87540411949158,
          252.87403297424316,
          253.8726201057434
         ],
         "xaxis": "x2",
         "y": [
          -11.87695,
          -11.87699,
          -11.87695,
          -11.87696,
          -11.87699,
          -11.87697,
          -11.87696,
          -11.87699,
          -11.87699,
          -11.87699,
          -11.87697,
          -11.87696,
          -11.87694,
          -11.87697,
          -11.87689,
          -11.87693,
          -11.87694,
          -11.87693,
          -11.87696,
          -11.87689,
          -11.87688,
          -11.87692,
          -11.87697,
          -11.8769,
          -11.8769,
          -11.87688,
          -11.87697,
          -11.87686,
          -11.87696,
          -11.87696,
          -11.8769,
          -11.87693,
          -11.87691,
          -11.87688,
          -11.87692,
          -11.8767,
          -11.87695,
          -11.87691,
          -11.87687,
          -11.87687,
          -11.87687,
          -11.87696,
          -11.87696,
          -11.87681,
          -11.87692,
          -11.87694,
          -11.87688,
          -11.87693,
          -11.87678,
          -11.87681,
          -11.87689,
          -11.87687,
          -11.87684,
          -11.87689,
          -11.87683,
          -11.87692,
          -11.87674,
          -11.87687,
          -11.87687,
          -11.87684,
          -11.87692,
          -11.87688,
          -11.87693,
          -11.87688,
          -11.87694,
          -11.87697,
          -11.87693,
          -11.87696,
          -11.87694,
          -11.87695,
          -11.87694,
          -11.87695,
          -11.87695,
          -11.8769,
          -11.87698,
          -11.87694,
          -11.87691,
          -11.8769,
          -11.87687,
          -11.87694,
          -11.87692,
          -11.87686,
          -11.87694,
          -11.87692,
          -11.87693,
          -11.87691,
          -11.87695,
          -11.87683,
          -11.87688,
          -11.87689,
          -11.87692,
          -11.8769,
          -11.87686,
          -11.87693,
          -11.87676,
          -11.87685,
          -11.87682,
          -11.87688,
          -11.87694,
          -11.87682,
          -11.87696,
          -11.87691,
          -11.87687,
          -11.87692,
          -11.87673,
          -11.87685,
          -11.87691,
          -11.87689,
          -11.87691,
          -11.87684,
          -11.87696,
          -11.87684,
          -11.87688,
          -11.87692,
          -11.87689,
          -11.87693,
          -11.87687,
          -11.8769,
          -11.87695,
          -11.87692,
          -11.87698,
          -11.87696,
          -11.87694,
          -11.87699,
          -11.87692,
          -11.87691,
          -11.87692,
          -11.87696,
          -11.87696,
          -11.876999999999986,
          -11.87697,
          -11.87696,
          -11.87695,
          -11.87699,
          -11.87696,
          -11.87694,
          -11.87691,
          -11.87699,
          -11.87699,
          -11.87692,
          -11.87692,
          -11.8769,
          -11.87696,
          -11.87695,
          -11.87691,
          -11.876999999999983,
          -11.87691,
          -11.87692,
          -11.87697,
          -11.87694,
          -11.87696,
          -11.87692,
          -11.87695,
          -11.87697,
          -11.8769,
          -11.87697,
          -11.87693,
          -11.87692,
          -11.87692,
          -11.87692,
          -11.87699,
          -11.87687,
          -11.87696,
          -11.87691,
          -11.87685,
          -11.87695,
          -11.8769,
          -11.87696,
          -11.87687,
          -11.87694,
          -11.87688,
          -11.8769,
          -11.87695,
          -11.87687,
          -11.87699,
          -11.8769,
          -11.87691,
          -11.87681,
          -11.87676,
          -11.87682,
          -11.87695,
          -11.87685,
          -11.87687,
          -11.87691,
          -11.87687,
          -11.87697,
          -11.87682,
          -11.87684,
          -11.87691,
          -11.87694,
          -11.87695,
          -11.87692,
          -11.8769,
          -11.87691,
          -11.87695,
          -11.87692,
          -11.87697,
          -11.87696,
          -11.8769,
          -11.87686,
          -11.87693,
          -11.87681,
          -11.87692,
          -11.87693,
          -11.87691,
          -11.87696,
          -11.87686,
          -11.87683,
          -11.87683,
          -11.87678,
          -11.8768,
          -11.87689,
          -11.87682,
          -11.87692,
          -11.87695,
          -11.87672,
          -11.87683,
          -11.8769,
          -11.87685,
          -11.87685,
          -11.87689,
          -11.87686,
          -11.87685,
          -11.87687,
          -11.87676,
          -11.87679,
          -11.87686,
          -11.87682,
          -11.8769,
          -11.87687,
          -11.87684,
          -11.87693,
          -11.87696,
          -11.87683,
          -11.8769,
          -11.87694,
          -11.87695,
          -11.87692,
          -11.8769,
          -11.87689,
          -11.87694,
          -11.87693,
          -11.87697,
          -11.87682,
          -11.87695,
          -11.87692,
          -11.87692,
          -11.87682,
          -11.87689,
          -11.87687,
          -11.87687,
          -11.87686,
          -11.8769,
          -11.87689,
          -11.87678
         ],
         "yaxis": "y2"
        },
        {
         "name": "Trace_1(V)",
         "type": "scatter",
         "uid": "81851315-7c76-4e75-9ac5-4311010468df",
         "x": [
          0.21441078186035156,
          1.1676602363586426,
          2.166670322418213,
          3.166334629058838,
          4.16454291343689,
          5.163486003875732,
          6.162446022033691,
          7.161393404006958,
          8.159791469573975,
          9.158642292022705,
          10.156734943389893,
          11.156441450119019,
          12.154582738876343,
          13.153047800064087,
          14.152661323547363,
          15.151385307312012,
          16.150201559066772,
          17.149097681045532,
          18.14706516265869,
          19.14649248123169,
          20.14532732963562,
          21.14376711845398,
          22.143006801605225,
          23.14177632331848,
          24.139889001846313,
          25.139302015304565,
          26.137971878051758,
          27.136566877365112,
          28.135817289352417,
          29.134394884109497,
          30.132808208465576,
          31.13107919692993,
          32.12987804412842,
          33.12872552871704,
          34.12725067138672,
          35.12611675262451,
          36.12522554397583,
          37.12375450134277,
          38.12310743331909,
          39.121845960617065,
          40.119959354400635,
          41.11913442611694,
          42.117103099823,
          43.11672806739807,
          44.1149320602417,
          45.11447095870972,
          46.112998247146606,
          47.11170053482056,
          48.11062479019165,
          49.1088387966156,
          50.107656717300415,
          51.107075452804565,
          52.10754323005676,
          53.10653901100159,
          54.10491466522217,
          55.10385060310364,
          56.1024603843689,
          57.10110020637512,
          58.0997154712677,
          59.09865927696228,
          60.097859144210815,
          61.09512996673584,
          62.09451985359192,
          63.09335255622864,
          64.09200763702393,
          65.09037685394287,
          66.08940434455872,
          67.08875894546509,
          68.08771228790283,
          69.08556771278381,
          70.08474016189575,
          71.08562350273132,
          72.08219337463379,
          73.08149266242981,
          74.07951855659485,
          75.07840728759766,
          76.07786965370178,
          77.07675457000732,
          78.07557559013367,
          79.07355189323425,
          80.07318663597107,
          81.07194638252258,
          82.07053303718567,
          83.06919121742249,
          84.06820917129517,
          85.06735754013062,
          86.06584525108337,
          87.06548500061035,
          88.06274604797363,
          89.07507157325745,
          90.07195615768433,
          91.06997060775757,
          92.07003283500671,
          93.06831216812134,
          94.06680393218994,
          95.06556344032288,
          96.06473875045776,
          97.0630533695221,
          98.0612096786499,
          99.06014943122864,
          100.05906748771667,
          101.05864000320435,
          102.05703258514404,
          103.05554413795471,
          104.05410265922546,
          105.05302619934082,
          106.05198884010315,
          107.05095314979553,
          108.0507562160492,
          109.04776215553284,
          110.0474579334259,
          111.04600667953491,
          112.04765820503235,
          113.04309558868408,
          114.04250240325928,
          115.04107737541199,
          116.0402889251709,
          117.03914213180542,
          118.03768348693848,
          119.0362274646759,
          120.03565406799316,
          121.03360605239868,
          122.03270864486694,
          123.0317587852478,
          124.0305724143982,
          125.02938389778137,
          126.0272958278656,
          127.02694010734558,
          128.02512288093567,
          129.02408146858215,
          130.02336645126343,
          131.0221335887909,
          132.02064442634583,
          133.01912117004395,
          134.01832389831543,
          135.0173442363739,
          136.0151708126068,
          137.01427555084229,
          138.01359915733337,
          139.01219940185547,
          140.0111484527588,
          141.0090856552124,
          142.00874733924866,
          143.00733399391174,
          144.0058352947235,
          145.00481534004211,
          146.00337171554565,
          147.00214171409607,
          148.00065207481384,
          149.00012707710266,
          149.99885821342468,
          150.99807739257812,
          151.99660277366638,
          152.99481892585754,
          153.99471235275269,
          154.99260807037354,
          155.99163603782654,
          156.99018335342407,
          157.98932075500488,
          158.98798727989197,
          159.98633098602295,
          160.98480343818665,
          161.98348426818848,
          162.98231291770935,
          163.9812216758728,
          164.98254418373108,
          165.97949862480164,
          166.97784304618835,
          167.9762876033783,
          168.97542190551758,
          169.97461605072021,
          170.97288751602173,
          171.97246265411377,
          172.9704716205597,
          173.96992874145508,
          174.9678876399994,
          175.96757459640503,
          176.9656732082367,
          177.96514201164246,
          178.96381640434265,
          179.9626178741455,
          180.9606146812439,
          181.96049880981445,
          182.95904922485352,
          183.95728397369385,
          184.956885099411,
          185.9552183151245,
          186.95357418060303,
          187.95280647277832,
          188.95187973976135,
          189.95102787017822,
          190.95047092437744,
          191.94891381263733,
          192.94761204719543,
          193.94627952575684,
          194.94461798667908,
          195.94400024414062,
          196.94270157814026,
          197.94154477119446,
          198.93935441970825,
          199.93790745735168,
          200.93724608421326,
          201.93545722961426,
          202.93444752693176,
          203.93278193473816,
          204.93196749687195,
          205.93059968948364,
          206.92923784255981,
          207.92764711380005,
          208.92666864395142,
          209.92607975006104,
          210.926687002182,
          211.92360997200012,
          212.92243242263794,
          213.92104411125183,
          214.91986274719238,
          215.91834473609924,
          216.91756868362427,
          217.91686129570007,
          218.91476035118103,
          219.91427445411682,
          220.91219973564148,
          221.91165566444397,
          222.91080164909363,
          223.90972590446472,
          224.9074900150299,
          225.90683913230896,
          226.90561819076538,
          227.90435457229614,
          228.90303778648376,
          229.90166974067688,
          230.90071654319763,
          231.8992257118225,
          232.89864659309387,
          233.89661717414856,
          234.89587783813477,
          235.89439415931702,
          236.8933665752411,
          237.8921241760254,
          238.8909969329834,
          239.88939380645752,
          240.88853931427002,
          241.8870244026184,
          242.8861048221588,
          243.8849813938141,
          244.8835256099701,
          245.8828399181366,
          246.88134908676147,
          247.88002371788025,
          248.87862300872803,
          249.87795281410217,
          250.87660002708435,
          251.87540411949158,
          252.87403297424316,
          253.8726201057434
         ],
         "xaxis": "x",
         "y": [
          1.2922,
          1.292,
          1.2921,
          1.2923,
          1.2922,
          1.2922,
          1.2922,
          1.292,
          1.2921,
          1.2924,
          1.2921,
          1.2923,
          1.2921,
          1.2922,
          1.2922,
          1.2921,
          1.2921,
          1.2922,
          1.2919,
          1.2922,
          1.2921,
          1.292,
          1.2921,
          1.2923,
          1.2921,
          1.2921,
          1.2921,
          1.292,
          1.2921,
          1.2921,
          1.2921,
          1.2919,
          1.29218,
          1.2919,
          1.2919,
          1.2922,
          1.2921,
          1.2922,
          1.292,
          1.292,
          1.2922,
          1.2922,
          1.292,
          1.2921,
          1.29226,
          1.2923,
          1.2923,
          1.2924,
          1.2922,
          1.2923,
          1.2922,
          1.292,
          1.2922,
          1.2922,
          1.2921,
          1.2922,
          1.2922,
          1.2923,
          1.29239,
          1.2921,
          1.2922,
          1.2923,
          1.2921,
          1.2922,
          1.292,
          1.2922,
          1.2923,
          1.2922,
          1.2922,
          1.2922,
          1.2922,
          1.2923,
          1.292,
          1.2925,
          1.2921,
          1.2923,
          1.2924,
          1.2923,
          1.2923,
          1.2922,
          1.29226,
          1.2924,
          1.2924,
          1.2922,
          1.2924,
          1.2924,
          1.29229,
          1.2926,
          1.29234,
          1.2924,
          1.2924,
          1.29247,
          1.29229,
          1.2923,
          1.2922,
          1.2921,
          1.2924,
          1.2925,
          1.2924,
          1.2924,
          1.2926,
          1.29229,
          1.2924,
          1.2925,
          1.2922,
          1.2926,
          1.2923,
          1.2925,
          1.2921,
          1.2926,
          1.29251,
          1.29238,
          1.2924,
          1.29244,
          1.2922,
          1.2926,
          1.2922,
          1.2923,
          1.2925,
          1.2923,
          1.2925,
          1.2926,
          1.29242,
          1.2922,
          1.2924,
          1.2925,
          1.2925,
          1.2924,
          1.2923,
          1.2925,
          1.29231,
          1.2921,
          1.2925,
          1.29231,
          1.2922,
          1.2924,
          1.2923,
          1.2924,
          1.29254,
          1.2924,
          1.2923,
          1.2925,
          1.2923,
          1.2925,
          1.2925,
          1.2924,
          1.2924,
          1.2926,
          1.2922,
          1.2923,
          1.2925,
          1.2922,
          1.2924,
          1.2925,
          1.2922,
          1.2926,
          1.2925,
          1.2923,
          1.29241,
          1.2925,
          1.2924,
          1.2923,
          1.2925,
          1.2924,
          1.2924,
          1.2924,
          1.2925,
          1.29246,
          1.2925,
          1.2925,
          1.2923,
          1.2925,
          1.2922,
          1.2923,
          1.29242,
          1.2923,
          1.2925,
          1.29218,
          1.2923,
          1.2924,
          1.2922,
          1.292,
          1.29205,
          1.2921,
          1.2923,
          1.2922,
          1.2921,
          1.2922,
          1.2923,
          1.2922,
          1.2924,
          1.2925,
          1.2923,
          1.2918,
          1.2921,
          1.2919,
          1.2919,
          1.29217,
          1.2923,
          1.2923,
          1.2923,
          1.2921,
          1.2923,
          1.2923,
          1.292,
          1.2918,
          1.2918,
          1.29214,
          1.2921,
          1.2922,
          1.292,
          1.2921,
          1.2922,
          1.2921,
          1.2922,
          1.2922,
          1.2919,
          1.292,
          1.2919,
          1.2921,
          1.2922,
          1.2919,
          1.2922,
          1.2922,
          1.2922,
          1.2922,
          1.2922,
          1.2921,
          1.29215,
          1.29204,
          1.2921,
          1.2922,
          1.292,
          1.2921,
          1.29222,
          1.2922,
          1.2923,
          1.2923,
          1.292,
          1.2922,
          1.2924,
          1.292,
          1.2924,
          1.2922,
          1.2923,
          1.2921,
          1.2923,
          1.2921,
          1.2923,
          1.2919,
          1.2921,
          1.2922,
          1.2921,
          1.2922,
          1.2921
         ],
         "yaxis": "y"
        }
       ],
       "_js2py_relayout": {},
       "_js2py_restyle": {},
       "_js2py_update": {},
       "_last_layout_edit_id": 362,
       "_last_trace_edit_id": 362,
       "_layout": {
        "template": {
         "data": {
          "bar": [
           {
            "error_x": {
             "color": "rgb(36,36,36)"
            },
            "error_y": {
             "color": "rgb(36,36,36)"
            },
            "marker": {
             "line": {
              "color": "white",
              "width": 0.5
             },
             "pattern": {
              "fillmode": "overlay",
              "size": 10,
              "solidity": 0.2
             }
            },
            "type": "bar"
           }
          ],
          "barpolar": [
           {
            "marker": {
             "line": {
              "color": "white",
              "width": 0.5
             },
             "pattern": {
              "fillmode": "overlay",
              "size": 10,
              "solidity": 0.2
             }
            },
            "type": "barpolar"
           }
          ],
          "carpet": [
           {
            "aaxis": {
             "endlinecolor": "rgb(36,36,36)",
             "gridcolor": "white",
             "linecolor": "white",
             "minorgridcolor": "white",
             "startlinecolor": "rgb(36,36,36)"
            },
            "baxis": {
             "endlinecolor": "rgb(36,36,36)",
             "gridcolor": "white",
             "linecolor": "white",
             "minorgridcolor": "white",
             "startlinecolor": "rgb(36,36,36)"
            },
            "type": "carpet"
           }
          ],
          "choropleth": [
           {
            "colorbar": {
             "outlinewidth": 1,
             "tickcolor": "rgb(36,36,36)",
             "ticks": "outside"
            },
            "type": "choropleth"
           }
          ],
          "contour": [
           {
            "colorbar": {
             "outlinewidth": 1,
             "tickcolor": "rgb(36,36,36)",
             "ticks": "outside"
            },
            "colorscale": [
             [
              0,
              "#440154"
             ],
             [
              0.1111111111111111,
              "#482878"
             ],
             [
              0.2222222222222222,
              "#3e4989"
             ],
             [
              0.3333333333333333,
              "#31688e"
             ],
             [
              0.4444444444444444,
              "#26828e"
             ],
             [
              0.5555555555555556,
              "#1f9e89"
             ],
             [
              0.6666666666666666,
              "#35b779"
             ],
             [
              0.7777777777777778,
              "#6ece58"
             ],
             [
              0.8888888888888888,
              "#b5de2b"
             ],
             [
              1,
              "#fde725"
             ]
            ],
            "type": "contour"
           }
          ],
          "contourcarpet": [
           {
            "colorbar": {
             "outlinewidth": 1,
             "tickcolor": "rgb(36,36,36)",
             "ticks": "outside"
            },
            "type": "contourcarpet"
           }
          ],
          "heatmap": [
           {
            "colorbar": {
             "outlinewidth": 1,
             "tickcolor": "rgb(36,36,36)",
             "ticks": "outside"
            },
            "colorscale": [
             [
              0,
              "#440154"
             ],
             [
              0.1111111111111111,
              "#482878"
             ],
             [
              0.2222222222222222,
              "#3e4989"
             ],
             [
              0.3333333333333333,
              "#31688e"
             ],
             [
              0.4444444444444444,
              "#26828e"
             ],
             [
              0.5555555555555556,
              "#1f9e89"
             ],
             [
              0.6666666666666666,
              "#35b779"
             ],
             [
              0.7777777777777778,
              "#6ece58"
             ],
             [
              0.8888888888888888,
              "#b5de2b"
             ],
             [
              1,
              "#fde725"
             ]
            ],
            "type": "heatmap"
           }
          ],
          "heatmapgl": [
           {
            "colorbar": {
             "outlinewidth": 1,
             "tickcolor": "rgb(36,36,36)",
             "ticks": "outside"
            },
            "colorscale": [
             [
              0,
              "#440154"
             ],
             [
              0.1111111111111111,
              "#482878"
             ],
             [
              0.2222222222222222,
              "#3e4989"
             ],
             [
              0.3333333333333333,
              "#31688e"
             ],
             [
              0.4444444444444444,
              "#26828e"
             ],
             [
              0.5555555555555556,
              "#1f9e89"
             ],
             [
              0.6666666666666666,
              "#35b779"
             ],
             [
              0.7777777777777778,
              "#6ece58"
             ],
             [
              0.8888888888888888,
              "#b5de2b"
             ],
             [
              1,
              "#fde725"
             ]
            ],
            "type": "heatmapgl"
           }
          ],
          "histogram": [
           {
            "marker": {
             "line": {
              "color": "white",
              "width": 0.6
             }
            },
            "type": "histogram"
           }
          ],
          "histogram2d": [
           {
            "colorbar": {
             "outlinewidth": 1,
             "tickcolor": "rgb(36,36,36)",
             "ticks": "outside"
            },
            "colorscale": [
             [
              0,
              "#440154"
             ],
             [
              0.1111111111111111,
              "#482878"
             ],
             [
              0.2222222222222222,
              "#3e4989"
             ],
             [
              0.3333333333333333,
              "#31688e"
             ],
             [
              0.4444444444444444,
              "#26828e"
             ],
             [
              0.5555555555555556,
              "#1f9e89"
             ],
             [
              0.6666666666666666,
              "#35b779"
             ],
             [
              0.7777777777777778,
              "#6ece58"
             ],
             [
              0.8888888888888888,
              "#b5de2b"
             ],
             [
              1,
              "#fde725"
             ]
            ],
            "type": "histogram2d"
           }
          ],
          "histogram2dcontour": [
           {
            "colorbar": {
             "outlinewidth": 1,
             "tickcolor": "rgb(36,36,36)",
             "ticks": "outside"
            },
            "colorscale": [
             [
              0,
              "#440154"
             ],
             [
              0.1111111111111111,
              "#482878"
             ],
             [
              0.2222222222222222,
              "#3e4989"
             ],
             [
              0.3333333333333333,
              "#31688e"
             ],
             [
              0.4444444444444444,
              "#26828e"
             ],
             [
              0.5555555555555556,
              "#1f9e89"
             ],
             [
              0.6666666666666666,
              "#35b779"
             ],
             [
              0.7777777777777778,
              "#6ece58"
             ],
             [
              0.8888888888888888,
              "#b5de2b"
             ],
             [
              1,
              "#fde725"
             ]
            ],
            "type": "histogram2dcontour"
           }
          ],
          "mesh3d": [
           {
            "colorbar": {
             "outlinewidth": 1,
             "tickcolor": "rgb(36,36,36)",
             "ticks": "outside"
            },
            "type": "mesh3d"
           }
          ],
          "parcoords": [
           {
            "line": {
             "colorbar": {
              "outlinewidth": 1,
              "tickcolor": "rgb(36,36,36)",
              "ticks": "outside"
             }
            },
            "type": "parcoords"
           }
          ],
          "pie": [
           {
            "automargin": true,
            "type": "pie"
           }
          ],
          "scatter": [
           {
            "marker": {
             "colorbar": {
              "outlinewidth": 1,
              "tickcolor": "rgb(36,36,36)",
              "ticks": "outside"
             }
            },
            "type": "scatter"
           }
          ],
          "scatter3d": [
           {
            "line": {
             "colorbar": {
              "outlinewidth": 1,
              "tickcolor": "rgb(36,36,36)",
              "ticks": "outside"
             }
            },
            "marker": {
             "colorbar": {
              "outlinewidth": 1,
              "tickcolor": "rgb(36,36,36)",
              "ticks": "outside"
             }
            },
            "type": "scatter3d"
           }
          ],
          "scattercarpet": [
           {
            "marker": {
             "colorbar": {
              "outlinewidth": 1,
              "tickcolor": "rgb(36,36,36)",
              "ticks": "outside"
             }
            },
            "type": "scattercarpet"
           }
          ],
          "scattergeo": [
           {
            "marker": {
             "colorbar": {
              "outlinewidth": 1,
              "tickcolor": "rgb(36,36,36)",
              "ticks": "outside"
             }
            },
            "type": "scattergeo"
           }
          ],
          "scattergl": [
           {
            "marker": {
             "colorbar": {
              "outlinewidth": 1,
              "tickcolor": "rgb(36,36,36)",
              "ticks": "outside"
             }
            },
            "type": "scattergl"
           }
          ],
          "scattermapbox": [
           {
            "marker": {
             "colorbar": {
              "outlinewidth": 1,
              "tickcolor": "rgb(36,36,36)",
              "ticks": "outside"
             }
            },
            "type": "scattermapbox"
           }
          ],
          "scatterpolar": [
           {
            "marker": {
             "colorbar": {
              "outlinewidth": 1,
              "tickcolor": "rgb(36,36,36)",
              "ticks": "outside"
             }
            },
            "type": "scatterpolar"
           }
          ],
          "scatterpolargl": [
           {
            "marker": {
             "colorbar": {
              "outlinewidth": 1,
              "tickcolor": "rgb(36,36,36)",
              "ticks": "outside"
             }
            },
            "type": "scatterpolargl"
           }
          ],
          "scatterternary": [
           {
            "marker": {
             "colorbar": {
              "outlinewidth": 1,
              "tickcolor": "rgb(36,36,36)",
              "ticks": "outside"
             }
            },
            "type": "scatterternary"
           }
          ],
          "surface": [
           {
            "colorbar": {
             "outlinewidth": 1,
             "tickcolor": "rgb(36,36,36)",
             "ticks": "outside"
            },
            "colorscale": [
             [
              0,
              "#440154"
             ],
             [
              0.1111111111111111,
              "#482878"
             ],
             [
              0.2222222222222222,
              "#3e4989"
             ],
             [
              0.3333333333333333,
              "#31688e"
             ],
             [
              0.4444444444444444,
              "#26828e"
             ],
             [
              0.5555555555555556,
              "#1f9e89"
             ],
             [
              0.6666666666666666,
              "#35b779"
             ],
             [
              0.7777777777777778,
              "#6ece58"
             ],
             [
              0.8888888888888888,
              "#b5de2b"
             ],
             [
              1,
              "#fde725"
             ]
            ],
            "type": "surface"
           }
          ],
          "table": [
           {
            "cells": {
             "fill": {
              "color": "rgb(237,237,237)"
             },
             "line": {
              "color": "white"
             }
            },
            "header": {
             "fill": {
              "color": "rgb(217,217,217)"
             },
             "line": {
              "color": "white"
             }
            },
            "type": "table"
           }
          ]
         },
         "layout": {
          "annotationdefaults": {
           "arrowhead": 0,
           "arrowwidth": 1
          },
          "autotypenumbers": "strict",
          "coloraxis": {
           "colorbar": {
            "outlinewidth": 1,
            "tickcolor": "rgb(36,36,36)",
            "ticks": "outside"
           }
          },
          "colorscale": {
           "diverging": [
            [
             0,
             "rgb(103,0,31)"
            ],
            [
             0.1,
             "rgb(178,24,43)"
            ],
            [
             0.2,
             "rgb(214,96,77)"
            ],
            [
             0.3,
             "rgb(244,165,130)"
            ],
            [
             0.4,
             "rgb(253,219,199)"
            ],
            [
             0.5,
             "rgb(247,247,247)"
            ],
            [
             0.6,
             "rgb(209,229,240)"
            ],
            [
             0.7,
             "rgb(146,197,222)"
            ],
            [
             0.8,
             "rgb(67,147,195)"
            ],
            [
             0.9,
             "rgb(33,102,172)"
            ],
            [
             1,
             "rgb(5,48,97)"
            ]
           ],
           "sequential": [
            [
             0,
             "#440154"
            ],
            [
             0.1111111111111111,
             "#482878"
            ],
            [
             0.2222222222222222,
             "#3e4989"
            ],
            [
             0.3333333333333333,
             "#31688e"
            ],
            [
             0.4444444444444444,
             "#26828e"
            ],
            [
             0.5555555555555556,
             "#1f9e89"
            ],
            [
             0.6666666666666666,
             "#35b779"
            ],
            [
             0.7777777777777778,
             "#6ece58"
            ],
            [
             0.8888888888888888,
             "#b5de2b"
            ],
            [
             1,
             "#fde725"
            ]
           ],
           "sequentialminus": [
            [
             0,
             "#440154"
            ],
            [
             0.1111111111111111,
             "#482878"
            ],
            [
             0.2222222222222222,
             "#3e4989"
            ],
            [
             0.3333333333333333,
             "#31688e"
            ],
            [
             0.4444444444444444,
             "#26828e"
            ],
            [
             0.5555555555555556,
             "#1f9e89"
            ],
            [
             0.6666666666666666,
             "#35b779"
            ],
            [
             0.7777777777777778,
             "#6ece58"
            ],
            [
             0.8888888888888888,
             "#b5de2b"
            ],
            [
             1,
             "#fde725"
            ]
           ]
          },
          "colorway": [
           "#1F77B4",
           "#FF7F0E",
           "#2CA02C",
           "#D62728",
           "#9467BD",
           "#8C564B",
           "#E377C2",
           "#7F7F7F",
           "#BCBD22",
           "#17BECF"
          ],
          "font": {
           "color": "rgb(36,36,36)"
          },
          "geo": {
           "bgcolor": "white",
           "lakecolor": "white",
           "landcolor": "white",
           "showlakes": true,
           "showland": true,
           "subunitcolor": "white"
          },
          "hoverlabel": {
           "align": "left"
          },
          "hovermode": "closest",
          "mapbox": {
           "style": "light"
          },
          "paper_bgcolor": "white",
          "plot_bgcolor": "white",
          "polar": {
           "angularaxis": {
            "gridcolor": "rgb(232,232,232)",
            "linecolor": "rgb(36,36,36)",
            "showgrid": false,
            "showline": true,
            "ticks": "outside"
           },
           "bgcolor": "white",
           "radialaxis": {
            "gridcolor": "rgb(232,232,232)",
            "linecolor": "rgb(36,36,36)",
            "showgrid": false,
            "showline": true,
            "ticks": "outside"
           }
          },
          "scene": {
           "xaxis": {
            "backgroundcolor": "white",
            "gridcolor": "rgb(232,232,232)",
            "gridwidth": 2,
            "linecolor": "rgb(36,36,36)",
            "showbackground": true,
            "showgrid": false,
            "showline": true,
            "ticks": "outside",
            "zeroline": false,
            "zerolinecolor": "rgb(36,36,36)"
           },
           "yaxis": {
            "backgroundcolor": "white",
            "gridcolor": "rgb(232,232,232)",
            "gridwidth": 2,
            "linecolor": "rgb(36,36,36)",
            "showbackground": true,
            "showgrid": false,
            "showline": true,
            "ticks": "outside",
            "zeroline": false,
            "zerolinecolor": "rgb(36,36,36)"
           },
           "zaxis": {
            "backgroundcolor": "white",
            "gridcolor": "rgb(232,232,232)",
            "gridwidth": 2,
            "linecolor": "rgb(36,36,36)",
            "showbackground": true,
            "showgrid": false,
            "showline": true,
            "ticks": "outside",
            "zeroline": false,
            "zerolinecolor": "rgb(36,36,36)"
           }
          },
          "shapedefaults": {
           "fillcolor": "black",
           "line": {
            "width": 0
           },
           "opacity": 0.3
          },
          "ternary": {
           "aaxis": {
            "gridcolor": "rgb(232,232,232)",
            "linecolor": "rgb(36,36,36)",
            "showgrid": false,
            "showline": true,
            "ticks": "outside"
           },
           "baxis": {
            "gridcolor": "rgb(232,232,232)",
            "linecolor": "rgb(36,36,36)",
            "showgrid": false,
            "showline": true,
            "ticks": "outside"
           },
           "bgcolor": "white",
           "caxis": {
            "gridcolor": "rgb(232,232,232)",
            "linecolor": "rgb(36,36,36)",
            "showgrid": false,
            "showline": true,
            "ticks": "outside"
           }
          },
          "title": {
           "x": 0.05
          },
          "xaxis": {
           "automargin": true,
           "gridcolor": "rgb(232,232,232)",
           "linecolor": "rgb(36,36,36)",
           "showgrid": false,
           "showline": true,
           "ticks": "outside",
           "title": {
            "standoff": 15
           },
           "zeroline": false,
           "zerolinecolor": "rgb(36,36,36)"
          },
          "yaxis": {
           "automargin": true,
           "gridcolor": "rgb(232,232,232)",
           "linecolor": "rgb(36,36,36)",
           "showgrid": false,
           "showline": true,
           "ticks": "outside",
           "title": {
            "standoff": 15
           },
           "zeroline": false,
           "zerolinecolor": "rgb(36,36,36)"
          }
         }
        },
        "xaxis": {
         "anchor": "y",
         "domain": [
          0,
          1
         ],
         "matches": "x2",
         "showticklabels": false
        },
        "xaxis2": {
         "anchor": "y2",
         "domain": [
          0,
          1
         ],
         "title": {
          "text": "Time(s)"
         }
        },
        "yaxis": {
         "anchor": "x",
         "domain": [
          0.575,
          1
         ],
         "title": {
          "text": "V"
         }
        },
        "yaxis2": {
         "anchor": "x2",
         "domain": [
          0,
          0.425
         ],
         "title": {
          "text": "V"
         }
        }
       },
       "_py2js_animate": {},
       "_py2js_deleteTraces": {},
       "_py2js_moveTraces": {},
       "_py2js_removeLayoutProps": {},
       "_py2js_removeTraceProps": {},
       "_view_count": 1
      }
     },
     "01b905338a084c6e8867ee9d524ed7a5": {
      "model_module": "@jupyter-widgets/base",
      "model_module_version": "1.2.0",
      "model_name": "LayoutModel",
      "state": {}
     },
     "01def41bc50644bd9b3a60a6393a94e8": {
      "model_module": "@jupyter-widgets/base",
      "model_module_version": "1.2.0",
      "model_name": "LayoutModel",
      "state": {}
     },
     "01ff3807b6bf4ae795d04aa591b1d53a": {
      "model_module": "@jupyter-widgets/controls",
      "model_module_version": "1.5.0",
      "model_name": "DescriptionStyleModel",
      "state": {
       "description_width": ""
      }
     },
     "022e2dda2a424c3abc8acdc09ccf4cf3": {
      "model_module": "@jupyter-widgets/base",
      "model_module_version": "1.2.0",
      "model_name": "LayoutModel",
      "state": {}
     },
     "0254ae73b94643158139a5d3fa5e3114": {
      "model_module": "@jupyter-widgets/base",
      "model_module_version": "1.2.0",
      "model_name": "LayoutModel",
      "state": {}
     },
     "027ccf2b7ed04bacbc93ce792878ed8b": {
      "model_module": "@jupyter-widgets/base",
      "model_module_version": "1.2.0",
      "model_name": "LayoutModel",
      "state": {}
     },
     "03189da24d244c8e8401a21a0b1d7091": {
      "model_module": "@jupyter-widgets/controls",
      "model_module_version": "1.5.0",
      "model_name": "DropdownModel",
      "state": {
       "_options_labels": [
        "1"
       ],
       "description": "gains:",
       "index": 0,
       "layout": "IPY_MODEL_28f91763ad384d2baf023b5a4b32e2b6",
       "style": "IPY_MODEL_d2f24ca0740749229f4af60b39bee679"
      }
     },
     "036917da04464638ba6ac68a5a882be7": {
      "model_module": "@jupyter-widgets/base",
      "model_module_version": "1.2.0",
      "model_name": "LayoutModel",
      "state": {}
     },
     "038297d39a5a428a978d7b3b37dc1e08": {
      "model_module": "@jupyter-widgets/base",
      "model_module_version": "1.2.0",
      "model_name": "LayoutModel",
      "state": {}
     },
     "03d38948f0e3442a986d58a6a567c4e9": {
      "model_module": "@jupyter-widgets/base",
      "model_module_version": "1.2.0",
      "model_name": "LayoutModel",
      "state": {}
     },
     "03f36f5298cd432dbf327869163d58eb": {
      "model_module": "@jupyter-widgets/controls",
      "model_module_version": "1.5.0",
      "model_name": "DropdownModel",
      "state": {
       "_options_labels": [
        "0 ADS1115",
        "1 DAQC2"
       ],
       "description": "Board:",
       "index": 1,
       "layout": "IPY_MODEL_7d84296850464573b409f0530109b819",
       "style": "IPY_MODEL_77c242dd6bd0434bb06ce8481fc82693"
      }
     },
     "0429573bbd384470a6a3c8743582f144": {
      "model_module": "@jupyter-widgets/controls",
      "model_module_version": "1.5.0",
      "model_name": "DescriptionStyleModel",
      "state": {
       "description_width": ""
      }
     },
     "04f35a4da5544d008739e9e1ff2997e2": {
      "model_module": "@jupyter-widgets/controls",
      "model_module_version": "1.5.0",
      "model_name": "DescriptionStyleModel",
      "state": {
       "description_width": ""
      }
     },
     "05984dc469454cf5a24846bc8333a24f": {
      "model_module": "@jupyter-widgets/controls",
      "model_module_version": "1.5.0",
      "model_name": "DescriptionStyleModel",
      "state": {
       "description_width": ""
      }
     },
     "059afb4db36f46ef99401dbb91f21c3f": {
      "model_module": "@jupyter-widgets/base",
      "model_module_version": "1.2.0",
      "model_name": "LayoutModel",
      "state": {}
     },
     "05c4fabe74cf4021b93a6de930eef159": {
      "model_module": "@jupyter-widgets/base",
      "model_module_version": "1.2.0",
      "model_name": "LayoutModel",
      "state": {}
     },
     "05d67f68f15442a1874a1fe88bd1c32a": {
      "model_module": "@jupyter-widgets/controls",
      "model_module_version": "1.5.0",
      "model_name": "DescriptionStyleModel",
      "state": {
       "description_width": ""
      }
     },
     "05de08edb80b4e718914755d7da35386": {
      "model_module": "@jupyter-widgets/base",
      "model_module_version": "1.2.0",
      "model_name": "LayoutModel",
      "state": {}
     },
     "0628e77e9f7b42ee9789c7d9dc4210a9": {
      "model_module": "@jupyter-widgets/controls",
      "model_module_version": "1.5.0",
      "model_name": "DropdownModel",
      "state": {
       "_options_labels": [
        "0 ADS1115",
        "1 DAQC2"
       ],
       "description": "Board:",
       "index": 1,
       "layout": "IPY_MODEL_8479cbb781ac4361a2526e4e1b89a061",
       "style": "IPY_MODEL_1344ac0ddcc84a8f8a68989a930ba55d"
      }
     },
     "066c636a2cb140758dd1f08a7eccc3e1": {
      "model_module": "@jupyter-widgets/base",
      "model_module_version": "1.2.0",
      "model_name": "LayoutModel",
      "state": {}
     },
     "073a72c6871f45f48fded67eb4310ce8": {
      "model_module": "@jupyter-widgets/base",
      "model_module_version": "1.2.0",
      "model_name": "LayoutModel",
      "state": {}
     },
     "07a2c9beaf6740769c1124d0f5c9937c": {
      "model_module": "@jupyter-widgets/controls",
      "model_module_version": "1.5.0",
      "model_name": "DescriptionStyleModel",
      "state": {
       "description_width": ""
      }
     },
     "08224a9a997548b580fe52c54144fb27": {
      "model_module": "@jupyter-widgets/controls",
      "model_module_version": "1.5.0",
      "model_name": "DescriptionStyleModel",
      "state": {
       "description_width": ""
      }
     },
     "082767cc6a6240f19feb690ac2384a07": {
      "model_module": "@jupyter-widgets/base",
      "model_module_version": "1.2.0",
      "model_name": "LayoutModel",
      "state": {}
     },
     "0856c40eb813417da64b9cf1cdf8b5b0": {
      "model_module": "@jupyter-widgets/controls",
      "model_module_version": "1.5.0",
      "model_name": "DescriptionStyleModel",
      "state": {
       "description_width": ""
      }
     },
     "0860141d173747349f54bd90881740c2": {
      "model_module": "jupyterlab-plotly",
      "model_module_version": "^5.1.0",
      "model_name": "FigureModel",
      "state": {
       "_config": {
        "plotlyServerURL": "https://plot.ly"
       },
       "_data": [
        {
         "name": "Trace_0(V)",
         "type": "scatter",
         "uid": "f9674543-9706-4243-a934-b557f628f500",
         "x": [
          0.17077112197875977,
          1.1677207946777344,
          2.1664822101593018,
          3.165677309036255,
          4.164130449295044,
          5.16266655921936,
          6.162068128585815,
          7.163930654525757,
          8.159850358963013,
          9.159874200820923,
          10.157778978347778,
          11.156636714935303,
          12.15449070930481,
          13.153679609298706,
          14.152677059173584,
          15.151450395584106,
          16.149248361587524,
          17.1483895778656,
          18.14783263206482,
          19.146279335021973,
          20.14544177055359,
          21.143959045410156,
          22.14221739768982,
          23.141152381896973,
          24.1403329372406,
          25.139260292053223,
          26.138097047805786,
          27.136963844299316,
          28.135399103164673,
          29.134140968322754,
          30.132573127746582,
          31.13140344619751,
          32.13054633140564,
          33.12951707839966,
          34.12807631492615,
          35.12657403945923,
          36.12581515312195,
          37.124187707901,
          38.1230833530426,
          39.12283539772034,
          40.120325803756714,
          41.118677854537964,
          42.11763858795166,
          43.11619758605957,
          44.11511540412903,
          45.112921714782715,
          46.11245918273926,
          47.11104488372803,
          48.109095335006714,
          49.108193159103394,
          50.10674548149109,
          51.1055805683136,
          52.10421276092529,
          53.10298562049866,
          54.10167336463928,
          55.1004433631897,
          56.09991002082825,
          57.098371744155884,
          58.09713959693909,
          59.09540104866028,
          60.094425678253174,
          61.092792987823486,
          62.09198451042175,
          63.09049439430237,
          64.08974361419678,
          65.08798575401306,
          66.08688139915466,
          67.08554601669312,
          68.0840904712677,
          69.08279967308044,
          70.08205914497375,
          71.08056998252869,
          72.08013772964478,
          73.07825779914856,
          74.07697105407715,
          75.07799458503723,
          76.07473826408386,
          77.07401037216187,
          78.07299947738647,
          79.07135510444641,
          80.06990003585815,
          81.06887412071228,
          82.06692409515381,
          83.0660171508789,
          84.06391143798828,
          85.06341505050659,
          86.06182503700256,
          87.06023740768433,
          88.05847907066345,
          89.05773520469666,
          90.05612635612488,
          91.05497145652771,
          92.0529637336731,
          93.05294299125671,
          94.05051922798157,
          95.04993414878845,
          96.0484311580658,
          97.0476884841919,
          98.04781174659729,
          99.0455265045166,
          100.04387664794922,
          101.04234075546265,
          102.04150795936584,
          103.04038858413696,
          104.03910541534424,
          105.03812313079834,
          106.03772926330566,
          107.03544783592224,
          108.03456354141235,
          109.03357529640198,
          110.03197884559631,
          111.03067111968994,
          112.02920007705688,
          113.02855157852173
         ],
         "xaxis": "x2",
         "y": [
          -0.366,
          -0.406,
          -0.378,
          -0.428,
          -0.378,
          -0.393,
          -0.381,
          -0.439,
          -0.4,
          -0.404,
          -0.43,
          -0.371,
          -0.391,
          -0.43,
          -0.4,
          -0.439,
          -0.429,
          -0.496,
          -0.495,
          -0.465,
          -0.446,
          -0.483,
          -0.517,
          -0.507,
          -0.504,
          -0.548,
          -0.544,
          -0.52,
          -0.554,
          -0.631,
          -0.637,
          -0.621,
          -0.647,
          -0.589,
          -0.626,
          -0.719,
          -0.709,
          -0.714,
          -0.651,
          -0.733,
          -0.732,
          -0.807,
          -0.607,
          -0.663,
          -0.674,
          -0.652,
          -0.578,
          -0.599,
          -0.612,
          -0.607,
          -0.545,
          -0.518,
          -0.488,
          -0.596,
          -0.578,
          -0.566,
          -0.559,
          -0.558,
          -0.546,
          -0.478,
          -0.46,
          -0.486,
          -0.439,
          -0.394,
          -0.404,
          -0.409,
          -0.394,
          -0.399,
          -0.388,
          -0.398,
          -0.416,
          -0.465,
          -0.483,
          -0.539,
          -0.489,
          -0.449,
          -0.45,
          -0.443,
          -0.469,
          -0.432,
          -0.457,
          -0.45,
          -0.457,
          -0.438,
          -0.506,
          -0.43,
          -0.43,
          -0.509,
          -0.497,
          -0.532,
          -0.486,
          -0.476,
          -0.474,
          -0.446,
          -0.418,
          -0.396,
          -0.412,
          -0.41,
          -0.411,
          -0.426,
          -0.366,
          -0.401,
          -0.395,
          -0.413,
          -0.384,
          -0.377,
          -0.403,
          -0.449,
          -0.383,
          -0.359,
          -0.344,
          -0.367,
          -0.377,
          -0.349
         ],
         "yaxis": "y2"
        },
        {
         "name": "Trace_1(V)",
         "type": "scatter",
         "uid": "1ca1a461-53b9-4e89-9507-b2e8bcc592e8",
         "x": [
          0.17077112197875977,
          1.1677207946777344,
          2.1664822101593018,
          3.165677309036255,
          4.164130449295044,
          5.16266655921936,
          6.162068128585815,
          7.163930654525757,
          8.159850358963013,
          9.159874200820923,
          10.157778978347778,
          11.156636714935303,
          12.15449070930481,
          13.153679609298706,
          14.152677059173584,
          15.151450395584106,
          16.149248361587524,
          17.1483895778656,
          18.14783263206482,
          19.146279335021973,
          20.14544177055359,
          21.143959045410156,
          22.14221739768982,
          23.141152381896973,
          24.1403329372406,
          25.139260292053223,
          26.138097047805786,
          27.136963844299316,
          28.135399103164673,
          29.134140968322754,
          30.132573127746582,
          31.13140344619751,
          32.13054633140564,
          33.12951707839966,
          34.12807631492615,
          35.12657403945923,
          36.12581515312195,
          37.124187707901,
          38.1230833530426,
          39.12283539772034,
          40.120325803756714,
          41.118677854537964,
          42.11763858795166,
          43.11619758605957,
          44.11511540412903,
          45.112921714782715,
          46.11245918273926,
          47.11104488372803,
          48.109095335006714,
          49.108193159103394,
          50.10674548149109,
          51.1055805683136,
          52.10421276092529,
          53.10298562049866,
          54.10167336463928,
          55.1004433631897,
          56.09991002082825,
          57.098371744155884,
          58.09713959693909,
          59.09540104866028,
          60.094425678253174,
          61.092792987823486,
          62.09198451042175,
          63.09049439430237,
          64.08974361419678,
          65.08798575401306,
          66.08688139915466,
          67.08554601669312,
          68.0840904712677,
          69.08279967308044,
          70.08205914497375,
          71.08056998252869,
          72.08013772964478,
          73.07825779914856,
          74.07697105407715,
          75.07799458503723,
          76.07473826408386,
          77.07401037216187,
          78.07299947738647,
          79.07135510444641,
          80.06990003585815,
          81.06887412071228,
          82.06692409515381,
          83.0660171508789,
          84.06391143798828,
          85.06341505050659,
          86.06182503700256,
          87.06023740768433,
          88.05847907066345,
          89.05773520469666,
          90.05612635612488,
          91.05497145652771,
          92.0529637336731,
          93.05294299125671,
          94.05051922798157,
          95.04993414878845,
          96.0484311580658,
          97.0476884841919,
          98.04781174659729,
          99.0455265045166,
          100.04387664794922,
          101.04234075546265,
          102.04150795936584,
          103.04038858413696,
          104.03910541534424,
          105.03812313079834,
          106.03772926330566,
          107.03544783592224,
          108.03456354141235,
          109.03357529640198,
          110.03197884559631,
          111.03067111968994,
          112.02920007705688,
          113.02855157852173
         ],
         "xaxis": "x",
         "y": [
          0.45,
          0.434,
          0.418,
          0.391,
          0.46,
          0.447,
          0.431,
          0.404,
          0.415,
          0.397,
          0.39,
          0.449,
          0.456,
          0.392,
          0.292,
          0.281,
          0.375,
          0.635,
          0.827,
          1.157,
          1.563,
          1.558,
          1.764,
          2.001,
          2.084,
          2.299,
          2.518,
          2.513,
          2.475,
          2.48,
          2.37,
          2.399,
          2.88,
          3.1,
          3.17,
          3.862,
          4,
          4.77,
          5.119,
          5.47,
          6.153,
          6.43,
          7.05,
          7.018,
          7.01,
          7.048,
          7.071,
          7.052,
          7.081,
          7.09,
          7.08,
          7.214,
          7.189,
          7.137,
          7.148,
          7.116,
          7.105,
          7.142,
          7.208,
          7.223,
          7.222,
          6.19,
          6.375,
          5.824,
          4.01,
          5.096,
          2.61,
          3.22,
          3.919,
          2.73,
          2.56,
          2.413,
          1.681,
          0.926,
          0.5,
          0.187,
          -0.117,
          -0.228,
          -0.249,
          -0.248,
          -0.257,
          -0.256,
          -0.246,
          -0.218,
          -0.249,
          -0.214,
          -0.253,
          -0.3,
          -0.294,
          -0.321,
          -0.287,
          -0.279,
          -0.241,
          -0.212,
          -0.226,
          -0.171,
          -0.203,
          -0.206,
          -0.194,
          -0.221,
          -0.159,
          -0.206,
          -0.205,
          -0.2,
          -0.167,
          -0.194,
          -0.201,
          -0.229,
          -0.159,
          -0.171,
          -0.161,
          -0.165,
          -0.172,
          -0.187
         ],
         "yaxis": "y"
        }
       ],
       "_js2py_layoutDelta": {
        "layout_delta": {
         "activeshape": {
          "fillcolor": "rgb(255,0,255)",
          "opacity": 0.5
         },
         "annotations": [],
         "autosize": true,
         "autotypenumbers": "strict",
         "calendar": "gregorian",
         "clickmode": "event",
         "colorscale": {
          "diverging": [
           [
            0,
            "rgb(103,0,31)"
           ],
           [
            0.1,
            "rgb(178,24,43)"
           ],
           [
            0.2,
            "rgb(214,96,77)"
           ],
           [
            0.3,
            "rgb(244,165,130)"
           ],
           [
            0.4,
            "rgb(253,219,199)"
           ],
           [
            0.5,
            "rgb(247,247,247)"
           ],
           [
            0.6,
            "rgb(209,229,240)"
           ],
           [
            0.7,
            "rgb(146,197,222)"
           ],
           [
            0.8,
            "rgb(67,147,195)"
           ],
           [
            0.9,
            "rgb(33,102,172)"
           ],
           [
            1,
            "rgb(5,48,97)"
           ]
          ],
          "sequential": [
           [
            0,
            "#440154"
           ],
           [
            0.1111111111111111,
            "#482878"
           ],
           [
            0.2222222222222222,
            "#3e4989"
           ],
           [
            0.3333333333333333,
            "#31688e"
           ],
           [
            0.4444444444444444,
            "#26828e"
           ],
           [
            0.5555555555555556,
            "#1f9e89"
           ],
           [
            0.6666666666666666,
            "#35b779"
           ],
           [
            0.7777777777777778,
            "#6ece58"
           ],
           [
            0.8888888888888888,
            "#b5de2b"
           ],
           [
            1,
            "#fde725"
           ]
          ],
          "sequentialminus": [
           [
            0,
            "#440154"
           ],
           [
            0.1111111111111111,
            "#482878"
           ],
           [
            0.2222222222222222,
            "#3e4989"
           ],
           [
            0.3333333333333333,
            "#31688e"
           ],
           [
            0.4444444444444444,
            "#26828e"
           ],
           [
            0.5555555555555556,
            "#1f9e89"
           ],
           [
            0.6666666666666666,
            "#35b779"
           ],
           [
            0.7777777777777778,
            "#6ece58"
           ],
           [
            0.8888888888888888,
            "#b5de2b"
           ],
           [
            1,
            "#fde725"
           ]
          ]
         },
         "colorway": [
          "#1F77B4",
          "#FF7F0E",
          "#2CA02C",
          "#D62728",
          "#9467BD",
          "#8C564B",
          "#E377C2",
          "#7F7F7F",
          "#BCBD22",
          "#17BECF"
         ],
         "dragmode": "zoom",
         "font": {
          "color": "rgb(36,36,36)",
          "family": "\"Open Sans\", verdana, arial, sans-serif",
          "size": 12
         },
         "height": 450,
         "hidesources": false,
         "hoverdistance": 20,
         "hoverlabel": {
          "align": "left",
          "font": {
           "family": "Arial, sans-serif",
           "size": 13
          },
          "namelength": 15
         },
         "hovermode": "closest",
         "images": [],
         "legend": {
          "bgcolor": "white",
          "bordercolor": "#444",
          "borderwidth": 0,
          "font": {
           "color": "rgb(36,36,36)",
           "family": "\"Open Sans\", verdana, arial, sans-serif",
           "size": 12
          },
          "itemclick": "toggle",
          "itemdoubleclick": "toggleothers",
          "itemsizing": "trace",
          "itemwidth": 30,
          "orientation": "v",
          "title": {
           "text": ""
          },
          "traceorder": "normal",
          "valign": "middle",
          "x": 1.02,
          "xanchor": "left",
          "y": 1,
          "yanchor": "auto"
         },
         "margin": {
          "autoexpand": true,
          "b": 80,
          "l": 80,
          "pad": 0,
          "r": 80,
          "t": 100
         },
         "modebar": {
          "activecolor": "rgba(68, 68, 68, 0.7)",
          "add": "",
          "bgcolor": "rgba(255, 255, 255, 0.5)",
          "color": "rgba(68, 68, 68, 0.3)",
          "orientation": "h",
          "remove": ""
         },
         "newshape": {
          "drawdirection": "diagonal",
          "fillcolor": "rgba(0,0,0,0)",
          "fillrule": "evenodd",
          "layer": "above",
          "line": {
           "color": "#444",
           "dash": "solid",
           "width": 4
          },
          "opacity": 1
         },
         "paper_bgcolor": "white",
         "plot_bgcolor": "white",
         "separators": ".,",
         "shapes": [],
         "showlegend": true,
         "sliders": [],
         "spikedistance": -1,
         "title": {
          "font": {
           "color": "rgb(36,36,36)",
           "family": "\"Open Sans\", verdana, arial, sans-serif",
           "size": 17
          },
          "pad": {
           "b": 0,
           "l": 0,
           "r": 0,
           "t": 0
          },
          "text": "Click to enter Plot title",
          "x": 0.05,
          "xanchor": "auto",
          "xref": "container",
          "y": "auto",
          "yanchor": "auto",
          "yref": "container"
         },
         "uniformtext": {
          "mode": false
         },
         "updatemenus": [],
         "width": 766.8,
         "xaxis": {
          "automargin": true,
          "autorange": true,
          "autotypenumbers": "strict",
          "color": "#444",
          "constrain": "range",
          "constraintoward": "center",
          "dtick": 20,
          "fixedrange": false,
          "hoverformat": "",
          "layer": "above traces",
          "linecolor": "rgb(36,36,36)",
          "linewidth": 1,
          "mirror": false,
          "nticks": 0,
          "overlaying": false,
          "range": [
           0.17077112197875977,
           113.02855157852173
          ],
          "rangemode": "normal",
          "showgrid": false,
          "showline": true,
          "showspikes": false,
          "side": "bottom",
          "tick0": 0,
          "tickcolor": "#444",
          "ticklabeloverflow": "hide past div",
          "ticklabelposition": "outside",
          "ticklen": 5,
          "tickmode": "auto",
          "tickprefix": "",
          "ticks": "outside",
          "ticksuffix": "",
          "tickwidth": 1,
          "title": {
           "font": {
            "color": "rgb(36,36,36)",
            "family": "\"Open Sans\", verdana, arial, sans-serif",
            "size": 14
           },
           "standoff": 15,
           "text": "Click to enter X axis title"
          },
          "type": "linear",
          "visible": true,
          "zeroline": false
         },
         "xaxis2": {
          "automargin": true,
          "autorange": true,
          "autotypenumbers": "strict",
          "color": "#444",
          "constrain": "range",
          "constraintoward": "center",
          "dtick": 20,
          "exponentformat": "B",
          "fixedrange": false,
          "hoverformat": "",
          "layer": "above traces",
          "linecolor": "rgb(36,36,36)",
          "linewidth": 1,
          "minexponent": 3,
          "mirror": false,
          "nticks": 0,
          "overlaying": false,
          "range": [
           0.17077112197875977,
           113.02855157852173
          ],
          "rangemode": "normal",
          "separatethousands": false,
          "showexponent": "all",
          "showgrid": false,
          "showline": true,
          "showspikes": false,
          "showticklabels": true,
          "side": "bottom",
          "tick0": 0,
          "tickangle": "auto",
          "tickcolor": "#444",
          "tickfont": {
           "color": "rgb(36,36,36)",
           "family": "\"Open Sans\", verdana, arial, sans-serif",
           "size": 12
          },
          "tickformat": "",
          "ticklabeloverflow": "hide past div",
          "ticklabelposition": "outside",
          "ticklen": 5,
          "tickmode": "auto",
          "tickprefix": "",
          "ticks": "outside",
          "ticksuffix": "",
          "tickwidth": 1,
          "title": {
           "font": {
            "color": "rgb(36,36,36)",
            "family": "\"Open Sans\", verdana, arial, sans-serif",
            "size": 14
           },
           "standoff": 15
          },
          "type": "linear",
          "visible": true,
          "zeroline": false
         },
         "yaxis": {
          "automargin": true,
          "autorange": true,
          "autotypenumbers": "strict",
          "color": "#444",
          "constrain": "range",
          "constraintoward": "middle",
          "dtick": 2,
          "exponentformat": "B",
          "fixedrange": false,
          "hoverformat": "",
          "layer": "above traces",
          "linecolor": "rgb(36,36,36)",
          "linewidth": 1,
          "minexponent": 3,
          "mirror": false,
          "nticks": 0,
          "overlaying": false,
          "range": [
           -0.740111111111111,
           7.642111111111111
          ],
          "rangemode": "normal",
          "separatethousands": false,
          "showexponent": "all",
          "showgrid": false,
          "showline": true,
          "showspikes": false,
          "showticklabels": true,
          "side": "left",
          "tick0": 0,
          "tickangle": "auto",
          "tickcolor": "#444",
          "tickfont": {
           "color": "rgb(36,36,36)",
           "family": "\"Open Sans\", verdana, arial, sans-serif",
           "size": 12
          },
          "tickformat": "",
          "ticklabeloverflow": "hide past div",
          "ticklabelposition": "outside",
          "ticklen": 5,
          "tickmode": "auto",
          "tickprefix": "",
          "ticks": "outside",
          "ticksuffix": "",
          "tickwidth": 1,
          "title": {
           "font": {
            "color": "rgb(36,36,36)",
            "family": "\"Open Sans\", verdana, arial, sans-serif",
            "size": 14
           },
           "standoff": 15
          },
          "type": "linear",
          "visible": true,
          "zeroline": false
         },
         "yaxis2": {
          "automargin": true,
          "autorange": true,
          "autotypenumbers": "strict",
          "color": "#444",
          "constrain": "range",
          "constraintoward": "middle",
          "dtick": 0.2,
          "exponentformat": "B",
          "fixedrange": false,
          "hoverformat": "",
          "layer": "above traces",
          "linecolor": "rgb(36,36,36)",
          "linewidth": 1,
          "minexponent": 3,
          "mirror": false,
          "nticks": 0,
          "overlaying": false,
          "range": [
           -0.8327222222222223,
           -0.31827777777777777
          ],
          "rangemode": "normal",
          "separatethousands": false,
          "showexponent": "all",
          "showgrid": false,
          "showline": true,
          "showspikes": false,
          "showticklabels": true,
          "side": "left",
          "tick0": 0,
          "tickangle": "auto",
          "tickcolor": "#444",
          "tickfont": {
           "color": "rgb(36,36,36)",
           "family": "\"Open Sans\", verdana, arial, sans-serif",
           "size": 12
          },
          "tickformat": "",
          "ticklabeloverflow": "hide past div",
          "ticklabelposition": "outside",
          "ticklen": 5,
          "tickmode": "auto",
          "tickprefix": "",
          "ticks": "outside",
          "ticksuffix": "",
          "tickwidth": 1,
          "title": {
           "font": {
            "color": "rgb(36,36,36)",
            "family": "\"Open Sans\", verdana, arial, sans-serif",
            "size": 14
           },
           "standoff": 15
          },
          "type": "linear",
          "visible": true,
          "zeroline": false
         }
        },
        "layout_edit_id": 186
       },
       "_js2py_pointsCallback": {},
       "_js2py_relayout": {},
       "_js2py_restyle": {},
       "_js2py_traceDeltas": {
        "trace_deltas": [
         {
          "connectgaps": false,
          "error_x": {
           "visible": false
          },
          "error_y": {
           "visible": false
          },
          "fill": "none",
          "hoverinfo": "all",
          "hoverlabel": {
           "align": "left",
           "font": {
            "family": "Arial, sans-serif",
            "size": 13
           },
           "namelength": 15
          },
          "hoveron": "points",
          "hovertemplate": "",
          "hovertext": "",
          "index": 0,
          "legendgroup": "",
          "legendgrouptitle": {
           "text": ""
          },
          "legendrank": 1000,
          "line": {
           "color": "#1F77B4",
           "dash": "solid",
           "shape": "linear",
           "simplify": true,
           "width": 2
          },
          "mode": "lines",
          "opacity": 1,
          "showlegend": true,
          "stackgroup": "",
          "text": "",
          "uid": "f9674543-9706-4243-a934-b557f628f500",
          "visible": true,
          "xcalendar": "gregorian",
          "xhoverformat": "",
          "xperiod": 0,
          "ycalendar": "gregorian",
          "yhoverformat": "",
          "yperiod": 0
         },
         {
          "connectgaps": false,
          "error_x": {
           "visible": false
          },
          "error_y": {
           "visible": false
          },
          "fill": "none",
          "hoverinfo": "all",
          "hoverlabel": {
           "align": "left",
           "font": {
            "family": "Arial, sans-serif",
            "size": 13
           },
           "namelength": 15
          },
          "hoveron": "points",
          "hovertemplate": "",
          "hovertext": "",
          "index": 1,
          "legendgroup": "",
          "legendgrouptitle": {
           "text": ""
          },
          "legendrank": 1000,
          "line": {
           "color": "#FF7F0E",
           "dash": "solid",
           "shape": "linear",
           "simplify": true,
           "width": 2
          },
          "mode": "lines",
          "opacity": 1,
          "showlegend": true,
          "stackgroup": "",
          "text": "",
          "uid": "1ca1a461-53b9-4e89-9507-b2e8bcc592e8",
          "visible": true,
          "xcalendar": "gregorian",
          "xhoverformat": "",
          "xperiod": 0,
          "ycalendar": "gregorian",
          "yhoverformat": "",
          "yperiod": 0
         }
        ],
        "trace_edit_id": 186
       },
       "_js2py_update": {},
       "_last_layout_edit_id": 186,
       "_last_trace_edit_id": 186,
       "_layout": {
        "template": {
         "data": {
          "bar": [
           {
            "error_x": {
             "color": "rgb(36,36,36)"
            },
            "error_y": {
             "color": "rgb(36,36,36)"
            },
            "marker": {
             "line": {
              "color": "white",
              "width": 0.5
             },
             "pattern": {
              "fillmode": "overlay",
              "size": 10,
              "solidity": 0.2
             }
            },
            "type": "bar"
           }
          ],
          "barpolar": [
           {
            "marker": {
             "line": {
              "color": "white",
              "width": 0.5
             },
             "pattern": {
              "fillmode": "overlay",
              "size": 10,
              "solidity": 0.2
             }
            },
            "type": "barpolar"
           }
          ],
          "carpet": [
           {
            "aaxis": {
             "endlinecolor": "rgb(36,36,36)",
             "gridcolor": "white",
             "linecolor": "white",
             "minorgridcolor": "white",
             "startlinecolor": "rgb(36,36,36)"
            },
            "baxis": {
             "endlinecolor": "rgb(36,36,36)",
             "gridcolor": "white",
             "linecolor": "white",
             "minorgridcolor": "white",
             "startlinecolor": "rgb(36,36,36)"
            },
            "type": "carpet"
           }
          ],
          "choropleth": [
           {
            "colorbar": {
             "outlinewidth": 1,
             "tickcolor": "rgb(36,36,36)",
             "ticks": "outside"
            },
            "type": "choropleth"
           }
          ],
          "contour": [
           {
            "colorbar": {
             "outlinewidth": 1,
             "tickcolor": "rgb(36,36,36)",
             "ticks": "outside"
            },
            "colorscale": [
             [
              0,
              "#440154"
             ],
             [
              0.1111111111111111,
              "#482878"
             ],
             [
              0.2222222222222222,
              "#3e4989"
             ],
             [
              0.3333333333333333,
              "#31688e"
             ],
             [
              0.4444444444444444,
              "#26828e"
             ],
             [
              0.5555555555555556,
              "#1f9e89"
             ],
             [
              0.6666666666666666,
              "#35b779"
             ],
             [
              0.7777777777777778,
              "#6ece58"
             ],
             [
              0.8888888888888888,
              "#b5de2b"
             ],
             [
              1,
              "#fde725"
             ]
            ],
            "type": "contour"
           }
          ],
          "contourcarpet": [
           {
            "colorbar": {
             "outlinewidth": 1,
             "tickcolor": "rgb(36,36,36)",
             "ticks": "outside"
            },
            "type": "contourcarpet"
           }
          ],
          "heatmap": [
           {
            "colorbar": {
             "outlinewidth": 1,
             "tickcolor": "rgb(36,36,36)",
             "ticks": "outside"
            },
            "colorscale": [
             [
              0,
              "#440154"
             ],
             [
              0.1111111111111111,
              "#482878"
             ],
             [
              0.2222222222222222,
              "#3e4989"
             ],
             [
              0.3333333333333333,
              "#31688e"
             ],
             [
              0.4444444444444444,
              "#26828e"
             ],
             [
              0.5555555555555556,
              "#1f9e89"
             ],
             [
              0.6666666666666666,
              "#35b779"
             ],
             [
              0.7777777777777778,
              "#6ece58"
             ],
             [
              0.8888888888888888,
              "#b5de2b"
             ],
             [
              1,
              "#fde725"
             ]
            ],
            "type": "heatmap"
           }
          ],
          "heatmapgl": [
           {
            "colorbar": {
             "outlinewidth": 1,
             "tickcolor": "rgb(36,36,36)",
             "ticks": "outside"
            },
            "colorscale": [
             [
              0,
              "#440154"
             ],
             [
              0.1111111111111111,
              "#482878"
             ],
             [
              0.2222222222222222,
              "#3e4989"
             ],
             [
              0.3333333333333333,
              "#31688e"
             ],
             [
              0.4444444444444444,
              "#26828e"
             ],
             [
              0.5555555555555556,
              "#1f9e89"
             ],
             [
              0.6666666666666666,
              "#35b779"
             ],
             [
              0.7777777777777778,
              "#6ece58"
             ],
             [
              0.8888888888888888,
              "#b5de2b"
             ],
             [
              1,
              "#fde725"
             ]
            ],
            "type": "heatmapgl"
           }
          ],
          "histogram": [
           {
            "marker": {
             "line": {
              "color": "white",
              "width": 0.6
             }
            },
            "type": "histogram"
           }
          ],
          "histogram2d": [
           {
            "colorbar": {
             "outlinewidth": 1,
             "tickcolor": "rgb(36,36,36)",
             "ticks": "outside"
            },
            "colorscale": [
             [
              0,
              "#440154"
             ],
             [
              0.1111111111111111,
              "#482878"
             ],
             [
              0.2222222222222222,
              "#3e4989"
             ],
             [
              0.3333333333333333,
              "#31688e"
             ],
             [
              0.4444444444444444,
              "#26828e"
             ],
             [
              0.5555555555555556,
              "#1f9e89"
             ],
             [
              0.6666666666666666,
              "#35b779"
             ],
             [
              0.7777777777777778,
              "#6ece58"
             ],
             [
              0.8888888888888888,
              "#b5de2b"
             ],
             [
              1,
              "#fde725"
             ]
            ],
            "type": "histogram2d"
           }
          ],
          "histogram2dcontour": [
           {
            "colorbar": {
             "outlinewidth": 1,
             "tickcolor": "rgb(36,36,36)",
             "ticks": "outside"
            },
            "colorscale": [
             [
              0,
              "#440154"
             ],
             [
              0.1111111111111111,
              "#482878"
             ],
             [
              0.2222222222222222,
              "#3e4989"
             ],
             [
              0.3333333333333333,
              "#31688e"
             ],
             [
              0.4444444444444444,
              "#26828e"
             ],
             [
              0.5555555555555556,
              "#1f9e89"
             ],
             [
              0.6666666666666666,
              "#35b779"
             ],
             [
              0.7777777777777778,
              "#6ece58"
             ],
             [
              0.8888888888888888,
              "#b5de2b"
             ],
             [
              1,
              "#fde725"
             ]
            ],
            "type": "histogram2dcontour"
           }
          ],
          "mesh3d": [
           {
            "colorbar": {
             "outlinewidth": 1,
             "tickcolor": "rgb(36,36,36)",
             "ticks": "outside"
            },
            "type": "mesh3d"
           }
          ],
          "parcoords": [
           {
            "line": {
             "colorbar": {
              "outlinewidth": 1,
              "tickcolor": "rgb(36,36,36)",
              "ticks": "outside"
             }
            },
            "type": "parcoords"
           }
          ],
          "pie": [
           {
            "automargin": true,
            "type": "pie"
           }
          ],
          "scatter": [
           {
            "marker": {
             "colorbar": {
              "outlinewidth": 1,
              "tickcolor": "rgb(36,36,36)",
              "ticks": "outside"
             }
            },
            "type": "scatter"
           }
          ],
          "scatter3d": [
           {
            "line": {
             "colorbar": {
              "outlinewidth": 1,
              "tickcolor": "rgb(36,36,36)",
              "ticks": "outside"
             }
            },
            "marker": {
             "colorbar": {
              "outlinewidth": 1,
              "tickcolor": "rgb(36,36,36)",
              "ticks": "outside"
             }
            },
            "type": "scatter3d"
           }
          ],
          "scattercarpet": [
           {
            "marker": {
             "colorbar": {
              "outlinewidth": 1,
              "tickcolor": "rgb(36,36,36)",
              "ticks": "outside"
             }
            },
            "type": "scattercarpet"
           }
          ],
          "scattergeo": [
           {
            "marker": {
             "colorbar": {
              "outlinewidth": 1,
              "tickcolor": "rgb(36,36,36)",
              "ticks": "outside"
             }
            },
            "type": "scattergeo"
           }
          ],
          "scattergl": [
           {
            "marker": {
             "colorbar": {
              "outlinewidth": 1,
              "tickcolor": "rgb(36,36,36)",
              "ticks": "outside"
             }
            },
            "type": "scattergl"
           }
          ],
          "scattermapbox": [
           {
            "marker": {
             "colorbar": {
              "outlinewidth": 1,
              "tickcolor": "rgb(36,36,36)",
              "ticks": "outside"
             }
            },
            "type": "scattermapbox"
           }
          ],
          "scatterpolar": [
           {
            "marker": {
             "colorbar": {
              "outlinewidth": 1,
              "tickcolor": "rgb(36,36,36)",
              "ticks": "outside"
             }
            },
            "type": "scatterpolar"
           }
          ],
          "scatterpolargl": [
           {
            "marker": {
             "colorbar": {
              "outlinewidth": 1,
              "tickcolor": "rgb(36,36,36)",
              "ticks": "outside"
             }
            },
            "type": "scatterpolargl"
           }
          ],
          "scatterternary": [
           {
            "marker": {
             "colorbar": {
              "outlinewidth": 1,
              "tickcolor": "rgb(36,36,36)",
              "ticks": "outside"
             }
            },
            "type": "scatterternary"
           }
          ],
          "surface": [
           {
            "colorbar": {
             "outlinewidth": 1,
             "tickcolor": "rgb(36,36,36)",
             "ticks": "outside"
            },
            "colorscale": [
             [
              0,
              "#440154"
             ],
             [
              0.1111111111111111,
              "#482878"
             ],
             [
              0.2222222222222222,
              "#3e4989"
             ],
             [
              0.3333333333333333,
              "#31688e"
             ],
             [
              0.4444444444444444,
              "#26828e"
             ],
             [
              0.5555555555555556,
              "#1f9e89"
             ],
             [
              0.6666666666666666,
              "#35b779"
             ],
             [
              0.7777777777777778,
              "#6ece58"
             ],
             [
              0.8888888888888888,
              "#b5de2b"
             ],
             [
              1,
              "#fde725"
             ]
            ],
            "type": "surface"
           }
          ],
          "table": [
           {
            "cells": {
             "fill": {
              "color": "rgb(237,237,237)"
             },
             "line": {
              "color": "white"
             }
            },
            "header": {
             "fill": {
              "color": "rgb(217,217,217)"
             },
             "line": {
              "color": "white"
             }
            },
            "type": "table"
           }
          ]
         },
         "layout": {
          "annotationdefaults": {
           "arrowhead": 0,
           "arrowwidth": 1
          },
          "autotypenumbers": "strict",
          "coloraxis": {
           "colorbar": {
            "outlinewidth": 1,
            "tickcolor": "rgb(36,36,36)",
            "ticks": "outside"
           }
          },
          "colorscale": {
           "diverging": [
            [
             0,
             "rgb(103,0,31)"
            ],
            [
             0.1,
             "rgb(178,24,43)"
            ],
            [
             0.2,
             "rgb(214,96,77)"
            ],
            [
             0.3,
             "rgb(244,165,130)"
            ],
            [
             0.4,
             "rgb(253,219,199)"
            ],
            [
             0.5,
             "rgb(247,247,247)"
            ],
            [
             0.6,
             "rgb(209,229,240)"
            ],
            [
             0.7,
             "rgb(146,197,222)"
            ],
            [
             0.8,
             "rgb(67,147,195)"
            ],
            [
             0.9,
             "rgb(33,102,172)"
            ],
            [
             1,
             "rgb(5,48,97)"
            ]
           ],
           "sequential": [
            [
             0,
             "#440154"
            ],
            [
             0.1111111111111111,
             "#482878"
            ],
            [
             0.2222222222222222,
             "#3e4989"
            ],
            [
             0.3333333333333333,
             "#31688e"
            ],
            [
             0.4444444444444444,
             "#26828e"
            ],
            [
             0.5555555555555556,
             "#1f9e89"
            ],
            [
             0.6666666666666666,
             "#35b779"
            ],
            [
             0.7777777777777778,
             "#6ece58"
            ],
            [
             0.8888888888888888,
             "#b5de2b"
            ],
            [
             1,
             "#fde725"
            ]
           ],
           "sequentialminus": [
            [
             0,
             "#440154"
            ],
            [
             0.1111111111111111,
             "#482878"
            ],
            [
             0.2222222222222222,
             "#3e4989"
            ],
            [
             0.3333333333333333,
             "#31688e"
            ],
            [
             0.4444444444444444,
             "#26828e"
            ],
            [
             0.5555555555555556,
             "#1f9e89"
            ],
            [
             0.6666666666666666,
             "#35b779"
            ],
            [
             0.7777777777777778,
             "#6ece58"
            ],
            [
             0.8888888888888888,
             "#b5de2b"
            ],
            [
             1,
             "#fde725"
            ]
           ]
          },
          "colorway": [
           "#1F77B4",
           "#FF7F0E",
           "#2CA02C",
           "#D62728",
           "#9467BD",
           "#8C564B",
           "#E377C2",
           "#7F7F7F",
           "#BCBD22",
           "#17BECF"
          ],
          "font": {
           "color": "rgb(36,36,36)"
          },
          "geo": {
           "bgcolor": "white",
           "lakecolor": "white",
           "landcolor": "white",
           "showlakes": true,
           "showland": true,
           "subunitcolor": "white"
          },
          "hoverlabel": {
           "align": "left"
          },
          "hovermode": "closest",
          "mapbox": {
           "style": "light"
          },
          "paper_bgcolor": "white",
          "plot_bgcolor": "white",
          "polar": {
           "angularaxis": {
            "gridcolor": "rgb(232,232,232)",
            "linecolor": "rgb(36,36,36)",
            "showgrid": false,
            "showline": true,
            "ticks": "outside"
           },
           "bgcolor": "white",
           "radialaxis": {
            "gridcolor": "rgb(232,232,232)",
            "linecolor": "rgb(36,36,36)",
            "showgrid": false,
            "showline": true,
            "ticks": "outside"
           }
          },
          "scene": {
           "xaxis": {
            "backgroundcolor": "white",
            "gridcolor": "rgb(232,232,232)",
            "gridwidth": 2,
            "linecolor": "rgb(36,36,36)",
            "showbackground": true,
            "showgrid": false,
            "showline": true,
            "ticks": "outside",
            "zeroline": false,
            "zerolinecolor": "rgb(36,36,36)"
           },
           "yaxis": {
            "backgroundcolor": "white",
            "gridcolor": "rgb(232,232,232)",
            "gridwidth": 2,
            "linecolor": "rgb(36,36,36)",
            "showbackground": true,
            "showgrid": false,
            "showline": true,
            "ticks": "outside",
            "zeroline": false,
            "zerolinecolor": "rgb(36,36,36)"
           },
           "zaxis": {
            "backgroundcolor": "white",
            "gridcolor": "rgb(232,232,232)",
            "gridwidth": 2,
            "linecolor": "rgb(36,36,36)",
            "showbackground": true,
            "showgrid": false,
            "showline": true,
            "ticks": "outside",
            "zeroline": false,
            "zerolinecolor": "rgb(36,36,36)"
           }
          },
          "shapedefaults": {
           "fillcolor": "black",
           "line": {
            "width": 0
           },
           "opacity": 0.3
          },
          "ternary": {
           "aaxis": {
            "gridcolor": "rgb(232,232,232)",
            "linecolor": "rgb(36,36,36)",
            "showgrid": false,
            "showline": true,
            "ticks": "outside"
           },
           "baxis": {
            "gridcolor": "rgb(232,232,232)",
            "linecolor": "rgb(36,36,36)",
            "showgrid": false,
            "showline": true,
            "ticks": "outside"
           },
           "bgcolor": "white",
           "caxis": {
            "gridcolor": "rgb(232,232,232)",
            "linecolor": "rgb(36,36,36)",
            "showgrid": false,
            "showline": true,
            "ticks": "outside"
           }
          },
          "title": {
           "x": 0.05
          },
          "xaxis": {
           "automargin": true,
           "gridcolor": "rgb(232,232,232)",
           "linecolor": "rgb(36,36,36)",
           "showgrid": false,
           "showline": true,
           "ticks": "outside",
           "title": {
            "standoff": 15
           },
           "zeroline": false,
           "zerolinecolor": "rgb(36,36,36)"
          },
          "yaxis": {
           "automargin": true,
           "gridcolor": "rgb(232,232,232)",
           "linecolor": "rgb(36,36,36)",
           "showgrid": false,
           "showline": true,
           "ticks": "outside",
           "title": {
            "standoff": 15
           },
           "zeroline": false,
           "zerolinecolor": "rgb(36,36,36)"
          }
         }
        },
        "xaxis": {
         "anchor": "y",
         "domain": [
          0,
          1
         ],
         "matches": "x2",
         "showticklabels": false
        },
        "xaxis2": {
         "anchor": "y2",
         "domain": [
          0,
          1
         ],
         "title": {
          "text": "Time(s)"
         }
        },
        "yaxis": {
         "anchor": "x",
         "domain": [
          0.575,
          1
         ],
         "title": {
          "text": "V"
         }
        },
        "yaxis2": {
         "anchor": "x2",
         "domain": [
          0,
          0.425
         ],
         "title": {
          "text": "V"
         }
        }
       },
       "_py2js_animate": {},
       "_py2js_deleteTraces": {},
       "_py2js_moveTraces": {},
       "_py2js_removeLayoutProps": {},
       "_py2js_removeTraceProps": {},
       "_view_count": 1
      }
     },
     "08691b532fd6490c834479ec9da26e15": {
      "model_module": "@jupyter-widgets/controls",
      "model_module_version": "1.5.0",
      "model_name": "HBoxModel",
      "state": {
       "children": [
        "IPY_MODEL_46f6bcef7b564a12a3d8a86ed2ab2efc",
        "IPY_MODEL_383de275c39f4fee9ba952ab42094712",
        "IPY_MODEL_34b2e554e82c437fac4352edae94120c"
       ],
       "layout": "IPY_MODEL_6396730ae6544b33afd85b1e2497dfec"
      }
     },
     "093589f55e1e4405a2565b43fa16e3f7": {
      "model_module": "@jupyter-widgets/base",
      "model_module_version": "1.2.0",
      "model_name": "LayoutModel",
      "state": {}
     },
     "094ba4f9cac548dc83bd80ea11486831": {
      "model_module": "@jupyter-widgets/controls",
      "model_module_version": "1.5.0",
      "model_name": "DescriptionStyleModel",
      "state": {
       "description_width": ""
      }
     },
     "096f65bfcc9f4cbf82ce0f104ad2715c": {
      "model_module": "@jupyter-widgets/base",
      "model_module_version": "1.2.0",
      "model_name": "LayoutModel",
      "state": {}
     },
     "09a6d2be88404dd9a45fc5502482667b": {
      "model_module": "@jupyter-widgets/controls",
      "model_module_version": "1.5.0",
      "model_name": "HTMLModel",
      "state": {
       "layout": "IPY_MODEL_facd3e1c66e14829b23f6457153ce7c2",
       "placeholder": "",
       "style": "IPY_MODEL_32504ee305cc4088bfa81e6956416179",
       "value": "<span style=\"color:blue;\"> To accurately read point location on graph you can zoom in. Drag to zoom. Additional controls show above plot when you hover over it.</span>"
      }
     },
     "0a00a6c29ec844f0a1f1c7bc828476d8": {
      "model_module": "@jupyter-widgets/base",
      "model_module_version": "1.2.0",
      "model_name": "LayoutModel",
      "state": {}
     },
     "0a35ec296c354578851df68d7a78e58b": {
      "model_module": "@jupyter-widgets/controls",
      "model_module_version": "1.5.0",
      "model_name": "BoundedFloatTextModel",
      "state": {
       "description": "Rate (Hz):",
       "disabled": true,
       "layout": "IPY_MODEL_00334e173b934f489a2863dca86619fc",
       "max": 20,
       "step": 0.02,
       "style": "IPY_MODEL_ff4dfa86c59e42fd82b91857e674cb3b",
       "value": 1
      }
     },
     "0a6db85887bf4ffdaae087d55e01da35": {
      "model_module": "@jupyter-widgets/base",
      "model_module_version": "1.2.0",
      "model_name": "LayoutModel",
      "state": {}
     },
     "0ae45eee6b34439abaca15b376a95253": {
      "model_module": "@jupyter-widgets/base",
      "model_module_version": "1.2.0",
      "model_name": "LayoutModel",
      "state": {}
     },
     "0ae7380e56b449e9994ab16842bb1fe2": {
      "model_module": "@jupyter-widgets/controls",
      "model_module_version": "1.5.0",
      "model_name": "DropdownModel",
      "state": {
       "_options_labels": [
        "1"
       ],
       "description": "gains:",
       "index": 0,
       "layout": "IPY_MODEL_3e28acfbc4c541e6a1ebd73f0cf5634f",
       "style": "IPY_MODEL_e02e3ac4c7174333beb9a6cc4ec7fb2e"
      }
     },
     "0b05e83a8b244479952703d4bc869b3d": {
      "model_module": "@jupyter-widgets/base",
      "model_module_version": "1.2.0",
      "model_name": "LayoutModel",
      "state": {}
     },
     "0bdd910350314cd8a3c7206ce0009779": {
      "model_module": "@jupyter-widgets/controls",
      "model_module_version": "1.5.0",
      "model_name": "DescriptionStyleModel",
      "state": {
       "description_width": ""
      }
     },
     "0cd266d7a48a4daeb77b5ac1057271b4": {
      "model_module": "@jupyter-widgets/controls",
      "model_module_version": "1.5.0",
      "model_name": "DescriptionStyleModel",
      "state": {
       "description_width": ""
      }
     },
     "0d14daa0ed1e4428889c891394a3d593": {
      "model_module": "@jupyter-widgets/controls",
      "model_module_version": "1.5.0",
      "model_name": "DescriptionStyleModel",
      "state": {
       "description_width": ""
      }
     },
     "0d3f4d3606bb4cfa95e8b31f358f4633": {
      "model_module": "@jupyter-widgets/base",
      "model_module_version": "1.2.0",
      "model_name": "LayoutModel",
      "state": {}
     },
     "0d62119de3964c3cba400f8d80d47e66": {
      "model_module": "@jupyter-widgets/controls",
      "model_module_version": "1.5.0",
      "model_name": "DescriptionStyleModel",
      "state": {
       "description_width": ""
      }
     },
     "0da9d6e3db9a4ba78cd233999a755ddd": {
      "model_module": "@jupyter-widgets/controls",
      "model_module_version": "1.5.0",
      "model_name": "DescriptionStyleModel",
      "state": {
       "description_width": ""
      }
     },
     "0debf1cabfc846648355141a200bde2b": {
      "model_module": "@jupyter-widgets/controls",
      "model_module_version": "1.5.0",
      "model_name": "DescriptionStyleModel",
      "state": {
       "description_width": ""
      }
     },
     "0e0aa83098cf4facbc3b752edbe6a634": {
      "model_module": "@jupyter-widgets/controls",
      "model_module_version": "1.5.0",
      "model_name": "DescriptionStyleModel",
      "state": {
       "description_width": ""
      }
     },
     "0e14fd537d8f4d64baab5e40af7b9bbd": {
      "model_module": "@jupyter-widgets/base",
      "model_module_version": "1.2.0",
      "model_name": "LayoutModel",
      "state": {}
     },
     "0e73886c20ff408b94159c2b8fda6f02": {
      "model_module": "@jupyter-widgets/controls",
      "model_module_version": "1.5.0",
      "model_name": "DropdownModel",
      "state": {
       "_options_labels": [
        "0.6666666666666666",
        "1",
        "2",
        "4",
        "8",
        "16"
       ],
       "description": "gains:",
       "disabled": true,
       "index": 0,
       "layout": "IPY_MODEL_27201a1e413746b4b2dfa15713e5cc6e",
       "style": "IPY_MODEL_98f21dd7364b410f9695efa3d3a87e2c"
      }
     },
     "0ec7365b1fca4286ab4905e2503c2f9b": {
      "model_module": "@jupyter-widgets/controls",
      "model_module_version": "1.5.0",
      "model_name": "DescriptionStyleModel",
      "state": {
       "description_width": ""
      }
     },
     "10e54865cd51448bb9cea68b7ea1fd38": {
      "model_module": "@jupyter-widgets/base",
      "model_module_version": "1.2.0",
      "model_name": "LayoutModel",
      "state": {}
     },
     "1178d084424246beae4da154488d9e23": {
      "model_module": "@jupyter-widgets/controls",
      "model_module_version": "1.5.0",
      "model_name": "DescriptionStyleModel",
      "state": {
       "description_width": ""
      }
     },
     "118ce1bd20fb4b618fcae7856f943786": {
      "model_module": "@jupyter-widgets/base",
      "model_module_version": "1.2.0",
      "model_name": "LayoutModel",
      "state": {}
     },
     "11a09e5a93cd4e1c90121171facafd04": {
      "model_module": "@jupyter-widgets/base",
      "model_module_version": "1.2.0",
      "model_name": "LayoutModel",
      "state": {}
     },
     "11b04ffa20fe4c709546e83a137d76c3": {
      "model_module": "@jupyter-widgets/controls",
      "model_module_version": "1.5.0",
      "model_name": "DescriptionStyleModel",
      "state": {
       "description_width": ""
      }
     },
     "11bb4831ad904ced9bee2f95c9461012": {
      "model_module": "@jupyter-widgets/base",
      "model_module_version": "1.2.0",
      "model_name": "LayoutModel",
      "state": {}
     },
     "124d44e0321845359c50d3d1e809c6f4": {
      "model_module": "@jupyter-widgets/controls",
      "model_module_version": "1.5.0",
      "model_name": "DescriptionStyleModel",
      "state": {
       "description_width": ""
      }
     },
     "127d76c5256e4338a2450ce0a4915a19": {
      "model_module": "@jupyter-widgets/base",
      "model_module_version": "1.2.0",
      "model_name": "LayoutModel",
      "state": {}
     },
     "1324e0b93efe43de9b4e5044b300f3fb": {
      "model_module": "@jupyter-widgets/controls",
      "model_module_version": "1.5.0",
      "model_name": "TextModel",
      "state": {
       "description": "X-axis label (time):",
       "disabled": true,
       "layout": "IPY_MODEL_27c8b339bfe3429ab58807ded132dbdd",
       "placeholder": "Type something",
       "style": "IPY_MODEL_512b4e08b1874279a0b9657716c16a33",
       "value": "Time(s)"
      }
     },
     "13392854022d471990aef518f71b328f": {
      "model_module": "@jupyter-widgets/base",
      "model_module_version": "1.2.0",
      "model_name": "LayoutModel",
      "state": {}
     },
     "1344ac0ddcc84a8f8a68989a930ba55d": {
      "model_module": "@jupyter-widgets/controls",
      "model_module_version": "1.5.0",
      "model_name": "DescriptionStyleModel",
      "state": {
       "description_width": ""
      }
     },
     "135190215ed24e2982c6fb21e3ff4bce": {
      "model_module": "@jupyter-widgets/base",
      "model_module_version": "1.2.0",
      "model_name": "LayoutModel",
      "state": {}
     },
     "13594a6f936b412ca4c3055f5ec339bf": {
      "model_module": "@jupyter-widgets/controls",
      "model_module_version": "1.5.0",
      "model_name": "DescriptionStyleModel",
      "state": {
       "description_width": ""
      }
     },
     "1374c3fc3c9642b1a43e8004ec08e778": {
      "model_module": "@jupyter-widgets/controls",
      "model_module_version": "1.5.0",
      "model_name": "HBoxModel",
      "state": {
       "children": [
        "IPY_MODEL_9d288e96936749e69203d6a185794df0",
        "IPY_MODEL_94fda208403c4905b3875f161e415a66"
       ],
       "layout": "IPY_MODEL_50abba569ca6476bad089f411dcb4d44"
      }
     },
     "14343367db6740a1bd35bc6e84bfae4a": {
      "model_module": "@jupyter-widgets/base",
      "model_module_version": "1.2.0",
      "model_name": "LayoutModel",
      "state": {}
     },
     "14ae076a55db448fa22fca46cb2269e2": {
      "model_module": "@jupyter-widgets/base",
      "model_module_version": "1.2.0",
      "model_name": "LayoutModel",
      "state": {}
     },
     "14c35f305b774ef489b456ab4fbd9c53": {
      "model_module": "@jupyter-widgets/controls",
      "model_module_version": "1.5.0",
      "model_name": "DescriptionStyleModel",
      "state": {
       "description_width": ""
      }
     },
     "14d4e09337c24146b00b603d9f1625f2": {
      "model_module": "@jupyter-widgets/base",
      "model_module_version": "1.2.0",
      "model_name": "LayoutModel",
      "state": {}
     },
     "1501cec36d0b4b11bc72a26fafc67205": {
      "model_module": "@jupyter-widgets/base",
      "model_module_version": "1.2.0",
      "model_name": "LayoutModel",
      "state": {}
     },
     "15bd4f54c0514aa5b642857d2994ab5a": {
      "model_module": "@jupyter-widgets/controls",
      "model_module_version": "1.5.0",
      "model_name": "DescriptionStyleModel",
      "state": {
       "description_width": ""
      }
     },
     "15df23bd4f0c4cefa649b8c3f7790396": {
      "model_module": "@jupyter-widgets/controls",
      "model_module_version": "1.5.0",
      "model_name": "DescriptionStyleModel",
      "state": {
       "description_width": ""
      }
     },
     "163e1b61590c4445aa8ccdda601bda02": {
      "model_module": "@jupyter-widgets/controls",
      "model_module_version": "1.5.0",
      "model_name": "DescriptionStyleModel",
      "state": {
       "description_width": ""
      }
     },
     "166775ce43f645208aca30a669beba41": {
      "model_module": "@jupyter-widgets/base",
      "model_module_version": "1.2.0",
      "model_name": "LayoutModel",
      "state": {}
     },
     "169562dc4bcb45db8c87cc17dd91d7ae": {
      "model_module": "@jupyter-widgets/controls",
      "model_module_version": "1.5.0",
      "model_name": "DropdownModel",
      "state": {
       "_options_labels": [
        "0 ADS1115",
        "1 DAQC2"
       ],
       "description": "Board:",
       "index": 1,
       "layout": "IPY_MODEL_9c750d02945847288fcde9edac0cc0ac",
       "style": "IPY_MODEL_43caf260dde949d7986eb21bf74aa12b"
      }
     },
     "16fe531f653d49539f56df7e422216e0": {
      "model_module": "@jupyter-widgets/controls",
      "model_module_version": "1.5.0",
      "model_name": "ButtonStyleModel",
      "state": {}
     },
     "171847818ceb40d4977a185abbaf9f2f": {
      "model_module": "@jupyter-widgets/controls",
      "model_module_version": "1.5.0",
      "model_name": "DescriptionStyleModel",
      "state": {
       "description_width": ""
      }
     },
     "175d072859c64029a4169d978c4432ee": {
      "model_module": "@jupyter-widgets/controls",
      "model_module_version": "1.5.0",
      "model_name": "DescriptionStyleModel",
      "state": {
       "description_width": ""
      }
     },
     "17ac1a0cc5c34f19a17edad96d1b7eb1": {
      "model_module": "@jupyter-widgets/controls",
      "model_module_version": "1.5.0",
      "model_name": "DescriptionStyleModel",
      "state": {
       "description_width": ""
      }
     },
     "17ed35c8e4f643e6985ab997489b04b6": {
      "model_module": "@jupyter-widgets/base",
      "model_module_version": "1.2.0",
      "model_name": "LayoutModel",
      "state": {}
     },
     "187bbbb7af784b7ab1df747c6224217a": {
      "model_module": "@jupyter-widgets/controls",
      "model_module_version": "1.5.0",
      "model_name": "ButtonModel",
      "state": {
       "button_style": "info",
       "description": "Set Parameters",
       "disabled": true,
       "layout": "IPY_MODEL_d85c4f2ee4b3457f95bb50551c112dd3",
       "style": "IPY_MODEL_c832aaaebba34be5b513f10bc9311e06",
       "tooltip": "Parameters locked. The run has started."
      }
     },
     "18bdeeefa16b466eb84dcc77aa1f5be3": {
      "model_module": "@jupyter-widgets/controls",
      "model_module_version": "1.5.0",
      "model_name": "CheckboxModel",
      "state": {
       "description": "Display multiple traces as stacked graphs. Uncheck to display all on the same graph.",
       "disabled": false,
       "layout": "IPY_MODEL_43e194d887a64b84a03c0af3ace56238",
       "style": "IPY_MODEL_e5154d9516d547b8be2873830108aaa5",
       "value": true
      }
     },
     "18fd8a5d2be946229171a8bc404de08a": {
      "model_module": "@jupyter-widgets/base",
      "model_module_version": "1.2.0",
      "model_name": "LayoutModel",
      "state": {}
     },
     "190f7be810ae4b7fa8b6b295451221e9": {
      "model_module": "@jupyter-widgets/base",
      "model_module_version": "1.2.0",
      "model_name": "LayoutModel",
      "state": {}
     },
     "19459f6c6ed748b8bb345e47a51b4e80": {
      "model_module": "@jupyter-widgets/controls",
      "model_module_version": "1.5.0",
      "model_name": "CheckboxModel",
      "state": {
       "description": "Display multiple traces as stacked graphs. Uncheck to display all on the same graph.",
       "disabled": false,
       "layout": "IPY_MODEL_64f55c0fe6254169a75bf95c0ed2a95a",
       "style": "IPY_MODEL_5c3667bdc9eb41ed87b87101dc817051",
       "value": true
      }
     },
     "194f86ba7d2f4f9c8bf6d9c8ae15272c": {
      "model_module": "@jupyter-widgets/controls",
      "model_module_version": "1.5.0",
      "model_name": "DescriptionStyleModel",
      "state": {
       "description_width": ""
      }
     },
     "197aafdd70c847f99925efe83e405f06": {
      "model_module": "@jupyter-widgets/base",
      "model_module_version": "1.2.0",
      "model_name": "LayoutModel",
      "state": {}
     },
     "1a62f13e207c467a9f02258719fcadb6": {
      "model_module": "@jupyter-widgets/base",
      "model_module_version": "1.2.0",
      "model_name": "LayoutModel",
      "state": {}
     },
     "1aafb14acbaf4fd3ba79ce83863f6323": {
      "model_module": "@jupyter-widgets/base",
      "model_module_version": "1.2.0",
      "model_name": "LayoutModel",
      "state": {}
     },
     "1adea6bd17134dd7b2b4153918c3813d": {
      "model_module": "@jupyter-widgets/controls",
      "model_module_version": "1.5.0",
      "model_name": "DropdownModel",
      "state": {
       "_options_labels": [
        "0 ADS1115",
        "1 DAQC2"
       ],
       "description": "Board:",
       "index": 1,
       "layout": "IPY_MODEL_a413a5f80e83417a81ae9d1267533a27",
       "style": "IPY_MODEL_4d33a81e053140a994b7a916073f3baa"
      }
     },
     "1ae6e3d21a224e8a8e0c31d806062a85": {
      "model_module": "@jupyter-widgets/controls",
      "model_module_version": "1.5.0",
      "model_name": "DescriptionStyleModel",
      "state": {
       "description_width": ""
      }
     },
     "1afb10e9651a4ff6ad631f83424a88d8": {
      "model_module": "@jupyter-widgets/base",
      "model_module_version": "1.2.0",
      "model_name": "LayoutModel",
      "state": {}
     },
     "1b6908e7ca094f20978c022529519ec6": {
      "model_module": "@jupyter-widgets/controls",
      "model_module_version": "1.5.0",
      "model_name": "DescriptionStyleModel",
      "state": {
       "description_width": ""
      }
     },
     "1b73d65991104f468bcd50527d1f2fea": {
      "model_module": "@jupyter-widgets/controls",
      "model_module_version": "1.5.0",
      "model_name": "DropdownModel",
      "state": {
       "_options_labels": [
        "0 ADS1115",
        "1 DAQC2"
       ],
       "description": "Board:",
       "disabled": true,
       "index": 0,
       "layout": "IPY_MODEL_10e54865cd51448bb9cea68b7ea1fd38",
       "style": "IPY_MODEL_4b13ec805a994f13bc252f36a10ec61c"
      }
     },
     "1b8e241166584914a5c38be8db564549": {
      "model_module": "@jupyter-widgets/controls",
      "model_module_version": "1.5.0",
      "model_name": "DescriptionStyleModel",
      "state": {
       "description_width": ""
      }
     },
     "1bad609a4a524dd5beb7feb0ea3cd190": {
      "model_module": "@jupyter-widgets/base",
      "model_module_version": "1.2.0",
      "model_name": "LayoutModel",
      "state": {}
     },
     "1bad807f30834f5f9c255fdf9df1298a": {
      "model_module": "@jupyter-widgets/controls",
      "model_module_version": "1.5.0",
      "model_name": "DescriptionStyleModel",
      "state": {
       "description_width": ""
      }
     },
     "1c6e0fefc26047f9a7c7c83809be5a51": {
      "model_module": "@jupyter-widgets/controls",
      "model_module_version": "1.5.0",
      "model_name": "ButtonStyleModel",
      "state": {}
     },
     "1ce5655eafb1417bbd13b3eeab143207": {
      "model_module": "@jupyter-widgets/base",
      "model_module_version": "1.2.0",
      "model_name": "LayoutModel",
      "state": {}
     },
     "1d35509e73004e5a92b67d9888c1f993": {
      "model_module": "@jupyter-widgets/controls",
      "model_module_version": "1.5.0",
      "model_name": "DropdownModel",
      "state": {
       "_options_labels": [
        "1"
       ],
       "description": "gains:",
       "index": 0,
       "layout": "IPY_MODEL_096f65bfcc9f4cbf82ce0f104ad2715c",
       "style": "IPY_MODEL_b32ecad03d124d37b128dfd28ac1c18d"
      }
     },
     "1d7081aee2864af6a9505a8cd6b3ae95": {
      "model_module": "@jupyter-widgets/base",
      "model_module_version": "1.2.0",
      "model_name": "LayoutModel",
      "state": {}
     },
     "1dbdaa9ca2e643b8b58ee4f3af0672a3": {
      "model_module": "@jupyter-widgets/controls",
      "model_module_version": "1.5.0",
      "model_name": "DescriptionStyleModel",
      "state": {
       "description_width": ""
      }
     },
     "1dc9b2a09bdf41f5b43d2d2ed7b6ed0a": {
      "model_module": "@jupyter-widgets/controls",
      "model_module_version": "1.5.0",
      "model_name": "DescriptionStyleModel",
      "state": {
       "description_width": ""
      }
     },
     "1dcf357259c14acc84045ac34d431dda": {
      "model_module": "@jupyter-widgets/controls",
      "model_module_version": "1.5.0",
      "model_name": "DescriptionStyleModel",
      "state": {
       "description_width": ""
      }
     },
     "1e4a77b92ea342178b67cb7e73f068c8": {
      "model_module": "@jupyter-widgets/base",
      "model_module_version": "1.2.0",
      "model_name": "LayoutModel",
      "state": {}
     },
     "1e639dcbabb14318ac788843cabdaa82": {
      "model_module": "@jupyter-widgets/base",
      "model_module_version": "1.2.0",
      "model_name": "LayoutModel",
      "state": {}
     },
     "1fa45e086772416696281106338f899d": {
      "model_module": "@jupyter-widgets/controls",
      "model_module_version": "1.5.0",
      "model_name": "DescriptionStyleModel",
      "state": {
       "description_width": ""
      }
     },
     "1fccd37927cb46dc93436a2703b53af9": {
      "model_module": "@jupyter-widgets/controls",
      "model_module_version": "1.5.0",
      "model_name": "ButtonStyleModel",
      "state": {}
     },
     "20380d5cf8b54e5687251117df60524a": {
      "model_module": "@jupyter-widgets/base",
      "model_module_version": "1.2.0",
      "model_name": "LayoutModel",
      "state": {}
     },
     "2109535d90984a2e9a7cd0a31032aa37": {
      "model_module": "@jupyter-widgets/controls",
      "model_module_version": "1.5.0",
      "model_name": "DescriptionStyleModel",
      "state": {
       "description_width": ""
      }
     },
     "2114731951a044a78cc4a1471f7024a1": {
      "model_module": "@jupyter-widgets/base",
      "model_module_version": "1.2.0",
      "model_name": "LayoutModel",
      "state": {}
     },
     "214d1d382f2f44418f765651b9b3c4cd": {
      "model_module": "@jupyter-widgets/base",
      "model_module_version": "1.2.0",
      "model_name": "LayoutModel",
      "state": {
       "width": "80%"
      }
     },
     "21d2184364e940aea5f6349f50aae688": {
      "model_module": "@jupyter-widgets/base",
      "model_module_version": "1.2.0",
      "model_name": "LayoutModel",
      "state": {}
     },
     "22245dff99cc4fada2ce8de6a2d62167": {
      "model_module": "@jupyter-widgets/controls",
      "model_module_version": "1.5.0",
      "model_name": "DescriptionStyleModel",
      "state": {
       "description_width": ""
      }
     },
     "222d7cf0c7174562bcf465c57aa141a9": {
      "model_module": "@jupyter-widgets/base",
      "model_module_version": "1.2.0",
      "model_name": "LayoutModel",
      "state": {}
     },
     "22670acc7b964d2ba79b8da2c131a1ef": {
      "model_module": "@jupyter-widgets/base",
      "model_module_version": "1.2.0",
      "model_name": "LayoutModel",
      "state": {}
     },
     "228f499b90e8480a842d19cd386b65bb": {
      "model_module": "@jupyter-widgets/base",
      "model_module_version": "1.2.0",
      "model_name": "LayoutModel",
      "state": {}
     },
     "22ad785b5eb14a7b993a76cf19e1dd1a": {
      "model_module": "@jupyter-widgets/controls",
      "model_module_version": "1.5.0",
      "model_name": "DescriptionStyleModel",
      "state": {
       "description_width": ""
      }
     },
     "2334a1a837784ab79e1afccfb982c1fc": {
      "model_module": "@jupyter-widgets/base",
      "model_module_version": "1.2.0",
      "model_name": "LayoutModel",
      "state": {
       "border": "solid"
      }
     },
     "233b76f2c8bd45fe848c75b5b6c79eb1": {
      "model_module": "@jupyter-widgets/controls",
      "model_module_version": "1.5.0",
      "model_name": "DescriptionStyleModel",
      "state": {
       "description_width": ""
      }
     },
     "2362b1771784400ba4a6084546fc8a02": {
      "model_module": "@jupyter-widgets/controls",
      "model_module_version": "1.5.0",
      "model_name": "DescriptionStyleModel",
      "state": {
       "description_width": ""
      }
     },
     "2428a9e151204ba69cd94b470171f95a": {
      "model_module": "@jupyter-widgets/base",
      "model_module_version": "1.2.0",
      "model_name": "LayoutModel",
      "state": {}
     },
     "24b93c7aedb74fe783e6182f9865fe0e": {
      "model_module": "@jupyter-widgets/controls",
      "model_module_version": "1.5.0",
      "model_name": "DescriptionStyleModel",
      "state": {
       "description_width": ""
      }
     },
     "24e60f649c5b4885b629417f91d8774e": {
      "model_module": "@jupyter-widgets/controls",
      "model_module_version": "1.5.0",
      "model_name": "HBoxModel",
      "state": {
       "children": [
        "IPY_MODEL_48d150e26718481d9388fba36bea3af5",
        "IPY_MODEL_2b46bcfee1ec4f8c82cb5702804f13fa",
        "IPY_MODEL_d40dbd8a3fa141d98b2b16935d78a427"
       ],
       "layout": "IPY_MODEL_e159189f8929495d8ed8331b07cb956c"
      }
     },
     "2508d911f4d0473591e6473ea91aabc9": {
      "model_module": "@jupyter-widgets/base",
      "model_module_version": "1.2.0",
      "model_name": "LayoutModel",
      "state": {}
     },
     "25b0c0ce952b424c9ea7a8d8888eec71": {
      "model_module": "@jupyter-widgets/base",
      "model_module_version": "1.2.0",
      "model_name": "LayoutModel",
      "state": {}
     },
     "2669424129f8457aadc68f5b0d6a485e": {
      "model_module": "@jupyter-widgets/base",
      "model_module_version": "1.2.0",
      "model_name": "LayoutModel",
      "state": {}
     },
     "26bcef49c96d4558b06ab3cb52ee9698": {
      "model_module": "@jupyter-widgets/controls",
      "model_module_version": "1.5.0",
      "model_name": "DescriptionStyleModel",
      "state": {
       "description_width": ""
      }
     },
     "27201a1e413746b4b2dfa15713e5cc6e": {
      "model_module": "@jupyter-widgets/base",
      "model_module_version": "1.2.0",
      "model_name": "LayoutModel",
      "state": {}
     },
     "275e3aa02710441d82477e8c88b1b18e": {
      "model_module": "@jupyter-widgets/controls",
      "model_module_version": "1.5.0",
      "model_name": "DropdownModel",
      "state": {
       "_options_labels": [
        "1"
       ],
       "description": "gains:",
       "index": 0,
       "layout": "IPY_MODEL_c447569bc736412d85fca3d33cc0f942",
       "style": "IPY_MODEL_59133be0a1ca4d96a177e28b82c551ab"
      }
     },
     "2773b52c218b4ec68a193ee47224fdf9": {
      "model_module": "@jupyter-widgets/base",
      "model_module_version": "1.2.0",
      "model_name": "LayoutModel",
      "state": {}
     },
     "2782e9935ce94dc3ab9eedf3f41e7d87": {
      "model_module": "@jupyter-widgets/base",
      "model_module_version": "1.2.0",
      "model_name": "LayoutModel",
      "state": {}
     },
     "27c8b339bfe3429ab58807ded132dbdd": {
      "model_module": "@jupyter-widgets/base",
      "model_module_version": "1.2.0",
      "model_name": "LayoutModel",
      "state": {}
     },
     "27f8b970debe45fca550c8301f3794b6": {
      "model_module": "@jupyter-widgets/controls",
      "model_module_version": "1.5.0",
      "model_name": "DropdownModel",
      "state": {
       "_options_labels": [
        "0 ADS1115",
        "1 DAQC2"
       ],
       "description": "Board:",
       "index": 1,
       "layout": "IPY_MODEL_2880844aad3445af98c59987cc8259c2",
       "style": "IPY_MODEL_319bef28b6304031be76053240b670d7"
      }
     },
     "286e08a8179643d3834ab8a694720168": {
      "model_module": "@jupyter-widgets/controls",
      "model_module_version": "1.5.0",
      "model_name": "DescriptionStyleModel",
      "state": {
       "description_width": ""
      }
     },
     "2880844aad3445af98c59987cc8259c2": {
      "model_module": "@jupyter-widgets/base",
      "model_module_version": "1.2.0",
      "model_name": "LayoutModel",
      "state": {}
     },
     "2882d97348ef4da3b36266ab68c85024": {
      "model_module": "@jupyter-widgets/base",
      "model_module_version": "1.2.0",
      "model_name": "LayoutModel",
      "state": {}
     },
     "28f91763ad384d2baf023b5a4b32e2b6": {
      "model_module": "@jupyter-widgets/base",
      "model_module_version": "1.2.0",
      "model_name": "LayoutModel",
      "state": {}
     },
     "29a55f25ae6a4e3fb7f05911af3560b7": {
      "model_module": "@jupyter-widgets/base",
      "model_module_version": "1.2.0",
      "model_name": "LayoutModel",
      "state": {}
     },
     "2a5093846114422691ef9183485621dc": {
      "model_module": "@jupyter-widgets/controls",
      "model_module_version": "1.5.0",
      "model_name": "DescriptionStyleModel",
      "state": {
       "description_width": ""
      }
     },
     "2a895b28a2fe4489b034f8551901b983": {
      "model_module": "@jupyter-widgets/controls",
      "model_module_version": "1.5.0",
      "model_name": "DescriptionStyleModel",
      "state": {
       "description_width": ""
      }
     },
     "2ab54704bda54667914909a3ccad87a0": {
      "model_module": "jupyterlab-plotly",
      "model_module_version": "^5.1.0",
      "model_name": "FigureModel",
      "state": {
       "_config": {
        "plotlyServerURL": "https://plot.ly"
       },
       "_data": [
        {
         "name": "Trace_0(V)",
         "type": "scatter",
         "uid": "17d3802b-add9-4324-b213-f7a6d0cf33ec",
         "x": [
          0.17241978645324707,
          1.1682007312774658,
          2.1671159267425537,
          3.165825366973877,
          4.16432785987854,
          5.163785934448242,
          6.16323447227478,
          7.161059856414795,
          8.160182237625122,
          9.160151720046997,
          10.15744161605835,
          11.156660318374634,
          12.155981063842773,
          13.153582334518433,
          14.152146577835083,
          15.15399432182312,
          16.150087356567383,
          17.149131536483765,
          18.147786140441895,
          19.146337747573853,
          20.145368099212646,
          21.15237307548523,
          22.146798849105835,
          23.146408557891846,
          24.144461631774902,
          25.14271330833435,
          26.14223289489746,
          27.140915393829346,
          28.139259099960327,
          29.13842749595642,
          30.13676643371582,
          31.136346340179443,
          32.134169816970825,
          33.13303470611572,
          34.13224720954895,
          35.132694721221924,
          36.13098645210266,
          37.129884004592896,
          38.128753423690796,
          39.12777638435364,
          40.12656855583191,
          41.12475275993347,
          42.124226570129395,
          43.1225905418396,
          44.12155032157898,
          45.11992359161377,
          46.11850380897522,
          47.117350339889526,
          48.11689519882202,
          49.11574935913086,
          50.11376762390137,
          51.11207628250122,
          52.11071181297302,
          53.11027932167053,
          54.109270334243774,
          55.107763051986694,
          56.106202125549316,
          57.10456156730652,
          58.10590100288391,
          59.102481842041016,
          60.101282358169556,
          61.10011100769043,
          62.09935903549194,
          63.09766912460327,
          64.09615850448608,
          65.0954897403717,
          66.09389519691467,
          67.0930540561676,
          68.09165453910828,
          69.09042000770569,
          70.08846592903137,
          71.08820509910583,
          72.08617377281189,
          73.08543682098389,
          74.08409142494202,
          75.08327984809875,
          76.08244609832764,
          77.08039164543152,
          78.07900595664978,
          79.07774353027344,
          80.07638239860535,
          81.07599663734436,
          82.07451510429382,
          83.0735490322113,
          84.07177686691284,
          85.07075357437134,
          86.06952452659607,
          87.06843709945679,
          88.06702089309692,
          89.06574201583862,
          90.06411051750183,
          91.06345272064209,
          92.0624635219574,
          93.06047987937927,
          94.05978298187256,
          95.05845069885254,
          96.05704069137573,
          97.0557701587677,
          98.05514478683472,
          99.05378723144531,
          100.05217576026917,
          101.05122065544128,
          102.04962015151978,
          103.04850029945374,
          104.0476701259613,
          105.0459611415863,
          106.04461097717285,
          107.04323887825012,
          108.04241609573364,
          109.04120421409607,
          110.04069590568542,
          111.03917241096497,
          112.03794431686401,
          113.03638243675232,
          114.03527808189392,
          115.03587102890015,
          116.03220868110657,
          117.03119206428528,
          118.02952575683594,
          119.02921056747437,
          120.02701425552368,
          121.0257043838501,
          122.02433371543884,
          123.02283930778503,
          124.02219915390015,
          125.02108097076416,
          126.02000188827515,
          127.01841807365417,
          128.0169517993927,
          129.01583170890808,
          130.01483464241028,
          131.01398634910583,
          132.01247882843018,
          133.01097321510315,
          134.01026320457458,
          135.0091197490692,
          136.00717949867249,
          137.00627613067627,
          138.00548839569092,
          139.00381898880005,
          140.0030288696289,
          141.00148606300354,
          142.0006878376007,
          142.9992253780365,
          143.99792337417603,
          144.9971239566803,
          145.99514389038086,
          146.9945683479309,
          147.99312448501587,
          148.99169039726257,
          149.99020504951477,
          150.98964762687683,
          151.98801136016846,
          152.98753428459167,
          153.98560070991516,
          154.98420405387878,
          155.98397040367126,
          156.98251295089722,
          157.98091101646423,
          158.979430437088,
          159.97813367843628,
          160.97709226608276,
          161.97644686698914,
          162.9752070903778,
          163.97356176376343,
          164.97237634658813,
          165.97066855430603,
          166.9692418575287,
          167.96877312660217,
          168.96791410446167,
          169.9662148952484,
          170.9655830860138,
          171.96396327018738,
          172.96270418167114,
          173.96177792549133,
          174.9603555202484,
          175.95815563201904,
          176.95721888542175,
          177.95610332489014,
          178.95560550689697,
          179.95354461669922,
          180.9530384540558,
          181.95204901695251,
          182.94982028007507,
          183.94886946678162,
          184.94760251045227,
          185.94608688354492,
          186.94565296173096,
          187.9444501399994,
          188.94278979301453,
          189.9419388771057,
          190.94026708602905,
          191.94020104408264,
          192.93808484077454,
          193.93715620040894,
          194.93635368347168,
          195.9344675540924,
          196.93331384658813,
          197.93261122703552,
          198.93079137802124,
          199.92992877960205,
          200.92895817756653,
          201.92819452285767,
          202.92658114433289,
          203.92470598220825,
          204.923898935318,
          205.9224190711975,
          206.92176795005798,
          207.92041039466858,
          208.92049026489258,
          209.9183931350708,
          210.91704630851746,
          211.91545915603638,
          212.9139153957367,
          213.9132523536682,
          214.9120864868164,
          215.9103879928589,
          216.90908312797546,
          217.90786814689636,
          218.90713214874268,
          219.90577578544617,
          220.9038064479828,
          221.90381002426147,
          222.90163016319275,
          223.9003348350525,
          224.89901518821716,
          225.89757537841797,
          226.8964545726776,
          227.89580512046814,
          228.89369869232178,
          229.89305663108826,
          230.8923215866089,
          231.89075827598572,
          232.88875031471252,
          233.8876473903656,
          234.8870828151703,
          235.88566136360168,
          236.88481736183167,
          237.88310503959656,
          238.88176918029785,
          239.88037657737732,
          240.8800880908966,
          241.87808895111084,
          242.87671995162964,
          243.8758351802826,
          244.8748757839203
         ],
         "xaxis": "x2",
         "y": [
          -11.89002,
          -11.89,
          -11.89004,
          -11.89001,
          -11.89006,
          -11.89002,
          -11.89,
          -11.89002,
          -11.89004,
          -11.89004,
          -11.89001,
          -11.89,
          -11.89004,
          -11.89003,
          -11.89003,
          -11.89002,
          -11.89003,
          -11.89001,
          -11.89006,
          -11.89,
          -11.89003,
          -11.8901,
          -11.89003,
          -11.89003,
          -11.89003,
          -11.89001,
          -11.89005,
          -11.89006,
          -11.89001,
          -11.88999999999999,
          -11.89007,
          -11.89003,
          -11.89003,
          -11.89002,
          -11.89003,
          -11.89003,
          -11.89004,
          -11.89003,
          -11.89001,
          -11.89001,
          -11.89001,
          -11.89003,
          -11.89005,
          -11.89007,
          -11.89001,
          -11.89003,
          -11.89001,
          -11.89006,
          -11.89005,
          -11.89003,
          -11.88999999999999,
          -11.89002,
          -11.89001,
          -11.89003,
          -11.89005,
          -11.89001,
          -11.89,
          -11.89007,
          -11.89007,
          -11.89004,
          -11.89001,
          -11.89003,
          -11.89003,
          -11.89001,
          -11.89007,
          -11.89007,
          -11.88999999999999,
          -11.89003,
          -11.89003,
          -11.89002,
          -11.89002,
          -11.89003,
          -11.89003,
          -11.88999999999999,
          -11.89003,
          -11.89004,
          -11.89003,
          -11.89002,
          -11.89003,
          -11.89003,
          -11.89001,
          -11.89,
          -11.89001,
          -11.89004,
          -11.89001,
          -11.89005,
          -11.89001,
          -11.89001,
          -11.88999999999999,
          -11.89001,
          -11.89,
          -11.88999999999999,
          -11.88999999999999,
          -11.89001,
          -11.88999999999999,
          -11.89001,
          -11.89,
          -11.89,
          -11.89,
          -11.89001,
          -11.89,
          -11.88999,
          -11.88922,
          -11.89,
          -11.89001,
          -11.89001,
          -11.89001,
          -11.89,
          -11.88999,
          -11.889000000000006,
          -11.88842,
          -11.88705,
          -11.88541,
          -11.8834,
          -11.88014,
          -11.87595,
          -11.87599,
          -11.87558,
          -11.87499,
          -11.87517,
          -11.87599,
          -11.87601,
          -11.87607,
          -11.875999999999983,
          -11.875999999999983,
          -11.87595,
          -11.87577,
          -11.87549,
          -11.87524,
          -11.8587,
          -11.659,
          -11.456,
          -11.256,
          -11.059,
          -10.864,
          -10.669,
          -10.6241,
          -10.6372,
          -10.6422,
          -10.6204,
          -10.6009,
          -10.6046,
          -10.6068,
          -10.6444,
          -10.615,
          -10.5925,
          -10.6393,
          -10.6483,
          -10.6097,
          -10.6407,
          -10.6524,
          -10.6445,
          -10.63947,
          -10.6269,
          -10.6217,
          -10.6069,
          -10.6292,
          -10.6644,
          -10.6388,
          -10.6158,
          -10.6341,
          -10.63592,
          -10.6416,
          -10.6279,
          -10.6366,
          -10.655,
          -10.6455,
          -10.436,
          -10.25,
          -10.069,
          -9.8908,
          -9.715,
          -9.5432,
          -9.3723,
          -9.198,
          -9.1709,
          -9.1515,
          -9.133,
          -9.1566,
          -9.1284,
          -9.1735,
          -9.1563,
          -9.176,
          -9.1506,
          -9.1735,
          -9.1507,
          -9.1743,
          -9.167,
          -9.16114,
          -9.1663,
          -9.1754,
          -9.1866,
          -9.1934,
          -9.1809,
          -9.1744,
          -9.1666,
          -9.1725,
          -9.178,
          -9.1743,
          -9.1794,
          -9.1528,
          -9.1684,
          -9.183,
          -9.1791,
          -9.1775,
          -9.2037,
          -9.1784,
          -9.335,
          -10.759,
          -11.23,
          -11.031,
          -10.837,
          -10.631,
          -10.6495,
          -10.6683,
          -10.6593,
          -10.6495,
          -10.6506,
          -10.6533,
          -10.6562,
          -10.6594,
          -10.6553,
          -10.83,
          -11.8793,
          -11.88797,
          -11.885999999999992,
          -11.884,
          -11.88099,
          -11.87699,
          -11.87625,
          -11.876,
          -11.87497,
          -11.87547,
          -11.87544,
          -11.87546,
          -11.87567,
          -11.87586,
          -11.87592,
          -11.87595,
          -11.87551,
          -11.87529,
          -11.87506,
          -11.875999999999983,
          -11.87599,
          -11.87565,
          -11.87526
         ],
         "yaxis": "y2"
        },
        {
         "name": "Trace_1(V)",
         "type": "scatter",
         "uid": "056f0fd2-5711-4888-a941-83bb1694c4cb",
         "x": [
          0.17241978645324707,
          1.1682007312774658,
          2.1671159267425537,
          3.165825366973877,
          4.16432785987854,
          5.163785934448242,
          6.16323447227478,
          7.161059856414795,
          8.160182237625122,
          9.160151720046997,
          10.15744161605835,
          11.156660318374634,
          12.155981063842773,
          13.153582334518433,
          14.152146577835083,
          15.15399432182312,
          16.150087356567383,
          17.149131536483765,
          18.147786140441895,
          19.146337747573853,
          20.145368099212646,
          21.15237307548523,
          22.146798849105835,
          23.146408557891846,
          24.144461631774902,
          25.14271330833435,
          26.14223289489746,
          27.140915393829346,
          28.139259099960327,
          29.13842749595642,
          30.13676643371582,
          31.136346340179443,
          32.134169816970825,
          33.13303470611572,
          34.13224720954895,
          35.132694721221924,
          36.13098645210266,
          37.129884004592896,
          38.128753423690796,
          39.12777638435364,
          40.12656855583191,
          41.12475275993347,
          42.124226570129395,
          43.1225905418396,
          44.12155032157898,
          45.11992359161377,
          46.11850380897522,
          47.117350339889526,
          48.11689519882202,
          49.11574935913086,
          50.11376762390137,
          51.11207628250122,
          52.11071181297302,
          53.11027932167053,
          54.109270334243774,
          55.107763051986694,
          56.106202125549316,
          57.10456156730652,
          58.10590100288391,
          59.102481842041016,
          60.101282358169556,
          61.10011100769043,
          62.09935903549194,
          63.09766912460327,
          64.09615850448608,
          65.0954897403717,
          66.09389519691467,
          67.0930540561676,
          68.09165453910828,
          69.09042000770569,
          70.08846592903137,
          71.08820509910583,
          72.08617377281189,
          73.08543682098389,
          74.08409142494202,
          75.08327984809875,
          76.08244609832764,
          77.08039164543152,
          78.07900595664978,
          79.07774353027344,
          80.07638239860535,
          81.07599663734436,
          82.07451510429382,
          83.0735490322113,
          84.07177686691284,
          85.07075357437134,
          86.06952452659607,
          87.06843709945679,
          88.06702089309692,
          89.06574201583862,
          90.06411051750183,
          91.06345272064209,
          92.0624635219574,
          93.06047987937927,
          94.05978298187256,
          95.05845069885254,
          96.05704069137573,
          97.0557701587677,
          98.05514478683472,
          99.05378723144531,
          100.05217576026917,
          101.05122065544128,
          102.04962015151978,
          103.04850029945374,
          104.0476701259613,
          105.0459611415863,
          106.04461097717285,
          107.04323887825012,
          108.04241609573364,
          109.04120421409607,
          110.04069590568542,
          111.03917241096497,
          112.03794431686401,
          113.03638243675232,
          114.03527808189392,
          115.03587102890015,
          116.03220868110657,
          117.03119206428528,
          118.02952575683594,
          119.02921056747437,
          120.02701425552368,
          121.0257043838501,
          122.02433371543884,
          123.02283930778503,
          124.02219915390015,
          125.02108097076416,
          126.02000188827515,
          127.01841807365417,
          128.0169517993927,
          129.01583170890808,
          130.01483464241028,
          131.01398634910583,
          132.01247882843018,
          133.01097321510315,
          134.01026320457458,
          135.0091197490692,
          136.00717949867249,
          137.00627613067627,
          138.00548839569092,
          139.00381898880005,
          140.0030288696289,
          141.00148606300354,
          142.0006878376007,
          142.9992253780365,
          143.99792337417603,
          144.9971239566803,
          145.99514389038086,
          146.9945683479309,
          147.99312448501587,
          148.99169039726257,
          149.99020504951477,
          150.98964762687683,
          151.98801136016846,
          152.98753428459167,
          153.98560070991516,
          154.98420405387878,
          155.98397040367126,
          156.98251295089722,
          157.98091101646423,
          158.979430437088,
          159.97813367843628,
          160.97709226608276,
          161.97644686698914,
          162.9752070903778,
          163.97356176376343,
          164.97237634658813,
          165.97066855430603,
          166.9692418575287,
          167.96877312660217,
          168.96791410446167,
          169.9662148952484,
          170.9655830860138,
          171.96396327018738,
          172.96270418167114,
          173.96177792549133,
          174.9603555202484,
          175.95815563201904,
          176.95721888542175,
          177.95610332489014,
          178.95560550689697,
          179.95354461669922,
          180.9530384540558,
          181.95204901695251,
          182.94982028007507,
          183.94886946678162,
          184.94760251045227,
          185.94608688354492,
          186.94565296173096,
          187.9444501399994,
          188.94278979301453,
          189.9419388771057,
          190.94026708602905,
          191.94020104408264,
          192.93808484077454,
          193.93715620040894,
          194.93635368347168,
          195.9344675540924,
          196.93331384658813,
          197.93261122703552,
          198.93079137802124,
          199.92992877960205,
          200.92895817756653,
          201.92819452285767,
          202.92658114433289,
          203.92470598220825,
          204.923898935318,
          205.9224190711975,
          206.92176795005798,
          207.92041039466858,
          208.92049026489258,
          209.9183931350708,
          210.91704630851746,
          211.91545915603638,
          212.9139153957367,
          213.9132523536682,
          214.9120864868164,
          215.9103879928589,
          216.90908312797546,
          217.90786814689636,
          218.90713214874268,
          219.90577578544617,
          220.9038064479828,
          221.90381002426147,
          222.90163016319275,
          223.9003348350525,
          224.89901518821716,
          225.89757537841797,
          226.8964545726776,
          227.89580512046814,
          228.89369869232178,
          229.89305663108826,
          230.8923215866089,
          231.89075827598572,
          232.88875031471252,
          233.8876473903656,
          234.8870828151703,
          235.88566136360168,
          236.88481736183167,
          237.88310503959656,
          238.88176918029785,
          239.88037657737732,
          240.8800880908966,
          241.87808895111084,
          242.87671995162964,
          243.8758351802826,
          244.8748757839203
         ],
         "xaxis": "x",
         "y": [
          -11.90800000000001,
          -11.90801,
          -11.90800000000001,
          -11.908,
          -11.90801,
          -11.90800000000001,
          -11.908,
          -11.90800000000001,
          -11.90801,
          -11.908,
          -11.90800000000001,
          -11.90800000000001,
          -11.908,
          -11.908,
          -11.908,
          -11.908,
          -11.908,
          -11.908,
          -11.908,
          -11.908,
          -11.90801,
          -11.908,
          -11.90800000000001,
          -11.908,
          -11.90799,
          -11.908000000000008,
          -11.90799,
          -11.90799,
          -11.908,
          -11.90799,
          -11.90800000000001,
          -11.908,
          -11.908,
          -11.90801,
          -11.90801,
          -11.90800000000001,
          -11.90800000000001,
          -11.908,
          -11.90799,
          -11.908,
          -11.90799,
          -11.90800000000001,
          -11.90799,
          -11.908,
          -11.90800000000001,
          -11.908,
          -11.90797,
          -11.90800000000001,
          -11.908,
          -11.90799,
          -11.90800000000001,
          -11.908,
          -11.90800000000001,
          -11.908000000000008,
          -11.908,
          -11.908,
          -11.90800000000001,
          -11.90801,
          -11.908,
          -11.90799,
          -11.90799,
          -11.90799,
          -11.908,
          -11.90800000000001,
          -11.908,
          -11.90800000000001,
          -11.90801,
          -11.908000000000008,
          -11.90800000000001,
          -11.908,
          -11.908,
          -11.908000000000008,
          -11.908,
          -11.90800000000001,
          -11.90799,
          -11.90774,
          -11.90708,
          -11.907000000000016,
          -11.90699,
          -11.90672,
          -11.905999999999977,
          -11.906,
          -11.90502,
          -11.90436,
          -11.90399,
          -11.903000000000013,
          -11.90243,
          -11.90198,
          -11.90077,
          -11.89996,
          -11.89898,
          -11.89799,
          -11.89638,
          -11.89554,
          -11.89492,
          -11.89399,
          -11.8928,
          -11.892000000000023,
          -11.89105,
          -11.890999999999991,
          -11.89097,
          -11.89069,
          -11.89041,
          -11.89099999999999,
          -11.89197,
          -11.890999999999988,
          -11.89099,
          -11.89096,
          -11.89061,
          -11.89019,
          -11.89017,
          -11.89005,
          -11.89001,
          -11.89001,
          -11.89,
          -11.88999999999999,
          -11.89001,
          -11.89001,
          -11.88999999999999,
          -11.89,
          -11.89001,
          -11.89,
          -11.89003,
          -11.89001,
          -11.89,
          -11.89001,
          -11.89001,
          -11.88999999999999,
          -11.88999999999999,
          -11.89,
          -11.89,
          -11.88999999999999,
          -11.89,
          -11.89,
          -11.89,
          -11.89,
          -11.88999999999999,
          -11.89,
          -11.89,
          -11.89,
          -11.89,
          -11.88999999999999,
          -11.89,
          -11.89,
          -11.89,
          -11.89,
          -11.88999999999999,
          -11.88999999999999,
          -11.89,
          -11.89,
          -11.88999999999999,
          -11.89,
          -11.89,
          -11.89,
          -11.89,
          -11.89,
          -11.88999999999999,
          -11.88999999999999,
          -11.89,
          -11.88999999999999,
          -11.88999999999999,
          -11.89,
          -11.88999999999999,
          -11.88999999999999,
          -11.89,
          -11.88999999999999,
          -11.89,
          -11.89,
          -11.88999999999999,
          -11.89,
          -11.89,
          -11.89,
          -11.89,
          -11.88999999999999,
          -11.88999999999999,
          -11.88999999999999,
          -11.89,
          -11.89,
          -11.88999999999999,
          -11.89,
          -11.88999999999999,
          -11.88999999999999,
          -11.88999999999999,
          -11.89,
          -11.88999999999999,
          -11.89,
          -11.89,
          -11.88999,
          -11.88999999999999,
          -11.89,
          -11.89,
          -11.88999999999999,
          -11.89,
          -11.88999,
          -11.89,
          -11.89,
          -11.89,
          -11.88999999999999,
          -11.89,
          -11.88999999999999,
          -11.88999,
          -11.89,
          -11.89,
          -11.88999999999999,
          -11.88999999999999,
          -11.88999999999999,
          -11.89,
          -11.88999,
          -11.89001,
          -11.89,
          -11.89,
          -11.89,
          -11.88999999999999,
          -11.89,
          -11.89,
          -11.88999999999999,
          -11.88999999999999,
          -11.89001,
          -11.89,
          -11.89,
          -11.88999999999999,
          -11.89,
          -11.89,
          -11.89003,
          -11.89021,
          -11.89013,
          -11.89004,
          -11.88999999999999,
          -11.89,
          -11.89004,
          -11.89001,
          -11.89002,
          -11.89002,
          -11.88999999999999,
          -11.88999999999999,
          -11.88999999999999,
          -11.89,
          -11.89003,
          -11.89,
          -11.88999999999999,
          -11.89001,
          -11.89,
          -11.89001,
          -11.88999999999999,
          -11.89001,
          -11.89001
         ],
         "yaxis": "y"
        }
       ],
       "_js2py_relayout": {},
       "_js2py_restyle": {},
       "_js2py_update": {},
       "_last_layout_edit_id": 350,
       "_last_trace_edit_id": 350,
       "_layout": {
        "template": {
         "data": {
          "bar": [
           {
            "error_x": {
             "color": "rgb(36,36,36)"
            },
            "error_y": {
             "color": "rgb(36,36,36)"
            },
            "marker": {
             "line": {
              "color": "white",
              "width": 0.5
             },
             "pattern": {
              "fillmode": "overlay",
              "size": 10,
              "solidity": 0.2
             }
            },
            "type": "bar"
           }
          ],
          "barpolar": [
           {
            "marker": {
             "line": {
              "color": "white",
              "width": 0.5
             },
             "pattern": {
              "fillmode": "overlay",
              "size": 10,
              "solidity": 0.2
             }
            },
            "type": "barpolar"
           }
          ],
          "carpet": [
           {
            "aaxis": {
             "endlinecolor": "rgb(36,36,36)",
             "gridcolor": "white",
             "linecolor": "white",
             "minorgridcolor": "white",
             "startlinecolor": "rgb(36,36,36)"
            },
            "baxis": {
             "endlinecolor": "rgb(36,36,36)",
             "gridcolor": "white",
             "linecolor": "white",
             "minorgridcolor": "white",
             "startlinecolor": "rgb(36,36,36)"
            },
            "type": "carpet"
           }
          ],
          "choropleth": [
           {
            "colorbar": {
             "outlinewidth": 1,
             "tickcolor": "rgb(36,36,36)",
             "ticks": "outside"
            },
            "type": "choropleth"
           }
          ],
          "contour": [
           {
            "colorbar": {
             "outlinewidth": 1,
             "tickcolor": "rgb(36,36,36)",
             "ticks": "outside"
            },
            "colorscale": [
             [
              0,
              "#440154"
             ],
             [
              0.1111111111111111,
              "#482878"
             ],
             [
              0.2222222222222222,
              "#3e4989"
             ],
             [
              0.3333333333333333,
              "#31688e"
             ],
             [
              0.4444444444444444,
              "#26828e"
             ],
             [
              0.5555555555555556,
              "#1f9e89"
             ],
             [
              0.6666666666666666,
              "#35b779"
             ],
             [
              0.7777777777777778,
              "#6ece58"
             ],
             [
              0.8888888888888888,
              "#b5de2b"
             ],
             [
              1,
              "#fde725"
             ]
            ],
            "type": "contour"
           }
          ],
          "contourcarpet": [
           {
            "colorbar": {
             "outlinewidth": 1,
             "tickcolor": "rgb(36,36,36)",
             "ticks": "outside"
            },
            "type": "contourcarpet"
           }
          ],
          "heatmap": [
           {
            "colorbar": {
             "outlinewidth": 1,
             "tickcolor": "rgb(36,36,36)",
             "ticks": "outside"
            },
            "colorscale": [
             [
              0,
              "#440154"
             ],
             [
              0.1111111111111111,
              "#482878"
             ],
             [
              0.2222222222222222,
              "#3e4989"
             ],
             [
              0.3333333333333333,
              "#31688e"
             ],
             [
              0.4444444444444444,
              "#26828e"
             ],
             [
              0.5555555555555556,
              "#1f9e89"
             ],
             [
              0.6666666666666666,
              "#35b779"
             ],
             [
              0.7777777777777778,
              "#6ece58"
             ],
             [
              0.8888888888888888,
              "#b5de2b"
             ],
             [
              1,
              "#fde725"
             ]
            ],
            "type": "heatmap"
           }
          ],
          "heatmapgl": [
           {
            "colorbar": {
             "outlinewidth": 1,
             "tickcolor": "rgb(36,36,36)",
             "ticks": "outside"
            },
            "colorscale": [
             [
              0,
              "#440154"
             ],
             [
              0.1111111111111111,
              "#482878"
             ],
             [
              0.2222222222222222,
              "#3e4989"
             ],
             [
              0.3333333333333333,
              "#31688e"
             ],
             [
              0.4444444444444444,
              "#26828e"
             ],
             [
              0.5555555555555556,
              "#1f9e89"
             ],
             [
              0.6666666666666666,
              "#35b779"
             ],
             [
              0.7777777777777778,
              "#6ece58"
             ],
             [
              0.8888888888888888,
              "#b5de2b"
             ],
             [
              1,
              "#fde725"
             ]
            ],
            "type": "heatmapgl"
           }
          ],
          "histogram": [
           {
            "marker": {
             "line": {
              "color": "white",
              "width": 0.6
             }
            },
            "type": "histogram"
           }
          ],
          "histogram2d": [
           {
            "colorbar": {
             "outlinewidth": 1,
             "tickcolor": "rgb(36,36,36)",
             "ticks": "outside"
            },
            "colorscale": [
             [
              0,
              "#440154"
             ],
             [
              0.1111111111111111,
              "#482878"
             ],
             [
              0.2222222222222222,
              "#3e4989"
             ],
             [
              0.3333333333333333,
              "#31688e"
             ],
             [
              0.4444444444444444,
              "#26828e"
             ],
             [
              0.5555555555555556,
              "#1f9e89"
             ],
             [
              0.6666666666666666,
              "#35b779"
             ],
             [
              0.7777777777777778,
              "#6ece58"
             ],
             [
              0.8888888888888888,
              "#b5de2b"
             ],
             [
              1,
              "#fde725"
             ]
            ],
            "type": "histogram2d"
           }
          ],
          "histogram2dcontour": [
           {
            "colorbar": {
             "outlinewidth": 1,
             "tickcolor": "rgb(36,36,36)",
             "ticks": "outside"
            },
            "colorscale": [
             [
              0,
              "#440154"
             ],
             [
              0.1111111111111111,
              "#482878"
             ],
             [
              0.2222222222222222,
              "#3e4989"
             ],
             [
              0.3333333333333333,
              "#31688e"
             ],
             [
              0.4444444444444444,
              "#26828e"
             ],
             [
              0.5555555555555556,
              "#1f9e89"
             ],
             [
              0.6666666666666666,
              "#35b779"
             ],
             [
              0.7777777777777778,
              "#6ece58"
             ],
             [
              0.8888888888888888,
              "#b5de2b"
             ],
             [
              1,
              "#fde725"
             ]
            ],
            "type": "histogram2dcontour"
           }
          ],
          "mesh3d": [
           {
            "colorbar": {
             "outlinewidth": 1,
             "tickcolor": "rgb(36,36,36)",
             "ticks": "outside"
            },
            "type": "mesh3d"
           }
          ],
          "parcoords": [
           {
            "line": {
             "colorbar": {
              "outlinewidth": 1,
              "tickcolor": "rgb(36,36,36)",
              "ticks": "outside"
             }
            },
            "type": "parcoords"
           }
          ],
          "pie": [
           {
            "automargin": true,
            "type": "pie"
           }
          ],
          "scatter": [
           {
            "marker": {
             "colorbar": {
              "outlinewidth": 1,
              "tickcolor": "rgb(36,36,36)",
              "ticks": "outside"
             }
            },
            "type": "scatter"
           }
          ],
          "scatter3d": [
           {
            "line": {
             "colorbar": {
              "outlinewidth": 1,
              "tickcolor": "rgb(36,36,36)",
              "ticks": "outside"
             }
            },
            "marker": {
             "colorbar": {
              "outlinewidth": 1,
              "tickcolor": "rgb(36,36,36)",
              "ticks": "outside"
             }
            },
            "type": "scatter3d"
           }
          ],
          "scattercarpet": [
           {
            "marker": {
             "colorbar": {
              "outlinewidth": 1,
              "tickcolor": "rgb(36,36,36)",
              "ticks": "outside"
             }
            },
            "type": "scattercarpet"
           }
          ],
          "scattergeo": [
           {
            "marker": {
             "colorbar": {
              "outlinewidth": 1,
              "tickcolor": "rgb(36,36,36)",
              "ticks": "outside"
             }
            },
            "type": "scattergeo"
           }
          ],
          "scattergl": [
           {
            "marker": {
             "colorbar": {
              "outlinewidth": 1,
              "tickcolor": "rgb(36,36,36)",
              "ticks": "outside"
             }
            },
            "type": "scattergl"
           }
          ],
          "scattermapbox": [
           {
            "marker": {
             "colorbar": {
              "outlinewidth": 1,
              "tickcolor": "rgb(36,36,36)",
              "ticks": "outside"
             }
            },
            "type": "scattermapbox"
           }
          ],
          "scatterpolar": [
           {
            "marker": {
             "colorbar": {
              "outlinewidth": 1,
              "tickcolor": "rgb(36,36,36)",
              "ticks": "outside"
             }
            },
            "type": "scatterpolar"
           }
          ],
          "scatterpolargl": [
           {
            "marker": {
             "colorbar": {
              "outlinewidth": 1,
              "tickcolor": "rgb(36,36,36)",
              "ticks": "outside"
             }
            },
            "type": "scatterpolargl"
           }
          ],
          "scatterternary": [
           {
            "marker": {
             "colorbar": {
              "outlinewidth": 1,
              "tickcolor": "rgb(36,36,36)",
              "ticks": "outside"
             }
            },
            "type": "scatterternary"
           }
          ],
          "surface": [
           {
            "colorbar": {
             "outlinewidth": 1,
             "tickcolor": "rgb(36,36,36)",
             "ticks": "outside"
            },
            "colorscale": [
             [
              0,
              "#440154"
             ],
             [
              0.1111111111111111,
              "#482878"
             ],
             [
              0.2222222222222222,
              "#3e4989"
             ],
             [
              0.3333333333333333,
              "#31688e"
             ],
             [
              0.4444444444444444,
              "#26828e"
             ],
             [
              0.5555555555555556,
              "#1f9e89"
             ],
             [
              0.6666666666666666,
              "#35b779"
             ],
             [
              0.7777777777777778,
              "#6ece58"
             ],
             [
              0.8888888888888888,
              "#b5de2b"
             ],
             [
              1,
              "#fde725"
             ]
            ],
            "type": "surface"
           }
          ],
          "table": [
           {
            "cells": {
             "fill": {
              "color": "rgb(237,237,237)"
             },
             "line": {
              "color": "white"
             }
            },
            "header": {
             "fill": {
              "color": "rgb(217,217,217)"
             },
             "line": {
              "color": "white"
             }
            },
            "type": "table"
           }
          ]
         },
         "layout": {
          "annotationdefaults": {
           "arrowhead": 0,
           "arrowwidth": 1
          },
          "autotypenumbers": "strict",
          "coloraxis": {
           "colorbar": {
            "outlinewidth": 1,
            "tickcolor": "rgb(36,36,36)",
            "ticks": "outside"
           }
          },
          "colorscale": {
           "diverging": [
            [
             0,
             "rgb(103,0,31)"
            ],
            [
             0.1,
             "rgb(178,24,43)"
            ],
            [
             0.2,
             "rgb(214,96,77)"
            ],
            [
             0.3,
             "rgb(244,165,130)"
            ],
            [
             0.4,
             "rgb(253,219,199)"
            ],
            [
             0.5,
             "rgb(247,247,247)"
            ],
            [
             0.6,
             "rgb(209,229,240)"
            ],
            [
             0.7,
             "rgb(146,197,222)"
            ],
            [
             0.8,
             "rgb(67,147,195)"
            ],
            [
             0.9,
             "rgb(33,102,172)"
            ],
            [
             1,
             "rgb(5,48,97)"
            ]
           ],
           "sequential": [
            [
             0,
             "#440154"
            ],
            [
             0.1111111111111111,
             "#482878"
            ],
            [
             0.2222222222222222,
             "#3e4989"
            ],
            [
             0.3333333333333333,
             "#31688e"
            ],
            [
             0.4444444444444444,
             "#26828e"
            ],
            [
             0.5555555555555556,
             "#1f9e89"
            ],
            [
             0.6666666666666666,
             "#35b779"
            ],
            [
             0.7777777777777778,
             "#6ece58"
            ],
            [
             0.8888888888888888,
             "#b5de2b"
            ],
            [
             1,
             "#fde725"
            ]
           ],
           "sequentialminus": [
            [
             0,
             "#440154"
            ],
            [
             0.1111111111111111,
             "#482878"
            ],
            [
             0.2222222222222222,
             "#3e4989"
            ],
            [
             0.3333333333333333,
             "#31688e"
            ],
            [
             0.4444444444444444,
             "#26828e"
            ],
            [
             0.5555555555555556,
             "#1f9e89"
            ],
            [
             0.6666666666666666,
             "#35b779"
            ],
            [
             0.7777777777777778,
             "#6ece58"
            ],
            [
             0.8888888888888888,
             "#b5de2b"
            ],
            [
             1,
             "#fde725"
            ]
           ]
          },
          "colorway": [
           "#1F77B4",
           "#FF7F0E",
           "#2CA02C",
           "#D62728",
           "#9467BD",
           "#8C564B",
           "#E377C2",
           "#7F7F7F",
           "#BCBD22",
           "#17BECF"
          ],
          "font": {
           "color": "rgb(36,36,36)"
          },
          "geo": {
           "bgcolor": "white",
           "lakecolor": "white",
           "landcolor": "white",
           "showlakes": true,
           "showland": true,
           "subunitcolor": "white"
          },
          "hoverlabel": {
           "align": "left"
          },
          "hovermode": "closest",
          "mapbox": {
           "style": "light"
          },
          "paper_bgcolor": "white",
          "plot_bgcolor": "white",
          "polar": {
           "angularaxis": {
            "gridcolor": "rgb(232,232,232)",
            "linecolor": "rgb(36,36,36)",
            "showgrid": false,
            "showline": true,
            "ticks": "outside"
           },
           "bgcolor": "white",
           "radialaxis": {
            "gridcolor": "rgb(232,232,232)",
            "linecolor": "rgb(36,36,36)",
            "showgrid": false,
            "showline": true,
            "ticks": "outside"
           }
          },
          "scene": {
           "xaxis": {
            "backgroundcolor": "white",
            "gridcolor": "rgb(232,232,232)",
            "gridwidth": 2,
            "linecolor": "rgb(36,36,36)",
            "showbackground": true,
            "showgrid": false,
            "showline": true,
            "ticks": "outside",
            "zeroline": false,
            "zerolinecolor": "rgb(36,36,36)"
           },
           "yaxis": {
            "backgroundcolor": "white",
            "gridcolor": "rgb(232,232,232)",
            "gridwidth": 2,
            "linecolor": "rgb(36,36,36)",
            "showbackground": true,
            "showgrid": false,
            "showline": true,
            "ticks": "outside",
            "zeroline": false,
            "zerolinecolor": "rgb(36,36,36)"
           },
           "zaxis": {
            "backgroundcolor": "white",
            "gridcolor": "rgb(232,232,232)",
            "gridwidth": 2,
            "linecolor": "rgb(36,36,36)",
            "showbackground": true,
            "showgrid": false,
            "showline": true,
            "ticks": "outside",
            "zeroline": false,
            "zerolinecolor": "rgb(36,36,36)"
           }
          },
          "shapedefaults": {
           "fillcolor": "black",
           "line": {
            "width": 0
           },
           "opacity": 0.3
          },
          "ternary": {
           "aaxis": {
            "gridcolor": "rgb(232,232,232)",
            "linecolor": "rgb(36,36,36)",
            "showgrid": false,
            "showline": true,
            "ticks": "outside"
           },
           "baxis": {
            "gridcolor": "rgb(232,232,232)",
            "linecolor": "rgb(36,36,36)",
            "showgrid": false,
            "showline": true,
            "ticks": "outside"
           },
           "bgcolor": "white",
           "caxis": {
            "gridcolor": "rgb(232,232,232)",
            "linecolor": "rgb(36,36,36)",
            "showgrid": false,
            "showline": true,
            "ticks": "outside"
           }
          },
          "title": {
           "x": 0.05
          },
          "xaxis": {
           "automargin": true,
           "gridcolor": "rgb(232,232,232)",
           "linecolor": "rgb(36,36,36)",
           "showgrid": false,
           "showline": true,
           "ticks": "outside",
           "title": {
            "standoff": 15
           },
           "zeroline": false,
           "zerolinecolor": "rgb(36,36,36)"
          },
          "yaxis": {
           "automargin": true,
           "gridcolor": "rgb(232,232,232)",
           "linecolor": "rgb(36,36,36)",
           "showgrid": false,
           "showline": true,
           "ticks": "outside",
           "title": {
            "standoff": 15
           },
           "zeroline": false,
           "zerolinecolor": "rgb(36,36,36)"
          }
         }
        },
        "xaxis": {
         "anchor": "y",
         "domain": [
          0,
          1
         ],
         "matches": "x2",
         "showticklabels": false
        },
        "xaxis2": {
         "anchor": "y2",
         "domain": [
          0,
          1
         ],
         "title": {
          "text": "Time(s)"
         }
        },
        "yaxis": {
         "anchor": "x",
         "domain": [
          0.575,
          1
         ],
         "title": {
          "text": "V"
         }
        },
        "yaxis2": {
         "anchor": "x2",
         "domain": [
          0,
          0.425
         ],
         "title": {
          "text": "V"
         }
        }
       },
       "_py2js_animate": {},
       "_py2js_deleteTraces": {},
       "_py2js_moveTraces": {},
       "_py2js_removeLayoutProps": {},
       "_py2js_removeTraceProps": {},
       "_view_count": 1
      }
     },
     "2ad1a80aa702415ab1b683a920a2f12f": {
      "model_module": "@jupyter-widgets/controls",
      "model_module_version": "1.5.0",
      "model_name": "DescriptionStyleModel",
      "state": {
       "description_width": ""
      }
     },
     "2ae4a3c8f55240a1a2378f2d55abe7a0": {
      "model_module": "@jupyter-widgets/base",
      "model_module_version": "1.2.0",
      "model_name": "LayoutModel",
      "state": {}
     },
     "2b46bcfee1ec4f8c82cb5702804f13fa": {
      "model_module": "@jupyter-widgets/controls",
      "model_module_version": "1.5.0",
      "model_name": "TextModel",
      "state": {
       "description": "X-axis label (time):",
       "disabled": true,
       "layout": "IPY_MODEL_f0b3ac0b7b9047f1b611625231d98a08",
       "placeholder": "Type something",
       "style": "IPY_MODEL_e1af5d17d39844579319abddcd470748",
       "value": "Time(s)"
      }
     },
     "2b6c8408e2f64df3a2e474c45c171da8": {
      "model_module": "@jupyter-widgets/base",
      "model_module_version": "1.2.0",
      "model_name": "LayoutModel",
      "state": {}
     },
     "2b75673f47084aa585b620f204870337": {
      "model_module": "@jupyter-widgets/base",
      "model_module_version": "1.2.0",
      "model_name": "LayoutModel",
      "state": {}
     },
     "2bfeae64f2d34b2dad6173f4cea2db94": {
      "model_module": "@jupyter-widgets/controls",
      "model_module_version": "1.5.0",
      "model_name": "DropdownModel",
      "state": {
       "_options_labels": [
        "0 ADS1115",
        "1 DAQC2"
       ],
       "description": "Board:",
       "disabled": true,
       "index": 0,
       "layout": "IPY_MODEL_17ed35c8e4f643e6985ab997489b04b6",
       "style": "IPY_MODEL_0da9d6e3db9a4ba78cd233999a755ddd"
      }
     },
     "2c262daf39cb41ebb3345ad290d5cb63": {
      "model_module": "@jupyter-widgets/controls",
      "model_module_version": "1.5.0",
      "model_name": "DescriptionStyleModel",
      "state": {
       "description_width": ""
      }
     },
     "2c5fe26e75e04fee8c414607a922f67f": {
      "model_module": "@jupyter-widgets/controls",
      "model_module_version": "1.5.0",
      "model_name": "DropdownModel",
      "state": {
       "_options_labels": [
        "0 ADS1115",
        "1 DAQC2"
       ],
       "description": "Board:",
       "index": 1,
       "layout": "IPY_MODEL_fcd473dab3ca48958c1baf467a8bde05",
       "style": "IPY_MODEL_7acfe203288b4f82b7467b3655f579f7"
      }
     },
     "2c76aa7a68e84979b7d49f6e2db9af35": {
      "model_module": "@jupyter-widgets/controls",
      "model_module_version": "1.5.0",
      "model_name": "DescriptionStyleModel",
      "state": {
       "description_width": ""
      }
     },
     "2c7e75fe4d154e9fa117fe3eeef0e960": {
      "model_module": "@jupyter-widgets/controls",
      "model_module_version": "1.5.0",
      "model_name": "HBoxModel",
      "state": {
       "children": [
        "IPY_MODEL_9d729e52588c49858968e1d6b6c63073",
        "IPY_MODEL_5678ead395d1485f929363a63af8a20e",
        "IPY_MODEL_5a1b82fd1689496d9f25a3c9b1ff3bf2"
       ],
       "layout": "IPY_MODEL_c695e3b3ba114165b5f7c3873df1bc96"
      }
     },
     "2cec12a1128a4423b14acda924ede79f": {
      "model_module": "@jupyter-widgets/controls",
      "model_module_version": "1.5.0",
      "model_name": "DescriptionStyleModel",
      "state": {
       "description_width": ""
      }
     },
     "2e26b29c52284528a0ab49686704155c": {
      "model_module": "@jupyter-widgets/controls",
      "model_module_version": "1.5.0",
      "model_name": "DescriptionStyleModel",
      "state": {
       "description_width": ""
      }
     },
     "2e84677294ea4fb4bb10de2f98849ed9": {
      "model_module": "@jupyter-widgets/base",
      "model_module_version": "1.2.0",
      "model_name": "LayoutModel",
      "state": {}
     },
     "2e8b00374a844d539da3a006e7c3a4f2": {
      "model_module": "@jupyter-widgets/controls",
      "model_module_version": "1.5.0",
      "model_name": "BoundedFloatTextModel",
      "state": {
       "description": "Rate (Hz):",
       "disabled": true,
       "layout": "IPY_MODEL_882c67baca2047aa858476469dd51dfd",
       "max": 20,
       "step": 0.02,
       "style": "IPY_MODEL_e40b5f7bab5e4939b62225bc4c0a52bd",
       "value": 1
      }
     },
     "2f05ba843ef0456a864d92af4a175fd8": {
      "model_module": "@jupyter-widgets/base",
      "model_module_version": "1.2.0",
      "model_name": "LayoutModel",
      "state": {}
     },
     "2f3b394590b144dbae791ff7072a201b": {
      "model_module": "@jupyter-widgets/controls",
      "model_module_version": "1.5.0",
      "model_name": "DescriptionStyleModel",
      "state": {
       "description_width": ""
      }
     },
     "2f4a041f57844d1f8114bbff3d8c1985": {
      "model_module": "@jupyter-widgets/controls",
      "model_module_version": "1.5.0",
      "model_name": "DropdownModel",
      "state": {
       "_options_labels": [
        "0",
        "1",
        "2",
        "3",
        "4",
        "5",
        "6",
        "7",
        "8"
       ],
       "description": "Channel:",
       "index": 0,
       "layout": "IPY_MODEL_ac3fdf4c2db8450daf115871ed94df11",
       "style": "IPY_MODEL_a5b8a9748cb74684a713410e9db91834"
      }
     },
     "2fbb8cd1f19743c29aa4d50b542d79cd": {
      "model_module": "@jupyter-widgets/base",
      "model_module_version": "1.2.0",
      "model_name": "LayoutModel",
      "state": {}
     },
     "2fda73b6a6f348f0941a5f2a5f37ec77": {
      "model_module": "@jupyter-widgets/base",
      "model_module_version": "1.2.0",
      "model_name": "LayoutModel",
      "state": {}
     },
     "2fe9c41a2e1c4e2f842d8bbd5540e7e5": {
      "model_module": "@jupyter-widgets/base",
      "model_module_version": "1.2.0",
      "model_name": "LayoutModel",
      "state": {}
     },
     "2ffd3d765b7d4c7290b2e3cb2da9a488": {
      "model_module": "@jupyter-widgets/controls",
      "model_module_version": "1.5.0",
      "model_name": "DescriptionStyleModel",
      "state": {
       "description_width": ""
      }
     },
     "30f58ceb639a431a8e991800a4ffa5ae": {
      "model_module": "@jupyter-widgets/controls",
      "model_module_version": "1.5.0",
      "model_name": "DescriptionStyleModel",
      "state": {
       "description_width": ""
      }
     },
     "31226d59471f44798acc644e4c426996": {
      "model_module": "@jupyter-widgets/base",
      "model_module_version": "1.2.0",
      "model_name": "LayoutModel",
      "state": {}
     },
     "319bef28b6304031be76053240b670d7": {
      "model_module": "@jupyter-widgets/controls",
      "model_module_version": "1.5.0",
      "model_name": "DescriptionStyleModel",
      "state": {
       "description_width": ""
      }
     },
     "31bf654ba56c4fda91cbb568a55c4744": {
      "model_module": "@jupyter-widgets/base",
      "model_module_version": "1.2.0",
      "model_name": "LayoutModel",
      "state": {}
     },
     "32504ee305cc4088bfa81e6956416179": {
      "model_module": "@jupyter-widgets/controls",
      "model_module_version": "1.5.0",
      "model_name": "DescriptionStyleModel",
      "state": {
       "description_width": ""
      }
     },
     "3295d4be8b1a41929c5301bcd1af0bf9": {
      "model_module": "@jupyter-widgets/controls",
      "model_module_version": "1.5.0",
      "model_name": "DescriptionStyleModel",
      "state": {
       "description_width": ""
      }
     },
     "32e0792ebefc4f4994e3feb21f6ae0b6": {
      "model_module": "@jupyter-widgets/controls",
      "model_module_version": "1.5.0",
      "model_name": "DropdownModel",
      "state": {
       "_options_labels": [
        "0 ADS1115",
        "1 DAQC2"
       ],
       "description": "Board:",
       "disabled": true,
       "index": 0,
       "layout": "IPY_MODEL_036917da04464638ba6ac68a5a882be7",
       "style": "IPY_MODEL_2109535d90984a2e9a7cd0a31032aa37"
      }
     },
     "33e99b913cc14800bcc4ee2a82c26bfc": {
      "model_module": "@jupyter-widgets/controls",
      "model_module_version": "1.5.0",
      "model_name": "DropdownModel",
      "state": {
       "_options_labels": [
        "0.6666666666666666",
        "1",
        "2",
        "4",
        "8",
        "16"
       ],
       "description": "gains:",
       "disabled": true,
       "index": 0,
       "layout": "IPY_MODEL_86246e9514d4484fbc30fb3686b2ce1b",
       "style": "IPY_MODEL_88c1609fe9b2446195f5ccf721fa1098"
      }
     },
     "34ad1f56f66840238e6613f17b02f49e": {
      "model_module": "@jupyter-widgets/controls",
      "model_module_version": "1.5.0",
      "model_name": "HTMLModel",
      "state": {
       "layout": "IPY_MODEL_2782e9935ce94dc3ab9eedf3f41e7d87",
       "placeholder": "",
       "style": "IPY_MODEL_882d33ced2a04e0da65cb82344813b8e",
       "value": "<span style=\"color:blue;\"> To accurately read point location on graph you can zoom in. Drag to zoom. Additional controls show above plot when you hover over it.</span>"
      }
     },
     "34b2e554e82c437fac4352edae94120c": {
      "model_module": "@jupyter-widgets/controls",
      "model_module_version": "1.5.0",
      "model_name": "ButtonModel",
      "state": {
       "button_style": "info",
       "description": "Set Parameters",
       "disabled": true,
       "layout": "IPY_MODEL_79d993448286420aa1cca739c6ed0855",
       "style": "IPY_MODEL_63302d21b18e4345954b664ad6523d89",
       "tooltip": "Parameters locked. The run has started."
      }
     },
     "35110428de644c749add5b598f29e7ea": {
      "model_module": "@jupyter-widgets/base",
      "model_module_version": "1.2.0",
      "model_name": "LayoutModel",
      "state": {
       "border": "solid"
      }
     },
     "352db0844ead4686a5c6943cf1329f48": {
      "model_module": "@jupyter-widgets/controls",
      "model_module_version": "1.5.0",
      "model_name": "DescriptionStyleModel",
      "state": {
       "description_width": ""
      }
     },
     "355e0a901697427f8b31cc0d4de39779": {
      "model_module": "@jupyter-widgets/base",
      "model_module_version": "1.2.0",
      "model_name": "LayoutModel",
      "state": {
       "border": "solid"
      }
     },
     "3560b1e8af8a4879819d191f6b2dcc4e": {
      "model_module": "@jupyter-widgets/controls",
      "model_module_version": "1.5.0",
      "model_name": "DescriptionStyleModel",
      "state": {
       "description_width": ""
      }
     },
     "35d16640ddc14179aea9791005a654aa": {
      "model_module": "@jupyter-widgets/base",
      "model_module_version": "1.2.0",
      "model_name": "LayoutModel",
      "state": {}
     },
     "36af0ac38e9540629225bbe3c902de8f": {
      "model_module": "@jupyter-widgets/base",
      "model_module_version": "1.2.0",
      "model_name": "LayoutModel",
      "state": {}
     },
     "36d3bcea38424ea281d972beb00f7c71": {
      "model_module": "@jupyter-widgets/base",
      "model_module_version": "1.2.0",
      "model_name": "LayoutModel",
      "state": {}
     },
     "3723ef4e1fd84d0c962d0f81be4f6469": {
      "model_module": "@jupyter-widgets/base",
      "model_module_version": "1.2.0",
      "model_name": "LayoutModel",
      "state": {}
     },
     "380c20e2f4054c6c9a7ed8de394b12c7": {
      "model_module": "@jupyter-widgets/base",
      "model_module_version": "1.2.0",
      "model_name": "LayoutModel",
      "state": {}
     },
     "383de275c39f4fee9ba952ab42094712": {
      "model_module": "@jupyter-widgets/controls",
      "model_module_version": "1.5.0",
      "model_name": "TextModel",
      "state": {
       "description": "X-axis label (time):",
       "disabled": true,
       "layout": "IPY_MODEL_c1832cacafb142969614d7a7db9d7f63",
       "placeholder": "Type something",
       "style": "IPY_MODEL_cc3cc307eb1847b9a82399c7a1365e68",
       "value": "Time(s)"
      }
     },
     "38f6511dff234b3cb76097599568707b": {
      "model_module": "@jupyter-widgets/base",
      "model_module_version": "1.2.0",
      "model_name": "LayoutModel",
      "state": {
       "border": "solid"
      }
     },
     "392d75cd9e3f4554a93dc8c2b6b5f359": {
      "model_module": "@jupyter-widgets/controls",
      "model_module_version": "1.5.0",
      "model_name": "DropdownModel",
      "state": {
       "_options_labels": [
        "0",
        "1",
        "2",
        "3",
        "4",
        "5",
        "6",
        "7",
        "8"
       ],
       "description": "Channel:",
       "index": 3,
       "layout": "IPY_MODEL_aabf71b7033e4a85be7d13de9848d133",
       "style": "IPY_MODEL_9aad20325a7542c9bacec8bce46f4316"
      }
     },
     "3b2efecef5464ee09ce0aa2bcd04d6ee": {
      "model_module": "@jupyter-widgets/controls",
      "model_module_version": "1.5.0",
      "model_name": "DescriptionStyleModel",
      "state": {
       "description_width": ""
      }
     },
     "3b69b4c0bfb144aca5779c0f99c946fd": {
      "model_module": "@jupyter-widgets/controls",
      "model_module_version": "1.5.0",
      "model_name": "DescriptionStyleModel",
      "state": {
       "description_width": ""
      }
     },
     "3bfcbadccb0e453e98e0e0d97850d45f": {
      "model_module": "@jupyter-widgets/controls",
      "model_module_version": "1.5.0",
      "model_name": "HBoxModel",
      "state": {
       "children": [
        "IPY_MODEL_b8b43be0314e4f7ab30dc9086b6d1f85",
        "IPY_MODEL_c43d9079c65744708ca2567c63f9cfee",
        "IPY_MODEL_187bbbb7af784b7ab1df747c6224217a"
       ],
       "layout": "IPY_MODEL_988263cc4e134f459e0ada385c729123"
      }
     },
     "3c88bebf50514ff28ff1c516a4e6bc86": {
      "model_module": "@jupyter-widgets/controls",
      "model_module_version": "1.5.0",
      "model_name": "DropdownModel",
      "state": {
       "_options_labels": [
        "0",
        "1",
        "2",
        "3"
       ],
       "description": "Channel:",
       "disabled": true,
       "index": 0,
       "layout": "IPY_MODEL_4be59f380e1e4aebbf2cc2e3d8158a6d",
       "style": "IPY_MODEL_bf897c8e9b204c5a94e8251ee55e1e9d"
      }
     },
     "3d5d5284a7b648659a07503e5bcef43a": {
      "model_module": "@jupyter-widgets/base",
      "model_module_version": "1.2.0",
      "model_name": "LayoutModel",
      "state": {}
     },
     "3d86ce7551f84fc7ad9f715ab8b71b43": {
      "model_module": "@jupyter-widgets/base",
      "model_module_version": "1.2.0",
      "model_name": "LayoutModel",
      "state": {}
     },
     "3d96de39b844480b8fc4a41bad607fda": {
      "model_module": "@jupyter-widgets/base",
      "model_module_version": "1.2.0",
      "model_name": "LayoutModel",
      "state": {}
     },
     "3dd3faf63bb446f0a433b44bc74906f4": {
      "model_module": "@jupyter-widgets/base",
      "model_module_version": "1.2.0",
      "model_name": "LayoutModel",
      "state": {}
     },
     "3e28acfbc4c541e6a1ebd73f0cf5634f": {
      "model_module": "@jupyter-widgets/base",
      "model_module_version": "1.2.0",
      "model_name": "LayoutModel",
      "state": {}
     },
     "3eb2d9c31ba845c9a7ae816ddaa00eed": {
      "model_module": "@jupyter-widgets/controls",
      "model_module_version": "1.5.0",
      "model_name": "DescriptionStyleModel",
      "state": {
       "description_width": ""
      }
     },
     "3ed6a972b5bc42dfa1f3a13854746d01": {
      "model_module": "@jupyter-widgets/base",
      "model_module_version": "1.2.0",
      "model_name": "LayoutModel",
      "state": {}
     },
     "3efe0fd5e0fe416c81c9638364bb6292": {
      "model_module": "@jupyter-widgets/base",
      "model_module_version": "1.2.0",
      "model_name": "LayoutModel",
      "state": {}
     },
     "3f00dd9392304d9d90aeb028e9a519fa": {
      "model_module": "@jupyter-widgets/base",
      "model_module_version": "1.2.0",
      "model_name": "LayoutModel",
      "state": {}
     },
     "3f6d814addd248bbb8b450c53da0c5b5": {
      "model_module": "@jupyter-widgets/base",
      "model_module_version": "1.2.0",
      "model_name": "LayoutModel",
      "state": {}
     },
     "3f7e9a4d74f24071b327994206d9a34c": {
      "model_module": "@jupyter-widgets/base",
      "model_module_version": "1.2.0",
      "model_name": "LayoutModel",
      "state": {}
     },
     "3fb9a874bebc4fecb3820ee575b66e49": {
      "model_module": "@jupyter-widgets/controls",
      "model_module_version": "1.5.0",
      "model_name": "HBoxModel",
      "state": {
       "children": [
        "IPY_MODEL_2e8b00374a844d539da3a006e7c3a4f2",
        "IPY_MODEL_cd5f3fa94ba1478886f8a53d7d0a7501",
        "IPY_MODEL_a980b3a77f234731a5134f77495fa349"
       ],
       "layout": "IPY_MODEL_701709b9f3d74bf8b6e0949dab9e6f9f"
      }
     },
     "4111faa70429406db181313c9330712b": {
      "model_module": "@jupyter-widgets/controls",
      "model_module_version": "1.5.0",
      "model_name": "DescriptionStyleModel",
      "state": {
       "description_width": ""
      }
     },
     "41b001d77601448d92cae4d1c58e2c20": {
      "model_module": "@jupyter-widgets/controls",
      "model_module_version": "1.5.0",
      "model_name": "DescriptionStyleModel",
      "state": {
       "description_width": ""
      }
     },
     "41bd00ee126543acbfc1a5c6745bc543": {
      "model_module": "@jupyter-widgets/base",
      "model_module_version": "1.2.0",
      "model_name": "LayoutModel",
      "state": {}
     },
     "41ed4ab5ff544c0da09d79b9ea6a82fa": {
      "model_module": "@jupyter-widgets/base",
      "model_module_version": "1.2.0",
      "model_name": "LayoutModel",
      "state": {}
     },
     "41ff17e142dc46dcaeaa7811a41eb70b": {
      "model_module": "@jupyter-widgets/controls",
      "model_module_version": "1.5.0",
      "model_name": "DescriptionStyleModel",
      "state": {
       "description_width": ""
      }
     },
     "424d1e933aaf4de996191cbbcb60eb88": {
      "model_module": "@jupyter-widgets/base",
      "model_module_version": "1.2.0",
      "model_name": "LayoutModel",
      "state": {}
     },
     "425f7556834542948e7ce55d58bcb9d9": {
      "model_module": "@jupyter-widgets/base",
      "model_module_version": "1.2.0",
      "model_name": "LayoutModel",
      "state": {}
     },
     "427ead72589c44c3a9d81c1fba79f4c5": {
      "model_module": "@jupyter-widgets/controls",
      "model_module_version": "1.5.0",
      "model_name": "DescriptionStyleModel",
      "state": {
       "description_width": ""
      }
     },
     "42be5ed1b73f4c739fcdd19bddd236ed": {
      "model_module": "@jupyter-widgets/controls",
      "model_module_version": "1.5.0",
      "model_name": "DescriptionStyleModel",
      "state": {
       "description_width": ""
      }
     },
     "439580b793c54f77ab604ac61650f00a": {
      "model_module": "@jupyter-widgets/controls",
      "model_module_version": "1.5.0",
      "model_name": "HTMLModel",
      "state": {
       "layout": "IPY_MODEL_b79282c074bb4db0be94c92a9704f415",
       "placeholder": "",
       "style": "IPY_MODEL_bbadb063f51043d2a18f45449a550c17",
       "value": "<span style=\"color:blue;\"> To accurately read point location on graph you can zoom in. Drag to zoom. Additional controls show above plot when you hover over it.</span>"
      }
     },
     "43c38acee3db48dba5309ad8c2b7405c": {
      "model_module": "jupyterlab-plotly",
      "model_module_version": "^5.1.0",
      "model_name": "FigureModel",
      "state": {
       "_config": {
        "plotlyServerURL": "https://plot.ly"
       },
       "_data": [
        {
         "name": "Trace_0(V)",
         "type": "scatter",
         "uid": "2cd530ca-3650-43fd-9cb1-057fc2bf8af5",
         "x": [
          0.17064738273620605,
          1.168205738067627,
          2.1678149700164795,
          3.165458917617798,
          4.16425085067749,
          5.163064479827881,
          6.162480592727661,
          7.160797834396362,
          8.159281015396118,
          9.158359289169312,
          10.157929182052612,
          11.156327486038208,
          12.15470576286316,
          13.153622388839722,
          14.152918577194214,
          15.151695251464844,
          16.150789976119995,
          17.149133443832397,
          18.14715838432312,
          19.146483421325684,
          20.145124912261963,
          21.14408826828003,
          22.14330768585205,
          23.142009019851685,
          24.140337467193604,
          25.138800621032715,
          26.1383798122406,
          27.136497020721436,
          28.13584566116333,
          29.13443636894226,
          30.133103370666504,
          31.13157606124878,
          32.133957862854004,
          33.129181146621704,
          34.12943649291992,
          35.12629437446594,
          36.1256320476532,
          37.124937534332275,
          38.1241250038147,
          39.12255311012268,
          40.12184739112854,
          41.12003564834595,
          42.119521617889404,
          43.117977142333984,
          44.116321086883545,
          45.11615347862244,
          46.11501622200012,
          47.1192409992218,
          48.112130641937256,
          49.110992193222046,
          50.10997176170349,
          51.108564138412476,
          52.10750865936279,
          53.106292486190796,
          54.10475420951843,
          55.10410976409912,
          56.10384202003479,
          57.10135626792908,
          58.09984636306763,
          59.098435163497925,
          60.09854483604431,
          61.09616541862488,
          62.09592962265015,
          63.09412670135498,
          64.09273672103882,
          65.0910291671753,
          66.0906138420105,
          67.08952903747559,
          68.08834171295166,
          69.08659291267395,
          70.08541512489319,
          71.08380246162415,
          72.08310151100159,
          73.0814745426178,
          74.08085608482361,
          75.07910680770874,
          76.07780766487122,
          77.07829117774963,
          78.07571148872375,
          79.07384157180786,
          80.07293057441711,
          81.07233715057373,
          82.07102465629578,
          83.06963038444519,
          84.06837034225464,
          85.06754851341248,
          86.06612992286682,
          87.06507706642151,
          88.06399869918823,
          89.06231093406677,
          90.0614595413208,
          91.06009650230408,
          92.05906462669373,
          93.05753993988037,
          94.05583143234253,
          95.05452632904053,
          96.05386424064636,
          97.05220699310303,
          98.05187153816223,
          99.04988861083984,
          100.04888677597046,
          101.04772329330444,
          102.0489490032196,
          103.04545331001282,
          104.04376125335693,
          105.04272985458374,
          106.04181361198425,
          107.04015707969666,
          108.03974199295044,
          109.03795313835144,
          110.03715991973877,
          111.03614020347595,
          112.03469491004944,
          113.03299260139465,
          114.03114628791809,
          115.0317485332489,
          116.02957558631897,
          117.02853465080261,
          118.02701878547668,
          119.02547645568848,
          120.02409958839417,
          121.02335691452026,
          122.0214741230011,
          123.02084016799927,
          124.01983165740967,
          125.01824474334717,
          126.01699924468994,
          127.01541137695312,
          128.01457858085632
         ],
         "xaxis": "x2",
         "y": [
          -0.092,
          -0.095,
          -0.102,
          -0.096,
          -0.09,
          -0.088,
          -0.1,
          -0.133,
          -0.093,
          -0.096,
          -0.094,
          -0.099,
          -0.089,
          -0.091,
          -0.104,
          -0.091,
          -0.096,
          -0.097,
          -0.094,
          -0.121,
          -0.133,
          -0.099,
          -0.107,
          -0.113,
          -0.109,
          -0.124,
          -0.107,
          -0.12,
          -0.165,
          -0.159,
          -0.166,
          -0.159,
          -0.124,
          -0.138,
          -0.137,
          -0.149,
          -0.115,
          -0.114,
          -0.131,
          -0.134,
          -0.124,
          -0.115,
          -0.115,
          -0.106,
          -0.106,
          -0.117,
          -0.123,
          -0.147,
          -0.168,
          -0.189,
          -0.194,
          -0.176,
          -0.119,
          -0.135,
          -0.111,
          -0.124,
          -0.163,
          -0.165,
          -0.142,
          -0.148,
          -0.152,
          -0.148,
          -0.15,
          -0.155,
          -0.122,
          -0.119,
          -0.108,
          -0.116,
          -0.087,
          -0.11,
          -0.102,
          -0.114,
          -0.106,
          -0.097,
          -0.111,
          -0.121,
          -0.111,
          -0.146,
          -0.131,
          -0.126,
          -0.124,
          -0.127,
          -0.158,
          -0.163,
          -0.157,
          -0.156,
          -0.156,
          -0.166,
          -0.151,
          -0.149,
          -0.16,
          -0.181,
          -0.149,
          -0.189,
          -0.17,
          -0.167,
          -0.179,
          -0.142,
          -0.148,
          -0.145,
          -0.166,
          -0.168,
          -0.181,
          -0.187,
          -0.222,
          -0.212,
          -0.172,
          -0.167,
          -0.145,
          -0.155,
          -0.159,
          -0.166,
          -0.159,
          -0.145,
          -0.137,
          -0.17,
          -0.164,
          -0.165,
          -0.15,
          -0.169,
          -0.176,
          -0.179,
          -0.189,
          -0.182,
          -0.172,
          -0.159,
          -0.158,
          -0.191,
          -0.209
         ],
         "yaxis": "y2"
        },
        {
         "name": "Trace_1(V)",
         "type": "scatter",
         "uid": "8409ad65-3348-4806-8993-447a296cb0b7",
         "x": [
          0.17064738273620605,
          1.168205738067627,
          2.1678149700164795,
          3.165458917617798,
          4.16425085067749,
          5.163064479827881,
          6.162480592727661,
          7.160797834396362,
          8.159281015396118,
          9.158359289169312,
          10.157929182052612,
          11.156327486038208,
          12.15470576286316,
          13.153622388839722,
          14.152918577194214,
          15.151695251464844,
          16.150789976119995,
          17.149133443832397,
          18.14715838432312,
          19.146483421325684,
          20.145124912261963,
          21.14408826828003,
          22.14330768585205,
          23.142009019851685,
          24.140337467193604,
          25.138800621032715,
          26.1383798122406,
          27.136497020721436,
          28.13584566116333,
          29.13443636894226,
          30.133103370666504,
          31.13157606124878,
          32.133957862854004,
          33.129181146621704,
          34.12943649291992,
          35.12629437446594,
          36.1256320476532,
          37.124937534332275,
          38.1241250038147,
          39.12255311012268,
          40.12184739112854,
          41.12003564834595,
          42.119521617889404,
          43.117977142333984,
          44.116321086883545,
          45.11615347862244,
          46.11501622200012,
          47.1192409992218,
          48.112130641937256,
          49.110992193222046,
          50.10997176170349,
          51.108564138412476,
          52.10750865936279,
          53.106292486190796,
          54.10475420951843,
          55.10410976409912,
          56.10384202003479,
          57.10135626792908,
          58.09984636306763,
          59.098435163497925,
          60.09854483604431,
          61.09616541862488,
          62.09592962265015,
          63.09412670135498,
          64.09273672103882,
          65.0910291671753,
          66.0906138420105,
          67.08952903747559,
          68.08834171295166,
          69.08659291267395,
          70.08541512489319,
          71.08380246162415,
          72.08310151100159,
          73.0814745426178,
          74.08085608482361,
          75.07910680770874,
          76.07780766487122,
          77.07829117774963,
          78.07571148872375,
          79.07384157180786,
          80.07293057441711,
          81.07233715057373,
          82.07102465629578,
          83.06963038444519,
          84.06837034225464,
          85.06754851341248,
          86.06612992286682,
          87.06507706642151,
          88.06399869918823,
          89.06231093406677,
          90.0614595413208,
          91.06009650230408,
          92.05906462669373,
          93.05753993988037,
          94.05583143234253,
          95.05452632904053,
          96.05386424064636,
          97.05220699310303,
          98.05187153816223,
          99.04988861083984,
          100.04888677597046,
          101.04772329330444,
          102.0489490032196,
          103.04545331001282,
          104.04376125335693,
          105.04272985458374,
          106.04181361198425,
          107.04015707969666,
          108.03974199295044,
          109.03795313835144,
          110.03715991973877,
          111.03614020347595,
          112.03469491004944,
          113.03299260139465,
          114.03114628791809,
          115.0317485332489,
          116.02957558631897,
          117.02853465080261,
          118.02701878547668,
          119.02547645568848,
          120.02409958839417,
          121.02335691452026,
          122.0214741230011,
          123.02084016799927,
          124.01983165740967,
          125.01824474334717,
          126.01699924468994,
          127.01541137695312,
          128.01457858085632
         ],
         "xaxis": "x",
         "y": [
          3.351,
          3.349,
          3.337,
          3.37,
          3.352,
          3.339,
          3.344,
          3.329,
          3.356,
          3.345,
          3.34,
          3.347,
          3.368,
          3.351,
          3.353,
          3.349,
          3.337,
          3.319,
          3.326,
          3.308,
          3.268,
          3.325,
          3.31,
          3.299,
          3.291,
          3.283,
          3.282,
          3.271,
          3.252,
          3.247,
          3.236,
          3.269,
          3.278,
          3.267,
          3.261,
          3.251,
          3.274,
          3.279,
          3.271,
          3.258,
          3.284,
          3.287,
          3.277,
          3.288,
          3.275,
          3.268,
          3.24,
          3.221,
          3.213,
          3.179,
          3.159,
          3.194,
          3.253,
          3.279,
          3.288,
          3.244,
          3.248,
          3.263,
          3.253,
          3.259,
          3.257,
          3.252,
          3.262,
          3.291,
          3.292,
          3.318,
          3.316,
          3.317,
          3.331,
          3.324,
          3.324,
          3.333,
          3.326,
          3.317,
          3.319,
          3.307,
          3.302,
          3.276,
          3.295,
          3.295,
          3.305,
          3.283,
          3.266,
          3.283,
          3.275,
          3.284,
          3.276,
          3.29,
          3.277,
          3.269,
          3.324,
          3.479,
          3.606,
          3.605,
          3.638,
          3.633,
          3.641,
          3.663,
          3.64,
          3.629,
          3.618,
          3.598,
          3.562,
          3.565,
          3.533,
          3.552,
          3.558,
          3.569,
          3.58,
          3.546,
          3.487,
          3.45,
          3.424,
          3.422,
          3.379,
          3.355,
          3.281,
          3.303,
          3.326,
          3.311,
          3.289,
          3.285,
          3.271,
          3.325,
          3.308,
          3.324,
          3.322,
          3.3,
          3.283
         ],
         "yaxis": "y"
        }
       ],
       "_js2py_relayout": {},
       "_js2py_restyle": {},
       "_js2py_update": {},
       "_last_layout_edit_id": 198,
       "_last_trace_edit_id": 198,
       "_layout": {
        "template": {
         "data": {
          "bar": [
           {
            "error_x": {
             "color": "rgb(36,36,36)"
            },
            "error_y": {
             "color": "rgb(36,36,36)"
            },
            "marker": {
             "line": {
              "color": "white",
              "width": 0.5
             },
             "pattern": {
              "fillmode": "overlay",
              "size": 10,
              "solidity": 0.2
             }
            },
            "type": "bar"
           }
          ],
          "barpolar": [
           {
            "marker": {
             "line": {
              "color": "white",
              "width": 0.5
             },
             "pattern": {
              "fillmode": "overlay",
              "size": 10,
              "solidity": 0.2
             }
            },
            "type": "barpolar"
           }
          ],
          "carpet": [
           {
            "aaxis": {
             "endlinecolor": "rgb(36,36,36)",
             "gridcolor": "white",
             "linecolor": "white",
             "minorgridcolor": "white",
             "startlinecolor": "rgb(36,36,36)"
            },
            "baxis": {
             "endlinecolor": "rgb(36,36,36)",
             "gridcolor": "white",
             "linecolor": "white",
             "minorgridcolor": "white",
             "startlinecolor": "rgb(36,36,36)"
            },
            "type": "carpet"
           }
          ],
          "choropleth": [
           {
            "colorbar": {
             "outlinewidth": 1,
             "tickcolor": "rgb(36,36,36)",
             "ticks": "outside"
            },
            "type": "choropleth"
           }
          ],
          "contour": [
           {
            "colorbar": {
             "outlinewidth": 1,
             "tickcolor": "rgb(36,36,36)",
             "ticks": "outside"
            },
            "colorscale": [
             [
              0,
              "#440154"
             ],
             [
              0.1111111111111111,
              "#482878"
             ],
             [
              0.2222222222222222,
              "#3e4989"
             ],
             [
              0.3333333333333333,
              "#31688e"
             ],
             [
              0.4444444444444444,
              "#26828e"
             ],
             [
              0.5555555555555556,
              "#1f9e89"
             ],
             [
              0.6666666666666666,
              "#35b779"
             ],
             [
              0.7777777777777778,
              "#6ece58"
             ],
             [
              0.8888888888888888,
              "#b5de2b"
             ],
             [
              1,
              "#fde725"
             ]
            ],
            "type": "contour"
           }
          ],
          "contourcarpet": [
           {
            "colorbar": {
             "outlinewidth": 1,
             "tickcolor": "rgb(36,36,36)",
             "ticks": "outside"
            },
            "type": "contourcarpet"
           }
          ],
          "heatmap": [
           {
            "colorbar": {
             "outlinewidth": 1,
             "tickcolor": "rgb(36,36,36)",
             "ticks": "outside"
            },
            "colorscale": [
             [
              0,
              "#440154"
             ],
             [
              0.1111111111111111,
              "#482878"
             ],
             [
              0.2222222222222222,
              "#3e4989"
             ],
             [
              0.3333333333333333,
              "#31688e"
             ],
             [
              0.4444444444444444,
              "#26828e"
             ],
             [
              0.5555555555555556,
              "#1f9e89"
             ],
             [
              0.6666666666666666,
              "#35b779"
             ],
             [
              0.7777777777777778,
              "#6ece58"
             ],
             [
              0.8888888888888888,
              "#b5de2b"
             ],
             [
              1,
              "#fde725"
             ]
            ],
            "type": "heatmap"
           }
          ],
          "heatmapgl": [
           {
            "colorbar": {
             "outlinewidth": 1,
             "tickcolor": "rgb(36,36,36)",
             "ticks": "outside"
            },
            "colorscale": [
             [
              0,
              "#440154"
             ],
             [
              0.1111111111111111,
              "#482878"
             ],
             [
              0.2222222222222222,
              "#3e4989"
             ],
             [
              0.3333333333333333,
              "#31688e"
             ],
             [
              0.4444444444444444,
              "#26828e"
             ],
             [
              0.5555555555555556,
              "#1f9e89"
             ],
             [
              0.6666666666666666,
              "#35b779"
             ],
             [
              0.7777777777777778,
              "#6ece58"
             ],
             [
              0.8888888888888888,
              "#b5de2b"
             ],
             [
              1,
              "#fde725"
             ]
            ],
            "type": "heatmapgl"
           }
          ],
          "histogram": [
           {
            "marker": {
             "line": {
              "color": "white",
              "width": 0.6
             }
            },
            "type": "histogram"
           }
          ],
          "histogram2d": [
           {
            "colorbar": {
             "outlinewidth": 1,
             "tickcolor": "rgb(36,36,36)",
             "ticks": "outside"
            },
            "colorscale": [
             [
              0,
              "#440154"
             ],
             [
              0.1111111111111111,
              "#482878"
             ],
             [
              0.2222222222222222,
              "#3e4989"
             ],
             [
              0.3333333333333333,
              "#31688e"
             ],
             [
              0.4444444444444444,
              "#26828e"
             ],
             [
              0.5555555555555556,
              "#1f9e89"
             ],
             [
              0.6666666666666666,
              "#35b779"
             ],
             [
              0.7777777777777778,
              "#6ece58"
             ],
             [
              0.8888888888888888,
              "#b5de2b"
             ],
             [
              1,
              "#fde725"
             ]
            ],
            "type": "histogram2d"
           }
          ],
          "histogram2dcontour": [
           {
            "colorbar": {
             "outlinewidth": 1,
             "tickcolor": "rgb(36,36,36)",
             "ticks": "outside"
            },
            "colorscale": [
             [
              0,
              "#440154"
             ],
             [
              0.1111111111111111,
              "#482878"
             ],
             [
              0.2222222222222222,
              "#3e4989"
             ],
             [
              0.3333333333333333,
              "#31688e"
             ],
             [
              0.4444444444444444,
              "#26828e"
             ],
             [
              0.5555555555555556,
              "#1f9e89"
             ],
             [
              0.6666666666666666,
              "#35b779"
             ],
             [
              0.7777777777777778,
              "#6ece58"
             ],
             [
              0.8888888888888888,
              "#b5de2b"
             ],
             [
              1,
              "#fde725"
             ]
            ],
            "type": "histogram2dcontour"
           }
          ],
          "mesh3d": [
           {
            "colorbar": {
             "outlinewidth": 1,
             "tickcolor": "rgb(36,36,36)",
             "ticks": "outside"
            },
            "type": "mesh3d"
           }
          ],
          "parcoords": [
           {
            "line": {
             "colorbar": {
              "outlinewidth": 1,
              "tickcolor": "rgb(36,36,36)",
              "ticks": "outside"
             }
            },
            "type": "parcoords"
           }
          ],
          "pie": [
           {
            "automargin": true,
            "type": "pie"
           }
          ],
          "scatter": [
           {
            "marker": {
             "colorbar": {
              "outlinewidth": 1,
              "tickcolor": "rgb(36,36,36)",
              "ticks": "outside"
             }
            },
            "type": "scatter"
           }
          ],
          "scatter3d": [
           {
            "line": {
             "colorbar": {
              "outlinewidth": 1,
              "tickcolor": "rgb(36,36,36)",
              "ticks": "outside"
             }
            },
            "marker": {
             "colorbar": {
              "outlinewidth": 1,
              "tickcolor": "rgb(36,36,36)",
              "ticks": "outside"
             }
            },
            "type": "scatter3d"
           }
          ],
          "scattercarpet": [
           {
            "marker": {
             "colorbar": {
              "outlinewidth": 1,
              "tickcolor": "rgb(36,36,36)",
              "ticks": "outside"
             }
            },
            "type": "scattercarpet"
           }
          ],
          "scattergeo": [
           {
            "marker": {
             "colorbar": {
              "outlinewidth": 1,
              "tickcolor": "rgb(36,36,36)",
              "ticks": "outside"
             }
            },
            "type": "scattergeo"
           }
          ],
          "scattergl": [
           {
            "marker": {
             "colorbar": {
              "outlinewidth": 1,
              "tickcolor": "rgb(36,36,36)",
              "ticks": "outside"
             }
            },
            "type": "scattergl"
           }
          ],
          "scattermapbox": [
           {
            "marker": {
             "colorbar": {
              "outlinewidth": 1,
              "tickcolor": "rgb(36,36,36)",
              "ticks": "outside"
             }
            },
            "type": "scattermapbox"
           }
          ],
          "scatterpolar": [
           {
            "marker": {
             "colorbar": {
              "outlinewidth": 1,
              "tickcolor": "rgb(36,36,36)",
              "ticks": "outside"
             }
            },
            "type": "scatterpolar"
           }
          ],
          "scatterpolargl": [
           {
            "marker": {
             "colorbar": {
              "outlinewidth": 1,
              "tickcolor": "rgb(36,36,36)",
              "ticks": "outside"
             }
            },
            "type": "scatterpolargl"
           }
          ],
          "scatterternary": [
           {
            "marker": {
             "colorbar": {
              "outlinewidth": 1,
              "tickcolor": "rgb(36,36,36)",
              "ticks": "outside"
             }
            },
            "type": "scatterternary"
           }
          ],
          "surface": [
           {
            "colorbar": {
             "outlinewidth": 1,
             "tickcolor": "rgb(36,36,36)",
             "ticks": "outside"
            },
            "colorscale": [
             [
              0,
              "#440154"
             ],
             [
              0.1111111111111111,
              "#482878"
             ],
             [
              0.2222222222222222,
              "#3e4989"
             ],
             [
              0.3333333333333333,
              "#31688e"
             ],
             [
              0.4444444444444444,
              "#26828e"
             ],
             [
              0.5555555555555556,
              "#1f9e89"
             ],
             [
              0.6666666666666666,
              "#35b779"
             ],
             [
              0.7777777777777778,
              "#6ece58"
             ],
             [
              0.8888888888888888,
              "#b5de2b"
             ],
             [
              1,
              "#fde725"
             ]
            ],
            "type": "surface"
           }
          ],
          "table": [
           {
            "cells": {
             "fill": {
              "color": "rgb(237,237,237)"
             },
             "line": {
              "color": "white"
             }
            },
            "header": {
             "fill": {
              "color": "rgb(217,217,217)"
             },
             "line": {
              "color": "white"
             }
            },
            "type": "table"
           }
          ]
         },
         "layout": {
          "annotationdefaults": {
           "arrowhead": 0,
           "arrowwidth": 1
          },
          "autotypenumbers": "strict",
          "coloraxis": {
           "colorbar": {
            "outlinewidth": 1,
            "tickcolor": "rgb(36,36,36)",
            "ticks": "outside"
           }
          },
          "colorscale": {
           "diverging": [
            [
             0,
             "rgb(103,0,31)"
            ],
            [
             0.1,
             "rgb(178,24,43)"
            ],
            [
             0.2,
             "rgb(214,96,77)"
            ],
            [
             0.3,
             "rgb(244,165,130)"
            ],
            [
             0.4,
             "rgb(253,219,199)"
            ],
            [
             0.5,
             "rgb(247,247,247)"
            ],
            [
             0.6,
             "rgb(209,229,240)"
            ],
            [
             0.7,
             "rgb(146,197,222)"
            ],
            [
             0.8,
             "rgb(67,147,195)"
            ],
            [
             0.9,
             "rgb(33,102,172)"
            ],
            [
             1,
             "rgb(5,48,97)"
            ]
           ],
           "sequential": [
            [
             0,
             "#440154"
            ],
            [
             0.1111111111111111,
             "#482878"
            ],
            [
             0.2222222222222222,
             "#3e4989"
            ],
            [
             0.3333333333333333,
             "#31688e"
            ],
            [
             0.4444444444444444,
             "#26828e"
            ],
            [
             0.5555555555555556,
             "#1f9e89"
            ],
            [
             0.6666666666666666,
             "#35b779"
            ],
            [
             0.7777777777777778,
             "#6ece58"
            ],
            [
             0.8888888888888888,
             "#b5de2b"
            ],
            [
             1,
             "#fde725"
            ]
           ],
           "sequentialminus": [
            [
             0,
             "#440154"
            ],
            [
             0.1111111111111111,
             "#482878"
            ],
            [
             0.2222222222222222,
             "#3e4989"
            ],
            [
             0.3333333333333333,
             "#31688e"
            ],
            [
             0.4444444444444444,
             "#26828e"
            ],
            [
             0.5555555555555556,
             "#1f9e89"
            ],
            [
             0.6666666666666666,
             "#35b779"
            ],
            [
             0.7777777777777778,
             "#6ece58"
            ],
            [
             0.8888888888888888,
             "#b5de2b"
            ],
            [
             1,
             "#fde725"
            ]
           ]
          },
          "colorway": [
           "#1F77B4",
           "#FF7F0E",
           "#2CA02C",
           "#D62728",
           "#9467BD",
           "#8C564B",
           "#E377C2",
           "#7F7F7F",
           "#BCBD22",
           "#17BECF"
          ],
          "font": {
           "color": "rgb(36,36,36)"
          },
          "geo": {
           "bgcolor": "white",
           "lakecolor": "white",
           "landcolor": "white",
           "showlakes": true,
           "showland": true,
           "subunitcolor": "white"
          },
          "hoverlabel": {
           "align": "left"
          },
          "hovermode": "closest",
          "mapbox": {
           "style": "light"
          },
          "paper_bgcolor": "white",
          "plot_bgcolor": "white",
          "polar": {
           "angularaxis": {
            "gridcolor": "rgb(232,232,232)",
            "linecolor": "rgb(36,36,36)",
            "showgrid": false,
            "showline": true,
            "ticks": "outside"
           },
           "bgcolor": "white",
           "radialaxis": {
            "gridcolor": "rgb(232,232,232)",
            "linecolor": "rgb(36,36,36)",
            "showgrid": false,
            "showline": true,
            "ticks": "outside"
           }
          },
          "scene": {
           "xaxis": {
            "backgroundcolor": "white",
            "gridcolor": "rgb(232,232,232)",
            "gridwidth": 2,
            "linecolor": "rgb(36,36,36)",
            "showbackground": true,
            "showgrid": false,
            "showline": true,
            "ticks": "outside",
            "zeroline": false,
            "zerolinecolor": "rgb(36,36,36)"
           },
           "yaxis": {
            "backgroundcolor": "white",
            "gridcolor": "rgb(232,232,232)",
            "gridwidth": 2,
            "linecolor": "rgb(36,36,36)",
            "showbackground": true,
            "showgrid": false,
            "showline": true,
            "ticks": "outside",
            "zeroline": false,
            "zerolinecolor": "rgb(36,36,36)"
           },
           "zaxis": {
            "backgroundcolor": "white",
            "gridcolor": "rgb(232,232,232)",
            "gridwidth": 2,
            "linecolor": "rgb(36,36,36)",
            "showbackground": true,
            "showgrid": false,
            "showline": true,
            "ticks": "outside",
            "zeroline": false,
            "zerolinecolor": "rgb(36,36,36)"
           }
          },
          "shapedefaults": {
           "fillcolor": "black",
           "line": {
            "width": 0
           },
           "opacity": 0.3
          },
          "ternary": {
           "aaxis": {
            "gridcolor": "rgb(232,232,232)",
            "linecolor": "rgb(36,36,36)",
            "showgrid": false,
            "showline": true,
            "ticks": "outside"
           },
           "baxis": {
            "gridcolor": "rgb(232,232,232)",
            "linecolor": "rgb(36,36,36)",
            "showgrid": false,
            "showline": true,
            "ticks": "outside"
           },
           "bgcolor": "white",
           "caxis": {
            "gridcolor": "rgb(232,232,232)",
            "linecolor": "rgb(36,36,36)",
            "showgrid": false,
            "showline": true,
            "ticks": "outside"
           }
          },
          "title": {
           "x": 0.05
          },
          "xaxis": {
           "automargin": true,
           "gridcolor": "rgb(232,232,232)",
           "linecolor": "rgb(36,36,36)",
           "showgrid": false,
           "showline": true,
           "ticks": "outside",
           "title": {
            "standoff": 15
           },
           "zeroline": false,
           "zerolinecolor": "rgb(36,36,36)"
          },
          "yaxis": {
           "automargin": true,
           "gridcolor": "rgb(232,232,232)",
           "linecolor": "rgb(36,36,36)",
           "showgrid": false,
           "showline": true,
           "ticks": "outside",
           "title": {
            "standoff": 15
           },
           "zeroline": false,
           "zerolinecolor": "rgb(36,36,36)"
          }
         }
        },
        "xaxis": {
         "anchor": "y",
         "domain": [
          0,
          1
         ],
         "matches": "x2",
         "showticklabels": false
        },
        "xaxis2": {
         "anchor": "y2",
         "domain": [
          0,
          1
         ],
         "title": {
          "text": "Time(s)"
         }
        },
        "yaxis": {
         "anchor": "x",
         "domain": [
          0.575,
          1
         ],
         "title": {
          "text": "V"
         }
        },
        "yaxis2": {
         "anchor": "x2",
         "domain": [
          0,
          0.425
         ],
         "title": {
          "text": "V"
         }
        }
       },
       "_py2js_animate": {},
       "_py2js_deleteTraces": {},
       "_py2js_moveTraces": {},
       "_py2js_removeLayoutProps": {},
       "_py2js_removeTraceProps": {},
       "_view_count": 1
      }
     },
     "43c665d9e9f9477d98fedb26f2f319a4": {
      "model_module": "@jupyter-widgets/controls",
      "model_module_version": "1.5.0",
      "model_name": "DescriptionStyleModel",
      "state": {
       "description_width": ""
      }
     },
     "43caf260dde949d7986eb21bf74aa12b": {
      "model_module": "@jupyter-widgets/controls",
      "model_module_version": "1.5.0",
      "model_name": "DescriptionStyleModel",
      "state": {
       "description_width": ""
      }
     },
     "43e194d887a64b84a03c0af3ace56238": {
      "model_module": "@jupyter-widgets/base",
      "model_module_version": "1.2.0",
      "model_name": "LayoutModel",
      "state": {
       "width": "80%"
      }
     },
     "451b3a5c3fd14bec8b453cad3ab401ee": {
      "model_module": "@jupyter-widgets/base",
      "model_module_version": "1.2.0",
      "model_name": "LayoutModel",
      "state": {}
     },
     "451cfd2c264b416c91db5c3b9f05eefa": {
      "model_module": "@jupyter-widgets/base",
      "model_module_version": "1.2.0",
      "model_name": "LayoutModel",
      "state": {}
     },
     "453a483e498a46a9abf55d49cb012711": {
      "model_module": "@jupyter-widgets/base",
      "model_module_version": "1.2.0",
      "model_name": "LayoutModel",
      "state": {}
     },
     "453fde2a7a3e40d8943f4af191a92398": {
      "model_module": "@jupyter-widgets/base",
      "model_module_version": "1.2.0",
      "model_name": "LayoutModel",
      "state": {}
     },
     "457a0b5ed9b04c8a82a325bf71afd139": {
      "model_module": "@jupyter-widgets/controls",
      "model_module_version": "1.5.0",
      "model_name": "DescriptionStyleModel",
      "state": {
       "description_width": ""
      }
     },
     "45ebd75a295c405284c1981adf83f94f": {
      "model_module": "@jupyter-widgets/base",
      "model_module_version": "1.2.0",
      "model_name": "LayoutModel",
      "state": {}
     },
     "462a5e0ff86d4adfaf4d450f630962f1": {
      "model_module": "@jupyter-widgets/controls",
      "model_module_version": "1.5.0",
      "model_name": "DropdownModel",
      "state": {
       "_options_labels": [
        "1"
       ],
       "description": "gains:",
       "index": 0,
       "layout": "IPY_MODEL_6a576645e098434883ba8b6151568e88",
       "style": "IPY_MODEL_d3beb6923e644c24862b54fe4bfb4d5f"
      }
     },
     "4665cba9c81a4314b484ea497e9b1e61": {
      "model_module": "@jupyter-widgets/controls",
      "model_module_version": "1.5.0",
      "model_name": "DropdownModel",
      "state": {
       "_options_labels": [
        "0",
        "1",
        "2",
        "3"
       ],
       "description": "Channel:",
       "disabled": true,
       "index": 0,
       "layout": "IPY_MODEL_11a09e5a93cd4e1c90121171facafd04",
       "style": "IPY_MODEL_ac1b8a078b424855b711e81ad049d53e"
      }
     },
     "469c9c8a64c044a398dc596182c647a1": {
      "model_module": "@jupyter-widgets/base",
      "model_module_version": "1.2.0",
      "model_name": "LayoutModel",
      "state": {}
     },
     "46c634b673a04ca19740cdeda2664127": {
      "model_module": "@jupyter-widgets/controls",
      "model_module_version": "1.5.0",
      "model_name": "DropdownModel",
      "state": {
       "_options_labels": [
        "0",
        "1",
        "2",
        "3"
       ],
       "description": "Channel:",
       "disabled": true,
       "index": 0,
       "layout": "IPY_MODEL_469c9c8a64c044a398dc596182c647a1",
       "style": "IPY_MODEL_dd1c37762cd041ffab37e6c624d973f3"
      }
     },
     "46f6bcef7b564a12a3d8a86ed2ab2efc": {
      "model_module": "@jupyter-widgets/controls",
      "model_module_version": "1.5.0",
      "model_name": "BoundedFloatTextModel",
      "state": {
       "description": "Rate (Hz):",
       "disabled": true,
       "layout": "IPY_MODEL_fe66249e590a409aa9efb1e9f0cec19c",
       "max": 20,
       "step": 0.02,
       "style": "IPY_MODEL_2a5093846114422691ef9183485621dc",
       "value": 1
      }
     },
     "47a1e79b130949f6ba3dbffe761f4929": {
      "model_module": "@jupyter-widgets/base",
      "model_module_version": "1.2.0",
      "model_name": "LayoutModel",
      "state": {}
     },
     "47a62fa5d6f445f9a9eb9f0e95e26073": {
      "model_module": "@jupyter-widgets/base",
      "model_module_version": "1.2.0",
      "model_name": "LayoutModel",
      "state": {}
     },
     "47f2d4724bf548639554aedce411480e": {
      "model_module": "@jupyter-widgets/controls",
      "model_module_version": "1.5.0",
      "model_name": "DescriptionStyleModel",
      "state": {
       "description_width": ""
      }
     },
     "481aae10b3b9485480611d623602a9c0": {
      "model_module": "@jupyter-widgets/base",
      "model_module_version": "1.2.0",
      "model_name": "LayoutModel",
      "state": {}
     },
     "48d150e26718481d9388fba36bea3af5": {
      "model_module": "@jupyter-widgets/controls",
      "model_module_version": "1.5.0",
      "model_name": "BoundedFloatTextModel",
      "state": {
       "description": "Rate (Hz):",
       "disabled": true,
       "layout": "IPY_MODEL_14ae076a55db448fa22fca46cb2269e2",
       "max": 20,
       "step": 0.02,
       "style": "IPY_MODEL_0cd266d7a48a4daeb77b5ac1057271b4",
       "value": 1
      }
     },
     "4910573e56b947968ab4b6db371964e3": {
      "model_module": "@jupyter-widgets/controls",
      "model_module_version": "1.5.0",
      "model_name": "DescriptionStyleModel",
      "state": {
       "description_width": ""
      }
     },
     "4917cbd1622e4f8c8504e8d2d0c602ab": {
      "model_module": "@jupyter-widgets/base",
      "model_module_version": "1.2.0",
      "model_name": "LayoutModel",
      "state": {}
     },
     "492a354c6b904f5c8c94eadbc096367a": {
      "model_module": "@jupyter-widgets/controls",
      "model_module_version": "1.5.0",
      "model_name": "DropdownModel",
      "state": {
       "_options_labels": [
        "0",
        "1",
        "2",
        "3"
       ],
       "description": "Channel:",
       "disabled": true,
       "index": 0,
       "layout": "IPY_MODEL_dbb253f2f0b44a11804e97cbf13bee0e",
       "style": "IPY_MODEL_4948f3ef6a194180bc348f97015a0d63"
      }
     },
     "4948f3ef6a194180bc348f97015a0d63": {
      "model_module": "@jupyter-widgets/controls",
      "model_module_version": "1.5.0",
      "model_name": "DescriptionStyleModel",
      "state": {
       "description_width": ""
      }
     },
     "495a2a65e5444d20886678592042f5cd": {
      "model_module": "@jupyter-widgets/controls",
      "model_module_version": "1.5.0",
      "model_name": "HTMLModel",
      "state": {
       "layout": "IPY_MODEL_c8fa6a3dbc88435f99de4e3bf90e90b1",
       "placeholder": "",
       "style": "IPY_MODEL_1dcf357259c14acc84045ac34d431dda",
       "value": "<span style=\"color:blue;\"> To accurately read point location on graph you can zoom in. Drag to zoom. Additional controls show above plot when you hover over it.</span>"
      }
     },
     "4965614bee274cdcb2d10cb3720de243": {
      "model_module": "@jupyter-widgets/controls",
      "model_module_version": "1.5.0",
      "model_name": "DescriptionStyleModel",
      "state": {
       "description_width": ""
      }
     },
     "497bc1fbb77b4cb0bd24af8a7f1bc750": {
      "model_module": "@jupyter-widgets/base",
      "model_module_version": "1.2.0",
      "model_name": "LayoutModel",
      "state": {}
     },
     "49ea31d2f5934da5bb1f45eb3191cf58": {
      "model_module": "@jupyter-widgets/base",
      "model_module_version": "1.2.0",
      "model_name": "LayoutModel",
      "state": {}
     },
     "4a252339fb164277a3355282ec0d69fb": {
      "model_module": "@jupyter-widgets/base",
      "model_module_version": "1.2.0",
      "model_name": "LayoutModel",
      "state": {}
     },
     "4ada7b881a1b4d489ec7616263f11dd2": {
      "model_module": "@jupyter-widgets/base",
      "model_module_version": "1.2.0",
      "model_name": "LayoutModel",
      "state": {}
     },
     "4b13ec805a994f13bc252f36a10ec61c": {
      "model_module": "@jupyter-widgets/controls",
      "model_module_version": "1.5.0",
      "model_name": "DescriptionStyleModel",
      "state": {
       "description_width": ""
      }
     },
     "4bda4e0cba8940bbaf59cb374cb955c9": {
      "model_module": "@jupyter-widgets/base",
      "model_module_version": "1.2.0",
      "model_name": "LayoutModel",
      "state": {}
     },
     "4be59f380e1e4aebbf2cc2e3d8158a6d": {
      "model_module": "@jupyter-widgets/base",
      "model_module_version": "1.2.0",
      "model_name": "LayoutModel",
      "state": {}
     },
     "4c476f8042334faf816d4174efc36cd2": {
      "model_module": "@jupyter-widgets/controls",
      "model_module_version": "1.5.0",
      "model_name": "DropdownModel",
      "state": {
       "_options_labels": [
        "0 ADS1115",
        "1 DAQC2"
       ],
       "description": "Board:",
       "disabled": true,
       "index": 0,
       "layout": "IPY_MODEL_4917cbd1622e4f8c8504e8d2d0c602ab",
       "style": "IPY_MODEL_fcd3fdca299e49b4a1bd341cd3c279cd"
      }
     },
     "4c81aacd3dfe422ea2f4c71c0a2681a1": {
      "model_module": "@jupyter-widgets/base",
      "model_module_version": "1.2.0",
      "model_name": "LayoutModel",
      "state": {
       "border": "solid"
      }
     },
     "4d33a81e053140a994b7a916073f3baa": {
      "model_module": "@jupyter-widgets/controls",
      "model_module_version": "1.5.0",
      "model_name": "DescriptionStyleModel",
      "state": {
       "description_width": ""
      }
     },
     "4df56d0b91ed4230a33e5a6d00cb0123": {
      "model_module": "@jupyter-widgets/base",
      "model_module_version": "1.2.0",
      "model_name": "LayoutModel",
      "state": {}
     },
     "4df63f4520754b8d9e0b3038a0e127cd": {
      "model_module": "@jupyter-widgets/base",
      "model_module_version": "1.2.0",
      "model_name": "LayoutModel",
      "state": {}
     },
     "4e038838d24b416ebbc6305db8e287f8": {
      "model_module": "@jupyter-widgets/base",
      "model_module_version": "1.2.0",
      "model_name": "LayoutModel",
      "state": {
       "border": "solid"
      }
     },
     "4e1e4362217f4d04b0b8aaa1608d8934": {
      "model_module": "@jupyter-widgets/base",
      "model_module_version": "1.2.0",
      "model_name": "LayoutModel",
      "state": {}
     },
     "4e25c76d9d3a4d2a9841e1e13b6c15da": {
      "model_module": "@jupyter-widgets/controls",
      "model_module_version": "1.5.0",
      "model_name": "DescriptionStyleModel",
      "state": {
       "description_width": ""
      }
     },
     "4f1f643a9d794cf39ca9bac48ecd4102": {
      "model_module": "@jupyter-widgets/base",
      "model_module_version": "1.2.0",
      "model_name": "LayoutModel",
      "state": {
       "border": "solid"
      }
     },
     "4f221a4307394b79aef35c109b536799": {
      "model_module": "@jupyter-widgets/base",
      "model_module_version": "1.2.0",
      "model_name": "LayoutModel",
      "state": {}
     },
     "5024f94b5a0742dd879a6f4b4be4ce67": {
      "model_module": "@jupyter-widgets/base",
      "model_module_version": "1.2.0",
      "model_name": "LayoutModel",
      "state": {}
     },
     "5029458f6205463fa8a7e66046c97609": {
      "model_module": "@jupyter-widgets/base",
      "model_module_version": "1.2.0",
      "model_name": "LayoutModel",
      "state": {}
     },
     "502b38f598dd417f84ba218cf2be673b": {
      "model_module": "@jupyter-widgets/base",
      "model_module_version": "1.2.0",
      "model_name": "LayoutModel",
      "state": {
       "border": "solid"
      }
     },
     "50616a9a3f5a478381c6984ba830423e": {
      "model_module": "@jupyter-widgets/controls",
      "model_module_version": "1.5.0",
      "model_name": "CheckboxModel",
      "state": {
       "description": "Display multiple traces as stacked graphs. Uncheck to display all on the same graph.",
       "disabled": false,
       "layout": "IPY_MODEL_957e54caccdc4e2ca7e86bd163635644",
       "style": "IPY_MODEL_a9359185911d4eb684afa848fcd85af1",
       "value": true
      }
     },
     "5077173350624480a86c8c5bda53a2f3": {
      "model_module": "@jupyter-widgets/base",
      "model_module_version": "1.2.0",
      "model_name": "LayoutModel",
      "state": {}
     },
     "50abba569ca6476bad089f411dcb4d44": {
      "model_module": "@jupyter-widgets/base",
      "model_module_version": "1.2.0",
      "model_name": "LayoutModel",
      "state": {}
     },
     "512b4e08b1874279a0b9657716c16a33": {
      "model_module": "@jupyter-widgets/controls",
      "model_module_version": "1.5.0",
      "model_name": "DescriptionStyleModel",
      "state": {
       "description_width": ""
      }
     },
     "5189a04f90bf4b849d94ae1d6a15bd7d": {
      "model_module": "@jupyter-widgets/controls",
      "model_module_version": "1.5.0",
      "model_name": "HBoxModel",
      "state": {
       "children": [
        "IPY_MODEL_630c736b4b3a43c8b1264f9d95bfe747",
        "IPY_MODEL_09a6d2be88404dd9a45fc5502482667b"
       ],
       "layout": "IPY_MODEL_8b5e50837925426f9a0bec2ab8d3edbe"
      }
     },
     "51e47e16825343bc85f4e69ba593c35f": {
      "model_module": "@jupyter-widgets/controls",
      "model_module_version": "1.5.0",
      "model_name": "DescriptionStyleModel",
      "state": {
       "description_width": ""
      }
     },
     "51f2a215a9324c54919672e53a9ebc9e": {
      "model_module": "@jupyter-widgets/base",
      "model_module_version": "1.2.0",
      "model_name": "LayoutModel",
      "state": {}
     },
     "5267c7b7272640679ec6d95de1b25a3a": {
      "model_module": "@jupyter-widgets/base",
      "model_module_version": "1.2.0",
      "model_name": "LayoutModel",
      "state": {}
     },
     "5329c6f8ae174247b710263468599d05": {
      "model_module": "@jupyter-widgets/base",
      "model_module_version": "1.2.0",
      "model_name": "LayoutModel",
      "state": {}
     },
     "534c2549e7fe4507843a2785a3694adc": {
      "model_module": "@jupyter-widgets/controls",
      "model_module_version": "1.5.0",
      "model_name": "DescriptionStyleModel",
      "state": {
       "description_width": ""
      }
     },
     "539942905b1c45faa3ece6f3cf384b8e": {
      "model_module": "@jupyter-widgets/controls",
      "model_module_version": "1.5.0",
      "model_name": "DropdownModel",
      "state": {
       "_options_labels": [
        "1"
       ],
       "description": "gains:",
       "index": 0,
       "layout": "IPY_MODEL_5029458f6205463fa8a7e66046c97609",
       "style": "IPY_MODEL_ce045bea5e12480d9de551cb37ba7f17"
      }
     },
     "53a84f24090e4a3cabe30c1694dea4f9": {
      "model_module": "@jupyter-widgets/base",
      "model_module_version": "1.2.0",
      "model_name": "LayoutModel",
      "state": {}
     },
     "53b3169d663f412788f72495dbd072ce": {
      "model_module": "@jupyter-widgets/base",
      "model_module_version": "1.2.0",
      "model_name": "LayoutModel",
      "state": {}
     },
     "54ba9d60ca994f63a0584352c5a803a2": {
      "model_module": "@jupyter-widgets/base",
      "model_module_version": "1.2.0",
      "model_name": "LayoutModel",
      "state": {}
     },
     "55726732b6ac493dade0fe2ac4a04280": {
      "model_module": "@jupyter-widgets/controls",
      "model_module_version": "1.5.0",
      "model_name": "DescriptionStyleModel",
      "state": {
       "description_width": ""
      }
     },
     "557dee7c26e04df4a5fdbbc62972694f": {
      "model_module": "@jupyter-widgets/controls",
      "model_module_version": "1.5.0",
      "model_name": "ButtonStyleModel",
      "state": {}
     },
     "5612e9940b4b458aa96f5f3ab4be6ca5": {
      "model_module": "jupyterlab-plotly",
      "model_module_version": "^5.1.0",
      "model_name": "FigureModel",
      "state": {
       "_config": {
        "plotlyServerURL": "https://plot.ly"
       },
       "_data": [
        {
         "name": "Trace_0(V)",
         "type": "scatter",
         "uid": "75a265c2-fe1c-4fa0-bb9f-97139a85f352",
         "x": [
          0.1708366870880127,
          1.1680042743682861,
          2.1665382385253906,
          3.1654059886932373,
          4.165315628051758,
          5.162947177886963,
          6.168999433517456,
          7.1604790687561035,
          8.158889532089233,
          9.157370567321777,
          10.156326293945312,
          11.155887842178345,
          12.154508352279663,
          13.153017520904541,
          14.152372121810913,
          15.151013374328613,
          16.149580001831055,
          17.14846134185791,
          18.147273063659668,
          19.145681142807007,
          20.14512324333191,
          21.14385223388672,
          22.142664670944214,
          23.142657995224,
          24.140125036239624,
          25.14071011543274,
          26.137170791625977,
          27.13595485687256,
          28.13521099090576,
          29.133792400360107,
          30.132593154907227,
          31.131181716918945,
          32.12956213951111,
          33.128997802734375,
          34.1267945766449,
          35.125433921813965,
          36.12523531913757,
          37.12385153770447,
          38.122339487075806,
          39.12118339538574,
          40.119582176208496,
          41.1190550327301,
          42.117499351501465,
          43.116039752960205,
          44.115395307540894,
          45.114049673080444,
          46.112536907196045,
          47.11122250556946,
          48.11007499694824,
          49.108705282211304,
          50.107962131500244,
          51.106648445129395,
          52.105154037475586,
          53.1040735244751,
          54.10295581817627,
          55.10192036628723,
          56.101335525512695,
          57.09959650039673,
          58.09828782081604,
          59.09755897521973,
          60.09561824798584,
          61.094318151474,
          62.093222856521606,
          63.09191608428955,
          64.09146451950073,
          65.08955645561218,
          66.08831977844238,
          67.08732199668884,
          68.08565998077393,
          69.08698391914368,
          70.08358478546143,
          71.08313274383545,
          72.08193516731262,
          73.08041191101074,
          74.07918381690979,
          75.07734537124634,
          76.07634949684143,
          77.07492065429688,
          78.07421708106995,
          79.07228136062622,
          80.07185649871826,
          81.07091450691223,
          82.07124829292297,
          83.06809282302856,
          84.06696605682373,
          85.06576895713806,
          86.06403303146362,
          87.06312894821167,
          88.06236171722412,
          89.06060147285461,
          90.05933880805969,
          91.05774688720703,
          92.05654668807983,
          93.05543112754822,
          94.05400133132935,
          95.05362296104431,
          96.05235743522644,
          97.05110239982605,
          98.04994440078735,
          99.04851460456848,
          100.04707145690918,
          101.04580354690552,
          102.0446572303772,
          103.04378890991211,
          104.04234790802002,
          105.04117441177368,
          106.0400493144989,
          107.03834414482117,
          108.0368082523346,
          109.03960275650024,
          110.03939080238342,
          111.03443956375122,
          112.03265047073364,
          113.0308837890625,
          114.0296151638031,
          115.02840995788574,
          116.02671241760254,
          117.02663898468018,
          118.0247540473938,
          119.02567267417908,
          120.02366065979004,
          121.02072858810425,
          122.01952338218689,
          123.018319606781,
          124.01726603507996,
          125.01561427116394,
          126.01756954193115,
          127.01349639892578,
          128.0125823020935,
          129.0112805366516,
          130.0101683139801,
          131.0086681842804,
          132.00759077072144,
          133.00657200813293,
          134.0053505897522,
          135.00423121452332,
          136.0034728050232,
          137.0011785030365,
          138.000173330307,
          138.99892139434814,
          139.9974720478058,
          140.99728536605835,
          141.9960217475891,
          142.99397659301758,
          143.9933111667633,
          144.99316215515137,
          145.99098181724548,
          146.98933124542236,
          147.98808431625366,
          148.9874620437622,
          149.98622703552246,
          150.98503708839417,
          151.98344707489014,
          152.98269295692444,
          153.98136186599731,
          154.98008608818054,
          155.97867369651794,
          156.97697257995605,
          157.97622728347778,
          158.9746174812317,
          159.97365379333496,
          160.9725112915039,
          161.97196006774902,
          162.96992087364197,
          163.96888065338135,
          164.9683494567871,
          165.96640491485596,
          166.96485662460327,
          167.9639492034912,
          168.96368098258972,
          169.96196389198303,
          170.96018481254578,
          171.95929288864136
         ],
         "xaxis": "x2",
         "y": [
          -0.318,
          -0.26,
          -0.313,
          -0.318,
          -0.305,
          -0.351,
          -0.322,
          -0.341,
          -0.366,
          -0.37,
          -0.339,
          -0.394,
          -0.287,
          -0.313,
          -0.295,
          -0.324,
          -0.332,
          -0.338,
          -0.292,
          -0.308,
          -0.283,
          -0.277,
          -0.3,
          -0.291,
          -0.312,
          -0.299,
          -0.306,
          -0.35,
          -0.315,
          -0.295,
          -0.331,
          -0.304,
          -0.279,
          -0.301,
          -0.249,
          -0.25,
          -0.213,
          -0.215,
          -0.241,
          -0.278,
          -0.279,
          -0.307,
          -0.29,
          -0.31,
          -0.285,
          -0.274,
          -0.283,
          -0.27,
          -0.262,
          -0.32,
          -0.229,
          -0.267,
          -0.245,
          -0.283,
          -0.292,
          -0.297,
          -0.296,
          -0.259,
          -0.312,
          -0.315,
          -0.299,
          -0.326,
          -0.281,
          -0.344,
          -0.385,
          -0.301,
          -0.289,
          -0.316,
          -0.32,
          -0.359,
          -0.378,
          -0.328,
          -0.314,
          -0.333,
          -0.313,
          -0.315,
          -0.341,
          -0.309,
          -0.329,
          -0.338,
          -0.326,
          -0.31,
          -0.335,
          -0.372,
          -0.283,
          -0.282,
          -0.322,
          -0.287,
          -0.271,
          -0.305,
          -0.276,
          -0.246,
          -0.241,
          -0.26,
          -0.223,
          -0.184,
          -0.201,
          -0.253,
          -0.262,
          -0.275,
          -0.278,
          -0.278,
          -0.286,
          -0.273,
          -0.271,
          -0.306,
          -0.303,
          -0.344,
          -0.329,
          -0.265,
          -0.336,
          -0.174,
          0.024,
          0.202,
          0.397,
          0.506,
          0.692,
          0.852,
          0.935,
          0.981,
          0.996,
          0.97,
          0.942,
          1.011,
          0.983,
          0.978,
          1.016,
          0.986,
          0.965,
          0.955,
          0.989,
          0.981,
          0.981,
          0.933,
          0.955,
          0.933,
          0.948,
          0.994,
          0.915,
          0.951,
          0.928,
          0.932,
          0.96,
          0.976,
          0.903,
          0.957,
          0.942,
          0.996,
          0.967,
          1.012,
          0.997,
          -0.456,
          -1.027,
          -0.865,
          -0.654,
          -0.489,
          -0.397,
          -0.354,
          -0.354,
          -0.396,
          -0.409,
          -0.465,
          -0.437,
          -0.397,
          -0.426,
          -0.467,
          -0.433,
          -0.44,
          -0.41,
          -0.404,
          -0.38,
          -0.366,
          -0.371
         ],
         "yaxis": "y2"
        },
        {
         "name": "Trace_1(V)",
         "type": "scatter",
         "uid": "0e5ba06f-6b64-40f1-81ab-18a4941408f7",
         "x": [
          0.1708366870880127,
          1.1680042743682861,
          2.1665382385253906,
          3.1654059886932373,
          4.165315628051758,
          5.162947177886963,
          6.168999433517456,
          7.1604790687561035,
          8.158889532089233,
          9.157370567321777,
          10.156326293945312,
          11.155887842178345,
          12.154508352279663,
          13.153017520904541,
          14.152372121810913,
          15.151013374328613,
          16.149580001831055,
          17.14846134185791,
          18.147273063659668,
          19.145681142807007,
          20.14512324333191,
          21.14385223388672,
          22.142664670944214,
          23.142657995224,
          24.140125036239624,
          25.14071011543274,
          26.137170791625977,
          27.13595485687256,
          28.13521099090576,
          29.133792400360107,
          30.132593154907227,
          31.131181716918945,
          32.12956213951111,
          33.128997802734375,
          34.1267945766449,
          35.125433921813965,
          36.12523531913757,
          37.12385153770447,
          38.122339487075806,
          39.12118339538574,
          40.119582176208496,
          41.1190550327301,
          42.117499351501465,
          43.116039752960205,
          44.115395307540894,
          45.114049673080444,
          46.112536907196045,
          47.11122250556946,
          48.11007499694824,
          49.108705282211304,
          50.107962131500244,
          51.106648445129395,
          52.105154037475586,
          53.1040735244751,
          54.10295581817627,
          55.10192036628723,
          56.101335525512695,
          57.09959650039673,
          58.09828782081604,
          59.09755897521973,
          60.09561824798584,
          61.094318151474,
          62.093222856521606,
          63.09191608428955,
          64.09146451950073,
          65.08955645561218,
          66.08831977844238,
          67.08732199668884,
          68.08565998077393,
          69.08698391914368,
          70.08358478546143,
          71.08313274383545,
          72.08193516731262,
          73.08041191101074,
          74.07918381690979,
          75.07734537124634,
          76.07634949684143,
          77.07492065429688,
          78.07421708106995,
          79.07228136062622,
          80.07185649871826,
          81.07091450691223,
          82.07124829292297,
          83.06809282302856,
          84.06696605682373,
          85.06576895713806,
          86.06403303146362,
          87.06312894821167,
          88.06236171722412,
          89.06060147285461,
          90.05933880805969,
          91.05774688720703,
          92.05654668807983,
          93.05543112754822,
          94.05400133132935,
          95.05362296104431,
          96.05235743522644,
          97.05110239982605,
          98.04994440078735,
          99.04851460456848,
          100.04707145690918,
          101.04580354690552,
          102.0446572303772,
          103.04378890991211,
          104.04234790802002,
          105.04117441177368,
          106.0400493144989,
          107.03834414482117,
          108.0368082523346,
          109.03960275650024,
          110.03939080238342,
          111.03443956375122,
          112.03265047073364,
          113.0308837890625,
          114.0296151638031,
          115.02840995788574,
          116.02671241760254,
          117.02663898468018,
          118.0247540473938,
          119.02567267417908,
          120.02366065979004,
          121.02072858810425,
          122.01952338218689,
          123.018319606781,
          124.01726603507996,
          125.01561427116394,
          126.01756954193115,
          127.01349639892578,
          128.0125823020935,
          129.0112805366516,
          130.0101683139801,
          131.0086681842804,
          132.00759077072144,
          133.00657200813293,
          134.0053505897522,
          135.00423121452332,
          136.0034728050232,
          137.0011785030365,
          138.000173330307,
          138.99892139434814,
          139.9974720478058,
          140.99728536605835,
          141.9960217475891,
          142.99397659301758,
          143.9933111667633,
          144.99316215515137,
          145.99098181724548,
          146.98933124542236,
          147.98808431625366,
          148.9874620437622,
          149.98622703552246,
          150.98503708839417,
          151.98344707489014,
          152.98269295692444,
          153.98136186599731,
          154.98008608818054,
          155.97867369651794,
          156.97697257995605,
          157.97622728347778,
          158.9746174812317,
          159.97365379333496,
          160.9725112915039,
          161.97196006774902,
          162.96992087364197,
          163.96888065338135,
          164.9683494567871,
          165.96640491485596,
          166.96485662460327,
          167.9639492034912,
          168.96368098258972,
          169.96196389198303,
          170.96018481254578,
          171.95929288864136
         ],
         "xaxis": "x",
         "y": [
          -0.252,
          -0.233,
          -0.266,
          -0.242,
          -0.254,
          -0.287,
          -0.241,
          -0.29,
          -0.334,
          -0.315,
          -0.317,
          -0.376,
          -0.27,
          -0.253,
          -0.241,
          -0.236,
          -0.245,
          -0.314,
          -0.255,
          -0.26,
          -0.219,
          -0.208,
          -0.211,
          -0.21,
          -0.24,
          -0.224,
          -0.232,
          -0.276,
          -0.261,
          -0.293,
          -0.251,
          -0.201,
          -0.201,
          -0.248,
          -0.209,
          -0.195,
          -0.18,
          -0.183,
          -0.192,
          -0.241,
          -0.22,
          -0.247,
          -0.213,
          -0.287,
          -0.242,
          -0.246,
          -0.245,
          -0.209,
          -0.229,
          -0.264,
          -0.214,
          -0.233,
          -0.219,
          -0.238,
          -0.278,
          -0.253,
          -0.265,
          -0.242,
          -0.277,
          -0.284,
          -0.201,
          -0.242,
          -0.24,
          -0.307,
          -0.286,
          -0.267,
          -0.247,
          -0.255,
          -0.244,
          -0.291,
          -0.304,
          -0.285,
          -0.262,
          -0.287,
          -0.253,
          -0.304,
          -0.303,
          -0.324,
          -0.301,
          -0.299,
          -0.291,
          -0.291,
          -0.29,
          -0.262,
          -0.239,
          -0.251,
          -0.275,
          -0.26,
          -0.221,
          -0.237,
          -0.197,
          -0.217,
          -0.184,
          -0.211,
          -0.162,
          -0.149,
          -0.175,
          -0.195,
          -0.215,
          -0.237,
          -0.224,
          -0.213,
          -0.228,
          -0.24,
          -0.232,
          -0.27,
          -0.31,
          -0.288,
          -0.287,
          -0.264,
          -0.304,
          -0.274,
          -0.274,
          -0.28,
          -0.311,
          -0.354,
          -0.36,
          -0.347,
          -0.338,
          -0.339,
          -0.313,
          -0.35,
          -0.337,
          -0.343,
          -0.314,
          -0.33,
          -0.301,
          -0.313,
          -0.341,
          -0.334,
          -0.326,
          -0.335,
          -0.342,
          -0.385,
          -0.332,
          -0.362,
          -0.33,
          -0.325,
          -0.382,
          -0.354,
          -0.38,
          -0.383,
          -0.352,
          -0.336,
          -0.37,
          -0.354,
          -0.363,
          -0.337,
          -0.342,
          -0.311,
          -0.284,
          -0.311,
          -0.292,
          -0.317,
          -0.311,
          -0.353,
          -0.361,
          -0.325,
          -0.36,
          -0.316,
          -0.414,
          -0.398,
          -0.39,
          -0.372,
          -0.388,
          -0.426,
          -0.36,
          -0.361,
          -0.335,
          -0.341,
          -0.294,
          -0.287,
          -0.355
         ],
         "yaxis": "y"
        }
       ],
       "_js2py_relayout": {},
       "_js2py_restyle": {},
       "_js2py_update": {},
       "_last_layout_edit_id": 258,
       "_last_trace_edit_id": 258,
       "_layout": {
        "template": {
         "data": {
          "bar": [
           {
            "error_x": {
             "color": "rgb(36,36,36)"
            },
            "error_y": {
             "color": "rgb(36,36,36)"
            },
            "marker": {
             "line": {
              "color": "white",
              "width": 0.5
             },
             "pattern": {
              "fillmode": "overlay",
              "size": 10,
              "solidity": 0.2
             }
            },
            "type": "bar"
           }
          ],
          "barpolar": [
           {
            "marker": {
             "line": {
              "color": "white",
              "width": 0.5
             },
             "pattern": {
              "fillmode": "overlay",
              "size": 10,
              "solidity": 0.2
             }
            },
            "type": "barpolar"
           }
          ],
          "carpet": [
           {
            "aaxis": {
             "endlinecolor": "rgb(36,36,36)",
             "gridcolor": "white",
             "linecolor": "white",
             "minorgridcolor": "white",
             "startlinecolor": "rgb(36,36,36)"
            },
            "baxis": {
             "endlinecolor": "rgb(36,36,36)",
             "gridcolor": "white",
             "linecolor": "white",
             "minorgridcolor": "white",
             "startlinecolor": "rgb(36,36,36)"
            },
            "type": "carpet"
           }
          ],
          "choropleth": [
           {
            "colorbar": {
             "outlinewidth": 1,
             "tickcolor": "rgb(36,36,36)",
             "ticks": "outside"
            },
            "type": "choropleth"
           }
          ],
          "contour": [
           {
            "colorbar": {
             "outlinewidth": 1,
             "tickcolor": "rgb(36,36,36)",
             "ticks": "outside"
            },
            "colorscale": [
             [
              0,
              "#440154"
             ],
             [
              0.1111111111111111,
              "#482878"
             ],
             [
              0.2222222222222222,
              "#3e4989"
             ],
             [
              0.3333333333333333,
              "#31688e"
             ],
             [
              0.4444444444444444,
              "#26828e"
             ],
             [
              0.5555555555555556,
              "#1f9e89"
             ],
             [
              0.6666666666666666,
              "#35b779"
             ],
             [
              0.7777777777777778,
              "#6ece58"
             ],
             [
              0.8888888888888888,
              "#b5de2b"
             ],
             [
              1,
              "#fde725"
             ]
            ],
            "type": "contour"
           }
          ],
          "contourcarpet": [
           {
            "colorbar": {
             "outlinewidth": 1,
             "tickcolor": "rgb(36,36,36)",
             "ticks": "outside"
            },
            "type": "contourcarpet"
           }
          ],
          "heatmap": [
           {
            "colorbar": {
             "outlinewidth": 1,
             "tickcolor": "rgb(36,36,36)",
             "ticks": "outside"
            },
            "colorscale": [
             [
              0,
              "#440154"
             ],
             [
              0.1111111111111111,
              "#482878"
             ],
             [
              0.2222222222222222,
              "#3e4989"
             ],
             [
              0.3333333333333333,
              "#31688e"
             ],
             [
              0.4444444444444444,
              "#26828e"
             ],
             [
              0.5555555555555556,
              "#1f9e89"
             ],
             [
              0.6666666666666666,
              "#35b779"
             ],
             [
              0.7777777777777778,
              "#6ece58"
             ],
             [
              0.8888888888888888,
              "#b5de2b"
             ],
             [
              1,
              "#fde725"
             ]
            ],
            "type": "heatmap"
           }
          ],
          "heatmapgl": [
           {
            "colorbar": {
             "outlinewidth": 1,
             "tickcolor": "rgb(36,36,36)",
             "ticks": "outside"
            },
            "colorscale": [
             [
              0,
              "#440154"
             ],
             [
              0.1111111111111111,
              "#482878"
             ],
             [
              0.2222222222222222,
              "#3e4989"
             ],
             [
              0.3333333333333333,
              "#31688e"
             ],
             [
              0.4444444444444444,
              "#26828e"
             ],
             [
              0.5555555555555556,
              "#1f9e89"
             ],
             [
              0.6666666666666666,
              "#35b779"
             ],
             [
              0.7777777777777778,
              "#6ece58"
             ],
             [
              0.8888888888888888,
              "#b5de2b"
             ],
             [
              1,
              "#fde725"
             ]
            ],
            "type": "heatmapgl"
           }
          ],
          "histogram": [
           {
            "marker": {
             "line": {
              "color": "white",
              "width": 0.6
             }
            },
            "type": "histogram"
           }
          ],
          "histogram2d": [
           {
            "colorbar": {
             "outlinewidth": 1,
             "tickcolor": "rgb(36,36,36)",
             "ticks": "outside"
            },
            "colorscale": [
             [
              0,
              "#440154"
             ],
             [
              0.1111111111111111,
              "#482878"
             ],
             [
              0.2222222222222222,
              "#3e4989"
             ],
             [
              0.3333333333333333,
              "#31688e"
             ],
             [
              0.4444444444444444,
              "#26828e"
             ],
             [
              0.5555555555555556,
              "#1f9e89"
             ],
             [
              0.6666666666666666,
              "#35b779"
             ],
             [
              0.7777777777777778,
              "#6ece58"
             ],
             [
              0.8888888888888888,
              "#b5de2b"
             ],
             [
              1,
              "#fde725"
             ]
            ],
            "type": "histogram2d"
           }
          ],
          "histogram2dcontour": [
           {
            "colorbar": {
             "outlinewidth": 1,
             "tickcolor": "rgb(36,36,36)",
             "ticks": "outside"
            },
            "colorscale": [
             [
              0,
              "#440154"
             ],
             [
              0.1111111111111111,
              "#482878"
             ],
             [
              0.2222222222222222,
              "#3e4989"
             ],
             [
              0.3333333333333333,
              "#31688e"
             ],
             [
              0.4444444444444444,
              "#26828e"
             ],
             [
              0.5555555555555556,
              "#1f9e89"
             ],
             [
              0.6666666666666666,
              "#35b779"
             ],
             [
              0.7777777777777778,
              "#6ece58"
             ],
             [
              0.8888888888888888,
              "#b5de2b"
             ],
             [
              1,
              "#fde725"
             ]
            ],
            "type": "histogram2dcontour"
           }
          ],
          "mesh3d": [
           {
            "colorbar": {
             "outlinewidth": 1,
             "tickcolor": "rgb(36,36,36)",
             "ticks": "outside"
            },
            "type": "mesh3d"
           }
          ],
          "parcoords": [
           {
            "line": {
             "colorbar": {
              "outlinewidth": 1,
              "tickcolor": "rgb(36,36,36)",
              "ticks": "outside"
             }
            },
            "type": "parcoords"
           }
          ],
          "pie": [
           {
            "automargin": true,
            "type": "pie"
           }
          ],
          "scatter": [
           {
            "marker": {
             "colorbar": {
              "outlinewidth": 1,
              "tickcolor": "rgb(36,36,36)",
              "ticks": "outside"
             }
            },
            "type": "scatter"
           }
          ],
          "scatter3d": [
           {
            "line": {
             "colorbar": {
              "outlinewidth": 1,
              "tickcolor": "rgb(36,36,36)",
              "ticks": "outside"
             }
            },
            "marker": {
             "colorbar": {
              "outlinewidth": 1,
              "tickcolor": "rgb(36,36,36)",
              "ticks": "outside"
             }
            },
            "type": "scatter3d"
           }
          ],
          "scattercarpet": [
           {
            "marker": {
             "colorbar": {
              "outlinewidth": 1,
              "tickcolor": "rgb(36,36,36)",
              "ticks": "outside"
             }
            },
            "type": "scattercarpet"
           }
          ],
          "scattergeo": [
           {
            "marker": {
             "colorbar": {
              "outlinewidth": 1,
              "tickcolor": "rgb(36,36,36)",
              "ticks": "outside"
             }
            },
            "type": "scattergeo"
           }
          ],
          "scattergl": [
           {
            "marker": {
             "colorbar": {
              "outlinewidth": 1,
              "tickcolor": "rgb(36,36,36)",
              "ticks": "outside"
             }
            },
            "type": "scattergl"
           }
          ],
          "scattermapbox": [
           {
            "marker": {
             "colorbar": {
              "outlinewidth": 1,
              "tickcolor": "rgb(36,36,36)",
              "ticks": "outside"
             }
            },
            "type": "scattermapbox"
           }
          ],
          "scatterpolar": [
           {
            "marker": {
             "colorbar": {
              "outlinewidth": 1,
              "tickcolor": "rgb(36,36,36)",
              "ticks": "outside"
             }
            },
            "type": "scatterpolar"
           }
          ],
          "scatterpolargl": [
           {
            "marker": {
             "colorbar": {
              "outlinewidth": 1,
              "tickcolor": "rgb(36,36,36)",
              "ticks": "outside"
             }
            },
            "type": "scatterpolargl"
           }
          ],
          "scatterternary": [
           {
            "marker": {
             "colorbar": {
              "outlinewidth": 1,
              "tickcolor": "rgb(36,36,36)",
              "ticks": "outside"
             }
            },
            "type": "scatterternary"
           }
          ],
          "surface": [
           {
            "colorbar": {
             "outlinewidth": 1,
             "tickcolor": "rgb(36,36,36)",
             "ticks": "outside"
            },
            "colorscale": [
             [
              0,
              "#440154"
             ],
             [
              0.1111111111111111,
              "#482878"
             ],
             [
              0.2222222222222222,
              "#3e4989"
             ],
             [
              0.3333333333333333,
              "#31688e"
             ],
             [
              0.4444444444444444,
              "#26828e"
             ],
             [
              0.5555555555555556,
              "#1f9e89"
             ],
             [
              0.6666666666666666,
              "#35b779"
             ],
             [
              0.7777777777777778,
              "#6ece58"
             ],
             [
              0.8888888888888888,
              "#b5de2b"
             ],
             [
              1,
              "#fde725"
             ]
            ],
            "type": "surface"
           }
          ],
          "table": [
           {
            "cells": {
             "fill": {
              "color": "rgb(237,237,237)"
             },
             "line": {
              "color": "white"
             }
            },
            "header": {
             "fill": {
              "color": "rgb(217,217,217)"
             },
             "line": {
              "color": "white"
             }
            },
            "type": "table"
           }
          ]
         },
         "layout": {
          "annotationdefaults": {
           "arrowhead": 0,
           "arrowwidth": 1
          },
          "autotypenumbers": "strict",
          "coloraxis": {
           "colorbar": {
            "outlinewidth": 1,
            "tickcolor": "rgb(36,36,36)",
            "ticks": "outside"
           }
          },
          "colorscale": {
           "diverging": [
            [
             0,
             "rgb(103,0,31)"
            ],
            [
             0.1,
             "rgb(178,24,43)"
            ],
            [
             0.2,
             "rgb(214,96,77)"
            ],
            [
             0.3,
             "rgb(244,165,130)"
            ],
            [
             0.4,
             "rgb(253,219,199)"
            ],
            [
             0.5,
             "rgb(247,247,247)"
            ],
            [
             0.6,
             "rgb(209,229,240)"
            ],
            [
             0.7,
             "rgb(146,197,222)"
            ],
            [
             0.8,
             "rgb(67,147,195)"
            ],
            [
             0.9,
             "rgb(33,102,172)"
            ],
            [
             1,
             "rgb(5,48,97)"
            ]
           ],
           "sequential": [
            [
             0,
             "#440154"
            ],
            [
             0.1111111111111111,
             "#482878"
            ],
            [
             0.2222222222222222,
             "#3e4989"
            ],
            [
             0.3333333333333333,
             "#31688e"
            ],
            [
             0.4444444444444444,
             "#26828e"
            ],
            [
             0.5555555555555556,
             "#1f9e89"
            ],
            [
             0.6666666666666666,
             "#35b779"
            ],
            [
             0.7777777777777778,
             "#6ece58"
            ],
            [
             0.8888888888888888,
             "#b5de2b"
            ],
            [
             1,
             "#fde725"
            ]
           ],
           "sequentialminus": [
            [
             0,
             "#440154"
            ],
            [
             0.1111111111111111,
             "#482878"
            ],
            [
             0.2222222222222222,
             "#3e4989"
            ],
            [
             0.3333333333333333,
             "#31688e"
            ],
            [
             0.4444444444444444,
             "#26828e"
            ],
            [
             0.5555555555555556,
             "#1f9e89"
            ],
            [
             0.6666666666666666,
             "#35b779"
            ],
            [
             0.7777777777777778,
             "#6ece58"
            ],
            [
             0.8888888888888888,
             "#b5de2b"
            ],
            [
             1,
             "#fde725"
            ]
           ]
          },
          "colorway": [
           "#1F77B4",
           "#FF7F0E",
           "#2CA02C",
           "#D62728",
           "#9467BD",
           "#8C564B",
           "#E377C2",
           "#7F7F7F",
           "#BCBD22",
           "#17BECF"
          ],
          "font": {
           "color": "rgb(36,36,36)"
          },
          "geo": {
           "bgcolor": "white",
           "lakecolor": "white",
           "landcolor": "white",
           "showlakes": true,
           "showland": true,
           "subunitcolor": "white"
          },
          "hoverlabel": {
           "align": "left"
          },
          "hovermode": "closest",
          "mapbox": {
           "style": "light"
          },
          "paper_bgcolor": "white",
          "plot_bgcolor": "white",
          "polar": {
           "angularaxis": {
            "gridcolor": "rgb(232,232,232)",
            "linecolor": "rgb(36,36,36)",
            "showgrid": false,
            "showline": true,
            "ticks": "outside"
           },
           "bgcolor": "white",
           "radialaxis": {
            "gridcolor": "rgb(232,232,232)",
            "linecolor": "rgb(36,36,36)",
            "showgrid": false,
            "showline": true,
            "ticks": "outside"
           }
          },
          "scene": {
           "xaxis": {
            "backgroundcolor": "white",
            "gridcolor": "rgb(232,232,232)",
            "gridwidth": 2,
            "linecolor": "rgb(36,36,36)",
            "showbackground": true,
            "showgrid": false,
            "showline": true,
            "ticks": "outside",
            "zeroline": false,
            "zerolinecolor": "rgb(36,36,36)"
           },
           "yaxis": {
            "backgroundcolor": "white",
            "gridcolor": "rgb(232,232,232)",
            "gridwidth": 2,
            "linecolor": "rgb(36,36,36)",
            "showbackground": true,
            "showgrid": false,
            "showline": true,
            "ticks": "outside",
            "zeroline": false,
            "zerolinecolor": "rgb(36,36,36)"
           },
           "zaxis": {
            "backgroundcolor": "white",
            "gridcolor": "rgb(232,232,232)",
            "gridwidth": 2,
            "linecolor": "rgb(36,36,36)",
            "showbackground": true,
            "showgrid": false,
            "showline": true,
            "ticks": "outside",
            "zeroline": false,
            "zerolinecolor": "rgb(36,36,36)"
           }
          },
          "shapedefaults": {
           "fillcolor": "black",
           "line": {
            "width": 0
           },
           "opacity": 0.3
          },
          "ternary": {
           "aaxis": {
            "gridcolor": "rgb(232,232,232)",
            "linecolor": "rgb(36,36,36)",
            "showgrid": false,
            "showline": true,
            "ticks": "outside"
           },
           "baxis": {
            "gridcolor": "rgb(232,232,232)",
            "linecolor": "rgb(36,36,36)",
            "showgrid": false,
            "showline": true,
            "ticks": "outside"
           },
           "bgcolor": "white",
           "caxis": {
            "gridcolor": "rgb(232,232,232)",
            "linecolor": "rgb(36,36,36)",
            "showgrid": false,
            "showline": true,
            "ticks": "outside"
           }
          },
          "title": {
           "x": 0.05
          },
          "xaxis": {
           "automargin": true,
           "gridcolor": "rgb(232,232,232)",
           "linecolor": "rgb(36,36,36)",
           "showgrid": false,
           "showline": true,
           "ticks": "outside",
           "title": {
            "standoff": 15
           },
           "zeroline": false,
           "zerolinecolor": "rgb(36,36,36)"
          },
          "yaxis": {
           "automargin": true,
           "gridcolor": "rgb(232,232,232)",
           "linecolor": "rgb(36,36,36)",
           "showgrid": false,
           "showline": true,
           "ticks": "outside",
           "title": {
            "standoff": 15
           },
           "zeroline": false,
           "zerolinecolor": "rgb(36,36,36)"
          }
         }
        },
        "xaxis": {
         "anchor": "y",
         "domain": [
          0,
          1
         ],
         "matches": "x2",
         "showticklabels": false
        },
        "xaxis2": {
         "anchor": "y2",
         "domain": [
          0,
          1
         ],
         "title": {
          "text": "Time(s)"
         }
        },
        "yaxis": {
         "anchor": "x",
         "domain": [
          0.575,
          1
         ],
         "title": {
          "text": "V"
         }
        },
        "yaxis2": {
         "anchor": "x2",
         "domain": [
          0,
          0.425
         ],
         "title": {
          "text": "V"
         }
        }
       },
       "_py2js_animate": {},
       "_py2js_deleteTraces": {},
       "_py2js_moveTraces": {},
       "_py2js_removeLayoutProps": {},
       "_py2js_removeTraceProps": {},
       "_view_count": 1
      }
     },
     "5678ead395d1485f929363a63af8a20e": {
      "model_module": "@jupyter-widgets/controls",
      "model_module_version": "1.5.0",
      "model_name": "TextModel",
      "state": {
       "description": "X-axis label (time):",
       "disabled": true,
       "layout": "IPY_MODEL_9b0b611be4a2429ca3f3637084c8241a",
       "placeholder": "Type something",
       "style": "IPY_MODEL_22ad785b5eb14a7b993a76cf19e1dd1a",
       "value": "Time(s)"
      }
     },
     "56a33514dd1e479f809c579955fe3947": {
      "model_module": "@jupyter-widgets/controls",
      "model_module_version": "1.5.0",
      "model_name": "DropdownModel",
      "state": {
       "_options_labels": [
        "0.6666666666666666",
        "1",
        "2",
        "4",
        "8",
        "16"
       ],
       "description": "gains:",
       "disabled": true,
       "index": 0,
       "layout": "IPY_MODEL_70169b9c44f2427aa9e7cd269b8fb1cf",
       "style": "IPY_MODEL_2cec12a1128a4423b14acda924ede79f"
      }
     },
     "56e6e3c05111437182506da18b4efee2": {
      "model_module": "@jupyter-widgets/base",
      "model_module_version": "1.2.0",
      "model_name": "LayoutModel",
      "state": {}
     },
     "571e4997d94c48af88043c05aa81c722": {
      "model_module": "@jupyter-widgets/base",
      "model_module_version": "1.2.0",
      "model_name": "LayoutModel",
      "state": {
       "border": "solid"
      }
     },
     "58240f8233084966b0ba957385d7009a": {
      "model_module": "@jupyter-widgets/controls",
      "model_module_version": "1.5.0",
      "model_name": "DescriptionStyleModel",
      "state": {
       "description_width": ""
      }
     },
     "58c247214df04fbaab063a8b2234757c": {
      "model_module": "@jupyter-widgets/controls",
      "model_module_version": "1.5.0",
      "model_name": "ButtonStyleModel",
      "state": {}
     },
     "58d93470b7e24a0d8e32054c668f3db9": {
      "model_module": "@jupyter-widgets/base",
      "model_module_version": "1.2.0",
      "model_name": "LayoutModel",
      "state": {}
     },
     "5909f4736d8a4263bd5bf90dccddae19": {
      "model_module": "jupyterlab-plotly",
      "model_module_version": "^5.1.0",
      "model_name": "FigureModel",
      "state": {
       "_config": {
        "plotlyServerURL": "https://plot.ly"
       },
       "_data": [
        {
         "name": "Trace_0(V)",
         "type": "scatter",
         "uid": "5bcba3e0-713f-4585-b19d-7b7a11875a59",
         "x": [
          0.10173535346984863,
          0.39011526107788086,
          0.7232136726379395,
          1.0567104816436768,
          1.3845057487487793,
          1.716137170791626,
          2.0479564666748047,
          2.3803701400756836,
          2.7119600772857666,
          3.0433356761932373,
          3.3748061656951904,
          3.706536054611206,
          4.037822008132935,
          4.369742155075073,
          4.70277738571167,
          5.032935619354248,
          5.365281105041504,
          5.696798324584961,
          6.027987003326416,
          6.36095929145813,
          6.691747188568115,
          7.023383140563965,
          7.355776309967041,
          7.687281370162964,
          8.018540382385254,
          8.350549697875977,
          8.682254552841187,
          9.013393878936768,
          9.34564733505249,
          9.676795721054077,
          10.008561134338379,
          10.340372562408447,
          10.672302007675171,
          11.0036461353302,
          11.34110713005066,
          11.668168067932129,
          11.999198198318481,
          12.330824136734009,
          12.66570496559143,
          12.994069814682007,
          13.32583236694336,
          13.657337665557861,
          13.988643407821655,
          14.320091485977173,
          14.652477502822876,
          14.98358154296875,
          15.315845012664795,
          15.647332906723022,
          15.979217290878296,
          16.31087827682495,
          16.6418776512146,
          16.973427057266235,
          17.30633783340454,
          17.63710355758667,
          17.971059560775757,
          18.30010199546814,
          18.632652759552002,
          18.965338230133057,
          19.29544997215271,
          19.62730383872986,
          19.95875096321106,
          20.29062533378601,
          20.622276067733765,
          20.953832387924194,
          21.285879373550415,
          21.61707091331482,
          21.949138402938843,
          22.281164407730103,
          22.612044095993042,
          22.943360328674316,
          23.27518391609192,
          23.60764789581299,
          23.939002513885498,
          24.270931243896484,
          24.60209584236145,
          24.933525562286377,
          25.265859603881836,
          25.596795797348022
         ],
         "xaxis": "x2",
         "y": [
          -0.003,
          -0.003,
          -0.003,
          -0.004,
          -0.005,
          -0.005,
          -0.005,
          -0.005,
          -0.005,
          -0.005,
          -0.003,
          -0.002,
          -0.003,
          -0.004,
          -0.003,
          -0.005,
          -0.006,
          -0.007,
          -0.005,
          -0.005,
          -0.004,
          -0.003,
          -0.003,
          -0.003,
          -0.003,
          -0.005,
          -0.005,
          -0.006,
          -0.006,
          -0.005,
          -0.005,
          -0.004,
          -0.003,
          -0.003,
          -0.008,
          -0.005,
          -0.005,
          -0.006,
          -0.004,
          -0.004,
          -0.006,
          -0.004,
          -0.003,
          -0.003,
          -0.003,
          -0.003,
          -0.005,
          -0.007,
          -0.006,
          -0.006,
          -0.005,
          -0.004,
          -0.003,
          -0.003,
          -0.004,
          -0.004,
          -0.005,
          -0.006,
          -0.006,
          -0.006,
          -0.005,
          -0.005,
          -0.004,
          -0.003,
          -0.003,
          -0.003,
          -0.004,
          -0.005,
          -0.006,
          -0.007,
          -0.005,
          -0.005,
          -0.004,
          -0.003,
          -0.001,
          -0.003,
          -0.003,
          -0.006
         ],
         "yaxis": "y2"
        },
        {
         "name": "Trace_1(V)",
         "type": "scatter",
         "uid": "ef9b174d-751d-4f77-aada-69df26d8d671",
         "x": [
          0.10173535346984863,
          0.39011526107788086,
          0.7232136726379395,
          1.0567104816436768,
          1.3845057487487793,
          1.716137170791626,
          2.0479564666748047,
          2.3803701400756836,
          2.7119600772857666,
          3.0433356761932373,
          3.3748061656951904,
          3.706536054611206,
          4.037822008132935,
          4.369742155075073,
          4.70277738571167,
          5.032935619354248,
          5.365281105041504,
          5.696798324584961,
          6.027987003326416,
          6.36095929145813,
          6.691747188568115,
          7.023383140563965,
          7.355776309967041,
          7.687281370162964,
          8.018540382385254,
          8.350549697875977,
          8.682254552841187,
          9.013393878936768,
          9.34564733505249,
          9.676795721054077,
          10.008561134338379,
          10.340372562408447,
          10.672302007675171,
          11.0036461353302,
          11.34110713005066,
          11.668168067932129,
          11.999198198318481,
          12.330824136734009,
          12.66570496559143,
          12.994069814682007,
          13.32583236694336,
          13.657337665557861,
          13.988643407821655,
          14.320091485977173,
          14.652477502822876,
          14.98358154296875,
          15.315845012664795,
          15.647332906723022,
          15.979217290878296,
          16.31087827682495,
          16.6418776512146,
          16.973427057266235,
          17.30633783340454,
          17.63710355758667,
          17.971059560775757,
          18.30010199546814,
          18.632652759552002,
          18.965338230133057,
          19.29544997215271,
          19.62730383872986,
          19.95875096321106,
          20.29062533378601,
          20.622276067733765,
          20.953832387924194,
          21.285879373550415,
          21.61707091331482,
          21.949138402938843,
          22.281164407730103,
          22.612044095993042,
          22.943360328674316,
          23.27518391609192,
          23.60764789581299,
          23.939002513885498,
          24.270931243896484,
          24.60209584236145,
          24.933525562286377,
          25.265859603881836,
          25.596795797348022
         ],
         "xaxis": "x",
         "y": [
          3.382,
          3.38,
          3.38,
          3.381,
          3.383,
          3.382,
          3.383,
          3.382,
          3.383,
          3.382,
          3.381,
          3.381,
          3.381,
          3.38,
          3.38,
          3.383,
          3.382,
          3.383,
          3.383,
          3.383,
          3.382,
          3.381,
          3.381,
          3.381,
          3.381,
          3.385,
          3.383,
          3.383,
          3.383,
          3.382,
          3.382,
          3.381,
          3.381,
          3.381,
          3.384,
          3.379,
          3.382,
          3.383,
          3.38,
          3.383,
          3.384,
          3.382,
          3.381,
          3.381,
          3.38,
          3.382,
          3.382,
          3.383,
          3.382,
          3.382,
          3.381,
          3.382,
          3.382,
          3.38,
          3.38,
          3.38,
          3.381,
          3.376,
          3.383,
          3.382,
          3.382,
          3.382,
          3.38,
          3.38,
          3.38,
          3.381,
          3.382,
          3.38,
          3.383,
          3.382,
          3.383,
          3.381,
          3.381,
          3.381,
          3.38,
          3.381,
          3.381,
          3.383
         ],
         "yaxis": "y"
        }
       ],
       "_js2py_relayout": {},
       "_js2py_restyle": {},
       "_js2py_update": {},
       "_last_layout_edit_id": 54,
       "_last_trace_edit_id": 54,
       "_layout": {
        "template": {
         "data": {
          "bar": [
           {
            "error_x": {
             "color": "rgb(36,36,36)"
            },
            "error_y": {
             "color": "rgb(36,36,36)"
            },
            "marker": {
             "line": {
              "color": "white",
              "width": 0.5
             },
             "pattern": {
              "fillmode": "overlay",
              "size": 10,
              "solidity": 0.2
             }
            },
            "type": "bar"
           }
          ],
          "barpolar": [
           {
            "marker": {
             "line": {
              "color": "white",
              "width": 0.5
             },
             "pattern": {
              "fillmode": "overlay",
              "size": 10,
              "solidity": 0.2
             }
            },
            "type": "barpolar"
           }
          ],
          "carpet": [
           {
            "aaxis": {
             "endlinecolor": "rgb(36,36,36)",
             "gridcolor": "white",
             "linecolor": "white",
             "minorgridcolor": "white",
             "startlinecolor": "rgb(36,36,36)"
            },
            "baxis": {
             "endlinecolor": "rgb(36,36,36)",
             "gridcolor": "white",
             "linecolor": "white",
             "minorgridcolor": "white",
             "startlinecolor": "rgb(36,36,36)"
            },
            "type": "carpet"
           }
          ],
          "choropleth": [
           {
            "colorbar": {
             "outlinewidth": 1,
             "tickcolor": "rgb(36,36,36)",
             "ticks": "outside"
            },
            "type": "choropleth"
           }
          ],
          "contour": [
           {
            "colorbar": {
             "outlinewidth": 1,
             "tickcolor": "rgb(36,36,36)",
             "ticks": "outside"
            },
            "colorscale": [
             [
              0,
              "#440154"
             ],
             [
              0.1111111111111111,
              "#482878"
             ],
             [
              0.2222222222222222,
              "#3e4989"
             ],
             [
              0.3333333333333333,
              "#31688e"
             ],
             [
              0.4444444444444444,
              "#26828e"
             ],
             [
              0.5555555555555556,
              "#1f9e89"
             ],
             [
              0.6666666666666666,
              "#35b779"
             ],
             [
              0.7777777777777778,
              "#6ece58"
             ],
             [
              0.8888888888888888,
              "#b5de2b"
             ],
             [
              1,
              "#fde725"
             ]
            ],
            "type": "contour"
           }
          ],
          "contourcarpet": [
           {
            "colorbar": {
             "outlinewidth": 1,
             "tickcolor": "rgb(36,36,36)",
             "ticks": "outside"
            },
            "type": "contourcarpet"
           }
          ],
          "heatmap": [
           {
            "colorbar": {
             "outlinewidth": 1,
             "tickcolor": "rgb(36,36,36)",
             "ticks": "outside"
            },
            "colorscale": [
             [
              0,
              "#440154"
             ],
             [
              0.1111111111111111,
              "#482878"
             ],
             [
              0.2222222222222222,
              "#3e4989"
             ],
             [
              0.3333333333333333,
              "#31688e"
             ],
             [
              0.4444444444444444,
              "#26828e"
             ],
             [
              0.5555555555555556,
              "#1f9e89"
             ],
             [
              0.6666666666666666,
              "#35b779"
             ],
             [
              0.7777777777777778,
              "#6ece58"
             ],
             [
              0.8888888888888888,
              "#b5de2b"
             ],
             [
              1,
              "#fde725"
             ]
            ],
            "type": "heatmap"
           }
          ],
          "heatmapgl": [
           {
            "colorbar": {
             "outlinewidth": 1,
             "tickcolor": "rgb(36,36,36)",
             "ticks": "outside"
            },
            "colorscale": [
             [
              0,
              "#440154"
             ],
             [
              0.1111111111111111,
              "#482878"
             ],
             [
              0.2222222222222222,
              "#3e4989"
             ],
             [
              0.3333333333333333,
              "#31688e"
             ],
             [
              0.4444444444444444,
              "#26828e"
             ],
             [
              0.5555555555555556,
              "#1f9e89"
             ],
             [
              0.6666666666666666,
              "#35b779"
             ],
             [
              0.7777777777777778,
              "#6ece58"
             ],
             [
              0.8888888888888888,
              "#b5de2b"
             ],
             [
              1,
              "#fde725"
             ]
            ],
            "type": "heatmapgl"
           }
          ],
          "histogram": [
           {
            "marker": {
             "line": {
              "color": "white",
              "width": 0.6
             }
            },
            "type": "histogram"
           }
          ],
          "histogram2d": [
           {
            "colorbar": {
             "outlinewidth": 1,
             "tickcolor": "rgb(36,36,36)",
             "ticks": "outside"
            },
            "colorscale": [
             [
              0,
              "#440154"
             ],
             [
              0.1111111111111111,
              "#482878"
             ],
             [
              0.2222222222222222,
              "#3e4989"
             ],
             [
              0.3333333333333333,
              "#31688e"
             ],
             [
              0.4444444444444444,
              "#26828e"
             ],
             [
              0.5555555555555556,
              "#1f9e89"
             ],
             [
              0.6666666666666666,
              "#35b779"
             ],
             [
              0.7777777777777778,
              "#6ece58"
             ],
             [
              0.8888888888888888,
              "#b5de2b"
             ],
             [
              1,
              "#fde725"
             ]
            ],
            "type": "histogram2d"
           }
          ],
          "histogram2dcontour": [
           {
            "colorbar": {
             "outlinewidth": 1,
             "tickcolor": "rgb(36,36,36)",
             "ticks": "outside"
            },
            "colorscale": [
             [
              0,
              "#440154"
             ],
             [
              0.1111111111111111,
              "#482878"
             ],
             [
              0.2222222222222222,
              "#3e4989"
             ],
             [
              0.3333333333333333,
              "#31688e"
             ],
             [
              0.4444444444444444,
              "#26828e"
             ],
             [
              0.5555555555555556,
              "#1f9e89"
             ],
             [
              0.6666666666666666,
              "#35b779"
             ],
             [
              0.7777777777777778,
              "#6ece58"
             ],
             [
              0.8888888888888888,
              "#b5de2b"
             ],
             [
              1,
              "#fde725"
             ]
            ],
            "type": "histogram2dcontour"
           }
          ],
          "mesh3d": [
           {
            "colorbar": {
             "outlinewidth": 1,
             "tickcolor": "rgb(36,36,36)",
             "ticks": "outside"
            },
            "type": "mesh3d"
           }
          ],
          "parcoords": [
           {
            "line": {
             "colorbar": {
              "outlinewidth": 1,
              "tickcolor": "rgb(36,36,36)",
              "ticks": "outside"
             }
            },
            "type": "parcoords"
           }
          ],
          "pie": [
           {
            "automargin": true,
            "type": "pie"
           }
          ],
          "scatter": [
           {
            "marker": {
             "colorbar": {
              "outlinewidth": 1,
              "tickcolor": "rgb(36,36,36)",
              "ticks": "outside"
             }
            },
            "type": "scatter"
           }
          ],
          "scatter3d": [
           {
            "line": {
             "colorbar": {
              "outlinewidth": 1,
              "tickcolor": "rgb(36,36,36)",
              "ticks": "outside"
             }
            },
            "marker": {
             "colorbar": {
              "outlinewidth": 1,
              "tickcolor": "rgb(36,36,36)",
              "ticks": "outside"
             }
            },
            "type": "scatter3d"
           }
          ],
          "scattercarpet": [
           {
            "marker": {
             "colorbar": {
              "outlinewidth": 1,
              "tickcolor": "rgb(36,36,36)",
              "ticks": "outside"
             }
            },
            "type": "scattercarpet"
           }
          ],
          "scattergeo": [
           {
            "marker": {
             "colorbar": {
              "outlinewidth": 1,
              "tickcolor": "rgb(36,36,36)",
              "ticks": "outside"
             }
            },
            "type": "scattergeo"
           }
          ],
          "scattergl": [
           {
            "marker": {
             "colorbar": {
              "outlinewidth": 1,
              "tickcolor": "rgb(36,36,36)",
              "ticks": "outside"
             }
            },
            "type": "scattergl"
           }
          ],
          "scattermapbox": [
           {
            "marker": {
             "colorbar": {
              "outlinewidth": 1,
              "tickcolor": "rgb(36,36,36)",
              "ticks": "outside"
             }
            },
            "type": "scattermapbox"
           }
          ],
          "scatterpolar": [
           {
            "marker": {
             "colorbar": {
              "outlinewidth": 1,
              "tickcolor": "rgb(36,36,36)",
              "ticks": "outside"
             }
            },
            "type": "scatterpolar"
           }
          ],
          "scatterpolargl": [
           {
            "marker": {
             "colorbar": {
              "outlinewidth": 1,
              "tickcolor": "rgb(36,36,36)",
              "ticks": "outside"
             }
            },
            "type": "scatterpolargl"
           }
          ],
          "scatterternary": [
           {
            "marker": {
             "colorbar": {
              "outlinewidth": 1,
              "tickcolor": "rgb(36,36,36)",
              "ticks": "outside"
             }
            },
            "type": "scatterternary"
           }
          ],
          "surface": [
           {
            "colorbar": {
             "outlinewidth": 1,
             "tickcolor": "rgb(36,36,36)",
             "ticks": "outside"
            },
            "colorscale": [
             [
              0,
              "#440154"
             ],
             [
              0.1111111111111111,
              "#482878"
             ],
             [
              0.2222222222222222,
              "#3e4989"
             ],
             [
              0.3333333333333333,
              "#31688e"
             ],
             [
              0.4444444444444444,
              "#26828e"
             ],
             [
              0.5555555555555556,
              "#1f9e89"
             ],
             [
              0.6666666666666666,
              "#35b779"
             ],
             [
              0.7777777777777778,
              "#6ece58"
             ],
             [
              0.8888888888888888,
              "#b5de2b"
             ],
             [
              1,
              "#fde725"
             ]
            ],
            "type": "surface"
           }
          ],
          "table": [
           {
            "cells": {
             "fill": {
              "color": "rgb(237,237,237)"
             },
             "line": {
              "color": "white"
             }
            },
            "header": {
             "fill": {
              "color": "rgb(217,217,217)"
             },
             "line": {
              "color": "white"
             }
            },
            "type": "table"
           }
          ]
         },
         "layout": {
          "annotationdefaults": {
           "arrowhead": 0,
           "arrowwidth": 1
          },
          "autotypenumbers": "strict",
          "coloraxis": {
           "colorbar": {
            "outlinewidth": 1,
            "tickcolor": "rgb(36,36,36)",
            "ticks": "outside"
           }
          },
          "colorscale": {
           "diverging": [
            [
             0,
             "rgb(103,0,31)"
            ],
            [
             0.1,
             "rgb(178,24,43)"
            ],
            [
             0.2,
             "rgb(214,96,77)"
            ],
            [
             0.3,
             "rgb(244,165,130)"
            ],
            [
             0.4,
             "rgb(253,219,199)"
            ],
            [
             0.5,
             "rgb(247,247,247)"
            ],
            [
             0.6,
             "rgb(209,229,240)"
            ],
            [
             0.7,
             "rgb(146,197,222)"
            ],
            [
             0.8,
             "rgb(67,147,195)"
            ],
            [
             0.9,
             "rgb(33,102,172)"
            ],
            [
             1,
             "rgb(5,48,97)"
            ]
           ],
           "sequential": [
            [
             0,
             "#440154"
            ],
            [
             0.1111111111111111,
             "#482878"
            ],
            [
             0.2222222222222222,
             "#3e4989"
            ],
            [
             0.3333333333333333,
             "#31688e"
            ],
            [
             0.4444444444444444,
             "#26828e"
            ],
            [
             0.5555555555555556,
             "#1f9e89"
            ],
            [
             0.6666666666666666,
             "#35b779"
            ],
            [
             0.7777777777777778,
             "#6ece58"
            ],
            [
             0.8888888888888888,
             "#b5de2b"
            ],
            [
             1,
             "#fde725"
            ]
           ],
           "sequentialminus": [
            [
             0,
             "#440154"
            ],
            [
             0.1111111111111111,
             "#482878"
            ],
            [
             0.2222222222222222,
             "#3e4989"
            ],
            [
             0.3333333333333333,
             "#31688e"
            ],
            [
             0.4444444444444444,
             "#26828e"
            ],
            [
             0.5555555555555556,
             "#1f9e89"
            ],
            [
             0.6666666666666666,
             "#35b779"
            ],
            [
             0.7777777777777778,
             "#6ece58"
            ],
            [
             0.8888888888888888,
             "#b5de2b"
            ],
            [
             1,
             "#fde725"
            ]
           ]
          },
          "colorway": [
           "#1F77B4",
           "#FF7F0E",
           "#2CA02C",
           "#D62728",
           "#9467BD",
           "#8C564B",
           "#E377C2",
           "#7F7F7F",
           "#BCBD22",
           "#17BECF"
          ],
          "font": {
           "color": "rgb(36,36,36)"
          },
          "geo": {
           "bgcolor": "white",
           "lakecolor": "white",
           "landcolor": "white",
           "showlakes": true,
           "showland": true,
           "subunitcolor": "white"
          },
          "hoverlabel": {
           "align": "left"
          },
          "hovermode": "closest",
          "mapbox": {
           "style": "light"
          },
          "paper_bgcolor": "white",
          "plot_bgcolor": "white",
          "polar": {
           "angularaxis": {
            "gridcolor": "rgb(232,232,232)",
            "linecolor": "rgb(36,36,36)",
            "showgrid": false,
            "showline": true,
            "ticks": "outside"
           },
           "bgcolor": "white",
           "radialaxis": {
            "gridcolor": "rgb(232,232,232)",
            "linecolor": "rgb(36,36,36)",
            "showgrid": false,
            "showline": true,
            "ticks": "outside"
           }
          },
          "scene": {
           "xaxis": {
            "backgroundcolor": "white",
            "gridcolor": "rgb(232,232,232)",
            "gridwidth": 2,
            "linecolor": "rgb(36,36,36)",
            "showbackground": true,
            "showgrid": false,
            "showline": true,
            "ticks": "outside",
            "zeroline": false,
            "zerolinecolor": "rgb(36,36,36)"
           },
           "yaxis": {
            "backgroundcolor": "white",
            "gridcolor": "rgb(232,232,232)",
            "gridwidth": 2,
            "linecolor": "rgb(36,36,36)",
            "showbackground": true,
            "showgrid": false,
            "showline": true,
            "ticks": "outside",
            "zeroline": false,
            "zerolinecolor": "rgb(36,36,36)"
           },
           "zaxis": {
            "backgroundcolor": "white",
            "gridcolor": "rgb(232,232,232)",
            "gridwidth": 2,
            "linecolor": "rgb(36,36,36)",
            "showbackground": true,
            "showgrid": false,
            "showline": true,
            "ticks": "outside",
            "zeroline": false,
            "zerolinecolor": "rgb(36,36,36)"
           }
          },
          "shapedefaults": {
           "fillcolor": "black",
           "line": {
            "width": 0
           },
           "opacity": 0.3
          },
          "ternary": {
           "aaxis": {
            "gridcolor": "rgb(232,232,232)",
            "linecolor": "rgb(36,36,36)",
            "showgrid": false,
            "showline": true,
            "ticks": "outside"
           },
           "baxis": {
            "gridcolor": "rgb(232,232,232)",
            "linecolor": "rgb(36,36,36)",
            "showgrid": false,
            "showline": true,
            "ticks": "outside"
           },
           "bgcolor": "white",
           "caxis": {
            "gridcolor": "rgb(232,232,232)",
            "linecolor": "rgb(36,36,36)",
            "showgrid": false,
            "showline": true,
            "ticks": "outside"
           }
          },
          "title": {
           "x": 0.05
          },
          "xaxis": {
           "automargin": true,
           "gridcolor": "rgb(232,232,232)",
           "linecolor": "rgb(36,36,36)",
           "showgrid": false,
           "showline": true,
           "ticks": "outside",
           "title": {
            "standoff": 15
           },
           "zeroline": false,
           "zerolinecolor": "rgb(36,36,36)"
          },
          "yaxis": {
           "automargin": true,
           "gridcolor": "rgb(232,232,232)",
           "linecolor": "rgb(36,36,36)",
           "showgrid": false,
           "showline": true,
           "ticks": "outside",
           "title": {
            "standoff": 15
           },
           "zeroline": false,
           "zerolinecolor": "rgb(36,36,36)"
          }
         }
        },
        "xaxis": {
         "anchor": "y",
         "domain": [
          0,
          1
         ],
         "matches": "x2",
         "showticklabels": false
        },
        "xaxis2": {
         "anchor": "y2",
         "domain": [
          0,
          1
         ],
         "title": {
          "text": "Time(s)"
         }
        },
        "yaxis": {
         "anchor": "x",
         "domain": [
          0.575,
          1
         ],
         "title": {
          "text": "V"
         }
        },
        "yaxis2": {
         "anchor": "x2",
         "domain": [
          0,
          0.425
         ],
         "title": {
          "text": "V"
         }
        }
       },
       "_py2js_animate": {},
       "_py2js_deleteTraces": {},
       "_py2js_moveTraces": {},
       "_py2js_removeLayoutProps": {},
       "_py2js_removeTraceProps": {},
       "_view_count": 1
      }
     },
     "59133be0a1ca4d96a177e28b82c551ab": {
      "model_module": "@jupyter-widgets/controls",
      "model_module_version": "1.5.0",
      "model_name": "DescriptionStyleModel",
      "state": {
       "description_width": ""
      }
     },
     "598bde9d24dd43e69f0a42310b934319": {
      "model_module": "@jupyter-widgets/base",
      "model_module_version": "1.2.0",
      "model_name": "LayoutModel",
      "state": {
       "width": "80%"
      }
     },
     "59aaa18d32504481a81b1cee47a1b890": {
      "model_module": "@jupyter-widgets/controls",
      "model_module_version": "1.5.0",
      "model_name": "DescriptionStyleModel",
      "state": {
       "description_width": ""
      }
     },
     "59d33c70976f4b51916659bb7f87abbb": {
      "model_module": "@jupyter-widgets/controls",
      "model_module_version": "1.5.0",
      "model_name": "DescriptionStyleModel",
      "state": {
       "description_width": ""
      }
     },
     "5a1b82fd1689496d9f25a3c9b1ff3bf2": {
      "model_module": "@jupyter-widgets/controls",
      "model_module_version": "1.5.0",
      "model_name": "ButtonModel",
      "state": {
       "button_style": "info",
       "description": "Set Parameters",
       "disabled": true,
       "layout": "IPY_MODEL_c1b42ff37fe6484f87d36dddeb9554be",
       "style": "IPY_MODEL_9b0ab00764984331b99114ea7b0dc0a5",
       "tooltip": "Parameters locked. The run has started."
      }
     },
     "5ad1e0d7a2674cc28573bc01ebc31e24": {
      "model_module": "@jupyter-widgets/base",
      "model_module_version": "1.2.0",
      "model_name": "LayoutModel",
      "state": {}
     },
     "5b83dcc5085d47a483f061bab4fbfab2": {
      "model_module": "@jupyter-widgets/base",
      "model_module_version": "1.2.0",
      "model_name": "LayoutModel",
      "state": {}
     },
     "5c0e8048ac794727932555896274061f": {
      "model_module": "@jupyter-widgets/controls",
      "model_module_version": "1.5.0",
      "model_name": "DropdownModel",
      "state": {
       "_options_labels": [
        "0 ADS1115",
        "1 DAQC2"
       ],
       "description": "Board:",
       "index": 1,
       "layout": "IPY_MODEL_c84a1df92931492b893a259721a4189f",
       "style": "IPY_MODEL_1dc9b2a09bdf41f5b43d2d2ed7b6ed0a"
      }
     },
     "5c3667bdc9eb41ed87b87101dc817051": {
      "model_module": "@jupyter-widgets/controls",
      "model_module_version": "1.5.0",
      "model_name": "DescriptionStyleModel",
      "state": {
       "description_width": ""
      }
     },
     "5cfc64e8522945ffaadb8ec814041de1": {
      "model_module": "@jupyter-widgets/base",
      "model_module_version": "1.2.0",
      "model_name": "LayoutModel",
      "state": {}
     },
     "5f61ee7cb16743ee87979deeed4bbec7": {
      "model_module": "@jupyter-widgets/base",
      "model_module_version": "1.2.0",
      "model_name": "LayoutModel",
      "state": {}
     },
     "5fbb198f82ce43cdbbd02b9fc773cead": {
      "model_module": "@jupyter-widgets/base",
      "model_module_version": "1.2.0",
      "model_name": "LayoutModel",
      "state": {}
     },
     "5fef4a8f66584ee398846929b524bc4d": {
      "model_module": "@jupyter-widgets/base",
      "model_module_version": "1.2.0",
      "model_name": "LayoutModel",
      "state": {}
     },
     "6118e0f603c24fce9367026530057263": {
      "model_module": "@jupyter-widgets/controls",
      "model_module_version": "1.5.0",
      "model_name": "DescriptionStyleModel",
      "state": {
       "description_width": ""
      }
     },
     "61b76d8231f840048b4fdda7c4b7d92f": {
      "model_module": "@jupyter-widgets/controls",
      "model_module_version": "1.5.0",
      "model_name": "DescriptionStyleModel",
      "state": {
       "description_width": ""
      }
     },
     "626bc263596d4a5fa8f257f48fd5f32e": {
      "model_module": "@jupyter-widgets/controls",
      "model_module_version": "1.5.0",
      "model_name": "BoundedFloatTextModel",
      "state": {
       "description": "Rate (Hz):",
       "disabled": true,
       "layout": "IPY_MODEL_497bc1fbb77b4cb0bd24af8a7f1bc750",
       "max": 20,
       "step": 0.02,
       "style": "IPY_MODEL_aed4f4c67a9540939d107232bf384180",
       "value": 1
      }
     },
     "6296b24c6eed4c3e86eb4991b46f9c8c": {
      "model_module": "@jupyter-widgets/controls",
      "model_module_version": "1.5.0",
      "model_name": "DescriptionStyleModel",
      "state": {
       "description_width": ""
      }
     },
     "62cb06e638a44f5d915f3f0a339e43e6": {
      "model_module": "@jupyter-widgets/base",
      "model_module_version": "1.2.0",
      "model_name": "LayoutModel",
      "state": {}
     },
     "63302d21b18e4345954b664ad6523d89": {
      "model_module": "@jupyter-widgets/controls",
      "model_module_version": "1.5.0",
      "model_name": "ButtonStyleModel",
      "state": {}
     },
     "636bc661f6f147cdaabb7c3602f37732": {
      "model_module": "@jupyter-widgets/base",
      "model_module_version": "1.2.0",
      "model_name": "LayoutModel",
      "state": {}
     },
     "636eeda4a4bc4335a129da8c8dddce69": {
      "model_module": "@jupyter-widgets/controls",
      "model_module_version": "1.5.0",
      "model_name": "DropdownModel",
      "state": {
       "_options_labels": [
        "1"
       ],
       "description": "gains:",
       "index": 0,
       "layout": "IPY_MODEL_991e541795644318b3d83ee562055a61",
       "style": "IPY_MODEL_7c9a6321275847acaaf61edef403a358"
      }
     },
     "638e02e463a8424099b560b8608b50af": {
      "model_module": "@jupyter-widgets/controls",
      "model_module_version": "1.5.0",
      "model_name": "DescriptionStyleModel",
      "state": {
       "description_width": ""
      }
     },
     "6396730ae6544b33afd85b1e2497dfec": {
      "model_module": "@jupyter-widgets/base",
      "model_module_version": "1.2.0",
      "model_name": "LayoutModel",
      "state": {}
     },
     "63d2374ee7f543efb2bbca7b491699c8": {
      "model_module": "@jupyter-widgets/controls",
      "model_module_version": "1.5.0",
      "model_name": "DescriptionStyleModel",
      "state": {
       "description_width": ""
      }
     },
     "6403a4a2ba7e4d2f86bfe29aa6eb6691": {
      "model_module": "@jupyter-widgets/base",
      "model_module_version": "1.2.0",
      "model_name": "LayoutModel",
      "state": {}
     },
     "6483fec925544a149c99bc41e19ea6b5": {
      "model_module": "@jupyter-widgets/base",
      "model_module_version": "1.2.0",
      "model_name": "LayoutModel",
      "state": {}
     },
     "648c9f262f72478e82b9456126a5f5b0": {
      "model_module": "@jupyter-widgets/controls",
      "model_module_version": "1.5.0",
      "model_name": "DescriptionStyleModel",
      "state": {
       "description_width": ""
      }
     },
     "64f55c0fe6254169a75bf95c0ed2a95a": {
      "model_module": "@jupyter-widgets/base",
      "model_module_version": "1.2.0",
      "model_name": "LayoutModel",
      "state": {
       "width": "80%"
      }
     },
     "65a14e3af1304557b18be68a861afcf4": {
      "model_module": "@jupyter-widgets/base",
      "model_module_version": "1.2.0",
      "model_name": "LayoutModel",
      "state": {
       "border": "solid"
      }
     },
     "65e94f5194f74a858d2daa188cfd58fd": {
      "model_module": "@jupyter-widgets/controls",
      "model_module_version": "1.5.0",
      "model_name": "DescriptionStyleModel",
      "state": {
       "description_width": ""
      }
     },
     "6646be76bf7d47b1b157ce1bf5743407": {
      "model_module": "@jupyter-widgets/base",
      "model_module_version": "1.2.0",
      "model_name": "LayoutModel",
      "state": {}
     },
     "665c37b1128e4e82bd7c6609849c0315": {
      "model_module": "@jupyter-widgets/controls",
      "model_module_version": "1.5.0",
      "model_name": "HBoxModel",
      "state": {
       "children": [
        "IPY_MODEL_626bc263596d4a5fa8f257f48fd5f32e",
        "IPY_MODEL_1324e0b93efe43de9b4e5044b300f3fb",
        "IPY_MODEL_ec1790277e7e4f9abd6e6323a518811c"
       ],
       "layout": "IPY_MODEL_5ad1e0d7a2674cc28573bc01ebc31e24"
      }
     },
     "66f78d0f861547b282f8910f52b01f38": {
      "model_module": "@jupyter-widgets/base",
      "model_module_version": "1.2.0",
      "model_name": "LayoutModel",
      "state": {}
     },
     "6829a2dd6b7647eebc185debba1124ef": {
      "model_module": "@jupyter-widgets/controls",
      "model_module_version": "1.5.0",
      "model_name": "HBoxModel",
      "state": {
       "children": [
        "IPY_MODEL_489577e7293d4426a2289fafe6ed3dd9",
        "IPY_MODEL_495a2a65e5444d20886678592042f5cd"
       ],
       "layout": "IPY_MODEL_22670acc7b964d2ba79b8da2c131a1ef"
      }
     },
     "686df0084bf34161ae4a656e5c69333a": {
      "model_module": "@jupyter-widgets/controls",
      "model_module_version": "1.5.0",
      "model_name": "DescriptionStyleModel",
      "state": {
       "description_width": ""
      }
     },
     "688ef6bbf0cf42baa614c5601596b7b6": {
      "model_module": "@jupyter-widgets/controls",
      "model_module_version": "1.5.0",
      "model_name": "DescriptionStyleModel",
      "state": {
       "description_width": ""
      }
     },
     "68e6d6b617ba49388f0320aec4b20f2b": {
      "model_module": "@jupyter-widgets/controls",
      "model_module_version": "1.5.0",
      "model_name": "DescriptionStyleModel",
      "state": {
       "description_width": ""
      }
     },
     "68f7c71996d44537a5f919bbd5f2d0f5": {
      "model_module": "@jupyter-widgets/controls",
      "model_module_version": "1.5.0",
      "model_name": "DescriptionStyleModel",
      "state": {
       "description_width": ""
      }
     },
     "69e96b7bf27f4e1d922ab0f666d510eb": {
      "model_module": "@jupyter-widgets/controls",
      "model_module_version": "1.5.0",
      "model_name": "DescriptionStyleModel",
      "state": {
       "description_width": ""
      }
     },
     "6a0004b403c546b682e1395393ded07f": {
      "model_module": "@jupyter-widgets/base",
      "model_module_version": "1.2.0",
      "model_name": "LayoutModel",
      "state": {}
     },
     "6a576645e098434883ba8b6151568e88": {
      "model_module": "@jupyter-widgets/base",
      "model_module_version": "1.2.0",
      "model_name": "LayoutModel",
      "state": {}
     },
     "6a5b04b664b7442da4712955dc148036": {
      "model_module": "@jupyter-widgets/base",
      "model_module_version": "1.2.0",
      "model_name": "LayoutModel",
      "state": {}
     },
     "6a6b1c37b95641319e8ebf06a9804dd4": {
      "model_module": "@jupyter-widgets/controls",
      "model_module_version": "1.5.0",
      "model_name": "DropdownModel",
      "state": {
       "_options_labels": [
        "0 ADS1115",
        "1 DAQC2"
       ],
       "description": "Board:",
       "disabled": true,
       "index": 0,
       "layout": "IPY_MODEL_7b7e1f3df4ab43d49b8d1992a52e7dde",
       "style": "IPY_MODEL_9f78160ed7ca45c8ad64acfeb0c62fd4"
      }
     },
     "6bec640242de40f1a73edafaf3900d9b": {
      "model_module": "@jupyter-widgets/base",
      "model_module_version": "1.2.0",
      "model_name": "LayoutModel",
      "state": {}
     },
     "6bed448a6df14f6790c5219e25340800": {
      "model_module": "@jupyter-widgets/base",
      "model_module_version": "1.2.0",
      "model_name": "LayoutModel",
      "state": {}
     },
     "6c97aac1e13a431795a77cbe0c235a33": {
      "model_module": "@jupyter-widgets/controls",
      "model_module_version": "1.5.0",
      "model_name": "HTMLModel",
      "state": {
       "layout": "IPY_MODEL_7cee8934d36047b888fc4179beda59b9",
       "placeholder": "",
       "style": "IPY_MODEL_63d2374ee7f543efb2bbca7b491699c8",
       "value": "<span style=\"color:blue;\"> To accurately read point location on graph you can zoom in. Drag to zoom. Additional controls show above plot when you hover over it.</span>"
      }
     },
     "6c9bd6be08864714873328b54180c137": {
      "model_module": "@jupyter-widgets/base",
      "model_module_version": "1.2.0",
      "model_name": "LayoutModel",
      "state": {
       "border": "solid"
      }
     },
     "6caa452f858e444999dc7484dbd10fb4": {
      "model_module": "@jupyter-widgets/base",
      "model_module_version": "1.2.0",
      "model_name": "LayoutModel",
      "state": {
       "border": "solid"
      }
     },
     "6cd8fe8746be46aab2e8012b4a3d27dc": {
      "model_module": "@jupyter-widgets/controls",
      "model_module_version": "1.5.0",
      "model_name": "DropdownModel",
      "state": {
       "_options_labels": [
        "0.6666666666666666",
        "1",
        "2",
        "4",
        "8",
        "16"
       ],
       "description": "gains:",
       "disabled": true,
       "index": 0,
       "layout": "IPY_MODEL_453fde2a7a3e40d8943f4af191a92398",
       "style": "IPY_MODEL_8d067952c1d7425d9c6cd609cc8afd63"
      }
     },
     "6d91bd80a2df4a959b4e2fb521dd1be2": {
      "model_module": "@jupyter-widgets/controls",
      "model_module_version": "1.5.0",
      "model_name": "DescriptionStyleModel",
      "state": {
       "description_width": ""
      }
     },
     "6db9debbeb544b1b9c37595f69f2ac38": {
      "model_module": "@jupyter-widgets/controls",
      "model_module_version": "1.5.0",
      "model_name": "DescriptionStyleModel",
      "state": {
       "description_width": ""
      }
     },
     "6e6311a2be434ccd9e2d93df9fe84038": {
      "model_module": "@jupyter-widgets/base",
      "model_module_version": "1.2.0",
      "model_name": "LayoutModel",
      "state": {
       "border": "solid"
      }
     },
     "6ed365f06c7e4653913696061bd83abc": {
      "model_module": "@jupyter-widgets/base",
      "model_module_version": "1.2.0",
      "model_name": "LayoutModel",
      "state": {
       "border": "solid"
      }
     },
     "6f179d7d360a4518991203c654e7fa36": {
      "model_module": "@jupyter-widgets/base",
      "model_module_version": "1.2.0",
      "model_name": "LayoutModel",
      "state": {}
     },
     "6f36ba2f632d4a80b2d8104cfeedf960": {
      "model_module": "@jupyter-widgets/base",
      "model_module_version": "1.2.0",
      "model_name": "LayoutModel",
      "state": {}
     },
     "6f58bf076a144a50ab6011f7e5629ff2": {
      "model_module": "@jupyter-widgets/controls",
      "model_module_version": "1.5.0",
      "model_name": "DropdownModel",
      "state": {
       "_options_labels": [
        "0",
        "1",
        "2",
        "3"
       ],
       "description": "Channel:",
       "disabled": true,
       "index": 0,
       "layout": "IPY_MODEL_f0f69ebf6aa546828c23db7523855212",
       "style": "IPY_MODEL_72976fb6bdc6424180b31fb60e68b845"
      }
     },
     "6f6321e347344db691af66a7b8f00116": {
      "model_module": "@jupyter-widgets/base",
      "model_module_version": "1.2.0",
      "model_name": "LayoutModel",
      "state": {}
     },
     "6fa63f02db25426a8270fbb5ccc7ccd1": {
      "model_module": "@jupyter-widgets/controls",
      "model_module_version": "1.5.0",
      "model_name": "DropdownModel",
      "state": {
       "_options_labels": [
        "0",
        "1",
        "2",
        "3"
       ],
       "description": "Channel:",
       "disabled": true,
       "index": 0,
       "layout": "IPY_MODEL_ab2887af9aee4fe6b6133971098f668b",
       "style": "IPY_MODEL_793affe57d874e4898828ff48c1a00ec"
      }
     },
     "6fdd18c70e7f4b0b8eb3f0aa7288785f": {
      "model_module": "@jupyter-widgets/controls",
      "model_module_version": "1.5.0",
      "model_name": "CheckboxModel",
      "state": {
       "description": "Display multiple traces as stacked graphs. Uncheck to display all on the same graph.",
       "disabled": false,
       "layout": "IPY_MODEL_f0f0f289c8f440889110c58a08082bbb",
       "style": "IPY_MODEL_b0598cb896334e1e9dee9c6fb1eb03fb",
       "value": true
      }
     },
     "6fffa1a2e26c4dd79733a239ef75bd84": {
      "model_module": "@jupyter-widgets/controls",
      "model_module_version": "1.5.0",
      "model_name": "DropdownModel",
      "state": {
       "_options_labels": [
        "0",
        "1",
        "2",
        "3",
        "4",
        "5",
        "6",
        "7",
        "8"
       ],
       "description": "Channel:",
       "index": 0,
       "layout": "IPY_MODEL_038297d39a5a428a978d7b3b37dc1e08",
       "style": "IPY_MODEL_c97e7f3c526c4a84bd205980a8609179"
      }
     },
     "70169b9c44f2427aa9e7cd269b8fb1cf": {
      "model_module": "@jupyter-widgets/base",
      "model_module_version": "1.2.0",
      "model_name": "LayoutModel",
      "state": {}
     },
     "701709b9f3d74bf8b6e0949dab9e6f9f": {
      "model_module": "@jupyter-widgets/base",
      "model_module_version": "1.2.0",
      "model_name": "LayoutModel",
      "state": {}
     },
     "70acc37f4a07423db22f706d8d71bf3b": {
      "model_module": "@jupyter-widgets/base",
      "model_module_version": "1.2.0",
      "model_name": "LayoutModel",
      "state": {}
     },
     "70b7bd3be57d48adb6658007f264fd00": {
      "model_module": "@jupyter-widgets/controls",
      "model_module_version": "1.5.0",
      "model_name": "DropdownModel",
      "state": {
       "_options_labels": [
        "0",
        "1",
        "2",
        "3",
        "4",
        "5",
        "6",
        "7",
        "8"
       ],
       "description": "Channel:",
       "index": 4,
       "layout": "IPY_MODEL_1aafb14acbaf4fd3ba79ce83863f6323",
       "style": "IPY_MODEL_1178d084424246beae4da154488d9e23"
      }
     },
     "7120cdbe8d15470abe19ba21d920c080": {
      "model_module": "@jupyter-widgets/base",
      "model_module_version": "1.2.0",
      "model_name": "LayoutModel",
      "state": {}
     },
     "7136052b737e4d2da515967698c2e8eb": {
      "model_module": "@jupyter-widgets/base",
      "model_module_version": "1.2.0",
      "model_name": "LayoutModel",
      "state": {
       "border": "solid"
      }
     },
     "7154b35342e347868d48852ae8438932": {
      "model_module": "@jupyter-widgets/base",
      "model_module_version": "1.2.0",
      "model_name": "LayoutModel",
      "state": {}
     },
     "715e27f6b68a411591bfbafe7c113982": {
      "model_module": "@jupyter-widgets/controls",
      "model_module_version": "1.5.0",
      "model_name": "DropdownModel",
      "state": {
       "_options_labels": [
        "0 ADS1115",
        "1 DAQC2"
       ],
       "description": "Board:",
       "disabled": true,
       "index": 0,
       "layout": "IPY_MODEL_36af0ac38e9540629225bbe3c902de8f",
       "style": "IPY_MODEL_9e346e8aaae34e5eb64d12a730589a7d"
      }
     },
     "71996717b8b94189a38671b7c88ceced": {
      "model_module": "@jupyter-widgets/controls",
      "model_module_version": "1.5.0",
      "model_name": "DescriptionStyleModel",
      "state": {
       "description_width": ""
      }
     },
     "71da7186e1674a898e9e26755d91ff8c": {
      "model_module": "@jupyter-widgets/base",
      "model_module_version": "1.2.0",
      "model_name": "LayoutModel",
      "state": {}
     },
     "71fabfc1dbd14732b11700f7d98b3837": {
      "model_module": "@jupyter-widgets/controls",
      "model_module_version": "1.5.0",
      "model_name": "DescriptionStyleModel",
      "state": {
       "description_width": ""
      }
     },
     "72942871007841ec8f3be54ff2e20dd8": {
      "model_module": "@jupyter-widgets/base",
      "model_module_version": "1.2.0",
      "model_name": "LayoutModel",
      "state": {}
     },
     "72976fb6bdc6424180b31fb60e68b845": {
      "model_module": "@jupyter-widgets/controls",
      "model_module_version": "1.5.0",
      "model_name": "DescriptionStyleModel",
      "state": {
       "description_width": ""
      }
     },
     "736de7e7346445e7a449510f10935430": {
      "model_module": "@jupyter-widgets/controls",
      "model_module_version": "1.5.0",
      "model_name": "DropdownModel",
      "state": {
       "_options_labels": [
        "0.6666666666666666",
        "1",
        "2",
        "4",
        "8",
        "16"
       ],
       "description": "gains:",
       "disabled": true,
       "index": 0,
       "layout": "IPY_MODEL_ea2b3be09fd845bcbe375e822d4ef89b",
       "style": "IPY_MODEL_db44839a5339427dbd41e86667f3ec1f"
      }
     },
     "7382525e15794db08586b7c81333d619": {
      "model_module": "@jupyter-widgets/controls",
      "model_module_version": "1.5.0",
      "model_name": "ButtonStyleModel",
      "state": {}
     },
     "73cc132c070147b6b03ca9d4d4b681de": {
      "model_module": "@jupyter-widgets/base",
      "model_module_version": "1.2.0",
      "model_name": "LayoutModel",
      "state": {}
     },
     "73f6f2b09e504302abaac60441432f31": {
      "model_module": "@jupyter-widgets/base",
      "model_module_version": "1.2.0",
      "model_name": "LayoutModel",
      "state": {
       "border": "solid"
      }
     },
     "748ac74f10624f389218e4efc3e70f58": {
      "model_module": "@jupyter-widgets/controls",
      "model_module_version": "1.5.0",
      "model_name": "DescriptionStyleModel",
      "state": {
       "description_width": ""
      }
     },
     "749425ea3610483492ad2ee37be59c5e": {
      "model_module": "@jupyter-widgets/base",
      "model_module_version": "1.2.0",
      "model_name": "LayoutModel",
      "state": {}
     },
     "74a6d40f033c4d389affb5aa6328c9b8": {
      "model_module": "@jupyter-widgets/base",
      "model_module_version": "1.2.0",
      "model_name": "LayoutModel",
      "state": {}
     },
     "75435a3a687f45a2a7826dee507dad83": {
      "model_module": "@jupyter-widgets/controls",
      "model_module_version": "1.5.0",
      "model_name": "DropdownModel",
      "state": {
       "_options_labels": [
        "0 ADS1115",
        "1 DAQC2"
       ],
       "description": "Board:",
       "index": 1,
       "layout": "IPY_MODEL_3dd3faf63bb446f0a433b44bc74906f4",
       "style": "IPY_MODEL_6db9debbeb544b1b9c37595f69f2ac38"
      }
     },
     "7544ae5448544e76b380cdcc7f00b70d": {
      "model_module": "@jupyter-widgets/controls",
      "model_module_version": "1.5.0",
      "model_name": "DescriptionStyleModel",
      "state": {
       "description_width": ""
      }
     },
     "755a754227e6461a9a7fdafdbfbb0b40": {
      "model_module": "@jupyter-widgets/base",
      "model_module_version": "1.2.0",
      "model_name": "LayoutModel",
      "state": {}
     },
     "7602d4c537464c8cbc6c32e634885604": {
      "model_module": "@jupyter-widgets/base",
      "model_module_version": "1.2.0",
      "model_name": "LayoutModel",
      "state": {}
     },
     "77317a428ab24d539724a70a423bd029": {
      "model_module": "@jupyter-widgets/base",
      "model_module_version": "1.2.0",
      "model_name": "LayoutModel",
      "state": {}
     },
     "7746030215e84e9d83b289af39d48a30": {
      "model_module": "@jupyter-widgets/controls",
      "model_module_version": "1.5.0",
      "model_name": "DropdownModel",
      "state": {
       "_options_labels": [
        "0.6666666666666666",
        "1",
        "2",
        "4",
        "8",
        "16"
       ],
       "description": "gains:",
       "disabled": true,
       "index": 0,
       "layout": "IPY_MODEL_1501cec36d0b4b11bc72a26fafc67205",
       "style": "IPY_MODEL_881f0a4601d248588d88e4383ddaaf39"
      }
     },
     "775b334d0eb74ddf841191b4115a3668": {
      "model_module": "@jupyter-widgets/base",
      "model_module_version": "1.2.0",
      "model_name": "LayoutModel",
      "state": {}
     },
     "77c242dd6bd0434bb06ce8481fc82693": {
      "model_module": "@jupyter-widgets/controls",
      "model_module_version": "1.5.0",
      "model_name": "DescriptionStyleModel",
      "state": {
       "description_width": ""
      }
     },
     "78048a58fc8449b9b7ca15c60f2d6a87": {
      "model_module": "@jupyter-widgets/base",
      "model_module_version": "1.2.0",
      "model_name": "LayoutModel",
      "state": {}
     },
     "784daf14ce764b989ec16dc8b6da2bf4": {
      "model_module": "@jupyter-widgets/base",
      "model_module_version": "1.2.0",
      "model_name": "LayoutModel",
      "state": {}
     },
     "78ba946ffcbe4c13a8ad4778cf6327ea": {
      "model_module": "@jupyter-widgets/base",
      "model_module_version": "1.2.0",
      "model_name": "LayoutModel",
      "state": {}
     },
     "79206ced6cde4c8984f8ce410d9738f5": {
      "model_module": "@jupyter-widgets/controls",
      "model_module_version": "1.5.0",
      "model_name": "CheckboxModel",
      "state": {
       "description": "Display multiple traces as stacked graphs. Uncheck to display all on the same graph.",
       "disabled": false,
       "layout": "IPY_MODEL_890197c03602417b92dec4c679e3acb3",
       "style": "IPY_MODEL_0ec7365b1fca4286ab4905e2503c2f9b",
       "value": true
      }
     },
     "793affe57d874e4898828ff48c1a00ec": {
      "model_module": "@jupyter-widgets/controls",
      "model_module_version": "1.5.0",
      "model_name": "DescriptionStyleModel",
      "state": {
       "description_width": ""
      }
     },
     "79cd8ac6abb44d539dacab7f77bc87f0": {
      "model_module": "@jupyter-widgets/controls",
      "model_module_version": "1.5.0",
      "model_name": "DescriptionStyleModel",
      "state": {
       "description_width": ""
      }
     },
     "79d993448286420aa1cca739c6ed0855": {
      "model_module": "@jupyter-widgets/base",
      "model_module_version": "1.2.0",
      "model_name": "LayoutModel",
      "state": {}
     },
     "7aa6142c0e614de1ac7c49f2e21b05b7": {
      "model_module": "@jupyter-widgets/controls",
      "model_module_version": "1.5.0",
      "model_name": "DropdownModel",
      "state": {
       "_options_labels": [
        "1"
       ],
       "description": "gains:",
       "index": 0,
       "layout": "IPY_MODEL_073a72c6871f45f48fded67eb4310ce8",
       "style": "IPY_MODEL_233b76f2c8bd45fe848c75b5b6c79eb1"
      }
     },
     "7acfe203288b4f82b7467b3655f579f7": {
      "model_module": "@jupyter-widgets/controls",
      "model_module_version": "1.5.0",
      "model_name": "DescriptionStyleModel",
      "state": {
       "description_width": ""
      }
     },
     "7b224d9d7688449d854cf91b49148b01": {
      "model_module": "@jupyter-widgets/controls",
      "model_module_version": "1.5.0",
      "model_name": "DescriptionStyleModel",
      "state": {
       "description_width": ""
      }
     },
     "7b7e1f3df4ab43d49b8d1992a52e7dde": {
      "model_module": "@jupyter-widgets/base",
      "model_module_version": "1.2.0",
      "model_name": "LayoutModel",
      "state": {}
     },
     "7c92827e94024cb2990f6e54f7415610": {
      "model_module": "@jupyter-widgets/controls",
      "model_module_version": "1.5.0",
      "model_name": "DescriptionStyleModel",
      "state": {
       "description_width": ""
      }
     },
     "7c9a6321275847acaaf61edef403a358": {
      "model_module": "@jupyter-widgets/controls",
      "model_module_version": "1.5.0",
      "model_name": "DescriptionStyleModel",
      "state": {
       "description_width": ""
      }
     },
     "7cee8934d36047b888fc4179beda59b9": {
      "model_module": "@jupyter-widgets/base",
      "model_module_version": "1.2.0",
      "model_name": "LayoutModel",
      "state": {}
     },
     "7d6a857154764db3927d3a04cbeef734": {
      "model_module": "@jupyter-widgets/base",
      "model_module_version": "1.2.0",
      "model_name": "LayoutModel",
      "state": {}
     },
     "7d84296850464573b409f0530109b819": {
      "model_module": "@jupyter-widgets/base",
      "model_module_version": "1.2.0",
      "model_name": "LayoutModel",
      "state": {}
     },
     "7e40d6884fd84b3098cf5e321f246743": {
      "model_module": "@jupyter-widgets/base",
      "model_module_version": "1.2.0",
      "model_name": "LayoutModel",
      "state": {}
     },
     "7ea72e9a6aef40f59c71dfa2a6ee1271": {
      "model_module": "@jupyter-widgets/controls",
      "model_module_version": "1.5.0",
      "model_name": "DescriptionStyleModel",
      "state": {
       "description_width": ""
      }
     },
     "7f32d902533346c185aae7827c10d884": {
      "model_module": "@jupyter-widgets/controls",
      "model_module_version": "1.5.0",
      "model_name": "DropdownModel",
      "state": {
       "_options_labels": [
        "0",
        "1",
        "2",
        "3"
       ],
       "description": "Channel:",
       "disabled": true,
       "index": 0,
       "layout": "IPY_MODEL_05de08edb80b4e718914755d7da35386",
       "style": "IPY_MODEL_457a0b5ed9b04c8a82a325bf71afd139"
      }
     },
     "7f5c4434d8284109880ce68656dc489d": {
      "model_module": "@jupyter-widgets/controls",
      "model_module_version": "1.5.0",
      "model_name": "ButtonStyleModel",
      "state": {}
     },
     "7f5f924f49b34a5e82bef30126046ce3": {
      "model_module": "@jupyter-widgets/controls",
      "model_module_version": "1.5.0",
      "model_name": "DescriptionStyleModel",
      "state": {
       "description_width": ""
      }
     },
     "815798bc6bad4b9e991e9a6f29c597db": {
      "model_module": "@jupyter-widgets/base",
      "model_module_version": "1.2.0",
      "model_name": "LayoutModel",
      "state": {}
     },
     "817d21500f0241f9b72cb33b58c009b8": {
      "model_module": "@jupyter-widgets/controls",
      "model_module_version": "1.5.0",
      "model_name": "DescriptionStyleModel",
      "state": {
       "description_width": ""
      }
     },
     "834b4661c2434762ad7d6e8213bd44b7": {
      "model_module": "@jupyter-widgets/base",
      "model_module_version": "1.2.0",
      "model_name": "LayoutModel",
      "state": {}
     },
     "83cb39919b6449669020cefde2289c73": {
      "model_module": "@jupyter-widgets/base",
      "model_module_version": "1.2.0",
      "model_name": "LayoutModel",
      "state": {}
     },
     "8405c72d2c2442318dba6645514296d5": {
      "model_module": "@jupyter-widgets/base",
      "model_module_version": "1.2.0",
      "model_name": "LayoutModel",
      "state": {}
     },
     "8479cbb781ac4361a2526e4e1b89a061": {
      "model_module": "@jupyter-widgets/base",
      "model_module_version": "1.2.0",
      "model_name": "LayoutModel",
      "state": {}
     },
     "84a68dce8ed645f68753da5b417f3637": {
      "model_module": "@jupyter-widgets/controls",
      "model_module_version": "1.5.0",
      "model_name": "DescriptionStyleModel",
      "state": {
       "description_width": ""
      }
     },
     "8524f5da78064a4496b96cdf5be3ccaa": {
      "model_module": "@jupyter-widgets/base",
      "model_module_version": "1.2.0",
      "model_name": "LayoutModel",
      "state": {}
     },
     "852d0cb37bb5487193b98a238369d4bd": {
      "model_module": "@jupyter-widgets/controls",
      "model_module_version": "1.5.0",
      "model_name": "DropdownModel",
      "state": {
       "_options_labels": [
        "0",
        "1",
        "2",
        "3"
       ],
       "description": "Channel:",
       "disabled": true,
       "index": 0,
       "layout": "IPY_MODEL_f167eaf6340446009bee361668582e36",
       "style": "IPY_MODEL_e9254064a1bf4e939a9eaf4ddf886aa1"
      }
     },
     "85340400e89449ff87e6eb7efe6b1608": {
      "model_module": "@jupyter-widgets/base",
      "model_module_version": "1.2.0",
      "model_name": "LayoutModel",
      "state": {}
     },
     "8594a79203644802b9a7e2e7be98df82": {
      "model_module": "@jupyter-widgets/base",
      "model_module_version": "1.2.0",
      "model_name": "LayoutModel",
      "state": {}
     },
     "860cf8163d4e48d18d9697fb5ca24db3": {
      "model_module": "@jupyter-widgets/controls",
      "model_module_version": "1.5.0",
      "model_name": "DropdownModel",
      "state": {
       "_options_labels": [
        "0",
        "1",
        "2",
        "3",
        "4",
        "5",
        "6",
        "7",
        "8"
       ],
       "description": "Channel:",
       "index": 1,
       "layout": "IPY_MODEL_481aae10b3b9485480611d623602a9c0",
       "style": "IPY_MODEL_aa41ccfb57c84dc4a5916b40ccba1edd"
      }
     },
     "86246e9514d4484fbc30fb3686b2ce1b": {
      "model_module": "@jupyter-widgets/base",
      "model_module_version": "1.2.0",
      "model_name": "LayoutModel",
      "state": {}
     },
     "870b4a1adefa476d8a1da8e66dbd9516": {
      "model_module": "@jupyter-widgets/base",
      "model_module_version": "1.2.0",
      "model_name": "LayoutModel",
      "state": {}
     },
     "8720d5aa3a6f4b6082affbae61d6dd9d": {
      "model_module": "@jupyter-widgets/base",
      "model_module_version": "1.2.0",
      "model_name": "LayoutModel",
      "state": {}
     },
     "873c728a6a794e8bb24e9ab288129151": {
      "model_module": "@jupyter-widgets/controls",
      "model_module_version": "1.5.0",
      "model_name": "DropdownModel",
      "state": {
       "_options_labels": [
        "0.6666666666666666",
        "1",
        "2",
        "4",
        "8",
        "16"
       ],
       "description": "gains:",
       "disabled": true,
       "index": 0,
       "layout": "IPY_MODEL_190f7be810ae4b7fa8b6b295451221e9",
       "style": "IPY_MODEL_7544ae5448544e76b380cdcc7f00b70d"
      }
     },
     "881f0a4601d248588d88e4383ddaaf39": {
      "model_module": "@jupyter-widgets/controls",
      "model_module_version": "1.5.0",
      "model_name": "DescriptionStyleModel",
      "state": {
       "description_width": ""
      }
     },
     "882c67baca2047aa858476469dd51dfd": {
      "model_module": "@jupyter-widgets/base",
      "model_module_version": "1.2.0",
      "model_name": "LayoutModel",
      "state": {}
     },
     "882d33ced2a04e0da65cb82344813b8e": {
      "model_module": "@jupyter-widgets/controls",
      "model_module_version": "1.5.0",
      "model_name": "DescriptionStyleModel",
      "state": {
       "description_width": ""
      }
     },
     "888604f7299944ff8855b9884f6ba155": {
      "model_module": "@jupyter-widgets/base",
      "model_module_version": "1.2.0",
      "model_name": "LayoutModel",
      "state": {}
     },
     "88c1609fe9b2446195f5ccf721fa1098": {
      "model_module": "@jupyter-widgets/controls",
      "model_module_version": "1.5.0",
      "model_name": "DescriptionStyleModel",
      "state": {
       "description_width": ""
      }
     },
     "890197c03602417b92dec4c679e3acb3": {
      "model_module": "@jupyter-widgets/base",
      "model_module_version": "1.2.0",
      "model_name": "LayoutModel",
      "state": {
       "width": "80%"
      }
     },
     "8910cd51b04f49f2bca4a287be926741": {
      "model_module": "@jupyter-widgets/controls",
      "model_module_version": "1.5.0",
      "model_name": "HBoxModel",
      "state": {
       "children": [
        "IPY_MODEL_dff0a0bcb2944a29bf3f117abc2a06be",
        "IPY_MODEL_34ad1f56f66840238e6613f17b02f49e"
       ],
       "layout": "IPY_MODEL_2f05ba843ef0456a864d92af4a175fd8"
      }
     },
     "896d4e50770547918518cef6d4a311cd": {
      "model_module": "@jupyter-widgets/controls",
      "model_module_version": "1.5.0",
      "model_name": "DescriptionStyleModel",
      "state": {
       "description_width": ""
      }
     },
     "89b665b223944af88b2c09d940fcd6ad": {
      "model_module": "@jupyter-widgets/controls",
      "model_module_version": "1.5.0",
      "model_name": "DropdownModel",
      "state": {
       "_options_labels": [
        "0",
        "1",
        "2",
        "3"
       ],
       "description": "Channel:",
       "disabled": true,
       "index": 0,
       "layout": "IPY_MODEL_9ea3b2168f79443d9e18f1f1383d4866",
       "style": "IPY_MODEL_0e0aa83098cf4facbc3b752edbe6a634"
      }
     },
     "89cf8802038e46628337632294a71886": {
      "model_module": "@jupyter-widgets/controls",
      "model_module_version": "1.5.0",
      "model_name": "HTMLModel",
      "state": {
       "layout": "IPY_MODEL_0d3f4d3606bb4cfa95e8b31f358f4633",
       "placeholder": "",
       "style": "IPY_MODEL_ea79f178dee3401286ce7261e3d9e3a0",
       "value": "<span style=\"color:blue;\"> To accurately read point location on graph you can zoom in. Drag to zoom. Additional controls show above plot when you hover over it.</span>"
      }
     },
     "89faad2d37c54f6385f5cde0ff315c97": {
      "model_module": "@jupyter-widgets/base",
      "model_module_version": "1.2.0",
      "model_name": "LayoutModel",
      "state": {}
     },
     "89fd57f6cc56433a9d23d81cd58427c9": {
      "model_module": "@jupyter-widgets/base",
      "model_module_version": "1.2.0",
      "model_name": "LayoutModel",
      "state": {}
     },
     "8b5e50837925426f9a0bec2ab8d3edbe": {
      "model_module": "@jupyter-widgets/base",
      "model_module_version": "1.2.0",
      "model_name": "LayoutModel",
      "state": {}
     },
     "8b702d4bb49844948a760370009887b7": {
      "model_module": "@jupyter-widgets/controls",
      "model_module_version": "1.5.0",
      "model_name": "DropdownModel",
      "state": {
       "_options_labels": [
        "0 ADS1115",
        "1 DAQC2"
       ],
       "description": "Board:",
       "index": 1,
       "layout": "IPY_MODEL_424d1e933aaf4de996191cbbcb60eb88",
       "style": "IPY_MODEL_afc3a97ba8934efc890a0317d5d19827"
      }
     },
     "8bb776a3bc714b8eb3b9783b8d1f5687": {
      "model_module": "@jupyter-widgets/controls",
      "model_module_version": "1.5.0",
      "model_name": "DescriptionStyleModel",
      "state": {
       "description_width": ""
      }
     },
     "8be96311eac34ffc81db97eb3cd83ed0": {
      "model_module": "@jupyter-widgets/controls",
      "model_module_version": "1.5.0",
      "model_name": "DescriptionStyleModel",
      "state": {
       "description_width": ""
      }
     },
     "8bef75bbc6114dce963e5b887d248601": {
      "model_module": "@jupyter-widgets/base",
      "model_module_version": "1.2.0",
      "model_name": "LayoutModel",
      "state": {}
     },
     "8c2293eb80d048faa4ee475a72d4ed4e": {
      "model_module": "@jupyter-widgets/base",
      "model_module_version": "1.2.0",
      "model_name": "LayoutModel",
      "state": {}
     },
     "8c3fe812aff548c396f4ab2c973a494b": {
      "model_module": "@jupyter-widgets/controls",
      "model_module_version": "1.5.0",
      "model_name": "DescriptionStyleModel",
      "state": {
       "description_width": ""
      }
     },
     "8d067952c1d7425d9c6cd609cc8afd63": {
      "model_module": "@jupyter-widgets/controls",
      "model_module_version": "1.5.0",
      "model_name": "DescriptionStyleModel",
      "state": {
       "description_width": ""
      }
     },
     "8d687637ac4b4afbafbfefbca7ac8ca7": {
      "model_module": "@jupyter-widgets/base",
      "model_module_version": "1.2.0",
      "model_name": "LayoutModel",
      "state": {}
     },
     "8dac064adc2f4aecab8effed36db63bd": {
      "model_module": "@jupyter-widgets/controls",
      "model_module_version": "1.5.0",
      "model_name": "DescriptionStyleModel",
      "state": {
       "description_width": ""
      }
     },
     "8decc4001dac4de7a7b92599acd09309": {
      "model_module": "@jupyter-widgets/base",
      "model_module_version": "1.2.0",
      "model_name": "LayoutModel",
      "state": {}
     },
     "8df046cae63c4f448e6fe79835bb3e31": {
      "model_module": "@jupyter-widgets/base",
      "model_module_version": "1.2.0",
      "model_name": "LayoutModel",
      "state": {}
     },
     "8df22e06f5e040eb9f7c9e0858b8ea57": {
      "model_module": "@jupyter-widgets/base",
      "model_module_version": "1.2.0",
      "model_name": "LayoutModel",
      "state": {}
     },
     "8e6025f7361948dba47003f2456f8685": {
      "model_module": "jupyterlab-plotly",
      "model_module_version": "^5.1.0",
      "model_name": "FigureModel",
      "state": {
       "_config": {
        "plotlyServerURL": "https://plot.ly"
       },
       "_data": [
        {
         "name": "Trace_0(V)",
         "type": "scatter",
         "uid": "f799f1a1-8d2e-42c4-968a-704012a58dc9",
         "x": [
          0.21019244194030762,
          1.1683292388916016,
          2.166531562805176,
          3.1658759117126465,
          4.164143085479736,
          5.164030075073242,
          6.162572145462036,
          7.1607825756073,
          8.15960955619812,
          9.158597707748413,
          10.157322645187378,
          11.155740976333618,
          12.154866695404053,
          13.153881311416626,
          14.152472734451294,
          15.150968551635742,
          16.15002465248108,
          17.14836287498474,
          18.149346351623535,
          19.146221160888672,
          20.14461326599121,
          21.144405603408813,
          22.142947673797607,
          23.141708850860596,
          24.14046287536621,
          25.138725996017456,
          26.13744044303894,
          27.137224912643433,
          28.13598608970642,
          29.13386368751526,
          30.13259768486023,
          31.132336378097534,
          32.13094449043274
         ],
         "xaxis": "x2",
         "y": [
          -0.004,
          -0.004,
          -0.005,
          -0.005,
          -0.004,
          -0.004,
          -0.004,
          -0.004,
          -0.004,
          -0.005,
          -0.005,
          -0.004,
          -0.004,
          -0.005,
          -0.004,
          -0.004,
          -0.004,
          -0.004,
          -0.004,
          -0.004,
          -0.004,
          -0.004,
          -0.005,
          -0.004,
          -0.004,
          -0.004,
          -0.005,
          -0.005,
          -0.004,
          -0.005,
          -0.004,
          -0.004,
          -0.004
         ],
         "yaxis": "y2"
        },
        {
         "name": "Trace_1(V)",
         "type": "scatter",
         "uid": "c8be9498-197a-497c-939f-5f5bec8db4f2",
         "x": [
          0.21019244194030762,
          1.1683292388916016,
          2.166531562805176,
          3.1658759117126465,
          4.164143085479736,
          5.164030075073242,
          6.162572145462036,
          7.1607825756073,
          8.15960955619812,
          9.158597707748413,
          10.157322645187378,
          11.155740976333618,
          12.154866695404053,
          13.153881311416626,
          14.152472734451294,
          15.150968551635742,
          16.15002465248108,
          17.14836287498474,
          18.149346351623535,
          19.146221160888672,
          20.14461326599121,
          21.144405603408813,
          22.142947673797607,
          23.141708850860596,
          24.14046287536621,
          25.138725996017456,
          26.13744044303894,
          27.137224912643433,
          28.13598608970642,
          29.13386368751526,
          30.13259768486023,
          31.132336378097534,
          32.13094449043274
         ],
         "xaxis": "x",
         "y": [
          3.376,
          3.376,
          3.376,
          3.376,
          3.376,
          3.376,
          3.376,
          3.376,
          3.376,
          3.376,
          3.376,
          3.375,
          3.375,
          3.375,
          3.375,
          3.375,
          3.375,
          3.375,
          3.375,
          3.375,
          3.375,
          3.375,
          3.375,
          3.375,
          3.375,
          3.374,
          3.375,
          3.374,
          3.374,
          3.375,
          3.373,
          3.374,
          3.374
         ],
         "yaxis": "y"
        }
       ],
       "_js2py_relayout": {},
       "_js2py_restyle": {},
       "_js2py_update": {},
       "_last_layout_edit_id": 70,
       "_last_trace_edit_id": 70,
       "_layout": {
        "template": {
         "data": {
          "bar": [
           {
            "error_x": {
             "color": "rgb(36,36,36)"
            },
            "error_y": {
             "color": "rgb(36,36,36)"
            },
            "marker": {
             "line": {
              "color": "white",
              "width": 0.5
             },
             "pattern": {
              "fillmode": "overlay",
              "size": 10,
              "solidity": 0.2
             }
            },
            "type": "bar"
           }
          ],
          "barpolar": [
           {
            "marker": {
             "line": {
              "color": "white",
              "width": 0.5
             },
             "pattern": {
              "fillmode": "overlay",
              "size": 10,
              "solidity": 0.2
             }
            },
            "type": "barpolar"
           }
          ],
          "carpet": [
           {
            "aaxis": {
             "endlinecolor": "rgb(36,36,36)",
             "gridcolor": "white",
             "linecolor": "white",
             "minorgridcolor": "white",
             "startlinecolor": "rgb(36,36,36)"
            },
            "baxis": {
             "endlinecolor": "rgb(36,36,36)",
             "gridcolor": "white",
             "linecolor": "white",
             "minorgridcolor": "white",
             "startlinecolor": "rgb(36,36,36)"
            },
            "type": "carpet"
           }
          ],
          "choropleth": [
           {
            "colorbar": {
             "outlinewidth": 1,
             "tickcolor": "rgb(36,36,36)",
             "ticks": "outside"
            },
            "type": "choropleth"
           }
          ],
          "contour": [
           {
            "colorbar": {
             "outlinewidth": 1,
             "tickcolor": "rgb(36,36,36)",
             "ticks": "outside"
            },
            "colorscale": [
             [
              0,
              "#440154"
             ],
             [
              0.1111111111111111,
              "#482878"
             ],
             [
              0.2222222222222222,
              "#3e4989"
             ],
             [
              0.3333333333333333,
              "#31688e"
             ],
             [
              0.4444444444444444,
              "#26828e"
             ],
             [
              0.5555555555555556,
              "#1f9e89"
             ],
             [
              0.6666666666666666,
              "#35b779"
             ],
             [
              0.7777777777777778,
              "#6ece58"
             ],
             [
              0.8888888888888888,
              "#b5de2b"
             ],
             [
              1,
              "#fde725"
             ]
            ],
            "type": "contour"
           }
          ],
          "contourcarpet": [
           {
            "colorbar": {
             "outlinewidth": 1,
             "tickcolor": "rgb(36,36,36)",
             "ticks": "outside"
            },
            "type": "contourcarpet"
           }
          ],
          "heatmap": [
           {
            "colorbar": {
             "outlinewidth": 1,
             "tickcolor": "rgb(36,36,36)",
             "ticks": "outside"
            },
            "colorscale": [
             [
              0,
              "#440154"
             ],
             [
              0.1111111111111111,
              "#482878"
             ],
             [
              0.2222222222222222,
              "#3e4989"
             ],
             [
              0.3333333333333333,
              "#31688e"
             ],
             [
              0.4444444444444444,
              "#26828e"
             ],
             [
              0.5555555555555556,
              "#1f9e89"
             ],
             [
              0.6666666666666666,
              "#35b779"
             ],
             [
              0.7777777777777778,
              "#6ece58"
             ],
             [
              0.8888888888888888,
              "#b5de2b"
             ],
             [
              1,
              "#fde725"
             ]
            ],
            "type": "heatmap"
           }
          ],
          "heatmapgl": [
           {
            "colorbar": {
             "outlinewidth": 1,
             "tickcolor": "rgb(36,36,36)",
             "ticks": "outside"
            },
            "colorscale": [
             [
              0,
              "#440154"
             ],
             [
              0.1111111111111111,
              "#482878"
             ],
             [
              0.2222222222222222,
              "#3e4989"
             ],
             [
              0.3333333333333333,
              "#31688e"
             ],
             [
              0.4444444444444444,
              "#26828e"
             ],
             [
              0.5555555555555556,
              "#1f9e89"
             ],
             [
              0.6666666666666666,
              "#35b779"
             ],
             [
              0.7777777777777778,
              "#6ece58"
             ],
             [
              0.8888888888888888,
              "#b5de2b"
             ],
             [
              1,
              "#fde725"
             ]
            ],
            "type": "heatmapgl"
           }
          ],
          "histogram": [
           {
            "marker": {
             "line": {
              "color": "white",
              "width": 0.6
             }
            },
            "type": "histogram"
           }
          ],
          "histogram2d": [
           {
            "colorbar": {
             "outlinewidth": 1,
             "tickcolor": "rgb(36,36,36)",
             "ticks": "outside"
            },
            "colorscale": [
             [
              0,
              "#440154"
             ],
             [
              0.1111111111111111,
              "#482878"
             ],
             [
              0.2222222222222222,
              "#3e4989"
             ],
             [
              0.3333333333333333,
              "#31688e"
             ],
             [
              0.4444444444444444,
              "#26828e"
             ],
             [
              0.5555555555555556,
              "#1f9e89"
             ],
             [
              0.6666666666666666,
              "#35b779"
             ],
             [
              0.7777777777777778,
              "#6ece58"
             ],
             [
              0.8888888888888888,
              "#b5de2b"
             ],
             [
              1,
              "#fde725"
             ]
            ],
            "type": "histogram2d"
           }
          ],
          "histogram2dcontour": [
           {
            "colorbar": {
             "outlinewidth": 1,
             "tickcolor": "rgb(36,36,36)",
             "ticks": "outside"
            },
            "colorscale": [
             [
              0,
              "#440154"
             ],
             [
              0.1111111111111111,
              "#482878"
             ],
             [
              0.2222222222222222,
              "#3e4989"
             ],
             [
              0.3333333333333333,
              "#31688e"
             ],
             [
              0.4444444444444444,
              "#26828e"
             ],
             [
              0.5555555555555556,
              "#1f9e89"
             ],
             [
              0.6666666666666666,
              "#35b779"
             ],
             [
              0.7777777777777778,
              "#6ece58"
             ],
             [
              0.8888888888888888,
              "#b5de2b"
             ],
             [
              1,
              "#fde725"
             ]
            ],
            "type": "histogram2dcontour"
           }
          ],
          "mesh3d": [
           {
            "colorbar": {
             "outlinewidth": 1,
             "tickcolor": "rgb(36,36,36)",
             "ticks": "outside"
            },
            "type": "mesh3d"
           }
          ],
          "parcoords": [
           {
            "line": {
             "colorbar": {
              "outlinewidth": 1,
              "tickcolor": "rgb(36,36,36)",
              "ticks": "outside"
             }
            },
            "type": "parcoords"
           }
          ],
          "pie": [
           {
            "automargin": true,
            "type": "pie"
           }
          ],
          "scatter": [
           {
            "marker": {
             "colorbar": {
              "outlinewidth": 1,
              "tickcolor": "rgb(36,36,36)",
              "ticks": "outside"
             }
            },
            "type": "scatter"
           }
          ],
          "scatter3d": [
           {
            "line": {
             "colorbar": {
              "outlinewidth": 1,
              "tickcolor": "rgb(36,36,36)",
              "ticks": "outside"
             }
            },
            "marker": {
             "colorbar": {
              "outlinewidth": 1,
              "tickcolor": "rgb(36,36,36)",
              "ticks": "outside"
             }
            },
            "type": "scatter3d"
           }
          ],
          "scattercarpet": [
           {
            "marker": {
             "colorbar": {
              "outlinewidth": 1,
              "tickcolor": "rgb(36,36,36)",
              "ticks": "outside"
             }
            },
            "type": "scattercarpet"
           }
          ],
          "scattergeo": [
           {
            "marker": {
             "colorbar": {
              "outlinewidth": 1,
              "tickcolor": "rgb(36,36,36)",
              "ticks": "outside"
             }
            },
            "type": "scattergeo"
           }
          ],
          "scattergl": [
           {
            "marker": {
             "colorbar": {
              "outlinewidth": 1,
              "tickcolor": "rgb(36,36,36)",
              "ticks": "outside"
             }
            },
            "type": "scattergl"
           }
          ],
          "scattermapbox": [
           {
            "marker": {
             "colorbar": {
              "outlinewidth": 1,
              "tickcolor": "rgb(36,36,36)",
              "ticks": "outside"
             }
            },
            "type": "scattermapbox"
           }
          ],
          "scatterpolar": [
           {
            "marker": {
             "colorbar": {
              "outlinewidth": 1,
              "tickcolor": "rgb(36,36,36)",
              "ticks": "outside"
             }
            },
            "type": "scatterpolar"
           }
          ],
          "scatterpolargl": [
           {
            "marker": {
             "colorbar": {
              "outlinewidth": 1,
              "tickcolor": "rgb(36,36,36)",
              "ticks": "outside"
             }
            },
            "type": "scatterpolargl"
           }
          ],
          "scatterternary": [
           {
            "marker": {
             "colorbar": {
              "outlinewidth": 1,
              "tickcolor": "rgb(36,36,36)",
              "ticks": "outside"
             }
            },
            "type": "scatterternary"
           }
          ],
          "surface": [
           {
            "colorbar": {
             "outlinewidth": 1,
             "tickcolor": "rgb(36,36,36)",
             "ticks": "outside"
            },
            "colorscale": [
             [
              0,
              "#440154"
             ],
             [
              0.1111111111111111,
              "#482878"
             ],
             [
              0.2222222222222222,
              "#3e4989"
             ],
             [
              0.3333333333333333,
              "#31688e"
             ],
             [
              0.4444444444444444,
              "#26828e"
             ],
             [
              0.5555555555555556,
              "#1f9e89"
             ],
             [
              0.6666666666666666,
              "#35b779"
             ],
             [
              0.7777777777777778,
              "#6ece58"
             ],
             [
              0.8888888888888888,
              "#b5de2b"
             ],
             [
              1,
              "#fde725"
             ]
            ],
            "type": "surface"
           }
          ],
          "table": [
           {
            "cells": {
             "fill": {
              "color": "rgb(237,237,237)"
             },
             "line": {
              "color": "white"
             }
            },
            "header": {
             "fill": {
              "color": "rgb(217,217,217)"
             },
             "line": {
              "color": "white"
             }
            },
            "type": "table"
           }
          ]
         },
         "layout": {
          "annotationdefaults": {
           "arrowhead": 0,
           "arrowwidth": 1
          },
          "autotypenumbers": "strict",
          "coloraxis": {
           "colorbar": {
            "outlinewidth": 1,
            "tickcolor": "rgb(36,36,36)",
            "ticks": "outside"
           }
          },
          "colorscale": {
           "diverging": [
            [
             0,
             "rgb(103,0,31)"
            ],
            [
             0.1,
             "rgb(178,24,43)"
            ],
            [
             0.2,
             "rgb(214,96,77)"
            ],
            [
             0.3,
             "rgb(244,165,130)"
            ],
            [
             0.4,
             "rgb(253,219,199)"
            ],
            [
             0.5,
             "rgb(247,247,247)"
            ],
            [
             0.6,
             "rgb(209,229,240)"
            ],
            [
             0.7,
             "rgb(146,197,222)"
            ],
            [
             0.8,
             "rgb(67,147,195)"
            ],
            [
             0.9,
             "rgb(33,102,172)"
            ],
            [
             1,
             "rgb(5,48,97)"
            ]
           ],
           "sequential": [
            [
             0,
             "#440154"
            ],
            [
             0.1111111111111111,
             "#482878"
            ],
            [
             0.2222222222222222,
             "#3e4989"
            ],
            [
             0.3333333333333333,
             "#31688e"
            ],
            [
             0.4444444444444444,
             "#26828e"
            ],
            [
             0.5555555555555556,
             "#1f9e89"
            ],
            [
             0.6666666666666666,
             "#35b779"
            ],
            [
             0.7777777777777778,
             "#6ece58"
            ],
            [
             0.8888888888888888,
             "#b5de2b"
            ],
            [
             1,
             "#fde725"
            ]
           ],
           "sequentialminus": [
            [
             0,
             "#440154"
            ],
            [
             0.1111111111111111,
             "#482878"
            ],
            [
             0.2222222222222222,
             "#3e4989"
            ],
            [
             0.3333333333333333,
             "#31688e"
            ],
            [
             0.4444444444444444,
             "#26828e"
            ],
            [
             0.5555555555555556,
             "#1f9e89"
            ],
            [
             0.6666666666666666,
             "#35b779"
            ],
            [
             0.7777777777777778,
             "#6ece58"
            ],
            [
             0.8888888888888888,
             "#b5de2b"
            ],
            [
             1,
             "#fde725"
            ]
           ]
          },
          "colorway": [
           "#1F77B4",
           "#FF7F0E",
           "#2CA02C",
           "#D62728",
           "#9467BD",
           "#8C564B",
           "#E377C2",
           "#7F7F7F",
           "#BCBD22",
           "#17BECF"
          ],
          "font": {
           "color": "rgb(36,36,36)"
          },
          "geo": {
           "bgcolor": "white",
           "lakecolor": "white",
           "landcolor": "white",
           "showlakes": true,
           "showland": true,
           "subunitcolor": "white"
          },
          "hoverlabel": {
           "align": "left"
          },
          "hovermode": "closest",
          "mapbox": {
           "style": "light"
          },
          "paper_bgcolor": "white",
          "plot_bgcolor": "white",
          "polar": {
           "angularaxis": {
            "gridcolor": "rgb(232,232,232)",
            "linecolor": "rgb(36,36,36)",
            "showgrid": false,
            "showline": true,
            "ticks": "outside"
           },
           "bgcolor": "white",
           "radialaxis": {
            "gridcolor": "rgb(232,232,232)",
            "linecolor": "rgb(36,36,36)",
            "showgrid": false,
            "showline": true,
            "ticks": "outside"
           }
          },
          "scene": {
           "xaxis": {
            "backgroundcolor": "white",
            "gridcolor": "rgb(232,232,232)",
            "gridwidth": 2,
            "linecolor": "rgb(36,36,36)",
            "showbackground": true,
            "showgrid": false,
            "showline": true,
            "ticks": "outside",
            "zeroline": false,
            "zerolinecolor": "rgb(36,36,36)"
           },
           "yaxis": {
            "backgroundcolor": "white",
            "gridcolor": "rgb(232,232,232)",
            "gridwidth": 2,
            "linecolor": "rgb(36,36,36)",
            "showbackground": true,
            "showgrid": false,
            "showline": true,
            "ticks": "outside",
            "zeroline": false,
            "zerolinecolor": "rgb(36,36,36)"
           },
           "zaxis": {
            "backgroundcolor": "white",
            "gridcolor": "rgb(232,232,232)",
            "gridwidth": 2,
            "linecolor": "rgb(36,36,36)",
            "showbackground": true,
            "showgrid": false,
            "showline": true,
            "ticks": "outside",
            "zeroline": false,
            "zerolinecolor": "rgb(36,36,36)"
           }
          },
          "shapedefaults": {
           "fillcolor": "black",
           "line": {
            "width": 0
           },
           "opacity": 0.3
          },
          "ternary": {
           "aaxis": {
            "gridcolor": "rgb(232,232,232)",
            "linecolor": "rgb(36,36,36)",
            "showgrid": false,
            "showline": true,
            "ticks": "outside"
           },
           "baxis": {
            "gridcolor": "rgb(232,232,232)",
            "linecolor": "rgb(36,36,36)",
            "showgrid": false,
            "showline": true,
            "ticks": "outside"
           },
           "bgcolor": "white",
           "caxis": {
            "gridcolor": "rgb(232,232,232)",
            "linecolor": "rgb(36,36,36)",
            "showgrid": false,
            "showline": true,
            "ticks": "outside"
           }
          },
          "title": {
           "x": 0.05
          },
          "xaxis": {
           "automargin": true,
           "gridcolor": "rgb(232,232,232)",
           "linecolor": "rgb(36,36,36)",
           "showgrid": false,
           "showline": true,
           "ticks": "outside",
           "title": {
            "standoff": 15
           },
           "zeroline": false,
           "zerolinecolor": "rgb(36,36,36)"
          },
          "yaxis": {
           "automargin": true,
           "gridcolor": "rgb(232,232,232)",
           "linecolor": "rgb(36,36,36)",
           "showgrid": false,
           "showline": true,
           "ticks": "outside",
           "title": {
            "standoff": 15
           },
           "zeroline": false,
           "zerolinecolor": "rgb(36,36,36)"
          }
         }
        },
        "xaxis": {
         "anchor": "y",
         "domain": [
          0,
          1
         ],
         "matches": "x2",
         "showticklabels": false
        },
        "xaxis2": {
         "anchor": "y2",
         "domain": [
          0,
          1
         ],
         "title": {
          "text": "Time(s)"
         }
        },
        "yaxis": {
         "anchor": "x",
         "domain": [
          0.575,
          1
         ],
         "title": {
          "text": "V"
         }
        },
        "yaxis2": {
         "anchor": "x2",
         "domain": [
          0,
          0.425
         ],
         "title": {
          "text": "V"
         }
        }
       },
       "_py2js_animate": {},
       "_py2js_deleteTraces": {},
       "_py2js_moveTraces": {},
       "_py2js_removeLayoutProps": {},
       "_py2js_removeTraceProps": {},
       "_view_count": 1
      }
     },
     "8ea4f1fedb604d0bb50c74bf8127d350": {
      "model_module": "@jupyter-widgets/base",
      "model_module_version": "1.2.0",
      "model_name": "LayoutModel",
      "state": {}
     },
     "8eb39502fd0349d99c6c5fc402ad3a11": {
      "model_module": "@jupyter-widgets/base",
      "model_module_version": "1.2.0",
      "model_name": "LayoutModel",
      "state": {}
     },
     "8f5f00e7245a47d29526a965186cab98": {
      "model_module": "@jupyter-widgets/base",
      "model_module_version": "1.2.0",
      "model_name": "LayoutModel",
      "state": {}
     },
     "8fb6539fcacc4026b082c2fe02fcac32": {
      "model_module": "@jupyter-widgets/controls",
      "model_module_version": "1.5.0",
      "model_name": "DescriptionStyleModel",
      "state": {
       "description_width": ""
      }
     },
     "8fe3b99f488641d99e156be194dd94aa": {
      "model_module": "@jupyter-widgets/controls",
      "model_module_version": "1.5.0",
      "model_name": "DescriptionStyleModel",
      "state": {
       "description_width": ""
      }
     },
     "900cfa755010464e9d7ca170a3661c91": {
      "model_module": "@jupyter-widgets/controls",
      "model_module_version": "1.5.0",
      "model_name": "DropdownModel",
      "state": {
       "_options_labels": [
        "0 ADS1115",
        "1 DAQC2"
       ],
       "description": "Board:",
       "disabled": true,
       "index": 0,
       "layout": "IPY_MODEL_b5bcff58a943400aa20ef0000a5f6aa3",
       "style": "IPY_MODEL_68f7c71996d44537a5f919bbd5f2d0f5"
      }
     },
     "901ab4546555436ea388d1633456386a": {
      "model_module": "@jupyter-widgets/base",
      "model_module_version": "1.2.0",
      "model_name": "LayoutModel",
      "state": {}
     },
     "9020d06c8f234793ac21c293ff79ca6d": {
      "model_module": "@jupyter-widgets/base",
      "model_module_version": "1.2.0",
      "model_name": "LayoutModel",
      "state": {}
     },
     "90d79bbd700e43afb3fd6a9ad91d8482": {
      "model_module": "@jupyter-widgets/controls",
      "model_module_version": "1.5.0",
      "model_name": "DescriptionStyleModel",
      "state": {
       "description_width": ""
      }
     },
     "90dad0a40da94502b48f5c660f30a72f": {
      "model_module": "@jupyter-widgets/base",
      "model_module_version": "1.2.0",
      "model_name": "LayoutModel",
      "state": {}
     },
     "92b946b009e443fc8e4b1e35b43623d2": {
      "model_module": "@jupyter-widgets/controls",
      "model_module_version": "1.5.0",
      "model_name": "DescriptionStyleModel",
      "state": {
       "description_width": ""
      }
     },
     "92e4b11a20a24243a62ec34d6aa18604": {
      "model_module": "@jupyter-widgets/base",
      "model_module_version": "1.2.0",
      "model_name": "LayoutModel",
      "state": {}
     },
     "937b1224715a46ab9eb6160f5bd116f7": {
      "model_module": "@jupyter-widgets/base",
      "model_module_version": "1.2.0",
      "model_name": "LayoutModel",
      "state": {}
     },
     "9475e5712a964c35ba0d0ec50320fec0": {
      "model_module": "@jupyter-widgets/controls",
      "model_module_version": "1.5.0",
      "model_name": "ButtonStyleModel",
      "state": {}
     },
     "94c68458b7754be1baf436b6946838cb": {
      "model_module": "@jupyter-widgets/base",
      "model_module_version": "1.2.0",
      "model_name": "LayoutModel",
      "state": {}
     },
     "94fda208403c4905b3875f161e415a66": {
      "model_module": "@jupyter-widgets/controls",
      "model_module_version": "1.5.0",
      "model_name": "HTMLModel",
      "state": {
       "layout": "IPY_MODEL_b4f64a69bf944a5e8787076163f9ef08",
       "placeholder": "",
       "style": "IPY_MODEL_d37b289090524a46aedfc6fc25a0dc8b",
       "value": "<span style=\"color:blue;\"> To accurately read point location on graph you can zoom in. Drag to zoom. Additional controls show above plot when you hover over it.</span>"
      }
     },
     "95035dedff8a476f98849b7e49a4a68d": {
      "model_module": "@jupyter-widgets/controls",
      "model_module_version": "1.5.0",
      "model_name": "DropdownModel",
      "state": {
       "_options_labels": [
        "0",
        "1",
        "2",
        "3",
        "4",
        "5",
        "6",
        "7",
        "8"
       ],
       "description": "Channel:",
       "index": 1,
       "layout": "IPY_MODEL_fddacfae8c8648c89b72218213c1e626",
       "style": "IPY_MODEL_3295d4be8b1a41929c5301bcd1af0bf9"
      }
     },
     "957e54caccdc4e2ca7e86bd163635644": {
      "model_module": "@jupyter-widgets/base",
      "model_module_version": "1.2.0",
      "model_name": "LayoutModel",
      "state": {
       "width": "80%"
      }
     },
     "9634785fcb4e4afe84467cda8fd3d35a": {
      "model_module": "@jupyter-widgets/base",
      "model_module_version": "1.2.0",
      "model_name": "LayoutModel",
      "state": {}
     },
     "96ea3bf1ce0944bfa8d3a7950d04473a": {
      "model_module": "@jupyter-widgets/base",
      "model_module_version": "1.2.0",
      "model_name": "LayoutModel",
      "state": {}
     },
     "972088faa2624b79bd5f3beef79a9be1": {
      "model_module": "@jupyter-widgets/base",
      "model_module_version": "1.2.0",
      "model_name": "LayoutModel",
      "state": {}
     },
     "978a705469764a42a449e77ba9ccfcf9": {
      "model_module": "@jupyter-widgets/controls",
      "model_module_version": "1.5.0",
      "model_name": "DropdownModel",
      "state": {
       "_options_labels": [
        "0 ADS1115",
        "1 DAQC2"
       ],
       "description": "Board:",
       "disabled": true,
       "index": 0,
       "layout": "IPY_MODEL_d2999ae3c02a46b386697ef457a077a1",
       "style": "IPY_MODEL_817d21500f0241f9b72cb33b58c009b8"
      }
     },
     "988263cc4e134f459e0ada385c729123": {
      "model_module": "@jupyter-widgets/base",
      "model_module_version": "1.2.0",
      "model_name": "LayoutModel",
      "state": {}
     },
     "989384cec741465da5feedad2c8d898f": {
      "model_module": "@jupyter-widgets/controls",
      "model_module_version": "1.5.0",
      "model_name": "DescriptionStyleModel",
      "state": {
       "description_width": ""
      }
     },
     "98f21dd7364b410f9695efa3d3a87e2c": {
      "model_module": "@jupyter-widgets/controls",
      "model_module_version": "1.5.0",
      "model_name": "DescriptionStyleModel",
      "state": {
       "description_width": ""
      }
     },
     "991e541795644318b3d83ee562055a61": {
      "model_module": "@jupyter-widgets/base",
      "model_module_version": "1.2.0",
      "model_name": "LayoutModel",
      "state": {}
     },
     "998d98ec5094447a85196b6eb6b50d93": {
      "model_module": "@jupyter-widgets/controls",
      "model_module_version": "1.5.0",
      "model_name": "DescriptionStyleModel",
      "state": {
       "description_width": ""
      }
     },
     "99f7aba1b46d435ea3f5e4184c6a9f08": {
      "model_module": "@jupyter-widgets/base",
      "model_module_version": "1.2.0",
      "model_name": "LayoutModel",
      "state": {}
     },
     "9a83fa608cc3438e9b6d3424c1b78bfc": {
      "model_module": "@jupyter-widgets/controls",
      "model_module_version": "1.5.0",
      "model_name": "DescriptionStyleModel",
      "state": {
       "description_width": ""
      }
     },
     "9a8d93f51339452899dfaf5a2d95a502": {
      "model_module": "@jupyter-widgets/controls",
      "model_module_version": "1.5.0",
      "model_name": "DropdownModel",
      "state": {
       "_options_labels": [
        "0 ADS1115",
        "1 DAQC2"
       ],
       "description": "Board:",
       "index": 1,
       "layout": "IPY_MODEL_7602d4c537464c8cbc6c32e634885604",
       "style": "IPY_MODEL_07a2c9beaf6740769c1124d0f5c9937c"
      }
     },
     "9aad20325a7542c9bacec8bce46f4316": {
      "model_module": "@jupyter-widgets/controls",
      "model_module_version": "1.5.0",
      "model_name": "DescriptionStyleModel",
      "state": {
       "description_width": ""
      }
     },
     "9ac445302ea64421b4b17c6ff18fad2f": {
      "model_module": "@jupyter-widgets/controls",
      "model_module_version": "1.5.0",
      "model_name": "DropdownModel",
      "state": {
       "_options_labels": [
        "1"
       ],
       "description": "gains:",
       "index": 0,
       "layout": "IPY_MODEL_093589f55e1e4405a2565b43fa16e3f7",
       "style": "IPY_MODEL_71fabfc1dbd14732b11700f7d98b3837"
      }
     },
     "9af4f548bf5a494da030eb6069b4d667": {
      "model_module": "@jupyter-widgets/base",
      "model_module_version": "1.2.0",
      "model_name": "LayoutModel",
      "state": {}
     },
     "9b0ab00764984331b99114ea7b0dc0a5": {
      "model_module": "@jupyter-widgets/controls",
      "model_module_version": "1.5.0",
      "model_name": "ButtonStyleModel",
      "state": {}
     },
     "9b0b611be4a2429ca3f3637084c8241a": {
      "model_module": "@jupyter-widgets/base",
      "model_module_version": "1.2.0",
      "model_name": "LayoutModel",
      "state": {}
     },
     "9b54a022008740748d8b8ab9a9b93cd6": {
      "model_module": "@jupyter-widgets/base",
      "model_module_version": "1.2.0",
      "model_name": "LayoutModel",
      "state": {
       "border": "solid"
      }
     },
     "9b896c355e13400ba1c9a49fd7cb4359": {
      "model_module": "@jupyter-widgets/controls",
      "model_module_version": "1.5.0",
      "model_name": "DescriptionStyleModel",
      "state": {
       "description_width": ""
      }
     },
     "9b9f2361aec2454b964326c6c549743e": {
      "model_module": "@jupyter-widgets/base",
      "model_module_version": "1.2.0",
      "model_name": "LayoutModel",
      "state": {}
     },
     "9ba79c4e2bd248b5962b6421ac57433d": {
      "model_module": "@jupyter-widgets/base",
      "model_module_version": "1.2.0",
      "model_name": "LayoutModel",
      "state": {}
     },
     "9c6268fdfb8142bbaec2f7f07024d95d": {
      "model_module": "@jupyter-widgets/controls",
      "model_module_version": "1.5.0",
      "model_name": "DescriptionStyleModel",
      "state": {
       "description_width": ""
      }
     },
     "9c750d02945847288fcde9edac0cc0ac": {
      "model_module": "@jupyter-widgets/base",
      "model_module_version": "1.2.0",
      "model_name": "LayoutModel",
      "state": {}
     },
     "9c7f85ecd3cc44b598f13effc66be5dc": {
      "model_module": "@jupyter-widgets/base",
      "model_module_version": "1.2.0",
      "model_name": "LayoutModel",
      "state": {}
     },
     "9caa5ed4ad964a769e105b80420dfdb8": {
      "model_module": "@jupyter-widgets/base",
      "model_module_version": "1.2.0",
      "model_name": "LayoutModel",
      "state": {}
     },
     "9cf4008c57e84807b05411f6d9271986": {
      "model_module": "@jupyter-widgets/base",
      "model_module_version": "1.2.0",
      "model_name": "LayoutModel",
      "state": {}
     },
     "9d031c91585449f5a2d142597dbb1e5d": {
      "model_module": "@jupyter-widgets/controls",
      "model_module_version": "1.5.0",
      "model_name": "DescriptionStyleModel",
      "state": {
       "description_width": ""
      }
     },
     "9d186dd575484eca9b95b5392d393102": {
      "model_module": "@jupyter-widgets/base",
      "model_module_version": "1.2.0",
      "model_name": "LayoutModel",
      "state": {}
     },
     "9d1a2e84fd7047dfb2ca3583d7c97706": {
      "model_module": "@jupyter-widgets/base",
      "model_module_version": "1.2.0",
      "model_name": "LayoutModel",
      "state": {}
     },
     "9d217fe801904723b0cc0fb93c3324f0": {
      "model_module": "@jupyter-widgets/controls",
      "model_module_version": "1.5.0",
      "model_name": "DescriptionStyleModel",
      "state": {
       "description_width": ""
      }
     },
     "9d729e52588c49858968e1d6b6c63073": {
      "model_module": "@jupyter-widgets/controls",
      "model_module_version": "1.5.0",
      "model_name": "BoundedFloatTextModel",
      "state": {
       "description": "Rate (Hz):",
       "disabled": true,
       "layout": "IPY_MODEL_0a00a6c29ec844f0a1f1c7bc828476d8",
       "max": 20,
       "step": 0.02,
       "style": "IPY_MODEL_8be96311eac34ffc81db97eb3cd83ed0",
       "value": 1
      }
     },
     "9dd4c5851298420e84e7a7584534907e": {
      "model_module": "@jupyter-widgets/base",
      "model_module_version": "1.2.0",
      "model_name": "LayoutModel",
      "state": {}
     },
     "9e346e8aaae34e5eb64d12a730589a7d": {
      "model_module": "@jupyter-widgets/controls",
      "model_module_version": "1.5.0",
      "model_name": "DescriptionStyleModel",
      "state": {
       "description_width": ""
      }
     },
     "9e4995b9bfbf4dea80260a9b5c6fd943": {
      "model_module": "@jupyter-widgets/controls",
      "model_module_version": "1.5.0",
      "model_name": "DescriptionStyleModel",
      "state": {
       "description_width": ""
      }
     },
     "9e4d236dfc3b4fd1bf9376dffe49432f": {
      "model_module": "@jupyter-widgets/controls",
      "model_module_version": "1.5.0",
      "model_name": "DescriptionStyleModel",
      "state": {
       "description_width": ""
      }
     },
     "9e8811fd8a864b29acaf6c4eb28612fe": {
      "model_module": "@jupyter-widgets/controls",
      "model_module_version": "1.5.0",
      "model_name": "DropdownModel",
      "state": {
       "_options_labels": [
        "0",
        "1",
        "2",
        "3",
        "4",
        "5",
        "6",
        "7",
        "8"
       ],
       "description": "Channel:",
       "index": 2,
       "layout": "IPY_MODEL_f15deb54eebd4853bda565c4f101b079",
       "style": "IPY_MODEL_ba7535e73e764b2bb930293f16a559d7"
      }
     },
     "9ea3b2168f79443d9e18f1f1383d4866": {
      "model_module": "@jupyter-widgets/base",
      "model_module_version": "1.2.0",
      "model_name": "LayoutModel",
      "state": {}
     },
     "9ec06754c5be4162a99e684bc0796f1b": {
      "model_module": "@jupyter-widgets/base",
      "model_module_version": "1.2.0",
      "model_name": "LayoutModel",
      "state": {}
     },
     "9f78160ed7ca45c8ad64acfeb0c62fd4": {
      "model_module": "@jupyter-widgets/controls",
      "model_module_version": "1.5.0",
      "model_name": "DescriptionStyleModel",
      "state": {
       "description_width": ""
      }
     },
     "9fc3019f831049fb9da0d67fd7fb482d": {
      "model_module": "@jupyter-widgets/base",
      "model_module_version": "1.2.0",
      "model_name": "LayoutModel",
      "state": {
       "border": "solid"
      }
     },
     "a0a05d84220b4995a6dd923f5a9b73b1": {
      "model_module": "@jupyter-widgets/controls",
      "model_module_version": "1.5.0",
      "model_name": "DropdownModel",
      "state": {
       "_options_labels": [
        "0",
        "1",
        "2",
        "3"
       ],
       "description": "Channel:",
       "disabled": true,
       "index": 0,
       "layout": "IPY_MODEL_bf2a39f89939412fbbe8c7b4aa7cccf4",
       "style": "IPY_MODEL_2ad1a80aa702415ab1b683a920a2f12f"
      }
     },
     "a1260ea7db064267aec6c0a0eb4a9382": {
      "model_module": "@jupyter-widgets/base",
      "model_module_version": "1.2.0",
      "model_name": "LayoutModel",
      "state": {}
     },
     "a1a14bdc26f44132bbd26b57c7414053": {
      "model_module": "@jupyter-widgets/base",
      "model_module_version": "1.2.0",
      "model_name": "LayoutModel",
      "state": {}
     },
     "a1ba46e1af1c4d5f916456029045a009": {
      "model_module": "@jupyter-widgets/base",
      "model_module_version": "1.2.0",
      "model_name": "LayoutModel",
      "state": {
       "border": "solid"
      }
     },
     "a29bea23a6444f22824e37eacf3a9f8e": {
      "model_module": "@jupyter-widgets/base",
      "model_module_version": "1.2.0",
      "model_name": "LayoutModel",
      "state": {}
     },
     "a3895404ae564c82936fe1af9ca90953": {
      "model_module": "@jupyter-widgets/controls",
      "model_module_version": "1.5.0",
      "model_name": "DescriptionStyleModel",
      "state": {
       "description_width": ""
      }
     },
     "a3a255798e344d0081725bc6cffd229d": {
      "model_module": "@jupyter-widgets/base",
      "model_module_version": "1.2.0",
      "model_name": "LayoutModel",
      "state": {}
     },
     "a413a5f80e83417a81ae9d1267533a27": {
      "model_module": "@jupyter-widgets/base",
      "model_module_version": "1.2.0",
      "model_name": "LayoutModel",
      "state": {}
     },
     "a5327514eae145b9922ab4651f222358": {
      "model_module": "@jupyter-widgets/base",
      "model_module_version": "1.2.0",
      "model_name": "LayoutModel",
      "state": {
       "border": "solid"
      }
     },
     "a58b8505c8c141ce9331ee021957fc5d": {
      "model_module": "@jupyter-widgets/base",
      "model_module_version": "1.2.0",
      "model_name": "LayoutModel",
      "state": {
       "border": "solid"
      }
     },
     "a595650e650d490d85a5dc71136f66bf": {
      "model_module": "@jupyter-widgets/base",
      "model_module_version": "1.2.0",
      "model_name": "LayoutModel",
      "state": {}
     },
     "a5b8a9748cb74684a713410e9db91834": {
      "model_module": "@jupyter-widgets/controls",
      "model_module_version": "1.5.0",
      "model_name": "DescriptionStyleModel",
      "state": {
       "description_width": ""
      }
     },
     "a5cbfb363c274c42bbaf9e213b5a0e97": {
      "model_module": "@jupyter-widgets/base",
      "model_module_version": "1.2.0",
      "model_name": "LayoutModel",
      "state": {}
     },
     "a6175aa69670404c9a03a16d1100b66c": {
      "model_module": "@jupyter-widgets/base",
      "model_module_version": "1.2.0",
      "model_name": "LayoutModel",
      "state": {}
     },
     "a719cd204d4f4940946935157cff9093": {
      "model_module": "@jupyter-widgets/base",
      "model_module_version": "1.2.0",
      "model_name": "LayoutModel",
      "state": {}
     },
     "a72b441b8c1f462ab2f07232b3342c6b": {
      "model_module": "@jupyter-widgets/base",
      "model_module_version": "1.2.0",
      "model_name": "LayoutModel",
      "state": {}
     },
     "a740c49e917a4864a8c1ecd5a4706779": {
      "model_module": "@jupyter-widgets/controls",
      "model_module_version": "1.5.0",
      "model_name": "DescriptionStyleModel",
      "state": {
       "description_width": ""
      }
     },
     "a78cf536bb8a4afdab98cdfd39cf2c48": {
      "model_module": "@jupyter-widgets/base",
      "model_module_version": "1.2.0",
      "model_name": "LayoutModel",
      "state": {}
     },
     "a7afc7ab0b7b4deca1c4514f5d7405ca": {
      "model_module": "@jupyter-widgets/base",
      "model_module_version": "1.2.0",
      "model_name": "LayoutModel",
      "state": {}
     },
     "a84da62999434cd58be42e98d32cb074": {
      "model_module": "@jupyter-widgets/base",
      "model_module_version": "1.2.0",
      "model_name": "LayoutModel",
      "state": {
       "border": "solid"
      }
     },
     "a9359185911d4eb684afa848fcd85af1": {
      "model_module": "@jupyter-widgets/controls",
      "model_module_version": "1.5.0",
      "model_name": "DescriptionStyleModel",
      "state": {
       "description_width": ""
      }
     },
     "a980b3a77f234731a5134f77495fa349": {
      "model_module": "@jupyter-widgets/controls",
      "model_module_version": "1.5.0",
      "model_name": "ButtonModel",
      "state": {
       "button_style": "info",
       "description": "Set Parameters",
       "disabled": true,
       "layout": "IPY_MODEL_5024f94b5a0742dd879a6f4b4be4ce67",
       "style": "IPY_MODEL_fb34e10e9b3e452c99afdb167235740a",
       "tooltip": "Parameters locked. The run has started."
      }
     },
     "a9830a5c12b6479784db11032360593b": {
      "model_module": "@jupyter-widgets/controls",
      "model_module_version": "1.5.0",
      "model_name": "DropdownModel",
      "state": {
       "_options_labels": [
        "0.6666666666666666",
        "1",
        "2",
        "4",
        "8",
        "16"
       ],
       "description": "gains:",
       "disabled": true,
       "index": 0,
       "layout": "IPY_MODEL_2ae4a3c8f55240a1a2378f2d55abe7a0",
       "style": "IPY_MODEL_fa70a48bf3044f5fbd052265bf0b195e"
      }
     },
     "a9cb0a478c9d4b639145d5a499b54e4b": {
      "model_module": "@jupyter-widgets/controls",
      "model_module_version": "1.5.0",
      "model_name": "DropdownModel",
      "state": {
       "_options_labels": [
        "1"
       ],
       "description": "gains:",
       "index": 0,
       "layout": "IPY_MODEL_f00b9b9473dc4087abe4762156f41703",
       "style": "IPY_MODEL_7f5f924f49b34a5e82bef30126046ce3"
      }
     },
     "aa41ccfb57c84dc4a5916b40ccba1edd": {
      "model_module": "@jupyter-widgets/controls",
      "model_module_version": "1.5.0",
      "model_name": "DescriptionStyleModel",
      "state": {
       "description_width": ""
      }
     },
     "aaa5ca94c3bd48a68bd1e641b02b83e8": {
      "model_module": "@jupyter-widgets/controls",
      "model_module_version": "1.5.0",
      "model_name": "DescriptionStyleModel",
      "state": {
       "description_width": ""
      }
     },
     "aab71907229e440a867ac977073ba367": {
      "model_module": "@jupyter-widgets/controls",
      "model_module_version": "1.5.0",
      "model_name": "DropdownModel",
      "state": {
       "_options_labels": [
        "1"
       ],
       "description": "gains:",
       "index": 0,
       "layout": "IPY_MODEL_228f499b90e8480a842d19cd386b65bb",
       "style": "IPY_MODEL_84a68dce8ed645f68753da5b417f3637"
      }
     },
     "aabf71b7033e4a85be7d13de9848d133": {
      "model_module": "@jupyter-widgets/base",
      "model_module_version": "1.2.0",
      "model_name": "LayoutModel",
      "state": {}
     },
     "ab2887af9aee4fe6b6133971098f668b": {
      "model_module": "@jupyter-widgets/base",
      "model_module_version": "1.2.0",
      "model_name": "LayoutModel",
      "state": {}
     },
     "ab8ddd0249d5485fba278cd24f0a1f77": {
      "model_module": "@jupyter-widgets/base",
      "model_module_version": "1.2.0",
      "model_name": "LayoutModel",
      "state": {}
     },
     "ac1b8a078b424855b711e81ad049d53e": {
      "model_module": "@jupyter-widgets/controls",
      "model_module_version": "1.5.0",
      "model_name": "DescriptionStyleModel",
      "state": {
       "description_width": ""
      }
     },
     "ac3fdf4c2db8450daf115871ed94df11": {
      "model_module": "@jupyter-widgets/base",
      "model_module_version": "1.2.0",
      "model_name": "LayoutModel",
      "state": {}
     },
     "ac8109d6d9b3445ca6c73de9898d7195": {
      "model_module": "@jupyter-widgets/controls",
      "model_module_version": "1.5.0",
      "model_name": "DescriptionStyleModel",
      "state": {
       "description_width": ""
      }
     },
     "aca5b25b29e1451da89d1021098f625a": {
      "model_module": "@jupyter-widgets/controls",
      "model_module_version": "1.5.0",
      "model_name": "DescriptionStyleModel",
      "state": {
       "description_width": ""
      }
     },
     "ad4e1072fe5b4c6e81eea79e7b24d9a3": {
      "model_module": "@jupyter-widgets/controls",
      "model_module_version": "1.5.0",
      "model_name": "DescriptionStyleModel",
      "state": {
       "description_width": ""
      }
     },
     "adf0c60b60cc4ae8a759248d9a2cc194": {
      "model_module": "@jupyter-widgets/controls",
      "model_module_version": "1.5.0",
      "model_name": "TextModel",
      "state": {
       "description": "X-axis label (time):",
       "disabled": true,
       "layout": "IPY_MODEL_dbe8250ecdb341cf88aabeb2af074879",
       "placeholder": "Type something",
       "style": "IPY_MODEL_05984dc469454cf5a24846bc8333a24f",
       "value": "Time(s)"
      }
     },
     "ae073a20ba5b47339652eab4fc1fa68c": {
      "model_module": "@jupyter-widgets/base",
      "model_module_version": "1.2.0",
      "model_name": "LayoutModel",
      "state": {
       "border": "solid"
      }
     },
     "ae61b76243b7427ca5ff10c26c79c116": {
      "model_module": "@jupyter-widgets/base",
      "model_module_version": "1.2.0",
      "model_name": "LayoutModel",
      "state": {}
     },
     "ae964eb40ac941c8b068047e78ccfefc": {
      "model_module": "@jupyter-widgets/controls",
      "model_module_version": "1.5.0",
      "model_name": "DescriptionStyleModel",
      "state": {
       "description_width": ""
      }
     },
     "aec36956277a47f5a6dd78ec8e6cbc64": {
      "model_module": "@jupyter-widgets/base",
      "model_module_version": "1.2.0",
      "model_name": "LayoutModel",
      "state": {}
     },
     "aed4f4c67a9540939d107232bf384180": {
      "model_module": "@jupyter-widgets/controls",
      "model_module_version": "1.5.0",
      "model_name": "DescriptionStyleModel",
      "state": {
       "description_width": ""
      }
     },
     "af4a0082d761479a9cb4013922099e4c": {
      "model_module": "@jupyter-widgets/controls",
      "model_module_version": "1.5.0",
      "model_name": "DropdownModel",
      "state": {
       "_options_labels": [
        "0 ADS1115",
        "1 DAQC2"
       ],
       "description": "Board:",
       "disabled": true,
       "index": 0,
       "layout": "IPY_MODEL_9c7f85ecd3cc44b598f13effc66be5dc",
       "style": "IPY_MODEL_e49250cec32c4c77a78833d376483b31"
      }
     },
     "af77792a473a458fb5e2f7416c33b870": {
      "model_module": "@jupyter-widgets/base",
      "model_module_version": "1.2.0",
      "model_name": "LayoutModel",
      "state": {}
     },
     "afc3a97ba8934efc890a0317d5d19827": {
      "model_module": "@jupyter-widgets/controls",
      "model_module_version": "1.5.0",
      "model_name": "DescriptionStyleModel",
      "state": {
       "description_width": ""
      }
     },
     "b04b58bb31144fdb8297950cae1717be": {
      "model_module": "@jupyter-widgets/base",
      "model_module_version": "1.2.0",
      "model_name": "LayoutModel",
      "state": {}
     },
     "b0598cb896334e1e9dee9c6fb1eb03fb": {
      "model_module": "@jupyter-widgets/controls",
      "model_module_version": "1.5.0",
      "model_name": "DescriptionStyleModel",
      "state": {
       "description_width": ""
      }
     },
     "b06c997dd4494394a3788ffb84575098": {
      "model_module": "@jupyter-widgets/controls",
      "model_module_version": "1.5.0",
      "model_name": "DescriptionStyleModel",
      "state": {
       "description_width": ""
      }
     },
     "b0e62390351845a5bf3e4a2fd449c548": {
      "model_module": "@jupyter-widgets/base",
      "model_module_version": "1.2.0",
      "model_name": "LayoutModel",
      "state": {}
     },
     "b166a0ddcf964ea7ad022f29dd7b4b47": {
      "model_module": "@jupyter-widgets/base",
      "model_module_version": "1.2.0",
      "model_name": "LayoutModel",
      "state": {}
     },
     "b1b056176d704d0891542b19a3370861": {
      "model_module": "@jupyter-widgets/base",
      "model_module_version": "1.2.0",
      "model_name": "LayoutModel",
      "state": {}
     },
     "b1eb064610eb4cdc92f39d1671718fb7": {
      "model_module": "@jupyter-widgets/base",
      "model_module_version": "1.2.0",
      "model_name": "LayoutModel",
      "state": {}
     },
     "b245e976ff2140308c89c14f5e83c859": {
      "model_module": "@jupyter-widgets/controls",
      "model_module_version": "1.5.0",
      "model_name": "DescriptionStyleModel",
      "state": {
       "description_width": ""
      }
     },
     "b2e76b74b1974f9ab82a5ea9dc69cbbd": {
      "model_module": "@jupyter-widgets/controls",
      "model_module_version": "1.5.0",
      "model_name": "DropdownModel",
      "state": {
       "_options_labels": [
        "0",
        "1",
        "2",
        "3",
        "4",
        "5",
        "6",
        "7",
        "8"
       ],
       "description": "Channel:",
       "index": 5,
       "layout": "IPY_MODEL_ae61b76243b7427ca5ff10c26c79c116",
       "style": "IPY_MODEL_c096e32528894872b7b52c524ec6e884"
      }
     },
     "b30c8388e2084411987676181ca25a81": {
      "model_module": "@jupyter-widgets/controls",
      "model_module_version": "1.5.0",
      "model_name": "DescriptionStyleModel",
      "state": {
       "description_width": ""
      }
     },
     "b32ecad03d124d37b128dfd28ac1c18d": {
      "model_module": "@jupyter-widgets/controls",
      "model_module_version": "1.5.0",
      "model_name": "DescriptionStyleModel",
      "state": {
       "description_width": ""
      }
     },
     "b36819580f2f473b8bceea70931275dd": {
      "model_module": "@jupyter-widgets/base",
      "model_module_version": "1.2.0",
      "model_name": "LayoutModel",
      "state": {}
     },
     "b3cec9e3e9c644f382c93b710a0e27fd": {
      "model_module": "@jupyter-widgets/base",
      "model_module_version": "1.2.0",
      "model_name": "LayoutModel",
      "state": {}
     },
     "b4a4932c0aa44416a59b7188683df6e4": {
      "model_module": "@jupyter-widgets/controls",
      "model_module_version": "1.5.0",
      "model_name": "DescriptionStyleModel",
      "state": {
       "description_width": ""
      }
     },
     "b4f64a69bf944a5e8787076163f9ef08": {
      "model_module": "@jupyter-widgets/base",
      "model_module_version": "1.2.0",
      "model_name": "LayoutModel",
      "state": {}
     },
     "b4f8143e16f1433d8dddccf869dd49c3": {
      "model_module": "@jupyter-widgets/base",
      "model_module_version": "1.2.0",
      "model_name": "LayoutModel",
      "state": {}
     },
     "b5bcff58a943400aa20ef0000a5f6aa3": {
      "model_module": "@jupyter-widgets/base",
      "model_module_version": "1.2.0",
      "model_name": "LayoutModel",
      "state": {}
     },
     "b79282c074bb4db0be94c92a9704f415": {
      "model_module": "@jupyter-widgets/base",
      "model_module_version": "1.2.0",
      "model_name": "LayoutModel",
      "state": {}
     },
     "b7a476bb75e748c1acbf012414bd1d95": {
      "model_module": "@jupyter-widgets/base",
      "model_module_version": "1.2.0",
      "model_name": "LayoutModel",
      "state": {}
     },
     "b7bf6d595a9f426fbbf09c4f14a9b0a9": {
      "model_module": "@jupyter-widgets/controls",
      "model_module_version": "1.5.0",
      "model_name": "DropdownModel",
      "state": {
       "_options_labels": [
        "0 ADS1115",
        "1 DAQC2"
       ],
       "description": "Board:",
       "index": 1,
       "layout": "IPY_MODEL_9ec06754c5be4162a99e684bc0796f1b",
       "style": "IPY_MODEL_534c2549e7fe4507843a2785a3694adc"
      }
     },
     "b80bc665194444e19770e76843bc4c55": {
      "model_module": "@jupyter-widgets/controls",
      "model_module_version": "1.5.0",
      "model_name": "DescriptionStyleModel",
      "state": {
       "description_width": ""
      }
     },
     "b815a0a8bff84cd18539b7584cdbc574": {
      "model_module": "@jupyter-widgets/base",
      "model_module_version": "1.2.0",
      "model_name": "LayoutModel",
      "state": {}
     },
     "b854fe7289cd4b5bb8578232f2639f23": {
      "model_module": "@jupyter-widgets/controls",
      "model_module_version": "1.5.0",
      "model_name": "DropdownModel",
      "state": {
       "_options_labels": [
        "0 ADS1115",
        "1 DAQC2"
       ],
       "description": "Board:",
       "disabled": true,
       "index": 0,
       "layout": "IPY_MODEL_c666725c555f46e39b6ecf76720e0b2f",
       "style": "IPY_MODEL_748ac74f10624f389218e4efc3e70f58"
      }
     },
     "b88b207e746949fc84543fbd17ed9a01": {
      "model_module": "@jupyter-widgets/controls",
      "model_module_version": "1.5.0",
      "model_name": "DropdownModel",
      "state": {
       "_options_labels": [
        "0.6666666666666666",
        "1",
        "2",
        "4",
        "8",
        "16"
       ],
       "description": "gains:",
       "disabled": true,
       "index": 0,
       "layout": "IPY_MODEL_3d96de39b844480b8fc4a41bad607fda",
       "style": "IPY_MODEL_d7c08262ce4143c48a80312d73bac27c"
      }
     },
     "b8b43be0314e4f7ab30dc9086b6d1f85": {
      "model_module": "@jupyter-widgets/controls",
      "model_module_version": "1.5.0",
      "model_name": "BoundedFloatTextModel",
      "state": {
       "description": "Rate (Hz):",
       "disabled": true,
       "layout": "IPY_MODEL_faecfd2af2a94691a955bef2647a1f09",
       "max": 20,
       "step": 0.02,
       "style": "IPY_MODEL_d14ba3f84d1f424d920e52c871a1cedd",
       "value": 3
      }
     },
     "b95b81b2c59245e299f5f88498a6de56": {
      "model_module": "@jupyter-widgets/controls",
      "model_module_version": "1.5.0",
      "model_name": "DescriptionStyleModel",
      "state": {
       "description_width": ""
      }
     },
     "b98fdec426c2428a851e78c7f11b3af3": {
      "model_module": "@jupyter-widgets/controls",
      "model_module_version": "1.5.0",
      "model_name": "DropdownModel",
      "state": {
       "_options_labels": [
        "0",
        "1",
        "2",
        "3"
       ],
       "description": "Channel:",
       "disabled": true,
       "index": 0,
       "layout": "IPY_MODEL_14d4e09337c24146b00b603d9f1625f2",
       "style": "IPY_MODEL_1dbdaa9ca2e643b8b58ee4f3af0672a3"
      }
     },
     "ba52b10e84434b5abf0b07c3bb27c499": {
      "model_module": "@jupyter-widgets/base",
      "model_module_version": "1.2.0",
      "model_name": "LayoutModel",
      "state": {}
     },
     "ba7535e73e764b2bb930293f16a559d7": {
      "model_module": "@jupyter-widgets/controls",
      "model_module_version": "1.5.0",
      "model_name": "DescriptionStyleModel",
      "state": {
       "description_width": ""
      }
     },
     "bac991fd9eb74e28a91f9840b91a2993": {
      "model_module": "@jupyter-widgets/controls",
      "model_module_version": "1.5.0",
      "model_name": "DescriptionStyleModel",
      "state": {
       "description_width": ""
      }
     },
     "baeba7849fc4473fb3f68835ead6d9dc": {
      "model_module": "@jupyter-widgets/base",
      "model_module_version": "1.2.0",
      "model_name": "LayoutModel",
      "state": {}
     },
     "bb08a38a93984a0fa22922311e30a594": {
      "model_module": "@jupyter-widgets/base",
      "model_module_version": "1.2.0",
      "model_name": "LayoutModel",
      "state": {}
     },
     "bbadb063f51043d2a18f45449a550c17": {
      "model_module": "@jupyter-widgets/controls",
      "model_module_version": "1.5.0",
      "model_name": "DescriptionStyleModel",
      "state": {
       "description_width": ""
      }
     },
     "bc2c26897df74f3f8044269b0f102a99": {
      "model_module": "@jupyter-widgets/controls",
      "model_module_version": "1.5.0",
      "model_name": "DescriptionStyleModel",
      "state": {
       "description_width": ""
      }
     },
     "bc46e8fb3a4c403d81b544cae70567b6": {
      "model_module": "@jupyter-widgets/controls",
      "model_module_version": "1.5.0",
      "model_name": "DropdownModel",
      "state": {
       "_options_labels": [
        "1"
       ],
       "description": "gains:",
       "index": 0,
       "layout": "IPY_MODEL_14343367db6740a1bd35bc6e84bfae4a",
       "style": "IPY_MODEL_3560b1e8af8a4879819d191f6b2dcc4e"
      }
     },
     "bc7e1ddc62154aea9178d973895a62dc": {
      "model_module": "@jupyter-widgets/base",
      "model_module_version": "1.2.0",
      "model_name": "LayoutModel",
      "state": {}
     },
     "bca107dbedf54d25a7058d4a74ebbfbd": {
      "model_module": "@jupyter-widgets/controls",
      "model_module_version": "1.5.0",
      "model_name": "DescriptionStyleModel",
      "state": {
       "description_width": ""
      }
     },
     "bd1c480aeefd463c9daf8dea655a5b06": {
      "model_module": "@jupyter-widgets/controls",
      "model_module_version": "1.5.0",
      "model_name": "DescriptionStyleModel",
      "state": {
       "description_width": ""
      }
     },
     "bd2e78c19d184561b367d81dd5cd3f70": {
      "model_module": "@jupyter-widgets/base",
      "model_module_version": "1.2.0",
      "model_name": "LayoutModel",
      "state": {}
     },
     "bd65a135c4084b3eb5b815e815b40ac8": {
      "model_module": "@jupyter-widgets/controls",
      "model_module_version": "1.5.0",
      "model_name": "DescriptionStyleModel",
      "state": {
       "description_width": ""
      }
     },
     "bd84a194c20043e7a5e8c850fac426a7": {
      "model_module": "@jupyter-widgets/base",
      "model_module_version": "1.2.0",
      "model_name": "LayoutModel",
      "state": {}
     },
     "be31ad2dd8f949589d62705aa3331134": {
      "model_module": "@jupyter-widgets/base",
      "model_module_version": "1.2.0",
      "model_name": "LayoutModel",
      "state": {}
     },
     "be8b0439c8e64a679d6fabbd4fce6926": {
      "model_module": "@jupyter-widgets/base",
      "model_module_version": "1.2.0",
      "model_name": "LayoutModel",
      "state": {}
     },
     "bf2a39f89939412fbbe8c7b4aa7cccf4": {
      "model_module": "@jupyter-widgets/base",
      "model_module_version": "1.2.0",
      "model_name": "LayoutModel",
      "state": {}
     },
     "bf75c0b304a646f0bb7eeda93628f17b": {
      "model_module": "@jupyter-widgets/controls",
      "model_module_version": "1.5.0",
      "model_name": "DropdownModel",
      "state": {
       "_options_labels": [
        "0",
        "1",
        "2",
        "3"
       ],
       "description": "Channel:",
       "disabled": true,
       "index": 0,
       "layout": "IPY_MODEL_90dad0a40da94502b48f5c660f30a72f",
       "style": "IPY_MODEL_dc4c997e682b42e5956d2a5dfa9df838"
      }
     },
     "bf897c8e9b204c5a94e8251ee55e1e9d": {
      "model_module": "@jupyter-widgets/controls",
      "model_module_version": "1.5.0",
      "model_name": "DescriptionStyleModel",
      "state": {
       "description_width": ""
      }
     },
     "c032c4b2415d4a9a9f21694064d411ec": {
      "model_module": "@jupyter-widgets/base",
      "model_module_version": "1.2.0",
      "model_name": "LayoutModel",
      "state": {}
     },
     "c0615b8396064192811b974ccba17af5": {
      "model_module": "@jupyter-widgets/controls",
      "model_module_version": "1.5.0",
      "model_name": "DescriptionStyleModel",
      "state": {
       "description_width": ""
      }
     },
     "c0899595c1a04bf4850ea113bb01ab01": {
      "model_module": "@jupyter-widgets/controls",
      "model_module_version": "1.5.0",
      "model_name": "DropdownModel",
      "state": {
       "_options_labels": [
        "0 ADS1115",
        "1 DAQC2"
       ],
       "description": "Board:",
       "disabled": true,
       "index": 0,
       "layout": "IPY_MODEL_9ba79c4e2bd248b5962b6421ac57433d",
       "style": "IPY_MODEL_b245e976ff2140308c89c14f5e83c859"
      }
     },
     "c096e32528894872b7b52c524ec6e884": {
      "model_module": "@jupyter-widgets/controls",
      "model_module_version": "1.5.0",
      "model_name": "DescriptionStyleModel",
      "state": {
       "description_width": ""
      }
     },
     "c0991bbe1efd4af7bb9f994abdb4821b": {
      "model_module": "@jupyter-widgets/base",
      "model_module_version": "1.2.0",
      "model_name": "LayoutModel",
      "state": {}
     },
     "c0fff8cf08cf41fd9e316e7dcb133634": {
      "model_module": "@jupyter-widgets/base",
      "model_module_version": "1.2.0",
      "model_name": "LayoutModel",
      "state": {}
     },
     "c1832cacafb142969614d7a7db9d7f63": {
      "model_module": "@jupyter-widgets/base",
      "model_module_version": "1.2.0",
      "model_name": "LayoutModel",
      "state": {}
     },
     "c1b42ff37fe6484f87d36dddeb9554be": {
      "model_module": "@jupyter-widgets/base",
      "model_module_version": "1.2.0",
      "model_name": "LayoutModel",
      "state": {}
     },
     "c1f51238d88443999b08cdc36242f4c2": {
      "model_module": "@jupyter-widgets/base",
      "model_module_version": "1.2.0",
      "model_name": "LayoutModel",
      "state": {}
     },
     "c2388002ec464770b34cf1158732b14c": {
      "model_module": "@jupyter-widgets/base",
      "model_module_version": "1.2.0",
      "model_name": "LayoutModel",
      "state": {}
     },
     "c2b45051566c405faac2245f6230cdd4": {
      "model_module": "@jupyter-widgets/base",
      "model_module_version": "1.2.0",
      "model_name": "LayoutModel",
      "state": {}
     },
     "c2f2404043bf418c9c0d2c454e8d05c9": {
      "model_module": "@jupyter-widgets/base",
      "model_module_version": "1.2.0",
      "model_name": "LayoutModel",
      "state": {}
     },
     "c312d432e267482bbf1efe9415820925": {
      "model_module": "@jupyter-widgets/controls",
      "model_module_version": "1.5.0",
      "model_name": "DescriptionStyleModel",
      "state": {
       "description_width": ""
      }
     },
     "c31aecd6f7b04ebaa23f0e4f427fad12": {
      "model_module": "@jupyter-widgets/base",
      "model_module_version": "1.2.0",
      "model_name": "LayoutModel",
      "state": {}
     },
     "c40e4d16b45e4cffaf3deef7f9f6d438": {
      "model_module": "@jupyter-widgets/controls",
      "model_module_version": "1.5.0",
      "model_name": "DescriptionStyleModel",
      "state": {
       "description_width": ""
      }
     },
     "c43d9079c65744708ca2567c63f9cfee": {
      "model_module": "@jupyter-widgets/controls",
      "model_module_version": "1.5.0",
      "model_name": "TextModel",
      "state": {
       "description": "X-axis label (time):",
       "disabled": true,
       "layout": "IPY_MODEL_749425ea3610483492ad2ee37be59c5e",
       "placeholder": "Type something",
       "style": "IPY_MODEL_9c6268fdfb8142bbaec2f7f07024d95d",
       "value": "Time(s)"
      }
     },
     "c447569bc736412d85fca3d33cc0f942": {
      "model_module": "@jupyter-widgets/base",
      "model_module_version": "1.2.0",
      "model_name": "LayoutModel",
      "state": {}
     },
     "c4ea536d89844dacb358376d370a2c8b": {
      "model_module": "@jupyter-widgets/controls",
      "model_module_version": "1.5.0",
      "model_name": "DescriptionStyleModel",
      "state": {
       "description_width": ""
      }
     },
     "c5226c7b702b45faa65b76bf3a575c4d": {
      "model_module": "@jupyter-widgets/base",
      "model_module_version": "1.2.0",
      "model_name": "LayoutModel",
      "state": {}
     },
     "c58ce879b6844a2aab114e53bdf3dd61": {
      "model_module": "@jupyter-widgets/base",
      "model_module_version": "1.2.0",
      "model_name": "LayoutModel",
      "state": {}
     },
     "c5c9aa1456ed459fa4e873b8997a5138": {
      "model_module": "@jupyter-widgets/controls",
      "model_module_version": "1.5.0",
      "model_name": "DropdownModel",
      "state": {
       "_options_labels": [
        "0",
        "1",
        "2",
        "3",
        "4",
        "5",
        "6",
        "7",
        "8"
       ],
       "description": "Channel:",
       "index": 3,
       "layout": "IPY_MODEL_9d1a2e84fd7047dfb2ca3583d7c97706",
       "style": "IPY_MODEL_4910573e56b947968ab4b6db371964e3"
      }
     },
     "c65cd8af7ba74761811c16cf20b58cc6": {
      "model_module": "@jupyter-widgets/controls",
      "model_module_version": "1.5.0",
      "model_name": "DescriptionStyleModel",
      "state": {
       "description_width": ""
      }
     },
     "c666725c555f46e39b6ecf76720e0b2f": {
      "model_module": "@jupyter-widgets/base",
      "model_module_version": "1.2.0",
      "model_name": "LayoutModel",
      "state": {}
     },
     "c695e3b3ba114165b5f7c3873df1bc96": {
      "model_module": "@jupyter-widgets/base",
      "model_module_version": "1.2.0",
      "model_name": "LayoutModel",
      "state": {}
     },
     "c6c0855fa87b461e92897f1ff30e05fe": {
      "model_module": "@jupyter-widgets/controls",
      "model_module_version": "1.5.0",
      "model_name": "DescriptionStyleModel",
      "state": {
       "description_width": ""
      }
     },
     "c70079461b1e499080d84dcb84a7e288": {
      "model_module": "@jupyter-widgets/controls",
      "model_module_version": "1.5.0",
      "model_name": "DescriptionStyleModel",
      "state": {
       "description_width": ""
      }
     },
     "c7ab1c7ef27d4452b5b079a73fdeb9b4": {
      "model_module": "@jupyter-widgets/base",
      "model_module_version": "1.2.0",
      "model_name": "LayoutModel",
      "state": {}
     },
     "c7c7b812ba3e4c2b8e79973e73fe88a3": {
      "model_module": "@jupyter-widgets/controls",
      "model_module_version": "1.5.0",
      "model_name": "DropdownModel",
      "state": {
       "_options_labels": [
        "0.6666666666666666",
        "1",
        "2",
        "4",
        "8",
        "16"
       ],
       "description": "gains:",
       "disabled": true,
       "index": 0,
       "layout": "IPY_MODEL_c032c4b2415d4a9a9f21694064d411ec",
       "style": "IPY_MODEL_14c35f305b774ef489b456ab4fbd9c53"
      }
     },
     "c7cefee2ed1347e698db5937f3661e78": {
      "model_module": "@jupyter-widgets/base",
      "model_module_version": "1.2.0",
      "model_name": "LayoutModel",
      "state": {}
     },
     "c832aaaebba34be5b513f10bc9311e06": {
      "model_module": "@jupyter-widgets/controls",
      "model_module_version": "1.5.0",
      "model_name": "ButtonStyleModel",
      "state": {}
     },
     "c84a1df92931492b893a259721a4189f": {
      "model_module": "@jupyter-widgets/base",
      "model_module_version": "1.2.0",
      "model_name": "LayoutModel",
      "state": {}
     },
     "c850a068e404459b89f103f84db60b0a": {
      "model_module": "@jupyter-widgets/controls",
      "model_module_version": "1.5.0",
      "model_name": "ButtonModel",
      "state": {
       "button_style": "info",
       "description": "Set Parameters",
       "disabled": true,
       "layout": "IPY_MODEL_a719cd204d4f4940946935157cff9093",
       "style": "IPY_MODEL_7f5c4434d8284109880ce68656dc489d",
       "tooltip": "Parameters locked. The run has started."
      }
     },
     "c8fa6a3dbc88435f99de4e3bf90e90b1": {
      "model_module": "@jupyter-widgets/base",
      "model_module_version": "1.2.0",
      "model_name": "LayoutModel",
      "state": {}
     },
     "c97e7f3c526c4a84bd205980a8609179": {
      "model_module": "@jupyter-widgets/controls",
      "model_module_version": "1.5.0",
      "model_name": "DescriptionStyleModel",
      "state": {
       "description_width": ""
      }
     },
     "cad6c7fe86b84d0da63412a63ca1348d": {
      "model_module": "@jupyter-widgets/controls",
      "model_module_version": "1.5.0",
      "model_name": "DescriptionStyleModel",
      "state": {
       "description_width": ""
      }
     },
     "cb6ac20a89ce41598efb2a7552927388": {
      "model_module": "@jupyter-widgets/base",
      "model_module_version": "1.2.0",
      "model_name": "LayoutModel",
      "state": {}
     },
     "cc3cc307eb1847b9a82399c7a1365e68": {
      "model_module": "@jupyter-widgets/controls",
      "model_module_version": "1.5.0",
      "model_name": "DescriptionStyleModel",
      "state": {
       "description_width": ""
      }
     },
     "ccacef5fb3b246b1a85421cbaaf28b49": {
      "model_module": "@jupyter-widgets/base",
      "model_module_version": "1.2.0",
      "model_name": "LayoutModel",
      "state": {}
     },
     "cd23918d29214647bb9a4dcaaa5e3eb2": {
      "model_module": "@jupyter-widgets/controls",
      "model_module_version": "1.5.0",
      "model_name": "DropdownModel",
      "state": {
       "_options_labels": [
        "0.6666666666666666",
        "1",
        "2",
        "4",
        "8",
        "16"
       ],
       "description": "gains:",
       "disabled": true,
       "index": 0,
       "layout": "IPY_MODEL_3f00dd9392304d9d90aeb028e9a519fa",
       "style": "IPY_MODEL_e32001b6e8b54abfb79d19b893b05753"
      }
     },
     "cd5f3fa94ba1478886f8a53d7d0a7501": {
      "model_module": "@jupyter-widgets/controls",
      "model_module_version": "1.5.0",
      "model_name": "TextModel",
      "state": {
       "description": "X-axis label (time):",
       "disabled": true,
       "layout": "IPY_MODEL_ccacef5fb3b246b1a85421cbaaf28b49",
       "placeholder": "Type something",
       "style": "IPY_MODEL_175d072859c64029a4169d978c4432ee",
       "value": "Time(s)"
      }
     },
     "cd913550da2a4b159ed5cc40d60bde1a": {
      "model_module": "@jupyter-widgets/base",
      "model_module_version": "1.2.0",
      "model_name": "LayoutModel",
      "state": {}
     },
     "cda35c610b0b4ecfa51fac0bf2b5aa2a": {
      "model_module": "@jupyter-widgets/base",
      "model_module_version": "1.2.0",
      "model_name": "LayoutModel",
      "state": {}
     },
     "ce03fadc273a42bbabe61be3abc9c1a5": {
      "model_module": "@jupyter-widgets/controls",
      "model_module_version": "1.5.0",
      "model_name": "DropdownModel",
      "state": {
       "_options_labels": [
        "0",
        "1",
        "2",
        "3",
        "4",
        "5",
        "6",
        "7",
        "8"
       ],
       "description": "Channel:",
       "index": 4,
       "layout": "IPY_MODEL_be31ad2dd8f949589d62705aa3331134",
       "style": "IPY_MODEL_e3997c9ce29441f9b4e445653e6a6044"
      }
     },
     "ce045bea5e12480d9de551cb37ba7f17": {
      "model_module": "@jupyter-widgets/controls",
      "model_module_version": "1.5.0",
      "model_name": "DescriptionStyleModel",
      "state": {
       "description_width": ""
      }
     },
     "ce39a35086244c97b78fae9056029b2e": {
      "model_module": "@jupyter-widgets/base",
      "model_module_version": "1.2.0",
      "model_name": "LayoutModel",
      "state": {}
     },
     "ceab04b1b2fe4e7d99df79be3857780b": {
      "model_module": "@jupyter-widgets/base",
      "model_module_version": "1.2.0",
      "model_name": "LayoutModel",
      "state": {}
     },
     "ceb16777c4e64be9ac70afa941de735b": {
      "model_module": "@jupyter-widgets/controls",
      "model_module_version": "1.5.0",
      "model_name": "DropdownModel",
      "state": {
       "_options_labels": [
        "0",
        "1",
        "2",
        "3"
       ],
       "description": "Channel:",
       "disabled": true,
       "index": 0,
       "layout": "IPY_MODEL_e6726e00063643e6aba8f19eac1d8559",
       "style": "IPY_MODEL_ad4e1072fe5b4c6e81eea79e7b24d9a3"
      }
     },
     "ceb743aa2acd41918ff55ee24052a379": {
      "model_module": "@jupyter-widgets/controls",
      "model_module_version": "1.5.0",
      "model_name": "DescriptionStyleModel",
      "state": {
       "description_width": ""
      }
     },
     "cf13dfaa65864394be873aa98df3292e": {
      "model_module": "@jupyter-widgets/base",
      "model_module_version": "1.2.0",
      "model_name": "LayoutModel",
      "state": {
       "border": "solid"
      }
     },
     "cf5ccaa2e60a42c5ac28b558d58c5934": {
      "model_module": "@jupyter-widgets/base",
      "model_module_version": "1.2.0",
      "model_name": "LayoutModel",
      "state": {}
     },
     "cf6dd5ee8413496caf6623dc788fd25c": {
      "model_module": "@jupyter-widgets/controls",
      "model_module_version": "1.5.0",
      "model_name": "DescriptionStyleModel",
      "state": {
       "description_width": ""
      }
     },
     "d0916db947fa41a5ad914507062ff038": {
      "model_module": "@jupyter-widgets/base",
      "model_module_version": "1.2.0",
      "model_name": "LayoutModel",
      "state": {}
     },
     "d0ad1d62464f4a0ba3317b93ac653cdd": {
      "model_module": "@jupyter-widgets/controls",
      "model_module_version": "1.5.0",
      "model_name": "DescriptionStyleModel",
      "state": {
       "description_width": ""
      }
     },
     "d0db9eab967641a0838662684a22daf3": {
      "model_module": "@jupyter-widgets/base",
      "model_module_version": "1.2.0",
      "model_name": "LayoutModel",
      "state": {}
     },
     "d0e636a8255b4180bf5ec77fd8d4ccfc": {
      "model_module": "@jupyter-widgets/base",
      "model_module_version": "1.2.0",
      "model_name": "LayoutModel",
      "state": {}
     },
     "d13f35c3f014463fb2ec137e5e30fce6": {
      "model_module": "@jupyter-widgets/controls",
      "model_module_version": "1.5.0",
      "model_name": "HBoxModel",
      "state": {
       "children": [
        "IPY_MODEL_ba773e0476434fe08a15605ba02601a4",
        "IPY_MODEL_439580b793c54f77ab604ac61650f00a"
       ],
       "layout": "IPY_MODEL_6f6321e347344db691af66a7b8f00116"
      }
     },
     "d1407af93a4b43549ffb4e43b0797673": {
      "model_module": "@jupyter-widgets/controls",
      "model_module_version": "1.5.0",
      "model_name": "DescriptionStyleModel",
      "state": {
       "description_width": ""
      }
     },
     "d14ba3f84d1f424d920e52c871a1cedd": {
      "model_module": "@jupyter-widgets/controls",
      "model_module_version": "1.5.0",
      "model_name": "DescriptionStyleModel",
      "state": {
       "description_width": ""
      }
     },
     "d1b3c477f18949019171c95cbb220f19": {
      "model_module": "@jupyter-widgets/base",
      "model_module_version": "1.2.0",
      "model_name": "LayoutModel",
      "state": {}
     },
     "d2090f0ed3104146a3223be3f2a8b39b": {
      "model_module": "@jupyter-widgets/controls",
      "model_module_version": "1.5.0",
      "model_name": "DropdownModel",
      "state": {
       "_options_labels": [
        "0",
        "1",
        "2",
        "3",
        "4",
        "5",
        "6",
        "7",
        "8"
       ],
       "description": "Channel:",
       "index": 2,
       "layout": "IPY_MODEL_9dd4c5851298420e84e7a7584534907e",
       "style": "IPY_MODEL_2362b1771784400ba4a6084546fc8a02"
      }
     },
     "d2999ae3c02a46b386697ef457a077a1": {
      "model_module": "@jupyter-widgets/base",
      "model_module_version": "1.2.0",
      "model_name": "LayoutModel",
      "state": {}
     },
     "d2f24ca0740749229f4af60b39bee679": {
      "model_module": "@jupyter-widgets/controls",
      "model_module_version": "1.5.0",
      "model_name": "DescriptionStyleModel",
      "state": {
       "description_width": ""
      }
     },
     "d3018b95adf64e739644108982bd9320": {
      "model_module": "@jupyter-widgets/base",
      "model_module_version": "1.2.0",
      "model_name": "LayoutModel",
      "state": {}
     },
     "d37b289090524a46aedfc6fc25a0dc8b": {
      "model_module": "@jupyter-widgets/controls",
      "model_module_version": "1.5.0",
      "model_name": "DescriptionStyleModel",
      "state": {
       "description_width": ""
      }
     },
     "d3beb6923e644c24862b54fe4bfb4d5f": {
      "model_module": "@jupyter-widgets/controls",
      "model_module_version": "1.5.0",
      "model_name": "DescriptionStyleModel",
      "state": {
       "description_width": ""
      }
     },
     "d3fe4876eadb43d7895de620b47da856": {
      "model_module": "@jupyter-widgets/controls",
      "model_module_version": "1.5.0",
      "model_name": "DescriptionStyleModel",
      "state": {
       "description_width": ""
      }
     },
     "d4024ecf0fbe49e595a0b0d03456cf5d": {
      "model_module": "@jupyter-widgets/controls",
      "model_module_version": "1.5.0",
      "model_name": "DescriptionStyleModel",
      "state": {
       "description_width": ""
      }
     },
     "d40dbd8a3fa141d98b2b16935d78a427": {
      "model_module": "@jupyter-widgets/controls",
      "model_module_version": "1.5.0",
      "model_name": "ButtonModel",
      "state": {
       "button_style": "info",
       "description": "Set Parameters",
       "disabled": true,
       "layout": "IPY_MODEL_f975ce9f6d414c11a0b2e414e6e1b8c2",
       "style": "IPY_MODEL_16fe531f653d49539f56df7e422216e0",
       "tooltip": "Parameters locked. The run has started."
      }
     },
     "d448ff8dcee14da9a422333324e25309": {
      "model_module": "@jupyter-widgets/base",
      "model_module_version": "1.2.0",
      "model_name": "LayoutModel",
      "state": {}
     },
     "d4e135a2c76c4097b5482d1046b8ef1f": {
      "model_module": "@jupyter-widgets/base",
      "model_module_version": "1.2.0",
      "model_name": "LayoutModel",
      "state": {}
     },
     "d65350517c15461b99c24f0395b4cd87": {
      "model_module": "@jupyter-widgets/base",
      "model_module_version": "1.2.0",
      "model_name": "LayoutModel",
      "state": {}
     },
     "d69db702d69d487abc13534c48b91007": {
      "model_module": "@jupyter-widgets/base",
      "model_module_version": "1.2.0",
      "model_name": "LayoutModel",
      "state": {}
     },
     "d75f5872b0e044ecba48cf142bfb1a09": {
      "model_module": "@jupyter-widgets/controls",
      "model_module_version": "1.5.0",
      "model_name": "ButtonStyleModel",
      "state": {}
     },
     "d78538495efa4915b91267e698d480dd": {
      "model_module": "@jupyter-widgets/controls",
      "model_module_version": "1.5.0",
      "model_name": "DescriptionStyleModel",
      "state": {
       "description_width": ""
      }
     },
     "d7c08262ce4143c48a80312d73bac27c": {
      "model_module": "@jupyter-widgets/controls",
      "model_module_version": "1.5.0",
      "model_name": "DescriptionStyleModel",
      "state": {
       "description_width": ""
      }
     },
     "d85c4f2ee4b3457f95bb50551c112dd3": {
      "model_module": "@jupyter-widgets/base",
      "model_module_version": "1.2.0",
      "model_name": "LayoutModel",
      "state": {}
     },
     "d896ab74042d4aa0a2ef5f729a6c6839": {
      "model_module": "@jupyter-widgets/base",
      "model_module_version": "1.2.0",
      "model_name": "LayoutModel",
      "state": {}
     },
     "d8d39df66fec426fb28887dd397d80ab": {
      "model_module": "@jupyter-widgets/controls",
      "model_module_version": "1.5.0",
      "model_name": "DescriptionStyleModel",
      "state": {
       "description_width": ""
      }
     },
     "d8f825a8e9c24517a15279e349978b5b": {
      "model_module": "@jupyter-widgets/base",
      "model_module_version": "1.2.0",
      "model_name": "LayoutModel",
      "state": {}
     },
     "d94b0739bb2d4634b1a1c6bf25fd482c": {
      "model_module": "@jupyter-widgets/controls",
      "model_module_version": "1.5.0",
      "model_name": "HBoxModel",
      "state": {
       "children": [
        "IPY_MODEL_5e963d5fe7ac4a918a90a1417a631b98",
        "IPY_MODEL_6c97aac1e13a431795a77cbe0c235a33"
       ],
       "layout": "IPY_MODEL_54ba9d60ca994f63a0584352c5a803a2"
      }
     },
     "daa7ed85f0f74045a573ebfae074390e": {
      "model_module": "@jupyter-widgets/controls",
      "model_module_version": "1.5.0",
      "model_name": "DropdownModel",
      "state": {
       "_options_labels": [
        "1"
       ],
       "description": "gains:",
       "index": 0,
       "layout": "IPY_MODEL_d65350517c15461b99c24f0395b4cd87",
       "style": "IPY_MODEL_b06c997dd4494394a3788ffb84575098"
      }
     },
     "daef32cc92f44af89a1eae3b2b0febce": {
      "model_module": "@jupyter-widgets/controls",
      "model_module_version": "1.5.0",
      "model_name": "DropdownModel",
      "state": {
       "_options_labels": [
        "0.6666666666666666",
        "1",
        "2",
        "4",
        "8",
        "16"
       ],
       "description": "gains:",
       "disabled": true,
       "index": 0,
       "layout": "IPY_MODEL_5f61ee7cb16743ee87979deeed4bbec7",
       "style": "IPY_MODEL_15df23bd4f0c4cefa649b8c3f7790396"
      }
     },
     "db388fcd02c04c9294a4044741175b26": {
      "model_module": "@jupyter-widgets/base",
      "model_module_version": "1.2.0",
      "model_name": "LayoutModel",
      "state": {}
     },
     "db44839a5339427dbd41e86667f3ec1f": {
      "model_module": "@jupyter-widgets/controls",
      "model_module_version": "1.5.0",
      "model_name": "DescriptionStyleModel",
      "state": {
       "description_width": ""
      }
     },
     "dbb253f2f0b44a11804e97cbf13bee0e": {
      "model_module": "@jupyter-widgets/base",
      "model_module_version": "1.2.0",
      "model_name": "LayoutModel",
      "state": {}
     },
     "dbc5a39d80d449928afd6bc7f475a46b": {
      "model_module": "@jupyter-widgets/controls",
      "model_module_version": "1.5.0",
      "model_name": "DropdownModel",
      "state": {
       "_options_labels": [
        "0 ADS1115",
        "1 DAQC2"
       ],
       "description": "Board:",
       "disabled": true,
       "index": 0,
       "layout": "IPY_MODEL_8524f5da78064a4496b96cdf5be3ccaa",
       "style": "IPY_MODEL_b95b81b2c59245e299f5f88498a6de56"
      }
     },
     "dbe8250ecdb341cf88aabeb2af074879": {
      "model_module": "@jupyter-widgets/base",
      "model_module_version": "1.2.0",
      "model_name": "LayoutModel",
      "state": {}
     },
     "dc26c6e7332342079bd59d8efb2fd4e5": {
      "model_module": "@jupyter-widgets/controls",
      "model_module_version": "1.5.0",
      "model_name": "DropdownModel",
      "state": {
       "_options_labels": [
        "0",
        "1",
        "2",
        "3",
        "4",
        "5",
        "6",
        "7",
        "8"
       ],
       "description": "Channel:",
       "index": 1,
       "layout": "IPY_MODEL_c1f51238d88443999b08cdc36242f4c2",
       "style": "IPY_MODEL_d1407af93a4b43549ffb4e43b0797673"
      }
     },
     "dc4c997e682b42e5956d2a5dfa9df838": {
      "model_module": "@jupyter-widgets/controls",
      "model_module_version": "1.5.0",
      "model_name": "DescriptionStyleModel",
      "state": {
       "description_width": ""
      }
     },
     "dd1c37762cd041ffab37e6c624d973f3": {
      "model_module": "@jupyter-widgets/controls",
      "model_module_version": "1.5.0",
      "model_name": "DescriptionStyleModel",
      "state": {
       "description_width": ""
      }
     },
     "dd2325195a444ad9a5e732db1fc47770": {
      "model_module": "@jupyter-widgets/controls",
      "model_module_version": "1.5.0",
      "model_name": "DropdownModel",
      "state": {
       "_options_labels": [
        "0.6666666666666666",
        "1",
        "2",
        "4",
        "8",
        "16"
       ],
       "description": "gains:",
       "disabled": true,
       "index": 0,
       "layout": "IPY_MODEL_89fd57f6cc56433a9d23d81cd58427c9",
       "style": "IPY_MODEL_9e4d236dfc3b4fd1bf9376dffe49432f"
      }
     },
     "dd8e73ace8e1402f9fbee8818d45f58e": {
      "model_module": "@jupyter-widgets/base",
      "model_module_version": "1.2.0",
      "model_name": "LayoutModel",
      "state": {}
     },
     "deaed75bbec94d7186f136075c06f659": {
      "model_module": "@jupyter-widgets/base",
      "model_module_version": "1.2.0",
      "model_name": "LayoutModel",
      "state": {
       "border": "solid"
      }
     },
     "df08e3003ac24bfe97ccd6ba5857c851": {
      "model_module": "@jupyter-widgets/controls",
      "model_module_version": "1.5.0",
      "model_name": "DescriptionStyleModel",
      "state": {
       "description_width": ""
      }
     },
     "df7db35707e849758756ac0dfebd15d5": {
      "model_module": "@jupyter-widgets/controls",
      "model_module_version": "1.5.0",
      "model_name": "DescriptionStyleModel",
      "state": {
       "description_width": ""
      }
     },
     "e02e3ac4c7174333beb9a6cc4ec7fb2e": {
      "model_module": "@jupyter-widgets/controls",
      "model_module_version": "1.5.0",
      "model_name": "DescriptionStyleModel",
      "state": {
       "description_width": ""
      }
     },
     "e0bf3bb674ab4ff780aef02347223832": {
      "model_module": "@jupyter-widgets/base",
      "model_module_version": "1.2.0",
      "model_name": "LayoutModel",
      "state": {}
     },
     "e0ecec0c0197470aaa0a0e4c495c8d80": {
      "model_module": "@jupyter-widgets/controls",
      "model_module_version": "1.5.0",
      "model_name": "DropdownModel",
      "state": {
       "_options_labels": [
        "0",
        "1",
        "2",
        "3"
       ],
       "description": "Channel:",
       "disabled": true,
       "index": 0,
       "layout": "IPY_MODEL_62cb06e638a44f5d915f3f0a339e43e6",
       "style": "IPY_MODEL_2c76aa7a68e84979b7d49f6e2db9af35"
      }
     },
     "e0f1080c43764a6e82a2f4783a101306": {
      "model_module": "@jupyter-widgets/base",
      "model_module_version": "1.2.0",
      "model_name": "LayoutModel",
      "state": {
       "border": "solid"
      }
     },
     "e1414f94bc0e4d3a9120181211457dbf": {
      "model_module": "@jupyter-widgets/base",
      "model_module_version": "1.2.0",
      "model_name": "LayoutModel",
      "state": {}
     },
     "e159189f8929495d8ed8331b07cb956c": {
      "model_module": "@jupyter-widgets/base",
      "model_module_version": "1.2.0",
      "model_name": "LayoutModel",
      "state": {}
     },
     "e1797ffbc8d0462fb6fccf8b739acaeb": {
      "model_module": "@jupyter-widgets/controls",
      "model_module_version": "1.5.0",
      "model_name": "DescriptionStyleModel",
      "state": {
       "description_width": ""
      }
     },
     "e1af5d17d39844579319abddcd470748": {
      "model_module": "@jupyter-widgets/controls",
      "model_module_version": "1.5.0",
      "model_name": "DescriptionStyleModel",
      "state": {
       "description_width": ""
      }
     },
     "e2170f725fa14e5aae0ae2e2af830719": {
      "model_module": "@jupyter-widgets/controls",
      "model_module_version": "1.5.0",
      "model_name": "DescriptionStyleModel",
      "state": {
       "description_width": ""
      }
     },
     "e22a110f1c0d48f7b41d026b48641218": {
      "model_module": "@jupyter-widgets/controls",
      "model_module_version": "1.5.0",
      "model_name": "DropdownModel",
      "state": {
       "_options_labels": [
        "0.6666666666666666",
        "1",
        "2",
        "4",
        "8",
        "16"
       ],
       "description": "gains:",
       "disabled": true,
       "index": 0,
       "layout": "IPY_MODEL_e33167d0233e4767b6da90b9ed876477",
       "style": "IPY_MODEL_61b76d8231f840048b4fdda7c4b7d92f"
      }
     },
     "e2a3ffe7c0e4460e9c32ceac5b1c0f21": {
      "model_module": "@jupyter-widgets/base",
      "model_module_version": "1.2.0",
      "model_name": "LayoutModel",
      "state": {}
     },
     "e2cdfd94be2d4272aea6dff3e30ca793": {
      "model_module": "@jupyter-widgets/base",
      "model_module_version": "1.2.0",
      "model_name": "LayoutModel",
      "state": {}
     },
     "e31161bec0be4cf29d83148dbf6fb9dd": {
      "model_module": "@jupyter-widgets/controls",
      "model_module_version": "1.5.0",
      "model_name": "DescriptionStyleModel",
      "state": {
       "description_width": ""
      }
     },
     "e32001b6e8b54abfb79d19b893b05753": {
      "model_module": "@jupyter-widgets/controls",
      "model_module_version": "1.5.0",
      "model_name": "DescriptionStyleModel",
      "state": {
       "description_width": ""
      }
     },
     "e33167d0233e4767b6da90b9ed876477": {
      "model_module": "@jupyter-widgets/base",
      "model_module_version": "1.2.0",
      "model_name": "LayoutModel",
      "state": {}
     },
     "e3997c9ce29441f9b4e445653e6a6044": {
      "model_module": "@jupyter-widgets/controls",
      "model_module_version": "1.5.0",
      "model_name": "DescriptionStyleModel",
      "state": {
       "description_width": ""
      }
     },
     "e40b5f7bab5e4939b62225bc4c0a52bd": {
      "model_module": "@jupyter-widgets/controls",
      "model_module_version": "1.5.0",
      "model_name": "DescriptionStyleModel",
      "state": {
       "description_width": ""
      }
     },
     "e42a54b71be647c7a5f65aec3ea59d36": {
      "model_module": "@jupyter-widgets/controls",
      "model_module_version": "1.5.0",
      "model_name": "DropdownModel",
      "state": {
       "_options_labels": [
        "1"
       ],
       "description": "gains:",
       "index": 0,
       "layout": "IPY_MODEL_775b334d0eb74ddf841191b4115a3668",
       "style": "IPY_MODEL_286e08a8179643d3834ab8a694720168"
      }
     },
     "e49250cec32c4c77a78833d376483b31": {
      "model_module": "@jupyter-widgets/controls",
      "model_module_version": "1.5.0",
      "model_name": "DescriptionStyleModel",
      "state": {
       "description_width": ""
      }
     },
     "e4c3821f750640dfbcba48b5151d731b": {
      "model_module": "@jupyter-widgets/controls",
      "model_module_version": "1.5.0",
      "model_name": "DescriptionStyleModel",
      "state": {
       "description_width": ""
      }
     },
     "e4cce057c1354469939843515fa42975": {
      "model_module": "@jupyter-widgets/controls",
      "model_module_version": "1.5.0",
      "model_name": "DropdownModel",
      "state": {
       "_options_labels": [
        "0 ADS1115",
        "1 DAQC2"
       ],
       "description": "Board:",
       "index": 1,
       "layout": "IPY_MODEL_f030a5824f614c61b9ab2625cf0f3e89",
       "style": "IPY_MODEL_30f58ceb639a431a8e991800a4ffa5ae"
      }
     },
     "e4d1bbb9fb5c4f19a61fd355db73548c": {
      "model_module": "@jupyter-widgets/base",
      "model_module_version": "1.2.0",
      "model_name": "LayoutModel",
      "state": {}
     },
     "e4d2e1fcea1f4579b86640537573f9dc": {
      "model_module": "@jupyter-widgets/controls",
      "model_module_version": "1.5.0",
      "model_name": "DropdownModel",
      "state": {
       "_options_labels": [
        "0 ADS1115",
        "1 DAQC2"
       ],
       "description": "Board:",
       "index": 1,
       "layout": "IPY_MODEL_755a754227e6461a9a7fdafdbfbb0b40",
       "style": "IPY_MODEL_d4024ecf0fbe49e595a0b0d03456cf5d"
      }
     },
     "e5154d9516d547b8be2873830108aaa5": {
      "model_module": "@jupyter-widgets/controls",
      "model_module_version": "1.5.0",
      "model_name": "DescriptionStyleModel",
      "state": {
       "description_width": ""
      }
     },
     "e5c45e0a41a7426ca5729e5d4357fb78": {
      "model_module": "@jupyter-widgets/base",
      "model_module_version": "1.2.0",
      "model_name": "LayoutModel",
      "state": {}
     },
     "e6726e00063643e6aba8f19eac1d8559": {
      "model_module": "@jupyter-widgets/base",
      "model_module_version": "1.2.0",
      "model_name": "LayoutModel",
      "state": {}
     },
     "e70e3acd729f46d18b56256b5afc3751": {
      "model_module": "@jupyter-widgets/base",
      "model_module_version": "1.2.0",
      "model_name": "LayoutModel",
      "state": {}
     },
     "e786ea88cf9b4ec4abd98458626845b3": {
      "model_module": "@jupyter-widgets/controls",
      "model_module_version": "1.5.0",
      "model_name": "DescriptionStyleModel",
      "state": {
       "description_width": ""
      }
     },
     "e7d3fef5e8cb4cd7b8d9750ee6333f25": {
      "model_module": "@jupyter-widgets/controls",
      "model_module_version": "1.5.0",
      "model_name": "DescriptionStyleModel",
      "state": {
       "description_width": ""
      }
     },
     "e8c12307259a4ccb9a74e37be7a8a203": {
      "model_module": "@jupyter-widgets/controls",
      "model_module_version": "1.5.0",
      "model_name": "DropdownModel",
      "state": {
       "_options_labels": [
        "0 ADS1115",
        "1 DAQC2"
       ],
       "description": "Board:",
       "disabled": true,
       "index": 0,
       "layout": "IPY_MODEL_8405c72d2c2442318dba6645514296d5",
       "style": "IPY_MODEL_ac8109d6d9b3445ca6c73de9898d7195"
      }
     },
     "e9254064a1bf4e939a9eaf4ddf886aa1": {
      "model_module": "@jupyter-widgets/controls",
      "model_module_version": "1.5.0",
      "model_name": "DescriptionStyleModel",
      "state": {
       "description_width": ""
      }
     },
     "e9784c4bba3b44bfb1fb2dd1e5b3f2f1": {
      "model_module": "@jupyter-widgets/base",
      "model_module_version": "1.2.0",
      "model_name": "LayoutModel",
      "state": {}
     },
     "e9c18481c75a4cba97503e50060dff36": {
      "model_module": "@jupyter-widgets/controls",
      "model_module_version": "1.5.0",
      "model_name": "DescriptionStyleModel",
      "state": {
       "description_width": ""
      }
     },
     "e9f2cbfb8b894b6f94a357487accc20c": {
      "model_module": "@jupyter-widgets/base",
      "model_module_version": "1.2.0",
      "model_name": "LayoutModel",
      "state": {}
     },
     "ea04c6a7f11e4692b1b0e7bdb88bb31f": {
      "model_module": "@jupyter-widgets/controls",
      "model_module_version": "1.5.0",
      "model_name": "DescriptionStyleModel",
      "state": {
       "description_width": ""
      }
     },
     "ea2b3be09fd845bcbe375e822d4ef89b": {
      "model_module": "@jupyter-widgets/base",
      "model_module_version": "1.2.0",
      "model_name": "LayoutModel",
      "state": {}
     },
     "ea79f178dee3401286ce7261e3d9e3a0": {
      "model_module": "@jupyter-widgets/controls",
      "model_module_version": "1.5.0",
      "model_name": "DescriptionStyleModel",
      "state": {
       "description_width": ""
      }
     },
     "ebed395bb34f4065a50961b130339bd6": {
      "model_module": "@jupyter-widgets/controls",
      "model_module_version": "1.5.0",
      "model_name": "DropdownModel",
      "state": {
       "_options_labels": [
        "0",
        "1",
        "2",
        "3",
        "4",
        "5",
        "6",
        "7",
        "8"
       ],
       "description": "Channel:",
       "index": 5,
       "layout": "IPY_MODEL_d69db702d69d487abc13534c48b91007",
       "style": "IPY_MODEL_427ead72589c44c3a9d81c1fba79f4c5"
      }
     },
     "ec1790277e7e4f9abd6e6323a518811c": {
      "model_module": "@jupyter-widgets/controls",
      "model_module_version": "1.5.0",
      "model_name": "ButtonModel",
      "state": {
       "button_style": "info",
       "description": "Set Parameters",
       "disabled": true,
       "layout": "IPY_MODEL_1e4a77b92ea342178b67cb7e73f068c8",
       "style": "IPY_MODEL_58c247214df04fbaab063a8b2234757c",
       "tooltip": "Parameters locked. The run has started."
      }
     },
     "eca5ab07935b4a0b8d97268031653beb": {
      "model_module": "@jupyter-widgets/base",
      "model_module_version": "1.2.0",
      "model_name": "LayoutModel",
      "state": {}
     },
     "ed532e5561b244908b8d8a2201b1098d": {
      "model_module": "@jupyter-widgets/controls",
      "model_module_version": "1.5.0",
      "model_name": "DescriptionStyleModel",
      "state": {
       "description_width": ""
      }
     },
     "ee7893d85fa84141a56033993873d5db": {
      "model_module": "@jupyter-widgets/controls",
      "model_module_version": "1.5.0",
      "model_name": "DropdownModel",
      "state": {
       "_options_labels": [
        "0 ADS1115",
        "1 DAQC2"
       ],
       "description": "Board:",
       "disabled": true,
       "index": 0,
       "layout": "IPY_MODEL_03d38948f0e3442a986d58a6a567c4e9",
       "style": "IPY_MODEL_e31161bec0be4cf29d83148dbf6fb9dd"
      }
     },
     "ee993a3135d74b858f002d20c22d831b": {
      "model_module": "@jupyter-widgets/base",
      "model_module_version": "1.2.0",
      "model_name": "LayoutModel",
      "state": {}
     },
     "eec9c7a70bdf48c584a674725aade066": {
      "model_module": "@jupyter-widgets/base",
      "model_module_version": "1.2.0",
      "model_name": "LayoutModel",
      "state": {}
     },
     "f00b9b9473dc4087abe4762156f41703": {
      "model_module": "@jupyter-widgets/base",
      "model_module_version": "1.2.0",
      "model_name": "LayoutModel",
      "state": {}
     },
     "f030a5824f614c61b9ab2625cf0f3e89": {
      "model_module": "@jupyter-widgets/base",
      "model_module_version": "1.2.0",
      "model_name": "LayoutModel",
      "state": {}
     },
     "f0b3ac0b7b9047f1b611625231d98a08": {
      "model_module": "@jupyter-widgets/base",
      "model_module_version": "1.2.0",
      "model_name": "LayoutModel",
      "state": {}
     },
     "f0f0f289c8f440889110c58a08082bbb": {
      "model_module": "@jupyter-widgets/base",
      "model_module_version": "1.2.0",
      "model_name": "LayoutModel",
      "state": {
       "width": "80%"
      }
     },
     "f0f69ebf6aa546828c23db7523855212": {
      "model_module": "@jupyter-widgets/base",
      "model_module_version": "1.2.0",
      "model_name": "LayoutModel",
      "state": {}
     },
     "f15deb54eebd4853bda565c4f101b079": {
      "model_module": "@jupyter-widgets/base",
      "model_module_version": "1.2.0",
      "model_name": "LayoutModel",
      "state": {}
     },
     "f167eaf6340446009bee361668582e36": {
      "model_module": "@jupyter-widgets/base",
      "model_module_version": "1.2.0",
      "model_name": "LayoutModel",
      "state": {}
     },
     "f2ce2d84d8994d6592b6c7055ba3d91a": {
      "model_module": "@jupyter-widgets/controls",
      "model_module_version": "1.5.0",
      "model_name": "HBoxModel",
      "state": {
       "children": [
        "IPY_MODEL_acca61681b9f437d8f7f2a4e277f6795",
        "IPY_MODEL_89cf8802038e46628337632294a71886"
       ],
       "layout": "IPY_MODEL_972088faa2624b79bd5f3beef79a9be1"
      }
     },
     "f320fbd4b8544167842a1b951fd11f06": {
      "model_module": "@jupyter-widgets/base",
      "model_module_version": "1.2.0",
      "model_name": "LayoutModel",
      "state": {}
     },
     "f3f746f17715495eb09f7ecb90551279": {
      "model_module": "@jupyter-widgets/controls",
      "model_module_version": "1.5.0",
      "model_name": "ButtonStyleModel",
      "state": {}
     },
     "f4d4fa4ed3f8423a9e4e2754adb9ec41": {
      "model_module": "@jupyter-widgets/base",
      "model_module_version": "1.2.0",
      "model_name": "LayoutModel",
      "state": {}
     },
     "f521c161b1e74a8bab9e688dfc249c2b": {
      "model_module": "@jupyter-widgets/controls",
      "model_module_version": "1.5.0",
      "model_name": "CheckboxModel",
      "state": {
       "description": "Display multiple traces as stacked graphs. Uncheck to display all on the same graph.",
       "disabled": false,
       "layout": "IPY_MODEL_598bde9d24dd43e69f0a42310b934319",
       "style": "IPY_MODEL_3b69b4c0bfb144aca5779c0f99c946fd",
       "value": true
      }
     },
     "f546bc80e22f4a9d9d4a406e3b043e87": {
      "model_module": "@jupyter-widgets/base",
      "model_module_version": "1.2.0",
      "model_name": "LayoutModel",
      "state": {
       "border": "solid"
      }
     },
     "f5a9e7e4e33b48ea8d83d32dff32f1aa": {
      "model_module": "@jupyter-widgets/controls",
      "model_module_version": "1.5.0",
      "model_name": "CheckboxModel",
      "state": {
       "description": "Display multiple traces as stacked graphs. Uncheck to display all on the same graph.",
       "disabled": false,
       "layout": "IPY_MODEL_214d1d382f2f44418f765651b9b3c4cd",
       "style": "IPY_MODEL_cf6dd5ee8413496caf6623dc788fd25c",
       "value": true
      }
     },
     "f6e32d35734e49e1b37e05a98aca8ce1": {
      "model_module": "@jupyter-widgets/controls",
      "model_module_version": "1.5.0",
      "model_name": "DescriptionStyleModel",
      "state": {
       "description_width": ""
      }
     },
     "f736c7cf3b064a4e8eb63eb62e38f8d4": {
      "model_module": "@jupyter-widgets/controls",
      "model_module_version": "1.5.0",
      "model_name": "DescriptionStyleModel",
      "state": {
       "description_width": ""
      }
     },
     "f7ae974a36a84ea5aa731e3d5e2df61d": {
      "model_module": "@jupyter-widgets/controls",
      "model_module_version": "1.5.0",
      "model_name": "DescriptionStyleModel",
      "state": {
       "description_width": ""
      }
     },
     "f88ea8d06cad43dea34ba61ff16e12ab": {
      "model_module": "@jupyter-widgets/base",
      "model_module_version": "1.2.0",
      "model_name": "LayoutModel",
      "state": {}
     },
     "f8b80a12144f451d89503eaee01607d1": {
      "model_module": "@jupyter-widgets/controls",
      "model_module_version": "1.5.0",
      "model_name": "DropdownModel",
      "state": {
       "_options_labels": [
        "0",
        "1",
        "2",
        "3",
        "4",
        "5",
        "6",
        "7",
        "8"
       ],
       "description": "Channel:",
       "index": 0,
       "layout": "IPY_MODEL_31bf654ba56c4fda91cbb568a55c4744",
       "style": "IPY_MODEL_6296b24c6eed4c3e86eb4991b46f9c8c"
      }
     },
     "f971119a73cf4c758afe111a90823395": {
      "model_module": "@jupyter-widgets/base",
      "model_module_version": "1.2.0",
      "model_name": "LayoutModel",
      "state": {}
     },
     "f975ce9f6d414c11a0b2e414e6e1b8c2": {
      "model_module": "@jupyter-widgets/base",
      "model_module_version": "1.2.0",
      "model_name": "LayoutModel",
      "state": {}
     },
     "f9be63199cd444a3a476ed2c8b5bb5da": {
      "model_module": "@jupyter-widgets/base",
      "model_module_version": "1.2.0",
      "model_name": "LayoutModel",
      "state": {}
     },
     "f9c22c55a0e94b45a9e60d94f618e60e": {
      "model_module": "@jupyter-widgets/controls",
      "model_module_version": "1.5.0",
      "model_name": "DescriptionStyleModel",
      "state": {
       "description_width": ""
      }
     },
     "fa1957ab11af4ba5b9201f81dec25d38": {
      "model_module": "@jupyter-widgets/controls",
      "model_module_version": "1.5.0",
      "model_name": "DropdownModel",
      "state": {
       "_options_labels": [
        "0 ADS1115",
        "1 DAQC2"
       ],
       "description": "Board:",
       "index": 1,
       "layout": "IPY_MODEL_eec9c7a70bdf48c584a674725aade066",
       "style": "IPY_MODEL_68e6d6b617ba49388f0320aec4b20f2b"
      }
     },
     "fa70a48bf3044f5fbd052265bf0b195e": {
      "model_module": "@jupyter-widgets/controls",
      "model_module_version": "1.5.0",
      "model_name": "DescriptionStyleModel",
      "state": {
       "description_width": ""
      }
     },
     "fa8b3e59e0614bff9ad9285d0b596fd5": {
      "model_module": "@jupyter-widgets/base",
      "model_module_version": "1.2.0",
      "model_name": "LayoutModel",
      "state": {}
     },
     "facd3e1c66e14829b23f6457153ce7c2": {
      "model_module": "@jupyter-widgets/base",
      "model_module_version": "1.2.0",
      "model_name": "LayoutModel",
      "state": {}
     },
     "fad14081e0a74f0aaebbf80059502d70": {
      "model_module": "@jupyter-widgets/base",
      "model_module_version": "1.2.0",
      "model_name": "LayoutModel",
      "state": {
       "border": "solid"
      }
     },
     "fad3997d68d3477889ba9bc6dbedb0f1": {
      "model_module": "@jupyter-widgets/base",
      "model_module_version": "1.2.0",
      "model_name": "LayoutModel",
      "state": {}
     },
     "fada0624a4db442f9a3a3589e749aea0": {
      "model_module": "@jupyter-widgets/base",
      "model_module_version": "1.2.0",
      "model_name": "LayoutModel",
      "state": {}
     },
     "faecfd2af2a94691a955bef2647a1f09": {
      "model_module": "@jupyter-widgets/base",
      "model_module_version": "1.2.0",
      "model_name": "LayoutModel",
      "state": {}
     },
     "fb34e10e9b3e452c99afdb167235740a": {
      "model_module": "@jupyter-widgets/controls",
      "model_module_version": "1.5.0",
      "model_name": "ButtonStyleModel",
      "state": {}
     },
     "fb3a638b8aeb4d829c023ef0cd7fc098": {
      "model_module": "@jupyter-widgets/controls",
      "model_module_version": "1.5.0",
      "model_name": "DescriptionStyleModel",
      "state": {
       "description_width": ""
      }
     },
     "fc34e0ff81c1426885e4c4ccf7d5403a": {
      "model_module": "@jupyter-widgets/controls",
      "model_module_version": "1.5.0",
      "model_name": "DescriptionStyleModel",
      "state": {
       "description_width": ""
      }
     },
     "fc3c206af88e41b4864e5e20eba5c25d": {
      "model_module": "@jupyter-widgets/base",
      "model_module_version": "1.2.0",
      "model_name": "LayoutModel",
      "state": {}
     },
     "fcd3fdca299e49b4a1bd341cd3c279cd": {
      "model_module": "@jupyter-widgets/controls",
      "model_module_version": "1.5.0",
      "model_name": "DescriptionStyleModel",
      "state": {
       "description_width": ""
      }
     },
     "fcd473dab3ca48958c1baf467a8bde05": {
      "model_module": "@jupyter-widgets/base",
      "model_module_version": "1.2.0",
      "model_name": "LayoutModel",
      "state": {}
     },
     "fd17089a743c4dc3b1c1dd70949a7939": {
      "model_module": "@jupyter-widgets/base",
      "model_module_version": "1.2.0",
      "model_name": "LayoutModel",
      "state": {}
     },
     "fda020f9ed4b45fd943bbdf2142fa431": {
      "model_module": "@jupyter-widgets/controls",
      "model_module_version": "1.5.0",
      "model_name": "DescriptionStyleModel",
      "state": {
       "description_width": ""
      }
     },
     "fddacfae8c8648c89b72218213c1e626": {
      "model_module": "@jupyter-widgets/base",
      "model_module_version": "1.2.0",
      "model_name": "LayoutModel",
      "state": {}
     },
     "fe66249e590a409aa9efb1e9f0cec19c": {
      "model_module": "@jupyter-widgets/base",
      "model_module_version": "1.2.0",
      "model_name": "LayoutModel",
      "state": {}
     },
     "feaa4b74e050418ba6325c76b53bbfe0": {
      "model_module": "@jupyter-widgets/controls",
      "model_module_version": "1.5.0",
      "model_name": "HBoxModel",
      "state": {
       "children": [
        "IPY_MODEL_0a35ec296c354578851df68d7a78e58b",
        "IPY_MODEL_adf0c60b60cc4ae8a759248d9a2cc194",
        "IPY_MODEL_c850a068e404459b89f103f84db60b0a"
       ],
       "layout": "IPY_MODEL_4f221a4307394b79aef35c109b536799"
      }
     },
     "feafeda13e634e1a831f1ac6ab96c475": {
      "model_module": "@jupyter-widgets/base",
      "model_module_version": "1.2.0",
      "model_name": "LayoutModel",
      "state": {}
     },
     "ff4dfa86c59e42fd82b91857e674cb3b": {
      "model_module": "@jupyter-widgets/controls",
      "model_module_version": "1.5.0",
      "model_name": "DescriptionStyleModel",
      "state": {
       "description_width": ""
      }
     }
    },
    "version_major": 2,
    "version_minor": 0
   }
  }
 },
 "nbformat": 4,
 "nbformat_minor": 5
}
