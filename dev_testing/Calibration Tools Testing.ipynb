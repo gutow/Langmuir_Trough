{
 "cells": [
  {
   "cell_type": "code",
   "execution_count": 1,
   "id": "76d6956c",
   "metadata": {},
   "outputs": [],
   "source": [
    "# Test defaults\n",
    "import Trough_GUI\n",
    "cals = Trough_GUI.calibration_utils.Calibrations()"
   ]
  },
  {
   "cell_type": "code",
   "execution_count": 2,
   "id": "829265e2",
   "metadata": {},
   "outputs": [
    {
     "data": {
      "text/html": [
       "<div ><h3 >\n",
       "Calibration of balance</h3><table id=\"calib_info\" border=\"1\" class=\"calib_info\" ><tr >\n",
       "<th >Calibration of</th><th >Units returned</th><th >Fit function</th><th >Time</th><th >Timestamp</th></tr><tr >\n",
       "<td id=\"name\" >balance</td><td id=\"units\" >mg</td><td id=\"fit_type\" >polynomial</td><td id=\"iso_time\" >1969-12-31T18:00:00</td><td id=\"timestamp\" >0</td></tr></table><p id=\"fit_eqn_str\" >\n",
       "Fit Equation: y = C0 + C1*x + C2*x*x + C3*x*x*x + ...</p><table id=\"parameters\" border=\"1\" class=\"parameters\" ><caption >\n",
       "Parameters</caption><tr id=\"coef_labels\" >\n",
       "<th >Labels</th><td >C0</td><td >C1</td></tr><tr id=\"coefficients\" >\n",
       "<th >Coefficients</th><td >-15.875</td><td >-12.5</td></tr><tr id=\"stdev\" >\n",
       "<th >Standard Deviation</th><td >0</td><td >0</td></tr></table><table id=\"inverse\" border=\"1\" class=\"inverse\" ><caption >\n",
       "Inverse Parameters</caption><tr id=\"coef_labels\" >\n",
       "<th >Labels</th><td >C0</td><td >C1</td></tr><tr id=\"inv_coefficients\" >\n",
       "<th >Coefficients</th><td >-1.27</td><td >-0.08</td></tr><tr id=\"inv_stdev\" >\n",
       "<th >Standard Deviation</th><td >0</td><td >0</td></tr></table><table id=\"calibration_data\" border=\"1\" class=\"calibration_data\" ><caption >\n",
       "Calibration Data</caption><tr id=\"cal_data_x\" >X Calibration Data</tr><tr id=\"cal_data_y\" >Y Calibration Data</tr></table></div>"
      ],
      "text/plain": [
       "<IPython.core.display.HTML object>"
      ]
     },
     "metadata": {},
     "output_type": "display_data"
    }
   ],
   "source": [
    "from IPython.display import HTML\n",
    "display(HTML(cals.balance.cal_to_html()))"
   ]
  },
  {
   "cell_type": "code",
   "execution_count": 3,
   "id": "01862f4e",
   "metadata": {},
   "outputs": [],
   "source": [
    "cals.write_cal('.',cals.balance)"
   ]
  },
  {
   "cell_type": "code",
   "execution_count": 4,
   "id": "955cbabb",
   "metadata": {},
   "outputs": [
    {
     "data": {
      "text/html": [
       "<div ><h3 >\n",
       "Calibration of balance</h3><table id=\"calib_info\" border=\"1\" class=\"calib_info\" ><tr >\n",
       "<th >Calibration of</th><th >Units returned</th><th >Fit function</th><th >Time</th><th >Timestamp</th></tr><tr >\n",
       "<td id=\"name\" >balance</td><td id=\"units\" >mg</td><td id=\"fit_type\" >polynomial</td><td id=\"iso_time\" >1969-12-31T18:00:00</td><td id=\"timestamp\" >0.0</td></tr></table><p id=\"fit_eqn_str\" >\n",
       "Fit Equation: \n",
       "Fit Equation: y = C0 + C1*x + C2*x*x + C3*x*x*x + ...</p><table id=\"parameters\" border=\"1\" class=\"parameters\" ><caption >\n",
       "Parameters</caption><tr id=\"coef_labels\" >\n",
       "<th >Labels</th><td >C0</td><td >C1</td></tr><tr id=\"coefficients\" >\n",
       "<th >Coefficients</th><td >-15.875</td><td >-12.5</td></tr><tr id=\"stdev\" >\n",
       "<th >Standard Deviation</th><td >0.0</td><td >0.0</td></tr></table><table id=\"inverse\" border=\"1\" class=\"inverse\" ><caption >\n",
       "Inverse Parameters</caption><tr id=\"coef_labels\" >\n",
       "<th >Labels</th><td >C0</td><td >C1</td></tr><tr id=\"inv_coefficients\" >\n",
       "<th >Coefficients</th><td >-1.27</td><td >-0.08</td></tr><tr id=\"inv_stdev\" >\n",
       "<th >Standard Deviation</th><td >0.0</td><td >0.0</td></tr></table><table id=\"calibration_data\" border=\"1\" class=\"calibration_data\" ><caption >\n",
       "Calibration Data</caption><tr id=\"cal_data_x\" >X Calibration Data</tr><tr id=\"cal_data_y\" >Y Calibration Data</tr></table></div>"
      ],
      "text/plain": [
       "<IPython.core.display.HTML object>"
      ]
     },
     "metadata": {},
     "output_type": "display_data"
    }
   ],
   "source": [
    "rd_test = cals.read_cal('balance_0.trh.cal.html')\n",
    "display(HTML(rd_test.cal_to_html()))"
   ]
  },
  {
   "cell_type": "code",
   "execution_count": 5,
   "id": "274f8dec",
   "metadata": {},
   "outputs": [
    {
     "data": {
      "text/html": [
       "<div ><h3 >\n",
       "Calibration of barriers</h3><table id=\"calib_info\" border=\"1\" class=\"calib_info\" ><tr >\n",
       "<th >Calibration of</th><th >Units returned</th><th >Fit function</th><th >Time</th><th >Timestamp</th></tr><tr >\n",
       "<td id=\"name\" >barriers</td><td id=\"units\" >cm</td><td id=\"fit_type\" >polynomial</td><td id=\"iso_time\" >1969-12-31T18:00:00</td><td id=\"timestamp\" >0</td></tr></table><p id=\"fit_eqn_str\" >\n",
       "Fit Equation: y = C0 + C1*x + C2*x*x + C3*x*x*x + ...</p><table id=\"parameters\" border=\"1\" class=\"parameters\" ><caption >\n",
       "Parameters</caption><tr id=\"coef_labels\" >\n",
       "<th >Labels</th><td >C0</td><td >C1</td></tr><tr id=\"coefficients\" >\n",
       "<th >Coefficients</th><td >2.5</td><td >10.1</td></tr><tr id=\"stdev\" >\n",
       "<th >Standard Deviation</th><td >0</td><td >0</td></tr></table><table id=\"inverse\" border=\"1\" class=\"inverse\" ><caption >\n",
       "Inverse Parameters</caption><tr id=\"coef_labels\" >\n",
       "<th >Labels</th><td >C0</td><td >C1</td></tr><tr id=\"inv_coefficients\" >\n",
       "<th >Coefficients</th><td >-0.2475</td><td >0.099</td></tr><tr id=\"inv_stdev\" >\n",
       "<th >Standard Deviation</th><td >0</td><td >0</td></tr></table><table id=\"calibration_data\" border=\"1\" class=\"calibration_data\" ><caption >\n",
       "Calibration Data</caption><tr id=\"cal_data_x\" >X Calibration Data</tr><tr id=\"cal_data_y\" >Y Calibration Data</tr></table><table id=\"additional_data\" border=\"1\" class=\"additonal_data\" ><caption >\n",
       "Additional Data</caption><tr id=\"additional_data_keys\" >\n",
       "<td >trough width (cm)</td><td >skimmer correction (cm^2)</td></tr><tr id=\"additional_data_values\" >\n",
       "<td >9.525</td><td >-0.5</td></tr></table></div>"
      ],
      "text/plain": [
       "<IPython.core.display.HTML object>"
      ]
     },
     "metadata": {},
     "output_type": "display_data"
    },
    {
     "data": {
      "text/html": [
       "<div ><h3 >\n",
       "Calibration of temperature</h3><table id=\"calib_info\" border=\"1\" class=\"calib_info\" ><tr >\n",
       "<th >Calibration of</th><th >Units returned</th><th >Fit function</th><th >Time</th><th >Timestamp</th></tr><tr >\n",
       "<td id=\"name\" >temperature</td><td id=\"units\" >C</td><td id=\"fit_type\" >polynomial</td><td id=\"iso_time\" >1969-12-31T18:00:00</td><td id=\"timestamp\" >0</td></tr></table><p id=\"fit_eqn_str\" >\n",
       "Fit Equation: y = C0 + C1*x + C2*x*x + C3*x*x*x + ...</p><table id=\"parameters\" border=\"1\" class=\"parameters\" ><caption >\n",
       "Parameters</caption><tr id=\"coef_labels\" >\n",
       "<th >Labels</th><td >C0</td><td >C1</td></tr><tr id=\"coefficients\" >\n",
       "<th >Coefficients</th><td >7.7</td><td >5</td></tr><tr id=\"stdev\" >\n",
       "<th >Standard Deviation</th><td >0</td><td >0</td></tr></table><table id=\"inverse\" border=\"1\" class=\"inverse\" ><caption >\n",
       "Inverse Parameters</caption><tr id=\"coef_labels\" >\n",
       "<th >Labels</th><td >C0</td><td >C1</td></tr><tr id=\"inv_coefficients\" >\n",
       "<th >Coefficients</th><td >-1.54</td><td >0.2</td></tr><tr id=\"inv_stdev\" >Standard Deviation</tr></table><table id=\"calibration_data\" border=\"1\" class=\"calibration_data\" ><caption >\n",
       "Calibration Data</caption><tr id=\"cal_data_x\" >X Calibration Data</tr><tr id=\"cal_data_y\" >Y Calibration Data</tr></table></div>"
      ],
      "text/plain": [
       "<IPython.core.display.HTML object>"
      ]
     },
     "metadata": {},
     "output_type": "display_data"
    },
    {
     "data": {
      "text/html": [
       "<div ><h3 >\n",
       "Calibration of speed_open</h3><table id=\"calib_info\" border=\"1\" class=\"calib_info\" ><tr >\n",
       "<th >Calibration of</th><th >Units returned</th><th >Fit function</th><th >Time</th><th >Timestamp</th></tr><tr >\n",
       "<td id=\"name\" >speed_open</td><td id=\"units\" >cm/min</td><td id=\"fit_type\" >polynomial</td><td id=\"iso_time\" >1969-12-31T18:00:00</td><td id=\"timestamp\" >0</td></tr></table><p id=\"fit_eqn_str\" >\n",
       "Fit Equation: y = C0 + C1*x + C2*x*x + C3*x*x*x + ...</p><table id=\"parameters\" border=\"1\" class=\"parameters\" ><caption >\n",
       "Parameters</caption><tr id=\"coef_labels\" >\n",
       "<th >Labels</th><td >C0</td><td >C1</td></tr><tr id=\"coefficients\" >\n",
       "<th >Coefficients</th><td >0</td><td >10.1</td></tr><tr id=\"stdev\" >\n",
       "<th >Standard Deviation</th><td >0</td><td >0</td></tr></table><table id=\"inverse\" border=\"1\" class=\"inverse\" ><caption >\n",
       "Inverse Parameters</caption><tr id=\"coef_labels\" >\n",
       "<th >Labels</th><td >C0</td><td >C1</td></tr><tr id=\"inv_coefficients\" >\n",
       "<th >Coefficients</th><td >0</td><td >0.099</td></tr><tr id=\"inv_stdev\" >\n",
       "<th >Standard Deviation</th><td >0</td><td >0</td></tr></table><table id=\"calibration_data\" border=\"1\" class=\"calibration_data\" ><caption >\n",
       "Calibration Data</caption><tr id=\"cal_data_x\" >X Calibration Data</tr><tr id=\"cal_data_y\" >Y Calibration Data</tr></table></div>"
      ],
      "text/plain": [
       "<IPython.core.display.HTML object>"
      ]
     },
     "metadata": {},
     "output_type": "display_data"
    },
    {
     "data": {
      "text/html": [
       "<div ><h3 >\n",
       "Calibration of speed_close</h3><table id=\"calib_info\" border=\"1\" class=\"calib_info\" ><tr >\n",
       "<th >Calibration of</th><th >Units returned</th><th >Fit function</th><th >Time</th><th >Timestamp</th></tr><tr >\n",
       "<td id=\"name\" >speed_close</td><td id=\"units\" >cm/min</td><td id=\"fit_type\" >polynomial</td><td id=\"iso_time\" >1969-12-31T18:00:00</td><td id=\"timestamp\" >0</td></tr></table><p id=\"fit_eqn_str\" >\n",
       "Fit Equation: y = C0 + C1*x + C2*x*x + C3*x*x*x + ...</p><table id=\"parameters\" border=\"1\" class=\"parameters\" ><caption >\n",
       "Parameters</caption><tr id=\"coef_labels\" >\n",
       "<th >Labels</th><td >C0</td><td >C1</td></tr><tr id=\"coefficients\" >\n",
       "<th >Coefficients</th><td >0</td><td >6.7</td></tr><tr id=\"stdev\" >\n",
       "<th >Standard Deviation</th><td >0</td><td >0</td></tr></table><table id=\"inverse\" border=\"1\" class=\"inverse\" ><caption >\n",
       "Inverse Parameters</caption><tr id=\"coef_labels\" >\n",
       "<th >Labels</th><td >C0</td><td >C1</td></tr><tr id=\"inv_coefficients\" >\n",
       "<th >Coefficients</th><td >0</td><td >0.1493</td></tr><tr id=\"inv_stdev\" >\n",
       "<th >Standard Deviation</th><td >0</td><td >0</td></tr></table><table id=\"calibration_data\" border=\"1\" class=\"calibration_data\" ><caption >\n",
       "Calibration Data</caption><tr id=\"cal_data_x\" >X Calibration Data</tr><tr id=\"cal_data_y\" >Y Calibration Data</tr></table></div>"
      ],
      "text/plain": [
       "<IPython.core.display.HTML object>"
      ]
     },
     "metadata": {},
     "output_type": "display_data"
    }
   ],
   "source": [
    "display(HTML(cals.barriers.cal_to_html()))\n",
    "display(HTML(cals.temperature.cal_to_html()))\n",
    "display(HTML(cals.speed_open.cal_to_html()))\n",
    "display(HTML(cals.speed_close.cal_to_html()))"
   ]
  },
  {
   "cell_type": "code",
   "execution_count": 6,
   "id": "ed18bd81",
   "metadata": {},
   "outputs": [
    {
     "data": {
      "text/plain": [
       "([-0.0007, 1.0007], [0.0136, 0.0022], [0.0009, 0.9993], [0.0136, 0.0022])"
      ]
     },
     "execution_count": 6,
     "metadata": {},
     "output_type": "execute_result"
    }
   ],
   "source": [
    "# Make a calibration from fit data\n",
    "x_data = [1.0,2.0,3.0,4.0,5.0,6.0, 7.0, 8.0, 9.0, 10.0]\n",
    "y_data = [1.00, 2.01, 2.97, 4.03, 5.01, 5.99, 7.02, 7.98, 9.0, 10.02]\n",
    "test_params, test_stdev  = cals.poly_fit(x_data,y_data,1)\n",
    "inv_test_params, inv_test_stdev = cals.poly_fit(y_data,x_data,1)\n",
    "test_params, test_stdev, inv_test_params, inv_test_stdev"
   ]
  },
  {
   "cell_type": "code",
   "execution_count": 7,
   "id": "e17bd5b7",
   "metadata": {},
   "outputs": [
    {
     "data": {
      "text/plain": [
       "([0.003, 0.999, 0.0002], [0.025, 0.01, 0.0009])"
      ]
     },
     "execution_count": 7,
     "metadata": {},
     "output_type": "execute_result"
    }
   ],
   "source": [
    "cals.poly_fit(x_data,y_data,2)"
   ]
  },
  {
   "cell_type": "code",
   "execution_count": 8,
   "id": "23715410",
   "metadata": {},
   "outputs": [
    {
     "data": {
      "text/plain": [
       "([-0.002, 1.001, -0.0001], [0.025, 0.01, 0.0009])"
      ]
     },
     "execution_count": 8,
     "metadata": {},
     "output_type": "execute_result"
    }
   ],
   "source": [
    "cals.poly_fit(y_data,x_data,2)"
   ]
  },
  {
   "cell_type": "code",
   "execution_count": 9,
   "id": "33deca50",
   "metadata": {},
   "outputs": [
    {
     "data": {
      "text/html": [
       "<div ><h3 >\n",
       "Calibration of test_cal</h3><table id=\"calib_info\" border=\"1\" class=\"calib_info\" ><tr >\n",
       "<th >Calibration of</th><th >Units returned</th><th >Fit function</th><th >Time</th><th >Timestamp</th></tr><tr >\n",
       "<td id=\"name\" >test_cal</td><td id=\"units\" >g</td><td id=\"fit_type\" >polynomial</td><td id=\"iso_time\" >2023-01-07T17:44:24.660853</td><td id=\"timestamp\" >1673135064.660853</td></tr></table><p id=\"fit_eqn_str\" >\n",
       "Fit Equation: y = C0 + C1*x + C2*x*x + C3*x*x*x + ...</p><table id=\"parameters\" border=\"1\" class=\"parameters\" ><caption >\n",
       "Parameters</caption><tr id=\"coef_labels\" >\n",
       "<th >Labels</th><td >C0</td><td >C1</td></tr><tr id=\"coefficients\" >\n",
       "<th >Coefficients</th><td >-0.0007</td><td >1.0007</td></tr><tr id=\"stdev\" >\n",
       "<th >Standard Deviation</th><td >0.0136</td><td >0.0022</td></tr></table><table id=\"inverse\" border=\"1\" class=\"inverse\" ><caption >\n",
       "Inverse Parameters</caption><tr id=\"coef_labels\" >\n",
       "<th >Labels</th><td >C0</td><td >C1</td></tr><tr id=\"inv_coefficients\" >\n",
       "<th >Coefficients</th><td >0.0009</td><td >0.9993</td></tr><tr id=\"inv_stdev\" >\n",
       "<th >Standard Deviation</th><td >0.0136</td><td >0.0022</td></tr></table><table id=\"calibration_data\" border=\"1\" class=\"calibration_data\" ><caption >\n",
       "Calibration Data</caption><tr id=\"cal_data_x\" >\n",
       "<th >X Calibration Data</th><td >1.0</td><td >2.0</td><td >3.0</td><td >4.0</td><td >5.0</td><td >6.0</td><td >7.0</td><td >8.0</td><td >9.0</td><td >10.0</td></tr><tr id=\"cal_data_y\" >\n",
       "<th >Y Calibration Data</th><td >1.0</td><td >2.01</td><td >2.97</td><td >4.03</td><td >5.01</td><td >5.99</td><td >7.02</td><td >7.98</td><td >9.0</td><td >10.02</td></tr></table><table id=\"additional_data\" border=\"1\" class=\"additonal_data\" ><caption >\n",
       "Additional Data</caption><tr id=\"additional_data_keys\" >\n",
       "<td >1st value</td><td >2nd value</td></tr><tr id=\"additional_data_values\" >\n",
       "<td >2.22</td><td >3.22</td></tr></table></div>"
      ],
      "text/plain": [
       "<IPython.core.display.HTML object>"
      ]
     },
     "metadata": {},
     "output_type": "display_data"
    }
   ],
   "source": [
    "from datetime import datetime\n",
    "from IPython.display import HTML\n",
    "test_cal = Trough_GUI.calibration_utils.Calibration('test_cal', 'g', datetime.now().timestamp(), \n",
    "                                                    test_params, test_stdev,\n",
    "                                                    inv_test_params, inv_test_stdev,\n",
    "                 x_data, y_data, fit_type = \"polynomial\", additional_data={\"1st value\":2.22,\n",
    "                                                                          \"2nd value\":3.22})\n",
    "display(HTML(test_cal.cal_to_html()))"
   ]
  },
  {
   "cell_type": "code",
   "execution_count": 10,
   "id": "0c669489",
   "metadata": {},
   "outputs": [
    {
     "data": {
      "text/plain": [
       "(3.5, 0.1)"
      ]
     },
     "execution_count": 10,
     "metadata": {},
     "output_type": "execute_result"
    }
   ],
   "source": [
    "test_cal.cal_apply(3.5,0.1)"
   ]
  },
  {
   "cell_type": "code",
   "execution_count": 11,
   "id": "d360b743",
   "metadata": {},
   "outputs": [
    {
     "data": {
      "text/plain": [
       "(3.5, 0.1)"
      ]
     },
     "execution_count": 11,
     "metadata": {},
     "output_type": "execute_result"
    }
   ],
   "source": [
    "test_cal.cal_inv(3.5,0.1)"
   ]
  },
  {
   "cell_type": "code",
   "execution_count": 12,
   "id": "1104eba3",
   "metadata": {},
   "outputs": [
    {
     "data": {
      "text/plain": [
       "([3.5, 4.502, 9.736], [0.1, 0.051, 0.054])"
      ]
     },
     "execution_count": 12,
     "metadata": {},
     "output_type": "execute_result"
    }
   ],
   "source": [
    "test_cal.cal_apply([3.5,4.5, 9.73],[0.1,0.05,0.05])"
   ]
  },
  {
   "cell_type": "code",
   "execution_count": 13,
   "id": "e590e96a",
   "metadata": {},
   "outputs": [
    {
     "data": {
      "text/plain": [
       "([3.5, 4.5, 9.73], [0.1, 0.052, 0.058])"
      ]
     },
     "execution_count": 13,
     "metadata": {},
     "output_type": "execute_result"
    }
   ],
   "source": [
    "test_cal.cal_inv([3.5, 4.502, 9.736], [0.1, 0.051, 0.054])"
   ]
  },
  {
   "cell_type": "code",
   "execution_count": null,
   "id": "ecc34862",
   "metadata": {},
   "outputs": [],
   "source": [
    "from AdvancedHTMLParser import AdvancedHTMLParser as Parser\n",
    "from datetime import datetime\n",
    "\n",
    "parser = Parser()"
   ]
  },
  {
   "cell_type": "code",
   "execution_count": null,
   "id": "b07b11ee",
   "metadata": {},
   "outputs": [],
   "source": [
    "parser.parseStr(test_cal.cal_to_html())"
   ]
  },
  {
   "cell_type": "code",
   "execution_count": null,
   "id": "54563eae",
   "metadata": {},
   "outputs": [],
   "source": [
    "parser.getElementById('name').text"
   ]
  },
  {
   "cell_type": "code",
   "execution_count": null,
   "id": "374e0cb3",
   "metadata": {},
   "outputs": [],
   "source": [
    "print(parser.getFormattedHTML())"
   ]
  },
  {
   "cell_type": "code",
   "execution_count": null,
   "id": "05513070",
   "metadata": {},
   "outputs": [],
   "source": [
    "coef = parser.getElementById('coefficients')\n",
    "coef.children"
   ]
  },
  {
   "cell_type": "code",
   "execution_count": null,
   "id": "05ca8334",
   "metadata": {},
   "outputs": [],
   "source": [
    "coef"
   ]
  },
  {
   "cell_type": "code",
   "execution_count": null,
   "id": "b8da0f26",
   "metadata": {},
   "outputs": [],
   "source": [
    "coef_val = []\n",
    "for k in coef.children:\n",
    "    if k.tagName == 'td':\n",
    "        coef_val.append(float(k.text))\n",
    "coef_val"
   ]
  },
  {
   "cell_type": "code",
   "execution_count": null,
   "id": "e09c1fee",
   "metadata": {},
   "outputs": [],
   "source": [
    "stdev_el = parser.getElementById('stdev')\n",
    "coef_stdev = []\n",
    "for k in stdev_el:\n",
    "    if k.tagName == 'td':\n",
    "        coef_stdev.append(float(k.text))\n",
    "coef_stdev"
   ]
  },
  {
   "cell_type": "code",
   "execution_count": null,
   "id": "140c14e1",
   "metadata": {},
   "outputs": [],
   "source": [
    "cal_el = parser.getElementById('calibration_data')\n",
    "cal_x  = []\n",
    "cal_y = []\n",
    "for k in cal_el.getElementById('cal_data_x'):\n",
    "    if k.tagName == 'td':\n",
    "        cal_x.append(float(k.text))\n",
    "for k in cal_el.getElementById('cal_data_y'):\n",
    "    if k.tagName == 'td':\n",
    "        cal_y.append(float(k.text))\n",
    "cal_x,cal_y"
   ]
  },
  {
   "cell_type": "code",
   "execution_count": null,
   "id": "5f708604",
   "metadata": {},
   "outputs": [],
   "source": [
    "new_cal = Calibration.cal_from_html(test_cal.cal_to_html())\n",
    "display(HTML(new_cal.cal_to_html()))"
   ]
  },
  {
   "cell_type": "code",
   "execution_count": null,
   "id": "4c9f8827",
   "metadata": {},
   "outputs": [],
   "source": [
    "int(new_cal.timestamp)"
   ]
  },
  {
   "cell_type": "code",
   "execution_count": null,
   "id": "7a69416e",
   "metadata": {},
   "outputs": [],
   "source": [
    "from pathlib import Path"
   ]
  },
  {
   "cell_type": "code",
   "execution_count": null,
   "id": "32124709",
   "metadata": {},
   "outputs": [],
   "source": [
    "dir(Path)"
   ]
  },
  {
   "cell_type": "code",
   "execution_count": null,
   "id": "9be51d15",
   "metadata": {},
   "outputs": [],
   "source": [
    "tstpath = Path('/Users/Gutow/Documents/He2-MO.png')\n",
    "tstpath.parent"
   ]
  },
  {
   "cell_type": "code",
   "execution_count": null,
   "id": "00f59d89",
   "metadata": {},
   "outputs": [],
   "source": [
    "tstpath.exists()"
   ]
  },
  {
   "cell_type": "code",
   "execution_count": null,
   "id": "8485e942",
   "metadata": {},
   "outputs": [],
   "source": [
    "tstpath.stem"
   ]
  },
  {
   "cell_type": "code",
   "execution_count": null,
   "id": "8da878c6",
   "metadata": {},
   "outputs": [],
   "source": [
    "tst2 = Path('He2-MO.png')\n",
    "tst2.parent"
   ]
  },
  {
   "cell_type": "code",
   "execution_count": null,
   "id": "1505519b",
   "metadata": {},
   "outputs": [],
   "source": [
    "tst2.exists()"
   ]
  },
  {
   "cell_type": "code",
   "execution_count": null,
   "id": "33e1cdd7",
   "metadata": {},
   "outputs": [],
   "source": [
    "len(tst2.suffixes)"
   ]
  },
  {
   "cell_type": "code",
   "execution_count": null,
   "id": "6716be15",
   "metadata": {},
   "outputs": [],
   "source": [
    "tst3 = Path('He2-MO')\n",
    "len(tst3.suffixes)"
   ]
  },
  {
   "cell_type": "code",
   "execution_count": null,
   "id": "8298fc87",
   "metadata": {},
   "outputs": [],
   "source": [
    "cal_path = Path('balance')\n",
    "cal_path.suffixes"
   ]
  },
  {
   "cell_type": "code",
   "execution_count": null,
   "id": "b0c51d74",
   "metadata": {},
   "outputs": [],
   "source": [
    "cal_path = Path('~/.Trough/calibrations/'+cal_path.stem+'*.trh.cal.html').expanduser()\n",
    "cal_path"
   ]
  },
  {
   "cell_type": "code",
   "execution_count": null,
   "id": "b8d6691b",
   "metadata": {},
   "outputs": [],
   "source": [
    "list(cal_path.glob('*'))"
   ]
  },
  {
   "cell_type": "code",
   "execution_count": null,
   "id": "515d952c",
   "metadata": {},
   "outputs": [],
   "source": [
    "list(Path('.').glob('M*'))"
   ]
  },
  {
   "cell_type": "code",
   "execution_count": null,
   "id": "7795896e",
   "metadata": {},
   "outputs": [],
   "source": [
    "temp = cal_path\n",
    "for i in range(len(cal_path.suffixes)):\n",
    "    temp = Path(temp.stem)\n",
    "    print(temp)"
   ]
  },
  {
   "cell_type": "code",
   "execution_count": null,
   "id": "cd052311",
   "metadata": {},
   "outputs": [],
   "source": [
    "from pathlib import Path\n",
    "basepath = Path('~/.Trough/calibrations').expanduser()\n",
    "if not basepath.exists():\n",
    "    basepath.mkdir(parents=True)\n",
    "filelist = list(basepath.glob('temperature' + '_*.trh.cal.html'))\n",
    "filelist.sort()\n",
    "if len(filelist)>0:\n",
    "    fullpath = filelist[-1:][0]\n",
    "else:\n",
    "    fullpath = ''\n",
    "fullpath"
   ]
  },
  {
   "cell_type": "code",
   "execution_count": null,
   "id": "d34d7a9b",
   "metadata": {},
   "outputs": [],
   "source": []
  }
 ],
 "metadata": {
  "kernelspec": {
   "display_name": "Python 3 (ipykernel)",
   "language": "python",
   "name": "python3"
  },
  "language_info": {
   "codemirror_mode": {
    "name": "ipython",
    "version": 3
   },
   "file_extension": ".py",
   "mimetype": "text/x-python",
   "name": "python",
   "nbconvert_exporter": "python",
   "pygments_lexer": "ipython3",
   "version": "3.8.10"
  }
 },
 "nbformat": 4,
 "nbformat_minor": 5
}
