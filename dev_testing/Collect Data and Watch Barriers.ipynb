{
 "cells": [
  {
   "cell_type": "code",
   "execution_count": null,
   "id": "08ed7ada",
   "metadata": {},
   "outputs": [],
   "source": [
    "import piplates.DAQC2plate as DAQC2"
   ]
  },
  {
   "cell_type": "code",
   "execution_count": 51,
   "id": "158a9ad4",
   "metadata": {},
   "outputs": [],
   "source": [
    "def barrier_at_limit_check(openlimit, closelimit):\n",
    "    \"\"\"\n",
    "    Checks if barrier is at or beyond limit and stops barrier if it is moving\n",
    "    in a direction that would make it worse.\n",
    "    :param float: openlimit = lowest voltage for open\n",
    "    :param fload: closelimit = highest voltage for closed\n",
    "    \n",
    "    Returns\n",
    "    =======\n",
    "    True or False. If True also shuts down power to barrier\n",
    "    \"\"\"\n",
    "    \n",
    "    import piplates.DAQC2plate as DAQC2\n",
    "    direction = 0 # -1 closing, 0 stopped, 1 openning.\n",
    "    if (DAQC2.getDAC(0,0)>=2.5):\n",
    "        direction = -1\n",
    "    else:\n",
    "        direction = 1\n",
    "    position = DAQC2.getADC(0,0)-DAQC2.getADC(0,1)\n",
    "    if (position >= closelimit) and (direction == -1):\n",
    "        DAQC2.clrDOUTbit(0,0) # switch off power/stop barriers\n",
    "        return True\n",
    "    if (position <= openlimit) and (direction == 1):\n",
    "        DAQC2.clrDOUTbit(0,0) # switch off power/stop barriers\n",
    "        return True\n",
    "    return False"
   ]
  },
  {
   "cell_type": "code",
   "execution_count": 54,
   "id": "226a1771",
   "metadata": {},
   "outputs": [],
   "source": [
    "def troughctl():\n",
    "    \"\"\"\n",
    "    Will run as separate process taking in commands through a pipe and returning data\n",
    "    on demand through a second pipe.\n",
    "    Iteration 1, collects data into a fifo and watches barrier position.\n",
    "    \"\"\"\n",
    "    import time\n",
    "    import numpy as np\n",
    "    from collections import deque\n",
    "    from piplates import DAQC2plate as DAQC2\n",
    "    \n",
    "    # Limits must be manually set for each trough.\n",
    "    openlimit = 0.005 # low voltage indicating at open limit\n",
    "    closelimit = 7.78 # hight voltage indicating at close limit\n",
    "\n",
    "    \n",
    "    # TODO: drop a pid file in /tmp so that an always running deamon can shut off power\n",
    "    #   to the barriers is this is not running.\n",
    "    \n",
    "    \n",
    "    \n",
    "    poshigh =[]\n",
    "    poslow = []\n",
    "    balhigh = []\n",
    "    ballow = []\n",
    "    thermhigh = []\n",
    "    thermlow = []\n",
    "    \n",
    "    pos_V = deque(maxlen=5)\n",
    "    pos_std = deque(maxlen=5)\n",
    "    bal_V = deque(maxlen=5)\n",
    "    bal_std = deque(maxlen=5)\n",
    "    therm_V = deque(maxlen=5)\n",
    "    therm_std = deque(maxlen=5)\n",
    "    time_stamp = deque(maxlen=5)\n",
    "    cmd_deque = deque()\n",
    "    \n",
    "    timedelta = 0.500 #seconds\n",
    "    execute = True\n",
    "    while execute:\n",
    "        starttime = time.time()\n",
    "        stopat = starttime + timedelta - 0.200 # leave 200 ms for communications and control\n",
    "        while (time.time()< stopat):\n",
    "            poslow.append(DAQC2.getADC(0, 1))\n",
    "            poshigh.append(DAQC2.getADC(0, 0))\n",
    "            ballow.append(DAQC2.getADC(0, 3))\n",
    "            balhigh.append(DAQC2.getADC(0, 2))\n",
    "            thermlow.append(DAQC2.getADC(0, 4))\n",
    "            thermhigh.append(DAQC2.getADC(0,5))\n",
    "        time_stamp.append((starttime+stopat)/2)\n",
    "        # position\n",
    "        ndata = len(poshigh)\n",
    "        high = np.array(poshigh,dtype=np.float64)\n",
    "        low = np.array(poslow,dtype=np.float64)\n",
    "        vals = high-low\n",
    "        avg = (np.sum(vals))/ndata\n",
    "        stdev = np.std(vals, ddof=1, dtype=np.float64)\n",
    "        stdev_avg = stdev / np.sqrt(float(ndata))\n",
    "        pos_V.append(avg)\n",
    "        pos_std.append(stdev_avg)\n",
    "        # balance\n",
    "        ndata = len(balhigh)\n",
    "        high = np.array(balhigh,dtype=np.float64)\n",
    "        low = np.array(ballow,dtype=np.float64)\n",
    "        vals = high-low\n",
    "        avg = (np.sum(vals))/ndata\n",
    "        stdev = np.std(vals, ddof=1, dtype=np.float64)\n",
    "        stdev_avg = stdev / np.sqrt(float(ndata))\n",
    "        bal_V.append(avg)\n",
    "        bal_std.append(stdev_avg)\n",
    "        # thermistor\n",
    "        ndata = len(thermhigh)\n",
    "        high = np.array(thermhigh,dtype=np.float64)\n",
    "        low = np.array(thermlow,dtype=np.float64)\n",
    "        vals = high-low\n",
    "        avg = (np.sum(vals))/ndata\n",
    "        stdev = np.std(vals, ddof=1, dtype=np.float64)\n",
    "        stdev_avg = stdev / np.sqrt(float(ndata))\n",
    "        therm_V.append(avg)\n",
    "        therm_std.append(stdev_avg)\n",
    "        \n",
    "        # Check barrier positions\n",
    "        barrier_at_limit = barrier_at_limit_check()\n",
    "        # Send warnings and error messages\n",
    "        # Check command pipe and update command queue\n",
    "        # Each command is a python list. \n",
    "        #    element 1: cmd name (string)\n",
    "        #    element 2: single command parameter (number or string)\n",
    "        # Execute commands in queue\n",
    "        while len(cmd_deque)>0:\n",
    "            cmd = cmd_deque.popleft()\n",
    "            # execute the command\n",
    "            if cmd[0] == 'Stop':\n",
    "                DAQC2.clrDOUTbit(0,0) # switch off power/stop barriers\n",
    "            else if cmd[0] == 'Send':\n",
    "                # send current contents of the data deques\n",
    "            else if cmd[0] == 'Start':\n",
    "                # start barriers moving using current direction and speed\n",
    "            else if cmd[0] == 'Direction':\n",
    "                # set the direction\n",
    "            else if cmd[0] == 'Speed':\n",
    "                # set the speed\n",
    "            else if cmd[0] == 'MoveTo':\n",
    "                # adjust direction if necessary\n",
    "                # set the stop position\n",
    "                # start the barriers\n",
    "            else if cmd[0] == 'MotorCal':\n",
    "                # calibrate the voltages for starting motor and speeds\n",
    "            else if cmd[0] == 'ConstPi':\n",
    "                # maintain a constant pressure\n",
    "                # not yet implemented\n",
    "            else if cmd[0] == 'Quit':\n",
    "                # initiate shutdown sequence.\n",
    "                # pass any necessary messages to back through pipe.\n",
    "                # depower barriers\n",
    "                DAQC2.clrDOUTbit(0,0) # switch off power/stop barriers                \n",
    "                # stop collecting data/leave this while loop\n",
    "                execute = False\n",
    "        # Delay if have not used up all 200 ms\n",
    "        used = time.time()-starttime\n",
    "        if used < 0.495:\n",
    "            time.sleep(0.495 - used)\n",
    "            \n",
    "    # TODO: remove .pid file from /tmp before closing. May want to wrap in error processing\n",
    "    #  so that the .pid can be removed on at least some crashes.\n",
    "    #  make sure barriers are depowered\n",
    "    \n",
    "    print(time.time())\n",
    "    print('time\\t\\tposition\\t\\tbalance\\t\\tthermistor')\n",
    "    for i in range(len(pos_V)):\n",
    "        print(f'{time_stamp[i]:.3f}\\t{pos_V[i]:.3f}+/-{pos_std[i]:.1e}\\t{bal_V[i]:.3e}+/-{bal_std[i]:.1e}\\t{therm_V[i]:.3f}+/-{therm_std[i]:.1e}') "
   ]
  },
  {
   "cell_type": "code",
   "execution_count": 38,
   "id": "b38c364b",
   "metadata": {},
   "outputs": [
    {
     "name": "stdout",
     "output_type": "stream",
     "text": [
      "time\t\tposition\t\tbalance\t\tthermistor\n",
      "1636583778.718\t5.355+/-0.000\t-1.270e+00+/-1.8e-04\t-3.157+/-2.1e-04\n",
      "1636583779.024\t5.356+/-0.000\t-1.270e+00+/-1.3e-04\t-3.157+/-1.4e-04\n",
      "1636583779.330\t5.355+/-0.000\t-1.270e+00+/-1.0e-04\t-3.157+/-1.2e-04\n",
      "1636583779.635\t5.355+/-0.000\t-1.270e+00+/-8.8e-05\t-3.157+/-1.1e-04\n",
      "1636583779.938\t5.355+/-0.000\t-1.270e+00+/-8.1e-05\t-3.157+/-9.3e-05\n",
      "1636583780.242\t5.355+/-0.000\t-1.270e+00+/-7.2e-05\t-3.157+/-8.5e-05\n",
      "1636583780.547\t5.355+/-0.000\t-1.270e+00+/-7.1e-05\t-3.157+/-7.8e-05\n",
      "1636583780.851\t5.355+/-0.000\t-1.270e+00+/-6.8e-05\t-3.157+/-7.4e-05\n",
      "1636583781.156\t5.355+/-0.000\t-1.270e+00+/-6.5e-05\t-3.157+/-6.9e-05\n",
      "1636583781.458\t5.355+/-0.000\t-1.270e+00+/-6.3e-05\t-3.157+/-6.6e-05\n"
     ]
    }
   ],
   "source": [
    "troughctl()"
   ]
  },
  {
   "cell_type": "code",
   "execution_count": 39,
   "id": "59c422e6",
   "metadata": {},
   "outputs": [
    {
     "name": "stdout",
     "output_type": "stream",
     "text": [
      "time\t\tposition\t\tbalance\t\tthermistor\n",
      "1636583793.913\t5.355+/-0.000\t-1.269e+00+/-1.9e-04\t-3.156+/-2.0e-04\n",
      "1636583794.216\t5.355+/-0.000\t-1.269e+00+/-1.3e-04\t-3.156+/-1.3e-04\n",
      "1636583794.517\t5.355+/-0.000\t-1.269e+00+/-1.0e-04\t-3.156+/-1.1e-04\n",
      "1636583794.820\t5.355+/-0.000\t-1.269e+00+/-8.6e-05\t-3.156+/-1.0e-04\n",
      "1636583795.122\t5.355+/-0.000\t-1.269e+00+/-8.0e-05\t-3.156+/-8.9e-05\n",
      "1636583795.424\t5.355+/-0.000\t-1.269e+00+/-7.0e-05\t-3.156+/-8.1e-05\n",
      "1636583795.727\t5.355+/-0.000\t-1.269e+00+/-6.6e-05\t-3.156+/-7.7e-05\n",
      "1636583796.030\t5.355+/-0.000\t-1.269e+00+/-6.3e-05\t-3.156+/-7.5e-05\n",
      "1636583796.333\t5.355+/-0.000\t-1.269e+00+/-6.0e-05\t-3.156+/-7.2e-05\n",
      "1636583796.640\t5.355+/-0.000\t-1.269e+00+/-6.0e-05\t-3.156+/-6.8e-05\n"
     ]
    }
   ],
   "source": [
    "troughctl()"
   ]
  },
  {
   "cell_type": "code",
   "execution_count": 40,
   "id": "12ce009e",
   "metadata": {},
   "outputs": [
    {
     "name": "stdout",
     "output_type": "stream",
     "text": [
      "time\t\tposition\t\tbalance\t\tthermistor\n",
      "1636592016.853\t5.355+/-0.000\t-1.265e+00+/-1.5e-04\t-3.137+/-1.6e-04\n",
      "1636592017.157\t5.355+/-0.000\t-1.265e+00+/-1.1e-04\t-3.137+/-1.3e-04\n",
      "1636592017.459\t5.355+/-0.000\t-1.265e+00+/-1.0e-04\t-3.137+/-1.1e-04\n",
      "1636592017.761\t5.355+/-0.000\t-1.265e+00+/-8.6e-05\t-3.137+/-9.7e-05\n",
      "1636592018.062\t5.355+/-0.000\t-1.265e+00+/-8.0e-05\t-3.137+/-8.9e-05\n",
      "1636592018.363\t5.355+/-0.000\t-1.265e+00+/-7.3e-05\t-3.137+/-8.3e-05\n",
      "1636592018.665\t5.355+/-0.000\t-1.265e+00+/-6.6e-05\t-3.137+/-7.8e-05\n",
      "1636592018.970\t5.355+/-0.000\t-1.265e+00+/-6.2e-05\t-3.137+/-7.3e-05\n",
      "1636592019.276\t5.355+/-0.000\t-1.265e+00+/-5.9e-05\t-3.137+/-6.9e-05\n",
      "1636592019.579\t5.355+/-0.000\t-1.265e+00+/-5.5e-05\t-3.137+/-6.5e-05\n"
     ]
    }
   ],
   "source": [
    "troughctl()"
   ]
  },
  {
   "cell_type": "code",
   "execution_count": 41,
   "id": "54484217",
   "metadata": {},
   "outputs": [
    {
     "name": "stdout",
     "output_type": "stream",
     "text": [
      "time\t\tposition\t\tbalance\t\tthermistor\n",
      "1636641616.796\t5.364+/-0.000\t-1.266e+00+/-1.9e-04\t-3.181+/-2.0e-04\n",
      "1636641617.101\t5.364+/-0.000\t-1.266e+00+/-1.3e-04\t-3.181+/-1.4e-04\n",
      "1636641617.404\t5.364+/-0.000\t-1.266e+00+/-9.8e-05\t-3.181+/-1.2e-04\n",
      "1636641617.707\t5.364+/-0.000\t-1.266e+00+/-8.5e-05\t-3.180+/-1.0e-04\n",
      "1636641618.011\t5.364+/-0.000\t-1.266e+00+/-7.3e-05\t-3.181+/-9.0e-05\n",
      "1636641618.315\t5.364+/-0.000\t-1.266e+00+/-6.5e-05\t-3.180+/-8.5e-05\n",
      "1636641618.618\t5.364+/-0.000\t-1.266e+00+/-6.2e-05\t-3.180+/-7.7e-05\n",
      "1636641618.921\t5.364+/-0.000\t-1.266e+00+/-5.8e-05\t-3.180+/-7.0e-05\n",
      "1636641619.227\t5.364+/-0.000\t-1.266e+00+/-5.5e-05\t-3.180+/-6.6e-05\n",
      "1636641619.528\t5.364+/-0.000\t-1.265e+00+/-5.2e-05\t-3.180+/-6.3e-05\n"
     ]
    }
   ],
   "source": [
    "troughctl()"
   ]
  },
  {
   "cell_type": "code",
   "execution_count": 42,
   "id": "d450a93d",
   "metadata": {},
   "outputs": [
    {
     "name": "stdout",
     "output_type": "stream",
     "text": [
      "time\t\tposition\t\tbalance\t\tthermistor\n",
      "1636738303.327\t5.352+/-0.000\t-1.283e+00+/-1.9e-04\t-3.372+/-2.0e-04\n",
      "1636738303.633\t5.352+/-0.000\t-1.283e+00+/-1.4e-04\t-3.372+/-1.5e-04\n",
      "1636738303.939\t5.352+/-0.000\t-1.283e+00+/-1.1e-04\t-3.372+/-1.2e-04\n",
      "1636738304.246\t5.352+/-0.000\t-1.284e+00+/-1.1e-04\t-3.372+/-1.1e-04\n",
      "1636738304.549\t5.352+/-0.000\t-1.284e+00+/-1.1e-04\t-3.372+/-9.1e-05\n",
      "1636738304.856\t5.352+/-0.000\t-1.284e+00+/-9.9e-05\t-3.372+/-8.3e-05\n",
      "1636738305.161\t5.352+/-0.000\t-1.284e+00+/-9.0e-05\t-3.372+/-7.5e-05\n",
      "1636738305.465\t5.352+/-0.000\t-1.284e+00+/-8.6e-05\t-3.372+/-6.9e-05\n",
      "1636738305.767\t5.352+/-0.000\t-1.285e+00+/-8.2e-05\t-3.372+/-6.5e-05\n",
      "1636738306.071\t5.352+/-0.000\t-1.285e+00+/-7.7e-05\t-3.372+/-6.1e-05\n"
     ]
    }
   ],
   "source": [
    "troughctl()"
   ]
  },
  {
   "cell_type": "code",
   "execution_count": 46,
   "id": "ac68cac2",
   "metadata": {},
   "outputs": [
    {
     "name": "stdout",
     "output_type": "stream",
     "text": [
      "time\t\tposition\t\tbalance\t\tthermistor\n",
      "1636738430.279\t5.352+/-2.1e-04\t-1.282e+00+/-1.7e-04\t-3.369+/-1.8e-04\n",
      "1636738430.582\t5.352+/-1.4e-04\t-1.282e+00+/-1.2e-04\t-3.369+/-1.3e-04\n",
      "1636738430.887\t5.352+/-1.1e-04\t-1.282e+00+/-9.5e-05\t-3.369+/-1.0e-04\n",
      "1636738431.188\t5.352+/-9.6e-05\t-1.282e+00+/-8.4e-05\t-3.369+/-9.2e-05\n",
      "1636738431.492\t5.352+/-8.6e-05\t-1.282e+00+/-7.6e-05\t-3.369+/-8.3e-05\n",
      "1636738431.799\t5.352+/-7.8e-05\t-1.282e+00+/-7.2e-05\t-3.369+/-7.6e-05\n",
      "1636738432.103\t5.352+/-7.4e-05\t-1.282e+00+/-6.7e-05\t-3.369+/-7.1e-05\n",
      "1636738432.410\t5.352+/-7.0e-05\t-1.281e+00+/-6.2e-05\t-3.369+/-6.6e-05\n",
      "1636738432.716\t5.352+/-6.5e-05\t-1.281e+00+/-6.2e-05\t-3.369+/-6.1e-05\n",
      "1636738433.023\t5.352+/-6.3e-05\t-1.281e+00+/-5.9e-05\t-3.369+/-5.8e-05\n"
     ]
    }
   ],
   "source": [
    "troughctl()"
   ]
  },
  {
   "cell_type": "code",
   "execution_count": 48,
   "id": "34cfc35e",
   "metadata": {},
   "outputs": [
    {
     "name": "stdout",
     "output_type": "stream",
     "text": [
      "time\t\tposition\t\tbalance\t\tthermistor\n",
      "1636753165.083\t5.352+/-8.6e-05\t-1.273e+00+/-7.3e-05\t-3.334+/-7.8e-05\n",
      "1636753165.389\t5.352+/-7.9e-05\t-1.273e+00+/-6.7e-05\t-3.334+/-7.2e-05\n",
      "1636753165.694\t5.352+/-7.4e-05\t-1.273e+00+/-6.2e-05\t-3.334+/-6.8e-05\n",
      "1636753165.996\t5.352+/-6.8e-05\t-1.273e+00+/-5.7e-05\t-3.334+/-6.4e-05\n",
      "1636753166.302\t5.352+/-6.5e-05\t-1.273e+00+/-5.4e-05\t-3.334+/-6.2e-05\n"
     ]
    }
   ],
   "source": [
    "# using deque of maxlen=5\n",
    "troughctl()"
   ]
  },
  {
   "cell_type": "code",
   "execution_count": 55,
   "id": "20fe5a58",
   "metadata": {},
   "outputs": [
    {
     "name": "stdout",
     "output_type": "stream",
     "text": [
      "1636754792.307978\n",
      "time\t\tposition\t\tbalance\t\tthermistor\n",
      "1636754789.982\t5.352+/-7.8e-05\t-1.274e+00+/-7.8e-05\t-3.371+/-7.3e-05\n",
      "1636754790.477\t5.352+/-7.1e-05\t-1.274e+00+/-7.1e-05\t-3.371+/-6.9e-05\n",
      "1636754790.972\t5.352+/-6.7e-05\t-1.274e+00+/-6.5e-05\t-3.371+/-6.5e-05\n",
      "1636754791.467\t5.352+/-6.4e-05\t-1.274e+00+/-6.1e-05\t-3.371+/-6.0e-05\n",
      "1636754791.963\t5.352+/-6.1e-05\t-1.274e+00+/-5.7e-05\t-3.371+/-5.7e-05\n"
     ]
    }
   ],
   "source": [
    "troughctl()"
   ]
  },
  {
   "cell_type": "code",
   "execution_count": null,
   "id": "8b3c891c",
   "metadata": {},
   "outputs": [],
   "source": []
  }
 ],
 "metadata": {
  "kernelspec": {
   "display_name": "Python 3",
   "language": "python",
   "name": "python3"
  },
  "language_info": {
   "codemirror_mode": {
    "name": "ipython",
    "version": 3
   },
   "file_extension": ".py",
   "mimetype": "text/x-python",
   "name": "python",
   "nbconvert_exporter": "python",
   "pygments_lexer": "ipython3",
   "version": "3.8.10"
  }
 },
 "nbformat": 4,
 "nbformat_minor": 5
}
