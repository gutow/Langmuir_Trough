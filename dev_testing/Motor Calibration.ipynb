{
 "cells": [
  {
   "cell_type": "code",
   "execution_count": 1,
   "id": "0f6b5c2b",
   "metadata": {},
   "outputs": [],
   "source": [
    "import piplates.DAQC2plate as DAQC2\n",
    "import os"
   ]
  },
  {
   "cell_type": "code",
   "execution_count": 18,
   "id": "b40f5497",
   "metadata": {},
   "outputs": [
    {
     "data": {
      "text/plain": [
       "0.0"
      ]
     },
     "execution_count": 18,
     "metadata": {},
     "output_type": "execute_result"
    }
   ],
   "source": [
    "# Read Barrier Position\n",
    "DAQC2.getADC(0,0)-DAQC2.getADC(0,1)"
   ]
  },
  {
   "cell_type": "code",
   "execution_count": 5,
   "id": "aa1cf996",
   "metadata": {},
   "outputs": [],
   "source": [
    "# Open Barriers\n",
    "DAQC2.setDAC(0,0,1) # set fast close\n",
    "DAQC2.setDOUTbit(0,0) # turn on power/start barriers"
   ]
  },
  {
   "cell_type": "code",
   "execution_count": 50,
   "id": "c8862cd5",
   "metadata": {},
   "outputs": [],
   "source": [
    "def barrier_at_limit_check(openlimit, closelimit):\n",
    "    \"\"\"\n",
    "    Checks if barrier is at or beyond limit and stops barrier if it is moving\n",
    "    in a direction that would make it worse.\n",
    "    :param float openlimit: lowest voltage allowed for opening\n",
    "    :param float closelimit: highest voltage allowed for closing\n",
    "\n",
    "    Returns\n",
    "    =======\n",
    "    True or False. If True also shuts down power to barrier\n",
    "    \"\"\"\n",
    "\n",
    "    direction = 0  # -1 closing, 0 stopped, 1 openning.\n",
    "    if (DAQC2.getDAC(0, 0) >= 2.5):\n",
    "        direction = -1\n",
    "    else:\n",
    "        direction = 1\n",
    "    position = DAQC2.getADC(0, 0) - DAQC2.getADC(0, 1)\n",
    "    if (position >= closelimit) and (direction == -1):\n",
    "        DAQC2.clrDOUTbit(0, 0)  # switch off power/stop barriers\n",
    "        print(position,direction)\n",
    "        return True\n",
    "    if (position <= openlimit) and (direction == 1):\n",
    "        DAQC2.clrDOUTbit(0, 0)  # switch off power/stop barriers\n",
    "        print(position,direction)\n",
    "        return True\n",
    "    return False"
   ]
  },
  {
   "cell_type": "code",
   "execution_count": 53,
   "id": "9f2e8e28",
   "metadata": {},
   "outputs": [],
   "source": [
    "def motorcal(barriermin,barriermax):\n",
    "    '''\n",
    "    :param float barriermin: minimum voltage for barrier (do not open more).\n",
    "    :param float barriermax: maximum voltage for barrier (do not close more).\n",
    "    :returns float maxclose: DAC setting for maximum close speed.\n",
    "    :returns float minclose: DAC setting for minimum close speed.\n",
    "    :returns float startclose: DAC setting providing minimum voltage to start closing.\n",
    "    :returns float maxopen: DAC setting for maximum close speed.\n",
    "    :returns float minopen: DAC setting for minimum close speed.\n",
    "    :returns float startopen: DAC setting providing minimum voltage to start opening.\n",
    "    '''\n",
    "    \n",
    "    import os, time\n",
    "    # Since this runs in a tight loop needs to take over watching barriers.\n",
    "    # Check if a trough controller is registered at /tmp/troughctl.pid.\n",
    "    # If one is store it's pid and replace with own. Will revert on exit without\n",
    "    # crashing.\n",
    "    pidpath = '/tmp/troughctl.pid'\n",
    "    ctlpid = None\n",
    "    if os.path.exists(pidpath):\n",
    "        file=open(pidpath,'r')\n",
    "        ctlpid = int(file.readline())\n",
    "        file.close()\n",
    "    pid = os.getpid()\n",
    "    print(str(pid))\n",
    "    file = open(pidpath,'w')\n",
    "    file.write(str(pid)+'\\n')\n",
    "    file.close()\n",
    "    # Do not proceed until this file exists on the file system\n",
    "    while not os.path.exists(pidpath):\n",
    "        pass # just waiting for file system to catch up.\n",
    "    # Read it to make sure\n",
    "    file = open(pidpath,'r')\n",
    "    checkpid = file.readline()\n",
    "    file.close()\n",
    "    if int(checkpid) != pid:\n",
    "        raise FileNotFoundError('Checkpid = '+checkpid+', but should = '+str(pid))\n",
    "        \n",
    "    # Set base values\n",
    "    maxclose = 4\n",
    "    minclose = 2.6\n",
    "    startclose = 2.6\n",
    "    maxopen = 0\n",
    "    minopen = 2.4\n",
    "    startopen = 2.4\n",
    "    # Calibrate the barrier. This assumes a DAQC2 pi-plate is the controlling interface.\n",
    "    position = round(DAQC2.getADC(0, 0) - DAQC2.getADC(0, 1),2) # not stable past 2 decimals\n",
    "    middle = (barriermax + barriermin)/2\n",
    "    print('position: '+str(position)+', middle: '+str(middle))\n",
    "    if position < middle: \n",
    "        # need to close some\n",
    "        atlimit = False\n",
    "        DAQC2.setDAC(0,0,4) # set fast close\n",
    "        DAQC2.setDOUTbit(0,0) # turn on power/start barriers\n",
    "        while not atlimit:\n",
    "            atlimit = barrier_at_limit_check(barriermin, middle)\n",
    "            time.sleep(0.2)\n",
    "    if position > middle:\n",
    "        # need to open some\n",
    "        atlimit = False\n",
    "        DAQC2.setDAC(0,0,0) # set fast open\n",
    "        DAQC2.setDOUTbit(0,0) # turn on power/start barriers\n",
    "        while not atlimit:\n",
    "            atlimit = barrier_at_limit_check(middle, barriermax)\n",
    "            time.sleep(0.2)\n",
    "            \n",
    "    # Return control to previous trough controller\n",
    "    if ctlpid is not None:\n",
    "        file = open(pidpath,'w')\n",
    "        file.write(str(ctlpid)+'\\n')\n",
    "        file.close()\n",
    "    elif os.path.exists(pidpath):\n",
    "        os.remove(pidpath)\n",
    "    elif os.path.exists(pidpath): # double check\n",
    "        os.remove(pidpath)\n",
    "    \n",
    "    \n",
    "    # Return the results\n",
    "    return(maxclose,minclose,startclose,maxopen,minopen,startopen)\n",
    "    "
   ]
  },
  {
   "cell_type": "markdown",
   "id": "ee8de1db",
   "metadata": {},
   "source": [
    "Some how the position measured in the barrier_at_limit_check() call is wrong. Are we looping to fast?"
   ]
  },
  {
   "cell_type": "code",
   "execution_count": 55,
   "id": "aa6c1f51",
   "metadata": {},
   "outputs": [
    {
     "name": "stdout",
     "output_type": "stream",
     "text": [
      "4061\n",
      "position: 6.73, middle: 3.915\n",
      "3.74 1\n"
     ]
    },
    {
     "data": {
      "text/plain": [
       "(4, 2.6, 2.6, 0, 2.4, 2.4)"
      ]
     },
     "execution_count": 55,
     "metadata": {},
     "output_type": "execute_result"
    }
   ],
   "source": [
    "motorcal(0.05,7.78)"
   ]
  },
  {
   "cell_type": "code",
   "execution_count": 46,
   "id": "1a10f925",
   "metadata": {},
   "outputs": [
    {
     "data": {
      "text/plain": [
       "0.0"
      ]
     },
     "execution_count": 46,
     "metadata": {},
     "output_type": "execute_result"
    }
   ],
   "source": [
    "DAQC2.getDAC(0, 0)"
   ]
  },
  {
   "cell_type": "code",
   "execution_count": null,
   "id": "be817462",
   "metadata": {},
   "outputs": [],
   "source": []
  }
 ],
 "metadata": {
  "kernelspec": {
   "display_name": "Python 3 (ipykernel)",
   "language": "python",
   "name": "python3"
  },
  "language_info": {
   "codemirror_mode": {
    "name": "ipython",
    "version": 3
   },
   "file_extension": ".py",
   "mimetype": "text/x-python",
   "name": "python",
   "nbconvert_exporter": "python",
   "pygments_lexer": "ipython3",
   "version": "3.8.10"
  }
 },
 "nbformat": 4,
 "nbformat_minor": 5
}
