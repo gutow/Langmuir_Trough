{
 "cells": [
  {
   "cell_type": "code",
   "execution_count": 1,
   "id": "8d438280",
   "metadata": {},
   "outputs": [
    {
     "name": "stdout",
     "output_type": "stream",
     "text": [
      "['Checking Motor Calibration. Please wait...']\n",
      "['Trough ready']\n"
     ]
    }
   ],
   "source": [
    "import Trough_GUI"
   ]
  },
  {
   "cell_type": "code",
   "execution_count": 2,
   "id": "32bb626f",
   "metadata": {},
   "outputs": [
    {
     "data": {
      "application/vnd.jupyter.widget-view+json": {
       "model_id": "5c7124e1298d49c0bf56b1e5af0d7ecf",
       "version_major": 2,
       "version_minor": 0
      },
      "text/plain": [
       "FigureWidget({\n",
       "    'data': [{'type': 'scatter', 'uid': '8511f104-6c3a-4bb1-a059-403b7501b067', 'x': [], 'y': […"
      ]
     },
     "metadata": {},
     "output_type": "display_data"
    },
    {
     "data": {
      "application/vnd.jupyter.widget-view+json": {
       "model_id": "",
       "version_major": 2,
       "version_minor": 0
      },
      "text/plain": [
       "VBox(children=(HBox(children=(Text(value='32.569', description='$\\\\pi$ (mN/m)', disabled=True, style=Descripti…"
      ]
     },
     "metadata": {},
     "output_type": "display_data"
    },
    {
     "data": {
      "text/html": [
       "<table><tr><th>Run ID</th><th>Title</th><th>Storage File Name</th><th>Target (cm)</th><th>Speed (cm/min)</th><th>Moles</th><th>Plate Circumference (mm)</th></tr><tr><td>0</td><td>Test_2-27-23g</td><td>Test_2-27-23g.trh.run.html</td><td>8.5</td><td>2.0</td><td>3e-08</td><td>21.5</td></tr></table>"
      ],
      "text/plain": [
       "<IPython.core.display.HTML object>"
      ]
     },
     "metadata": {},
     "output_type": "display_data"
    }
   ],
   "source": [
    "Trough_GUI.Collect_data.Run('Test_2-27-23g')"
   ]
  },
  {
   "cell_type": "code",
   "execution_count": 3,
   "id": "d0e0cea4",
   "metadata": {},
   "outputs": [
    {
     "data": {
      "application/vnd.jupyter.widget-view+json": {
       "model_id": "702be8b5636549e58e4f9abbea46365e",
       "version_major": 2,
       "version_minor": 0
      },
      "text/plain": [
       "FigureWidget({\n",
       "    'data': [{'type': 'scatter', 'uid': 'aadf633b-eb34-41e0-bd9b-63f8a1f731c1', 'x': [], 'y': […"
      ]
     },
     "metadata": {},
     "output_type": "display_data"
    },
    {
     "data": {
      "application/vnd.jupyter.widget-view+json": {
       "model_id": "",
       "version_major": 2,
       "version_minor": 0
      },
      "text/plain": [
       "VBox(children=(HBox(children=(Text(value='32.537', description='$\\\\pi$ (mN/m)', disabled=True, style=Descripti…"
      ]
     },
     "metadata": {},
     "output_type": "display_data"
    },
    {
     "data": {
      "text/html": [
       "<table><tr><th>Run ID</th><th>Title</th><th>Storage File Name</th><th>Target (Angstrom^2/molec)</th><th>Speed (Angstrom^2/molec/min)</th><th>Moles</th><th>Plate Circumference (mm)</th></tr><tr><td>1</td><td>Test_2-27-23h</td><td>Test_2-27-23h.trh.run.html</td><td>55.0</td><td>10.0</td><td>3e-08</td><td>21.5</td></tr></table>"
      ],
      "text/plain": [
       "<IPython.core.display.HTML object>"
      ]
     },
     "metadata": {},
     "output_type": "display_data"
    }
   ],
   "source": [
    "Trough_GUI.Collect_data.Run('Test_2-27-23h')"
   ]
  },
  {
   "cell_type": "code",
   "execution_count": null,
   "id": "4512a7ec",
   "metadata": {},
   "outputs": [],
   "source": []
  }
 ],
 "metadata": {
  "kernelspec": {
   "display_name": "Python 3 (ipykernel)",
   "language": "python",
   "name": "python3"
  },
  "language_info": {
   "codemirror_mode": {
    "name": "ipython",
    "version": 3
   },
   "file_extension": ".py",
   "mimetype": "text/x-python",
   "name": "python",
   "nbconvert_exporter": "python",
   "pygments_lexer": "ipython3",
   "version": "3.8.10"
  },
  "widgets": {
   "application/vnd.jupyter.widget-state+json": {
    "state": {
     "00b407eee4784b03b54db7a67476ef5f": {
      "model_module": "@jupyter-widgets/base",
      "model_module_version": "1.2.0",
      "model_name": "LayoutModel",
      "state": {}
     },
     "0618fc9fb67f4aa98cb7bf56c294795d": {
      "model_module": "@jupyter-widgets/controls",
      "model_module_version": "1.5.0",
      "model_name": "HBoxModel",
      "state": {
       "children": [
        "IPY_MODEL_48d7be7ff3bf455ab7ae15d1909a86f9",
        "IPY_MODEL_f736f70a13c64af2b5d63e9cbdb2028a",
        "IPY_MODEL_82455402eef04bf8b8a7c3e89833c5ce"
       ],
       "layout": "IPY_MODEL_f1a1ebfed6aa42d38cd9cd1e170e80ac"
      }
     },
     "071eb8b4b40d46e5a488cc5c2b5582b5": {
      "model_module": "@jupyter-widgets/controls",
      "model_module_version": "1.5.0",
      "model_name": "HBoxModel",
      "state": {
       "children": [
        "IPY_MODEL_8243c8b131294053998ba13ddfdc71a4",
        "IPY_MODEL_d64434bdf07c47fe94fd1d3386773a03"
       ],
       "layout": "IPY_MODEL_38126734d26f4f52b45fd16d434205e1"
      }
     },
     "083af1dc7daa4f09a932c110f69f9441": {
      "model_module": "@jupyter-widgets/base",
      "model_module_version": "1.2.0",
      "model_name": "LayoutModel",
      "state": {}
     },
     "0bea54145e6f4b19958484716e59ab5d": {
      "model_module": "@jupyter-widgets/controls",
      "model_module_version": "1.5.0",
      "model_name": "HBoxModel",
      "state": {
       "children": [
        "IPY_MODEL_c3fed5bc0b3a406ca669b7ba9f66f4b8",
        "IPY_MODEL_25c64f873f7c4c36ae5f28349bc9cda5"
       ],
       "layout": "IPY_MODEL_5b88a873bbb8427cb41a925a5960a4f0"
      }
     },
     "0c3117ab500b436d89c910a6736fef9f": {
      "model_module": "@jupyter-widgets/controls",
      "model_module_version": "1.5.0",
      "model_name": "TextModel",
      "state": {
       "description": "Area ($cm^2$)",
       "disabled": true,
       "layout": "IPY_MODEL_349b78bdf8ba4703b7ebecf3a912797a",
       "style": "IPY_MODEL_84e32b6be05d4e8cb5b1e34f0a281b42",
       "value": "99.0"
      }
     },
     "0e6a29342431469e9bf2a8c771b1abf4": {
      "model_module": "@jupyter-widgets/controls",
      "model_module_version": "1.5.0",
      "model_name": "DescriptionStyleModel",
      "state": {
       "description_width": "initial"
      }
     },
     "0e867689eb5d435084f5c1c5c69136ca": {
      "model_module": "@jupyter-widgets/base",
      "model_module_version": "1.2.0",
      "model_name": "LayoutModel",
      "state": {}
     },
     "11e2cb35e77d485eb7d4fe449e43b417": {
      "model_module": "@jupyter-widgets/base",
      "model_module_version": "1.2.0",
      "model_name": "LayoutModel",
      "state": {}
     },
     "12c87b4fad2749e695f7f6b513782db4": {
      "model_module": "@jupyter-widgets/controls",
      "model_module_version": "1.5.0",
      "model_name": "DescriptionStyleModel",
      "state": {
       "description_width": ""
      }
     },
     "14f6077269c549a3a13222ef0a01d780": {
      "model_module": "@jupyter-widgets/base",
      "model_module_version": "1.2.0",
      "model_name": "LayoutModel",
      "state": {}
     },
     "151031326227408983ff1dc32a21ae3d": {
      "model_module": "@jupyter-widgets/base",
      "model_module_version": "1.2.0",
      "model_name": "LayoutModel",
      "state": {}
     },
     "189a19631d29425d89943831785cc682": {
      "model_module": "@jupyter-widgets/base",
      "model_module_version": "1.2.0",
      "model_name": "LayoutModel",
      "state": {}
     },
     "192b3a9b8668474a8075ad922c4361f1": {
      "model_module": "@jupyter-widgets/controls",
      "model_module_version": "1.5.0",
      "model_name": "DescriptionStyleModel",
      "state": {
       "description_width": "initial"
      }
     },
     "1be434cb6fc64340b323bbe7d545f03b": {
      "model_module": "@jupyter-widgets/controls",
      "model_module_version": "1.5.0",
      "model_name": "DescriptionStyleModel",
      "state": {
       "description_width": "initial"
      }
     },
     "1d27331fe7f34dac9ddf250d2f6dfe58": {
      "model_module": "@jupyter-widgets/controls",
      "model_module_version": "1.5.0",
      "model_name": "ButtonModel",
      "state": {
       "button_style": "danger",
       "description": "Stop",
       "layout": "IPY_MODEL_a780c1ec42854dd8b0d443bd3ca8cb23",
       "style": "IPY_MODEL_90fda905f2e0479796730924aa2eb8da"
      }
     },
     "2303a2558a184ef9a0c40ca8db11357a": {
      "model_module": "@jupyter-widgets/controls",
      "model_module_version": "1.5.0",
      "model_name": "VBoxModel",
      "state": {
       "children": [
        "IPY_MODEL_c5180fd81fd64f42b22489e4ab7e74b6",
        "IPY_MODEL_a1ae41ed2469440e9b5f73aead4c697d",
        "IPY_MODEL_0618fc9fb67f4aa98cb7bf56c294795d"
       ],
       "layout": "IPY_MODEL_bda4547572c44ec9b6b807828eca137f"
      }
     },
     "25c64f873f7c4c36ae5f28349bc9cda5": {
      "model_module": "@jupyter-widgets/controls",
      "model_module_version": "1.5.0",
      "model_name": "ButtonModel",
      "state": {
       "button_style": "danger",
       "description": "Stop",
       "layout": "IPY_MODEL_ca025649e0f34720b24db0e824fff268",
       "style": "IPY_MODEL_4b3c6371765d4494bdec09f2d9238d90"
      }
     },
     "26fa7849cbf14133b5d1a832b5680a08": {
      "model_module": "@jupyter-widgets/controls",
      "model_module_version": "1.5.0",
      "model_name": "HBoxModel",
      "state": {
       "children": [
        "IPY_MODEL_8c2a41f7166649c2a443856a33329972",
        "IPY_MODEL_f4f02deee8414dedaf61b64c2e9e5a49"
       ],
       "layout": "IPY_MODEL_6fc4ecf37a2645359d53cce8ab5aaf45"
      }
     },
     "29944ddadebe4b37b7ddfead6a25ca17": {
      "model_module": "@jupyter-widgets/controls",
      "model_module_version": "1.5.0",
      "model_name": "AccordionModel",
      "state": {
       "_titles": {
        "0": "Settings"
       },
       "children": [
        "IPY_MODEL_2303a2558a184ef9a0c40ca8db11357a"
       ],
       "layout": "IPY_MODEL_8e8ad0ccaf5843218b2bcc76bf80fa21"
      }
     },
     "2bafb4cbae8a468ab86f96ea681d6789": {
      "model_module": "@jupyter-widgets/controls",
      "model_module_version": "1.5.0",
      "model_name": "ButtonStyleModel",
      "state": {}
     },
     "2c85b66055804551aad3bbf5e464afef": {
      "model_module": "@jupyter-widgets/base",
      "model_module_version": "1.2.0",
      "model_name": "LayoutModel",
      "state": {}
     },
     "2c991a3dcbe5467da92375533d92b267": {
      "model_module": "@jupyter-widgets/controls",
      "model_module_version": "1.5.0",
      "model_name": "HBoxModel",
      "state": {
       "children": [
        "IPY_MODEL_f04b158399b14576894cceff5f6e3a84",
        "IPY_MODEL_6fd5515cd7b544f59b9e10216b661aac"
       ],
       "layout": "IPY_MODEL_37c03a7891b84a1aa18d6c183951cc61"
      }
     },
     "2cde657844994463956ddc1d3f349b62": {
      "model_module": "@jupyter-widgets/controls",
      "model_module_version": "1.5.0",
      "model_name": "DescriptionStyleModel",
      "state": {
       "description_width": ""
      }
     },
     "311ae2f61f0340828bbf2ab02c9d61c7": {
      "model_module": "@jupyter-widgets/controls",
      "model_module_version": "1.5.0",
      "model_name": "DescriptionStyleModel",
      "state": {
       "description_width": ""
      }
     },
     "349b78bdf8ba4703b7ebecf3a912797a": {
      "model_module": "@jupyter-widgets/base",
      "model_module_version": "1.2.0",
      "model_name": "LayoutModel",
      "state": {}
     },
     "357cd52c22c44f2e9b60e7d027b792bb": {
      "model_module": "@jupyter-widgets/controls",
      "model_module_version": "1.5.0",
      "model_name": "HBoxModel",
      "state": {
       "children": [
        "IPY_MODEL_a1584c831ea048899fd4c0aa9d1a02a9",
        "IPY_MODEL_f736f70a13c64af2b5d63e9cbdb2028a",
        "IPY_MODEL_e2a553870d7e4b58b7a70f5d8784e3c4"
       ],
       "layout": "IPY_MODEL_e508b3cbf1e04d599cb4407aad825490"
      }
     },
     "37c03a7891b84a1aa18d6c183951cc61": {
      "model_module": "@jupyter-widgets/base",
      "model_module_version": "1.2.0",
      "model_name": "LayoutModel",
      "state": {}
     },
     "37c0455bdbb74095b96b3ff530926913": {
      "model_module": "@jupyter-widgets/controls",
      "model_module_version": "1.5.0",
      "model_name": "VBoxModel",
      "state": {
       "children": [
        "IPY_MODEL_bde20477f04d41bfb525b34a6e433120",
        "IPY_MODEL_6baabd68ad2347b6b94f4fbdd8063550"
       ],
       "layout": "IPY_MODEL_852c1e329bb1405281373557a9bfa41f"
      }
     },
     "38126734d26f4f52b45fd16d434205e1": {
      "model_module": "@jupyter-widgets/base",
      "model_module_version": "1.2.0",
      "model_name": "LayoutModel",
      "state": {}
     },
     "3acee93ba0d5423aa361fc5a79bb4506": {
      "model_module": "@jupyter-widgets/base",
      "model_module_version": "1.2.0",
      "model_name": "LayoutModel",
      "state": {}
     },
     "3d0447c2bcf341b482693917ea2f0a1e": {
      "model_module": "@jupyter-widgets/controls",
      "model_module_version": "1.5.0",
      "model_name": "FloatTextModel",
      "state": {
       "description": "Plate circumference (mm)",
       "layout": "IPY_MODEL_5f5449e703304bdea68c55e8041fda8d",
       "step": null,
       "style": "IPY_MODEL_d693aea7e04944f2914a73944afbc2dd",
       "value": 21.5
      }
     },
     "414b9b175b1246fb9ed4bd54a78fc63f": {
      "model_module": "@jupyter-widgets/base",
      "model_module_version": "1.2.0",
      "model_name": "LayoutModel",
      "state": {}
     },
     "45a71755eff04354acd7b3a2f1a7e926": {
      "model_module": "@jupyter-widgets/controls",
      "model_module_version": "1.5.0",
      "model_name": "ButtonStyleModel",
      "state": {}
     },
     "48d7be7ff3bf455ab7ae15d1909a86f9": {
      "model_module": "@jupyter-widgets/controls",
      "model_module_version": "1.5.0",
      "model_name": "LabelModel",
      "state": {
       "layout": "IPY_MODEL_2c85b66055804551aad3bbf5e464afef",
       "style": "IPY_MODEL_7aef38bf33a14c46b086a116f97d784b",
       "value": "Target"
      }
     },
     "4b3c6371765d4494bdec09f2d9238d90": {
      "model_module": "@jupyter-widgets/controls",
      "model_module_version": "1.5.0",
      "model_name": "ButtonStyleModel",
      "state": {}
     },
     "4ebc8c8e0e8d4b08b4b6582a31bb96d8": {
      "model_module": "@jupyter-widgets/controls",
      "model_module_version": "1.5.0",
      "model_name": "HTMLModel",
      "state": {
       "layout": "IPY_MODEL_fe2fcb6a411c4f8bb1c6533811ec8bce",
       "style": "IPY_MODEL_2cde657844994463956ddc1d3f349b62",
       "value": "<p>Status messages will appear here.</p>"
      }
     },
     "50d66af990374a4e81c547dee6156304": {
      "model_module": "@jupyter-widgets/controls",
      "model_module_version": "1.5.0",
      "model_name": "TextModel",
      "state": {
       "description": "Barrier Raw",
       "disabled": true,
       "layout": "IPY_MODEL_d154d12662304df7933ab2b6a43844e8",
       "style": "IPY_MODEL_1be434cb6fc64340b323bbe7d545f03b",
       "value": "0.742166"
      }
     },
     "55f631c3a72142078e813420ae1c37dd": {
      "model_module": "@jupyter-widgets/controls",
      "model_module_version": "1.5.0",
      "model_name": "ButtonModel",
      "state": {
       "description": "Done",
       "disabled": true,
       "layout": "IPY_MODEL_a935e914ab6a4156844f7ce751be0f20",
       "style": "IPY_MODEL_6fa4101583234328aadf98e8fb969fbc"
      }
     },
     "5aa97f7a564f4d298aec534ebe470138": {
      "model_module": "@jupyter-widgets/controls",
      "model_module_version": "1.5.0",
      "model_name": "AccordionModel",
      "state": {
       "_titles": {
        "0": "Status"
       },
       "children": [
        "IPY_MODEL_37c0455bdbb74095b96b3ff530926913"
       ],
       "layout": "IPY_MODEL_14f6077269c549a3a13222ef0a01d780"
      }
     },
     "5abee8d58231431dac876e0a0226a4fe": {
      "model_module": "@jupyter-widgets/base",
      "model_module_version": "1.2.0",
      "model_name": "LayoutModel",
      "state": {}
     },
     "5b88a873bbb8427cb41a925a5960a4f0": {
      "model_module": "@jupyter-widgets/base",
      "model_module_version": "1.2.0",
      "model_name": "LayoutModel",
      "state": {}
     },
     "5c7124e1298d49c0bf56b1e5af0d7ecf": {
      "buffers": [
       {
        "data": "7FG4HoXrJEDsUbgeheskQOxRuB6F6yRA7FG4HoXrJEBxPQrXo/AkQOxRuB6F6yRA7FG4HoXrJEDsUbgeheskQOxRuB6F6yRA7FG4HoXrJEDsUbgeheskQOxRuB6F6yRA7FG4HoXrJEDsUbgeheskQGZmZmZm5iRAZmZmZmbmJEBmZmZmZuYkQGZmZmZm5iRAZmZmZmbmJEBmZmZmZuYkQGZmZmZm5iRA4XoUrkfhJEBcj8L1KNwkQNejcD0K1yRA16NwPQrXJEBSuB6F69EkQFK4HoXr0SRAUrgehevRJEBSuB6F69EkQEjhehSuxyRAw/UoXI/CJEAzMzMzM7MkQK5H4XoUriRAKVyPwvWoJECkcD0K16MkQB+F61G4niRAj8L1KFyPJECF61G4HoUkQIXrUbgehSRAhetRuB6FJED2KFyPwnUkQOxRuB6FayRAZmZmZmZmJEDhehSuR2EkQNejcD0KVyRAzczMzMxMJEBI4XoUrkckQD0K16NwPSRAuB6F61E4JEAzMzMzMzMkQClcj8L1KCRAH4XrUbgeJECamZmZmRkkQBSuR+F6FCRAj8L1KFwPJEAK16NwPQokQAAAAAAAACRAexSuR+H6I0BxPQrXo/AjQGZmZmZm5iNAXI/C9SjcI0DXo3A9CtcjQNejcD0K1yNAzczMzMzMI0DD9Shcj8IjQD0K16NwvSNAMzMzMzOzI0CuR+F6FK4jQClcj8L1qCNAmpmZmZmZI0AUrkfhepQjQArXo3A9iiNAAAAAAACAI0D2KFyPwnUjQHE9CtejcCNAcT0K16NwI0BmZmZmZmYjQFyPwvUoXCNA16NwPQpXI0DNzMzMzEwjQEjhehSuRyNAw/UoXI9CI0AzMzMzMzMjQClcj8L1KCNApHA9CtcjI0AfhetRuB4jQBSuR+F6FCNACtejcD0KI0CF61G4HgUjQHsUrkfh+iJA9ihcj8L1IkDsUbgehesiQOF6FK5H4SJAXI/C9SjcIkBSuB6F69EiQM3MzMzMzCJAw/UoXI/CIkC4HoXrUbgiQDMzMzMzsyJArkfhehSuIkApXI/C9agiQKRwPQrXoyJAH4XrUbieIkAUrkfhepQiQIXrUbgehSJAAAAAAACAIkB7FK5H4XoiQHE9CtejcCJA7FG4HoVrIkDhehSuR2EiQNejcD0KVyJAUrgehetRIkDNzMzMzEwiQMP1KFyPQiJAMzMzMzMzIkCuR+F6FC4iQKRwPQrXIyJAH4XrUbgeIkAUrkfhehQiQI/C9ShcDyJAhetRuB4FIkB7FK5H4fohQPYoXI/C9SFA7FG4HoXrIUBmZmZmZuYhQOF6FK5H4SFA16NwPQrXIUBSuB6F69EhQM3MzMzMzCFAw/UoXI/CIUC4HoXrUbghQK5H4XoUriFApHA9CtejIUAfhetRuJ4hQBSuR+F6lCFAj8L1KFyPIUCF61G4HoUhQHsUrkfheiFA9ihcj8J1IUBxPQrXo3AhQGZmZmZmZiFAXI/C9ShcIUBSuB6F61EhQM3MzMzMTCFASOF6FK5HIUA9CtejcD0hQDMzMzMzMyFArkfhehQuIUApXI/C9SghQB+F61G4HiFAmpmZmZkZIUCPwvUoXA8hQIXrUbgeBSFAexSuR+H6IEA=",
        "encoding": "base64",
        "path": [
         "_data",
         0,
         "x",
         "value"
        ]
       },
       {
        "data": "p/lbBppIQEBiNZn4qEhAQGI1mfioSEBAp/lbBppIQEDrvR4Ui0hAQB9x1uq3SEBAuApnPV5IQEAvguEhfEhAQFEkjsHkSEBA2qwT3cZIQECW6FDP1UhAQFEkjsHkSEBA2qwT3cZIQEB0RqQvbUhAQKf5WwaaSEBAH3HW6rdIQECW6FDP1UhAQGI1mfioSEBAluhQz9VIQEBBE4OKIElAQGI1mfioSEBAYjWZ+KhIQEBiNZn4qEhAQOu9HhSLSEBAYjWZ+KhIQEDrvR4Ui0hAQKf5WwaaSEBAp/lbBppIQEDarBPdxkhAQOu9HhSLSEBAL4LhIXxIQEBRJI7B5EhAQNqsE93GSEBAH3HW6rdIQECW6FDP1UhAQJboUM/VSEBAUSSOweRIQECn+VsGmkhAQNqsE93GSEBAH3HW6rdIQEAvguEhfEhAQJboUM/VSEBA2qwT3cZIQEAfcdbqt0hAQNqsE93GSEBAYjWZ+KhIQECW6FDP1UhAQJboUM/VSEBAluhQz9VIQEAfcdbqt0hAQNqsE93GSEBAyJsIpgJJQEDarBPdxkhAQJboUM/VSEBA2qwT3cZIQECE10WYEUlAQFEkjsHkSEBA2qwT3cZIQECE10WYEUlAQB9x1uq3SEBAUSSOweRIQECW6FDP1UhAQA1gy7PzSEBAYjWZ+KhIQEDarBPdxkhAQKf5WwaaSEBAYjWZ+KhIQEDarBPdxkhAQA1gy7PzSEBAuApnPV5IQEDarBPdxkhAQGI1mfioSEBAH3HW6rdIQEAfcdbqt0hAQJboUM/VSEBAyJsIpgJJQEAfcdbqt0hAQITXRZgRSUBA2qwT3cZIQEDarBPdxkhAQGI1mfioSEBA2qwT3cZIQEBiNZn4qEhAQJboUM/VSEBA670eFItIQECW6FDP1UhAQNqsE93GSEBAluhQz9VIQECn+VsGmkhAQOu9HhSLSEBA670eFItIQECW6FDP1UhAQGI1mfioSEBA670eFItIQECn+VsGmkhAQNqsE93GSEBA2qwT3cZIQEAvguEhfEhAQOu9HhSLSEBAL4LhIXxIQEBRJI7B5EhAQOu9HhSLSEBAH3HW6rdIQEDrvR4Ui0hAQGI1mfioSEBAp/lbBppIQEAfcdbqt0hAQKf5WwaaSEBAp/lbBppIQEDarBPdxkhAQLgKZz1eSEBAdEakL21IQEAfcdbqt0hAQKf5WwaaSEBAYjWZ+KhIQECW6FDP1UhAQC+C4SF8SEBAp/lbBppIQEBRJI7B5EhAQJboUM/VSEBAuApnPV5IQEDarBPdxkhAQB9x1uq3SEBAp/lbBppIQECn+VsGmkhAQJboUM/VSEBAH3HW6rdIQEDJG3J0IkhAQIRXr2YxSEBA2yx9q+ZHQEAwAkvwm0dAQEETVidgR0BAlugjbBVHQEAwgrS+u0ZAQOy98bDKRkBAUqTKLERGQEBSpMosREZAQNssUEgmRkBAMAIejdtFQEB1xuCazEVAQFMkNPtjRUBAhtfr0ZBFQEBTJDT7Y0VAQNysuRZGRUBAqPkBQBlFQEAwgodb+0RAQKj5AUAZRUBAdUZKaexEQED9zs+EzkRAQEKTkpK/REBAQpOSkr9EQEAP4Nq7kkRAQFOkncmDREBAU6SdyYNEQEA=",
        "encoding": "base64",
        "path": [
         "_data",
         0,
         "y",
         "value"
        ]
       }
      ],
      "model_module": "jupyterlab-plotly",
      "model_module_version": "^5.11.0",
      "model_name": "FigureModel",
      "state": {
       "_config": {
        "editSelection": false,
        "plotlyServerURL": "https://plot.ly"
       },
       "_data": [
        {
         "type": "scatter",
         "uid": "8511f104-6c3a-4bb1-a059-403b7501b067",
         "x": {
          "dtype": "float64",
          "shape": [
           154
          ]
         },
         "y": {
          "dtype": "float64",
          "shape": [
           154
          ]
         }
        }
       ],
       "_js2py_restyle": {},
       "_js2py_update": {},
       "_last_layout_edit_id": 81,
       "_last_trace_edit_id": 79,
       "_layout": {
        "autosize": true,
        "template": {
         "data": {
          "bar": [
           {
            "error_x": {
             "color": "rgb(36,36,36)"
            },
            "error_y": {
             "color": "rgb(36,36,36)"
            },
            "marker": {
             "line": {
              "color": "white",
              "width": 0.5
             },
             "pattern": {
              "fillmode": "overlay",
              "size": 10,
              "solidity": 0.2
             }
            },
            "type": "bar"
           }
          ],
          "barpolar": [
           {
            "marker": {
             "line": {
              "color": "white",
              "width": 0.5
             },
             "pattern": {
              "fillmode": "overlay",
              "size": 10,
              "solidity": 0.2
             }
            },
            "type": "barpolar"
           }
          ],
          "carpet": [
           {
            "aaxis": {
             "endlinecolor": "rgb(36,36,36)",
             "gridcolor": "white",
             "linecolor": "white",
             "minorgridcolor": "white",
             "startlinecolor": "rgb(36,36,36)"
            },
            "baxis": {
             "endlinecolor": "rgb(36,36,36)",
             "gridcolor": "white",
             "linecolor": "white",
             "minorgridcolor": "white",
             "startlinecolor": "rgb(36,36,36)"
            },
            "type": "carpet"
           }
          ],
          "choropleth": [
           {
            "colorbar": {
             "outlinewidth": 1,
             "tickcolor": "rgb(36,36,36)",
             "ticks": "outside"
            },
            "type": "choropleth"
           }
          ],
          "contour": [
           {
            "colorbar": {
             "outlinewidth": 1,
             "tickcolor": "rgb(36,36,36)",
             "ticks": "outside"
            },
            "colorscale": [
             [
              0,
              "#440154"
             ],
             [
              0.1111111111111111,
              "#482878"
             ],
             [
              0.2222222222222222,
              "#3e4989"
             ],
             [
              0.3333333333333333,
              "#31688e"
             ],
             [
              0.4444444444444444,
              "#26828e"
             ],
             [
              0.5555555555555556,
              "#1f9e89"
             ],
             [
              0.6666666666666666,
              "#35b779"
             ],
             [
              0.7777777777777778,
              "#6ece58"
             ],
             [
              0.8888888888888888,
              "#b5de2b"
             ],
             [
              1,
              "#fde725"
             ]
            ],
            "type": "contour"
           }
          ],
          "contourcarpet": [
           {
            "colorbar": {
             "outlinewidth": 1,
             "tickcolor": "rgb(36,36,36)",
             "ticks": "outside"
            },
            "type": "contourcarpet"
           }
          ],
          "heatmap": [
           {
            "colorbar": {
             "outlinewidth": 1,
             "tickcolor": "rgb(36,36,36)",
             "ticks": "outside"
            },
            "colorscale": [
             [
              0,
              "#440154"
             ],
             [
              0.1111111111111111,
              "#482878"
             ],
             [
              0.2222222222222222,
              "#3e4989"
             ],
             [
              0.3333333333333333,
              "#31688e"
             ],
             [
              0.4444444444444444,
              "#26828e"
             ],
             [
              0.5555555555555556,
              "#1f9e89"
             ],
             [
              0.6666666666666666,
              "#35b779"
             ],
             [
              0.7777777777777778,
              "#6ece58"
             ],
             [
              0.8888888888888888,
              "#b5de2b"
             ],
             [
              1,
              "#fde725"
             ]
            ],
            "type": "heatmap"
           }
          ],
          "heatmapgl": [
           {
            "colorbar": {
             "outlinewidth": 1,
             "tickcolor": "rgb(36,36,36)",
             "ticks": "outside"
            },
            "colorscale": [
             [
              0,
              "#440154"
             ],
             [
              0.1111111111111111,
              "#482878"
             ],
             [
              0.2222222222222222,
              "#3e4989"
             ],
             [
              0.3333333333333333,
              "#31688e"
             ],
             [
              0.4444444444444444,
              "#26828e"
             ],
             [
              0.5555555555555556,
              "#1f9e89"
             ],
             [
              0.6666666666666666,
              "#35b779"
             ],
             [
              0.7777777777777778,
              "#6ece58"
             ],
             [
              0.8888888888888888,
              "#b5de2b"
             ],
             [
              1,
              "#fde725"
             ]
            ],
            "type": "heatmapgl"
           }
          ],
          "histogram": [
           {
            "marker": {
             "line": {
              "color": "white",
              "width": 0.6
             }
            },
            "type": "histogram"
           }
          ],
          "histogram2d": [
           {
            "colorbar": {
             "outlinewidth": 1,
             "tickcolor": "rgb(36,36,36)",
             "ticks": "outside"
            },
            "colorscale": [
             [
              0,
              "#440154"
             ],
             [
              0.1111111111111111,
              "#482878"
             ],
             [
              0.2222222222222222,
              "#3e4989"
             ],
             [
              0.3333333333333333,
              "#31688e"
             ],
             [
              0.4444444444444444,
              "#26828e"
             ],
             [
              0.5555555555555556,
              "#1f9e89"
             ],
             [
              0.6666666666666666,
              "#35b779"
             ],
             [
              0.7777777777777778,
              "#6ece58"
             ],
             [
              0.8888888888888888,
              "#b5de2b"
             ],
             [
              1,
              "#fde725"
             ]
            ],
            "type": "histogram2d"
           }
          ],
          "histogram2dcontour": [
           {
            "colorbar": {
             "outlinewidth": 1,
             "tickcolor": "rgb(36,36,36)",
             "ticks": "outside"
            },
            "colorscale": [
             [
              0,
              "#440154"
             ],
             [
              0.1111111111111111,
              "#482878"
             ],
             [
              0.2222222222222222,
              "#3e4989"
             ],
             [
              0.3333333333333333,
              "#31688e"
             ],
             [
              0.4444444444444444,
              "#26828e"
             ],
             [
              0.5555555555555556,
              "#1f9e89"
             ],
             [
              0.6666666666666666,
              "#35b779"
             ],
             [
              0.7777777777777778,
              "#6ece58"
             ],
             [
              0.8888888888888888,
              "#b5de2b"
             ],
             [
              1,
              "#fde725"
             ]
            ],
            "type": "histogram2dcontour"
           }
          ],
          "mesh3d": [
           {
            "colorbar": {
             "outlinewidth": 1,
             "tickcolor": "rgb(36,36,36)",
             "ticks": "outside"
            },
            "type": "mesh3d"
           }
          ],
          "parcoords": [
           {
            "line": {
             "colorbar": {
              "outlinewidth": 1,
              "tickcolor": "rgb(36,36,36)",
              "ticks": "outside"
             }
            },
            "type": "parcoords"
           }
          ],
          "pie": [
           {
            "automargin": true,
            "type": "pie"
           }
          ],
          "scatter": [
           {
            "fillpattern": {
             "fillmode": "overlay",
             "size": 10,
             "solidity": 0.2
            },
            "type": "scatter"
           }
          ],
          "scatter3d": [
           {
            "line": {
             "colorbar": {
              "outlinewidth": 1,
              "tickcolor": "rgb(36,36,36)",
              "ticks": "outside"
             }
            },
            "marker": {
             "colorbar": {
              "outlinewidth": 1,
              "tickcolor": "rgb(36,36,36)",
              "ticks": "outside"
             }
            },
            "type": "scatter3d"
           }
          ],
          "scattercarpet": [
           {
            "marker": {
             "colorbar": {
              "outlinewidth": 1,
              "tickcolor": "rgb(36,36,36)",
              "ticks": "outside"
             }
            },
            "type": "scattercarpet"
           }
          ],
          "scattergeo": [
           {
            "marker": {
             "colorbar": {
              "outlinewidth": 1,
              "tickcolor": "rgb(36,36,36)",
              "ticks": "outside"
             }
            },
            "type": "scattergeo"
           }
          ],
          "scattergl": [
           {
            "marker": {
             "colorbar": {
              "outlinewidth": 1,
              "tickcolor": "rgb(36,36,36)",
              "ticks": "outside"
             }
            },
            "type": "scattergl"
           }
          ],
          "scattermapbox": [
           {
            "marker": {
             "colorbar": {
              "outlinewidth": 1,
              "tickcolor": "rgb(36,36,36)",
              "ticks": "outside"
             }
            },
            "type": "scattermapbox"
           }
          ],
          "scatterpolar": [
           {
            "marker": {
             "colorbar": {
              "outlinewidth": 1,
              "tickcolor": "rgb(36,36,36)",
              "ticks": "outside"
             }
            },
            "type": "scatterpolar"
           }
          ],
          "scatterpolargl": [
           {
            "marker": {
             "colorbar": {
              "outlinewidth": 1,
              "tickcolor": "rgb(36,36,36)",
              "ticks": "outside"
             }
            },
            "type": "scatterpolargl"
           }
          ],
          "scatterternary": [
           {
            "marker": {
             "colorbar": {
              "outlinewidth": 1,
              "tickcolor": "rgb(36,36,36)",
              "ticks": "outside"
             }
            },
            "type": "scatterternary"
           }
          ],
          "surface": [
           {
            "colorbar": {
             "outlinewidth": 1,
             "tickcolor": "rgb(36,36,36)",
             "ticks": "outside"
            },
            "colorscale": [
             [
              0,
              "#440154"
             ],
             [
              0.1111111111111111,
              "#482878"
             ],
             [
              0.2222222222222222,
              "#3e4989"
             ],
             [
              0.3333333333333333,
              "#31688e"
             ],
             [
              0.4444444444444444,
              "#26828e"
             ],
             [
              0.5555555555555556,
              "#1f9e89"
             ],
             [
              0.6666666666666666,
              "#35b779"
             ],
             [
              0.7777777777777778,
              "#6ece58"
             ],
             [
              0.8888888888888888,
              "#b5de2b"
             ],
             [
              1,
              "#fde725"
             ]
            ],
            "type": "surface"
           }
          ],
          "table": [
           {
            "cells": {
             "fill": {
              "color": "rgb(237,237,237)"
             },
             "line": {
              "color": "white"
             }
            },
            "header": {
             "fill": {
              "color": "rgb(217,217,217)"
             },
             "line": {
              "color": "white"
             }
            },
            "type": "table"
           }
          ]
         },
         "layout": {
          "annotationdefaults": {
           "arrowhead": 0,
           "arrowwidth": 1
          },
          "autotypenumbers": "strict",
          "coloraxis": {
           "colorbar": {
            "outlinewidth": 1,
            "tickcolor": "rgb(36,36,36)",
            "ticks": "outside"
           }
          },
          "colorscale": {
           "diverging": [
            [
             0,
             "rgb(103,0,31)"
            ],
            [
             0.1,
             "rgb(178,24,43)"
            ],
            [
             0.2,
             "rgb(214,96,77)"
            ],
            [
             0.3,
             "rgb(244,165,130)"
            ],
            [
             0.4,
             "rgb(253,219,199)"
            ],
            [
             0.5,
             "rgb(247,247,247)"
            ],
            [
             0.6,
             "rgb(209,229,240)"
            ],
            [
             0.7,
             "rgb(146,197,222)"
            ],
            [
             0.8,
             "rgb(67,147,195)"
            ],
            [
             0.9,
             "rgb(33,102,172)"
            ],
            [
             1,
             "rgb(5,48,97)"
            ]
           ],
           "sequential": [
            [
             0,
             "#440154"
            ],
            [
             0.1111111111111111,
             "#482878"
            ],
            [
             0.2222222222222222,
             "#3e4989"
            ],
            [
             0.3333333333333333,
             "#31688e"
            ],
            [
             0.4444444444444444,
             "#26828e"
            ],
            [
             0.5555555555555556,
             "#1f9e89"
            ],
            [
             0.6666666666666666,
             "#35b779"
            ],
            [
             0.7777777777777778,
             "#6ece58"
            ],
            [
             0.8888888888888888,
             "#b5de2b"
            ],
            [
             1,
             "#fde725"
            ]
           ],
           "sequentialminus": [
            [
             0,
             "#440154"
            ],
            [
             0.1111111111111111,
             "#482878"
            ],
            [
             0.2222222222222222,
             "#3e4989"
            ],
            [
             0.3333333333333333,
             "#31688e"
            ],
            [
             0.4444444444444444,
             "#26828e"
            ],
            [
             0.5555555555555556,
             "#1f9e89"
            ],
            [
             0.6666666666666666,
             "#35b779"
            ],
            [
             0.7777777777777778,
             "#6ece58"
            ],
            [
             0.8888888888888888,
             "#b5de2b"
            ],
            [
             1,
             "#fde725"
            ]
           ]
          },
          "colorway": [
           "#1F77B4",
           "#FF7F0E",
           "#2CA02C",
           "#D62728",
           "#9467BD",
           "#8C564B",
           "#E377C2",
           "#7F7F7F",
           "#BCBD22",
           "#17BECF"
          ],
          "font": {
           "color": "rgb(36,36,36)"
          },
          "geo": {
           "bgcolor": "white",
           "lakecolor": "white",
           "landcolor": "white",
           "showlakes": true,
           "showland": true,
           "subunitcolor": "white"
          },
          "hoverlabel": {
           "align": "left"
          },
          "hovermode": "closest",
          "mapbox": {
           "style": "light"
          },
          "paper_bgcolor": "white",
          "plot_bgcolor": "white",
          "polar": {
           "angularaxis": {
            "gridcolor": "rgb(232,232,232)",
            "linecolor": "rgb(36,36,36)",
            "showgrid": false,
            "showline": true,
            "ticks": "outside"
           },
           "bgcolor": "white",
           "radialaxis": {
            "gridcolor": "rgb(232,232,232)",
            "linecolor": "rgb(36,36,36)",
            "showgrid": false,
            "showline": true,
            "ticks": "outside"
           }
          },
          "scene": {
           "xaxis": {
            "backgroundcolor": "white",
            "gridcolor": "rgb(232,232,232)",
            "gridwidth": 2,
            "linecolor": "rgb(36,36,36)",
            "showbackground": true,
            "showgrid": false,
            "showline": true,
            "ticks": "outside",
            "zeroline": false,
            "zerolinecolor": "rgb(36,36,36)"
           },
           "yaxis": {
            "backgroundcolor": "white",
            "gridcolor": "rgb(232,232,232)",
            "gridwidth": 2,
            "linecolor": "rgb(36,36,36)",
            "showbackground": true,
            "showgrid": false,
            "showline": true,
            "ticks": "outside",
            "zeroline": false,
            "zerolinecolor": "rgb(36,36,36)"
           },
           "zaxis": {
            "backgroundcolor": "white",
            "gridcolor": "rgb(232,232,232)",
            "gridwidth": 2,
            "linecolor": "rgb(36,36,36)",
            "showbackground": true,
            "showgrid": false,
            "showline": true,
            "ticks": "outside",
            "zeroline": false,
            "zerolinecolor": "rgb(36,36,36)"
           }
          },
          "shapedefaults": {
           "fillcolor": "black",
           "line": {
            "width": 0
           },
           "opacity": 0.3
          },
          "ternary": {
           "aaxis": {
            "gridcolor": "rgb(232,232,232)",
            "linecolor": "rgb(36,36,36)",
            "showgrid": false,
            "showline": true,
            "ticks": "outside"
           },
           "baxis": {
            "gridcolor": "rgb(232,232,232)",
            "linecolor": "rgb(36,36,36)",
            "showgrid": false,
            "showline": true,
            "ticks": "outside"
           },
           "bgcolor": "white",
           "caxis": {
            "gridcolor": "rgb(232,232,232)",
            "linecolor": "rgb(36,36,36)",
            "showgrid": false,
            "showline": true,
            "ticks": "outside"
           }
          },
          "title": {
           "x": 0.05
          },
          "xaxis": {
           "automargin": true,
           "gridcolor": "rgb(232,232,232)",
           "linecolor": "rgb(36,36,36)",
           "showgrid": false,
           "showline": true,
           "ticks": "outside",
           "title": {
            "standoff": 15
           },
           "zeroline": false,
           "zerolinecolor": "rgb(36,36,36)"
          },
          "yaxis": {
           "automargin": true,
           "gridcolor": "rgb(232,232,232)",
           "linecolor": "rgb(36,36,36)",
           "showgrid": false,
           "showline": true,
           "ticks": "outside",
           "title": {
            "standoff": 15
           },
           "zeroline": false,
           "zerolinecolor": "rgb(36,36,36)"
          }
         }
        },
        "xaxis": {
         "autorange": true,
         "title": {
          "text": "cm"
         }
        },
        "yaxis": {
         "autorange": true,
         "title": {
          "text": "$\\Pi\\,(mN/m)$"
         }
        }
       },
       "_py2js_animate": {},
       "_py2js_deleteTraces": {},
       "_py2js_moveTraces": {},
       "_py2js_removeTraceProps": {},
       "_view_count": 1
      }
     },
     "5f5449e703304bdea68c55e8041fda8d": {
      "model_module": "@jupyter-widgets/base",
      "model_module_version": "1.2.0",
      "model_name": "LayoutModel",
      "state": {}
     },
     "6604ccc4f42442a8ad049db5c3011344": {
      "model_module": "@jupyter-widgets/controls",
      "model_module_version": "1.5.0",
      "model_name": "DescriptionStyleModel",
      "state": {
       "description_width": "initial"
      }
     },
     "6752ccc468c447d38f87f0779e634772": {
      "model_module": "@jupyter-widgets/controls",
      "model_module_version": "1.5.0",
      "model_name": "DescriptionStyleModel",
      "state": {
       "description_width": ""
      }
     },
     "67a3309347594e988e4076792a350342": {
      "model_module": "@jupyter-widgets/base",
      "model_module_version": "1.2.0",
      "model_name": "LayoutModel",
      "state": {}
     },
     "686dbfbfdfee4ed4bf0407a32c30ba4c": {
      "model_module": "@jupyter-widgets/base",
      "model_module_version": "1.2.0",
      "model_name": "LayoutModel",
      "state": {}
     },
     "68d358e2300d4d0da6ec3cb2b5566700": {
      "model_module": "@jupyter-widgets/controls",
      "model_module_version": "1.5.0",
      "model_name": "DescriptionStyleModel",
      "state": {
       "description_width": "initial"
      }
     },
     "6baabd68ad2347b6b94f4fbdd8063550": {
      "model_module": "@jupyter-widgets/controls",
      "model_module_version": "1.5.0",
      "model_name": "HBoxModel",
      "state": {
       "children": [
        "IPY_MODEL_c3fed5bc0b3a406ca669b7ba9f66f4b8",
        "IPY_MODEL_8c2a41f7166649c2a443856a33329972"
       ],
       "layout": "IPY_MODEL_9b13940e8e974d0591179448155e3562"
      }
     },
     "6fa4101583234328aadf98e8fb969fbc": {
      "model_module": "@jupyter-widgets/controls",
      "model_module_version": "1.5.0",
      "model_name": "ButtonStyleModel",
      "state": {}
     },
     "6fc4ecf37a2645359d53cce8ab5aaf45": {
      "model_module": "@jupyter-widgets/base",
      "model_module_version": "1.2.0",
      "model_name": "LayoutModel",
      "state": {}
     },
     "6fd5515cd7b544f59b9e10216b661aac": {
      "model_module": "@jupyter-widgets/controls",
      "model_module_version": "1.5.0",
      "model_name": "BoundedFloatTextModel",
      "state": {
       "description": "Speed (/min)",
       "layout": "IPY_MODEL_0e867689eb5d435084f5c1c5c69136ca",
       "max": 52.45,
       "min": -4.6,
       "step": 0.01,
       "style": "IPY_MODEL_a23855d652d74f94b836f3aacc88f0f4",
       "value": 10
      }
     },
     "702be8b5636549e58e4f9abbea46365e": {
      "buffers": [
       {
        "data": "EzxAi2xGRkATPECLbEZGQBM8QItsRkZAEzxAi2xGRkATPECLbEZGQBM8QItsRkZAEzxAi2xGRkATPECLbEZGQBM8QItsRkZAEzxAi2xGRkATPECLbEZGQBM8QItsRkZAEzxAi2xGRkATPECLbEZGQBM8QItsRkZAEzxAi2xGRkATPECLbEZGQBM8QItsRkZAEzxAi2xGRkATPECLbEZGQBM8QItsRkZAEzxAi2xGRkATPECLbEZGQBM8QItsRkZAEzxAi2xGRkATPECLbEZGQBM8QItsRkZAEzxAi2xGRkA66GgkLE1GQGGUkb3rU0ZAh0C6VqtaRkCu7OLvamFGQPxENCLqbkZAb0mu7SiDRkC9of8fqJBGQOVNKLlnl0ZAMqZ56+akRkBZUqKEpqtGQKaq87YluUZAzlYcUOW/RkD1AkXppMZGQENblhsk1EZAaAe/tOPaRkC2XxDnYuhGQNwLOYAi70ZAK2SKsqH8RkCfaAR+4BBHQMcULRegF0dAEm1+SR8lR0A6Gafi3itHQDoZp+LeK0dAiHH4FF45R0D9dXLgnE1HQEnOwxIcW0dAcXrsq9thR0CYJhVFm2hHQOZ+ZncadkdADCuPENp8R0Bag+BCWYpHQKfbMXXYl0dA9TODp1elR0BCjNTZ1rJHQGo4/XKWuUdAkOQlDFbAR0AE6Z/XlNRHQCyVyHBU20dAee0Zo9PoR0DGRWvVUvZHQO3xk24S/UdAFJ68B9IDSEBi9g06URFIQK9OX2zQHkhA/Kawnk8sSEAkU9k3DzNIQEr/AdHOOUhAcasqao5ASEC/A3ycDU5IQOavpDXNVEhAWrQeAQxpSECBYEeay29IQKcMcDOLdkhA9mTBZQqESEBpaTsxSZhIQLfBjGPIpUhA3m21/IesSEAsxgYvB7pIQFJyL8jGwEhAeh5YYYbHSEDGdqmTBdVIQBTP+sWE4khAYydM+APwSECI03SRw/ZIQNYrxsNCBElAJIQX9sERSUBw3GgoQR9JQL80ulrALElA5uDi838zSUAzOTQm/0BJQFvlXL++R0lAqD2u8T1VSUDP6daK/VtJQB1CKL18aUlAapp57/t2SUC48sohe4RJQAZLHFT6kUlAU6NthnmfSUB6T5YfOaZJQKD7vrj4rElA7lMQ63e6SUA7rGEd98dJQLCw2+g13ElA2FwEgvXiSUD9CC0btelJQHINp+bz/UlA5xEhsjISSkAOvklL8hhKQDVqcuSxH0pAWhabfXEmSkCobuyv8DNKQM4aFUmwOkpAHXNmey9ISkBry7etrlVKQA==",
        "encoding": "base64",
        "path": [
         "_data",
         0,
         "x",
         "value"
        ]
       },
       {
        "data": "D+Dau5JEQEDKGxiuoURAQCDx5fJWREBAU6SdyYNEQEAP4Nq7kkRAQA/g2ruSREBAQpOSkr9EQED9zs+EzkRAQJdoYNd0REBAQpOSkr9EQEDKGxiuoURAQP3Oz4TOREBAQpOSkr9EQEDKGxiuoURAQEKTkpK/REBA/c7PhM5EQEAP4Nq7kkRAQLkKDXfdREBAqPkBQBlFQED9zs+EzkRAQHVGSmnsREBAuQoNd91EQED9zs+EzkRAQHVGSmnsREBAdUZKaexEQECo+QFAGUVAQDCCh1v7REBAMIKHW/tEQEDsvcRNCkVAQKj5AUAZRUBA7L3ETQpFQEAfcXwkN0VAQNysuRZGRUBAMIKHW/tEQEAfcXwkN0VAQHVGSmnsREBAdUZKaexEQECo+QFAGUVAQOy9xE0KRUBAqPkBQBlFQEDsvcRNCkVAQHVGSmnsREBA7L3ETQpFQEDsvcRNCkVAQP3Oz4TOREBAMIKHW/tEQEB1Rkpp7ERAQB9xfCQ3RUBAMIKHW/tEQEC5Cg133URAQEKTkpK/REBAMIKHW/tEQEAwgodb+0RAQLkKDXfdREBAQpOSkr9EQEC5Cg133URAQDCCh1v7REBAdUZKaexEQED9zs+EzkRAQEKTkpK/REBAqPkBQBlFQEAwgodb+0RAQP3Oz4TOREBA/c7PhM5EQECo+QFAGUVAQA/g2ruSREBAQpOSkr9EQEBCk5KSv0RAQHVGSmnsREBAMIKHW/tEQEBCk5KSv0RAQP3Oz4TOREBAQpOSkr9EQEAwgodb+0RAQHVGSmnsREBAQpOSkr9EQEBTpJ3Jg0RAQEKTkpK/REBAdUZKaexEQED9zs+EzkRAQIZXVaCwREBAZDU/MihFQEBCk5KSv0RAQIZXVaCwREBAQpOSkr9EQED9zs+EzkRAQHVGSmnsREBAQpOSkr9EQEB1Rkpp7ERAQOy9xE0KRUBAMIKHW/tEQEBCk5KSv0RAQOy9xE0KRUBA/c7PhM5EQECGV1WgsERAQHVGSmnsREBAhldVoLBEQEAP4Nq7kkRAQMobGK6hREBAdUZKaexEQEB1Rkpp7ERAQHVGSmnsREBA/c7PhM5EQED9zs+EzkRAQFOkncmDREBAdUZKaexEQEAP4Nq7kkRAQA/g2ruSREBA/c7PhM5EQECGV1WgsERAQHVGSmnsREBA/c7PhM5EQEC5Cg133URAQA/g2ruSREBAU6SdyYNEQEC5Cg133URAQMobGK6hREBAQpOSkr9EQEDsvcRNCkVAQEKTkpK/REBAuQoNd91EQEBCk5KSv0RAQA==",
        "encoding": "base64",
        "path": [
         "_data",
         0,
         "y",
         "value"
        ]
       }
      ],
      "model_module": "jupyterlab-plotly",
      "model_module_version": "^5.11.0",
      "model_name": "FigureModel",
      "state": {
       "_config": {
        "editSelection": false,
        "plotlyServerURL": "https://plot.ly"
       },
       "_data": [
        {
         "type": "scatter",
         "uid": "aadf633b-eb34-41e0-bd9b-63f8a1f731c1",
         "x": {
          "dtype": "float64",
          "shape": [
           122
          ]
         },
         "y": {
          "dtype": "float64",
          "shape": [
           122
          ]
         }
        }
       ],
       "_js2py_restyle": {},
       "_js2py_update": {},
       "_last_layout_edit_id": 64,
       "_last_trace_edit_id": 63,
       "_layout": {
        "template": {
         "data": {
          "bar": [
           {
            "error_x": {
             "color": "rgb(36,36,36)"
            },
            "error_y": {
             "color": "rgb(36,36,36)"
            },
            "marker": {
             "line": {
              "color": "white",
              "width": 0.5
             },
             "pattern": {
              "fillmode": "overlay",
              "size": 10,
              "solidity": 0.2
             }
            },
            "type": "bar"
           }
          ],
          "barpolar": [
           {
            "marker": {
             "line": {
              "color": "white",
              "width": 0.5
             },
             "pattern": {
              "fillmode": "overlay",
              "size": 10,
              "solidity": 0.2
             }
            },
            "type": "barpolar"
           }
          ],
          "carpet": [
           {
            "aaxis": {
             "endlinecolor": "rgb(36,36,36)",
             "gridcolor": "white",
             "linecolor": "white",
             "minorgridcolor": "white",
             "startlinecolor": "rgb(36,36,36)"
            },
            "baxis": {
             "endlinecolor": "rgb(36,36,36)",
             "gridcolor": "white",
             "linecolor": "white",
             "minorgridcolor": "white",
             "startlinecolor": "rgb(36,36,36)"
            },
            "type": "carpet"
           }
          ],
          "choropleth": [
           {
            "colorbar": {
             "outlinewidth": 1,
             "tickcolor": "rgb(36,36,36)",
             "ticks": "outside"
            },
            "type": "choropleth"
           }
          ],
          "contour": [
           {
            "colorbar": {
             "outlinewidth": 1,
             "tickcolor": "rgb(36,36,36)",
             "ticks": "outside"
            },
            "colorscale": [
             [
              0,
              "#440154"
             ],
             [
              0.1111111111111111,
              "#482878"
             ],
             [
              0.2222222222222222,
              "#3e4989"
             ],
             [
              0.3333333333333333,
              "#31688e"
             ],
             [
              0.4444444444444444,
              "#26828e"
             ],
             [
              0.5555555555555556,
              "#1f9e89"
             ],
             [
              0.6666666666666666,
              "#35b779"
             ],
             [
              0.7777777777777778,
              "#6ece58"
             ],
             [
              0.8888888888888888,
              "#b5de2b"
             ],
             [
              1,
              "#fde725"
             ]
            ],
            "type": "contour"
           }
          ],
          "contourcarpet": [
           {
            "colorbar": {
             "outlinewidth": 1,
             "tickcolor": "rgb(36,36,36)",
             "ticks": "outside"
            },
            "type": "contourcarpet"
           }
          ],
          "heatmap": [
           {
            "colorbar": {
             "outlinewidth": 1,
             "tickcolor": "rgb(36,36,36)",
             "ticks": "outside"
            },
            "colorscale": [
             [
              0,
              "#440154"
             ],
             [
              0.1111111111111111,
              "#482878"
             ],
             [
              0.2222222222222222,
              "#3e4989"
             ],
             [
              0.3333333333333333,
              "#31688e"
             ],
             [
              0.4444444444444444,
              "#26828e"
             ],
             [
              0.5555555555555556,
              "#1f9e89"
             ],
             [
              0.6666666666666666,
              "#35b779"
             ],
             [
              0.7777777777777778,
              "#6ece58"
             ],
             [
              0.8888888888888888,
              "#b5de2b"
             ],
             [
              1,
              "#fde725"
             ]
            ],
            "type": "heatmap"
           }
          ],
          "heatmapgl": [
           {
            "colorbar": {
             "outlinewidth": 1,
             "tickcolor": "rgb(36,36,36)",
             "ticks": "outside"
            },
            "colorscale": [
             [
              0,
              "#440154"
             ],
             [
              0.1111111111111111,
              "#482878"
             ],
             [
              0.2222222222222222,
              "#3e4989"
             ],
             [
              0.3333333333333333,
              "#31688e"
             ],
             [
              0.4444444444444444,
              "#26828e"
             ],
             [
              0.5555555555555556,
              "#1f9e89"
             ],
             [
              0.6666666666666666,
              "#35b779"
             ],
             [
              0.7777777777777778,
              "#6ece58"
             ],
             [
              0.8888888888888888,
              "#b5de2b"
             ],
             [
              1,
              "#fde725"
             ]
            ],
            "type": "heatmapgl"
           }
          ],
          "histogram": [
           {
            "marker": {
             "line": {
              "color": "white",
              "width": 0.6
             }
            },
            "type": "histogram"
           }
          ],
          "histogram2d": [
           {
            "colorbar": {
             "outlinewidth": 1,
             "tickcolor": "rgb(36,36,36)",
             "ticks": "outside"
            },
            "colorscale": [
             [
              0,
              "#440154"
             ],
             [
              0.1111111111111111,
              "#482878"
             ],
             [
              0.2222222222222222,
              "#3e4989"
             ],
             [
              0.3333333333333333,
              "#31688e"
             ],
             [
              0.4444444444444444,
              "#26828e"
             ],
             [
              0.5555555555555556,
              "#1f9e89"
             ],
             [
              0.6666666666666666,
              "#35b779"
             ],
             [
              0.7777777777777778,
              "#6ece58"
             ],
             [
              0.8888888888888888,
              "#b5de2b"
             ],
             [
              1,
              "#fde725"
             ]
            ],
            "type": "histogram2d"
           }
          ],
          "histogram2dcontour": [
           {
            "colorbar": {
             "outlinewidth": 1,
             "tickcolor": "rgb(36,36,36)",
             "ticks": "outside"
            },
            "colorscale": [
             [
              0,
              "#440154"
             ],
             [
              0.1111111111111111,
              "#482878"
             ],
             [
              0.2222222222222222,
              "#3e4989"
             ],
             [
              0.3333333333333333,
              "#31688e"
             ],
             [
              0.4444444444444444,
              "#26828e"
             ],
             [
              0.5555555555555556,
              "#1f9e89"
             ],
             [
              0.6666666666666666,
              "#35b779"
             ],
             [
              0.7777777777777778,
              "#6ece58"
             ],
             [
              0.8888888888888888,
              "#b5de2b"
             ],
             [
              1,
              "#fde725"
             ]
            ],
            "type": "histogram2dcontour"
           }
          ],
          "mesh3d": [
           {
            "colorbar": {
             "outlinewidth": 1,
             "tickcolor": "rgb(36,36,36)",
             "ticks": "outside"
            },
            "type": "mesh3d"
           }
          ],
          "parcoords": [
           {
            "line": {
             "colorbar": {
              "outlinewidth": 1,
              "tickcolor": "rgb(36,36,36)",
              "ticks": "outside"
             }
            },
            "type": "parcoords"
           }
          ],
          "pie": [
           {
            "automargin": true,
            "type": "pie"
           }
          ],
          "scatter": [
           {
            "fillpattern": {
             "fillmode": "overlay",
             "size": 10,
             "solidity": 0.2
            },
            "type": "scatter"
           }
          ],
          "scatter3d": [
           {
            "line": {
             "colorbar": {
              "outlinewidth": 1,
              "tickcolor": "rgb(36,36,36)",
              "ticks": "outside"
             }
            },
            "marker": {
             "colorbar": {
              "outlinewidth": 1,
              "tickcolor": "rgb(36,36,36)",
              "ticks": "outside"
             }
            },
            "type": "scatter3d"
           }
          ],
          "scattercarpet": [
           {
            "marker": {
             "colorbar": {
              "outlinewidth": 1,
              "tickcolor": "rgb(36,36,36)",
              "ticks": "outside"
             }
            },
            "type": "scattercarpet"
           }
          ],
          "scattergeo": [
           {
            "marker": {
             "colorbar": {
              "outlinewidth": 1,
              "tickcolor": "rgb(36,36,36)",
              "ticks": "outside"
             }
            },
            "type": "scattergeo"
           }
          ],
          "scattergl": [
           {
            "marker": {
             "colorbar": {
              "outlinewidth": 1,
              "tickcolor": "rgb(36,36,36)",
              "ticks": "outside"
             }
            },
            "type": "scattergl"
           }
          ],
          "scattermapbox": [
           {
            "marker": {
             "colorbar": {
              "outlinewidth": 1,
              "tickcolor": "rgb(36,36,36)",
              "ticks": "outside"
             }
            },
            "type": "scattermapbox"
           }
          ],
          "scatterpolar": [
           {
            "marker": {
             "colorbar": {
              "outlinewidth": 1,
              "tickcolor": "rgb(36,36,36)",
              "ticks": "outside"
             }
            },
            "type": "scatterpolar"
           }
          ],
          "scatterpolargl": [
           {
            "marker": {
             "colorbar": {
              "outlinewidth": 1,
              "tickcolor": "rgb(36,36,36)",
              "ticks": "outside"
             }
            },
            "type": "scatterpolargl"
           }
          ],
          "scatterternary": [
           {
            "marker": {
             "colorbar": {
              "outlinewidth": 1,
              "tickcolor": "rgb(36,36,36)",
              "ticks": "outside"
             }
            },
            "type": "scatterternary"
           }
          ],
          "surface": [
           {
            "colorbar": {
             "outlinewidth": 1,
             "tickcolor": "rgb(36,36,36)",
             "ticks": "outside"
            },
            "colorscale": [
             [
              0,
              "#440154"
             ],
             [
              0.1111111111111111,
              "#482878"
             ],
             [
              0.2222222222222222,
              "#3e4989"
             ],
             [
              0.3333333333333333,
              "#31688e"
             ],
             [
              0.4444444444444444,
              "#26828e"
             ],
             [
              0.5555555555555556,
              "#1f9e89"
             ],
             [
              0.6666666666666666,
              "#35b779"
             ],
             [
              0.7777777777777778,
              "#6ece58"
             ],
             [
              0.8888888888888888,
              "#b5de2b"
             ],
             [
              1,
              "#fde725"
             ]
            ],
            "type": "surface"
           }
          ],
          "table": [
           {
            "cells": {
             "fill": {
              "color": "rgb(237,237,237)"
             },
             "line": {
              "color": "white"
             }
            },
            "header": {
             "fill": {
              "color": "rgb(217,217,217)"
             },
             "line": {
              "color": "white"
             }
            },
            "type": "table"
           }
          ]
         },
         "layout": {
          "annotationdefaults": {
           "arrowhead": 0,
           "arrowwidth": 1
          },
          "autotypenumbers": "strict",
          "coloraxis": {
           "colorbar": {
            "outlinewidth": 1,
            "tickcolor": "rgb(36,36,36)",
            "ticks": "outside"
           }
          },
          "colorscale": {
           "diverging": [
            [
             0,
             "rgb(103,0,31)"
            ],
            [
             0.1,
             "rgb(178,24,43)"
            ],
            [
             0.2,
             "rgb(214,96,77)"
            ],
            [
             0.3,
             "rgb(244,165,130)"
            ],
            [
             0.4,
             "rgb(253,219,199)"
            ],
            [
             0.5,
             "rgb(247,247,247)"
            ],
            [
             0.6,
             "rgb(209,229,240)"
            ],
            [
             0.7,
             "rgb(146,197,222)"
            ],
            [
             0.8,
             "rgb(67,147,195)"
            ],
            [
             0.9,
             "rgb(33,102,172)"
            ],
            [
             1,
             "rgb(5,48,97)"
            ]
           ],
           "sequential": [
            [
             0,
             "#440154"
            ],
            [
             0.1111111111111111,
             "#482878"
            ],
            [
             0.2222222222222222,
             "#3e4989"
            ],
            [
             0.3333333333333333,
             "#31688e"
            ],
            [
             0.4444444444444444,
             "#26828e"
            ],
            [
             0.5555555555555556,
             "#1f9e89"
            ],
            [
             0.6666666666666666,
             "#35b779"
            ],
            [
             0.7777777777777778,
             "#6ece58"
            ],
            [
             0.8888888888888888,
             "#b5de2b"
            ],
            [
             1,
             "#fde725"
            ]
           ],
           "sequentialminus": [
            [
             0,
             "#440154"
            ],
            [
             0.1111111111111111,
             "#482878"
            ],
            [
             0.2222222222222222,
             "#3e4989"
            ],
            [
             0.3333333333333333,
             "#31688e"
            ],
            [
             0.4444444444444444,
             "#26828e"
            ],
            [
             0.5555555555555556,
             "#1f9e89"
            ],
            [
             0.6666666666666666,
             "#35b779"
            ],
            [
             0.7777777777777778,
             "#6ece58"
            ],
            [
             0.8888888888888888,
             "#b5de2b"
            ],
            [
             1,
             "#fde725"
            ]
           ]
          },
          "colorway": [
           "#1F77B4",
           "#FF7F0E",
           "#2CA02C",
           "#D62728",
           "#9467BD",
           "#8C564B",
           "#E377C2",
           "#7F7F7F",
           "#BCBD22",
           "#17BECF"
          ],
          "font": {
           "color": "rgb(36,36,36)"
          },
          "geo": {
           "bgcolor": "white",
           "lakecolor": "white",
           "landcolor": "white",
           "showlakes": true,
           "showland": true,
           "subunitcolor": "white"
          },
          "hoverlabel": {
           "align": "left"
          },
          "hovermode": "closest",
          "mapbox": {
           "style": "light"
          },
          "paper_bgcolor": "white",
          "plot_bgcolor": "white",
          "polar": {
           "angularaxis": {
            "gridcolor": "rgb(232,232,232)",
            "linecolor": "rgb(36,36,36)",
            "showgrid": false,
            "showline": true,
            "ticks": "outside"
           },
           "bgcolor": "white",
           "radialaxis": {
            "gridcolor": "rgb(232,232,232)",
            "linecolor": "rgb(36,36,36)",
            "showgrid": false,
            "showline": true,
            "ticks": "outside"
           }
          },
          "scene": {
           "xaxis": {
            "backgroundcolor": "white",
            "gridcolor": "rgb(232,232,232)",
            "gridwidth": 2,
            "linecolor": "rgb(36,36,36)",
            "showbackground": true,
            "showgrid": false,
            "showline": true,
            "ticks": "outside",
            "zeroline": false,
            "zerolinecolor": "rgb(36,36,36)"
           },
           "yaxis": {
            "backgroundcolor": "white",
            "gridcolor": "rgb(232,232,232)",
            "gridwidth": 2,
            "linecolor": "rgb(36,36,36)",
            "showbackground": true,
            "showgrid": false,
            "showline": true,
            "ticks": "outside",
            "zeroline": false,
            "zerolinecolor": "rgb(36,36,36)"
           },
           "zaxis": {
            "backgroundcolor": "white",
            "gridcolor": "rgb(232,232,232)",
            "gridwidth": 2,
            "linecolor": "rgb(36,36,36)",
            "showbackground": true,
            "showgrid": false,
            "showline": true,
            "ticks": "outside",
            "zeroline": false,
            "zerolinecolor": "rgb(36,36,36)"
           }
          },
          "shapedefaults": {
           "fillcolor": "black",
           "line": {
            "width": 0
           },
           "opacity": 0.3
          },
          "ternary": {
           "aaxis": {
            "gridcolor": "rgb(232,232,232)",
            "linecolor": "rgb(36,36,36)",
            "showgrid": false,
            "showline": true,
            "ticks": "outside"
           },
           "baxis": {
            "gridcolor": "rgb(232,232,232)",
            "linecolor": "rgb(36,36,36)",
            "showgrid": false,
            "showline": true,
            "ticks": "outside"
           },
           "bgcolor": "white",
           "caxis": {
            "gridcolor": "rgb(232,232,232)",
            "linecolor": "rgb(36,36,36)",
            "showgrid": false,
            "showline": true,
            "ticks": "outside"
           }
          },
          "title": {
           "x": 0.05
          },
          "xaxis": {
           "automargin": true,
           "gridcolor": "rgb(232,232,232)",
           "linecolor": "rgb(36,36,36)",
           "showgrid": false,
           "showline": true,
           "ticks": "outside",
           "title": {
            "standoff": 15
           },
           "zeroline": false,
           "zerolinecolor": "rgb(36,36,36)"
          },
          "yaxis": {
           "automargin": true,
           "gridcolor": "rgb(232,232,232)",
           "linecolor": "rgb(36,36,36)",
           "showgrid": false,
           "showline": true,
           "ticks": "outside",
           "title": {
            "standoff": 15
           },
           "zeroline": false,
           "zerolinecolor": "rgb(36,36,36)"
          }
         }
        },
        "xaxis": {
         "autorange": true,
         "title": {
          "text": "$Area\\,per\\,molecule\\,({\\overset{\\circ}{A}}^2)$"
         }
        },
        "yaxis": {
         "autorange": true,
         "title": {
          "text": "$\\Pi\\,(mN/m)$"
         }
        }
       },
       "_py2js_animate": {},
       "_py2js_deleteTraces": {},
       "_py2js_moveTraces": {},
       "_py2js_removeTraceProps": {},
       "_view_count": 1
      }
     },
     "70ea577198374c3e8b2c0cb8e7e9a7d3": {
      "model_module": "@jupyter-widgets/controls",
      "model_module_version": "1.5.0",
      "model_name": "DescriptionStyleModel",
      "state": {
       "description_width": "initial"
      }
     },
     "74670cce59e34218b13752ccfd6ca14b": {
      "model_module": "@jupyter-widgets/base",
      "model_module_version": "1.2.0",
      "model_name": "LayoutModel",
      "state": {}
     },
     "780f09fba7bc4ab5bb1e103fe0cdf109": {
      "model_module": "@jupyter-widgets/base",
      "model_module_version": "1.2.0",
      "model_name": "LayoutModel",
      "state": {}
     },
     "78a5e756456848c6876061fc103f1ae8": {
      "model_module": "@jupyter-widgets/controls",
      "model_module_version": "1.5.0",
      "model_name": "TextModel",
      "state": {
       "description": "Temperature Raw",
       "disabled": true,
       "layout": "IPY_MODEL_8178985901d648efb463ef7e2ef6f95b",
       "style": "IPY_MODEL_68d358e2300d4d0da6ec3cb2b5566700",
       "value": "3.29659"
      }
     },
     "7a0a03e7fccb4e17ab134f9e261b6b56": {
      "model_module": "@jupyter-widgets/base",
      "model_module_version": "1.2.0",
      "model_name": "LayoutModel",
      "state": {}
     },
     "7aef38bf33a14c46b086a116f97d784b": {
      "model_module": "@jupyter-widgets/controls",
      "model_module_version": "1.5.0",
      "model_name": "DescriptionStyleModel",
      "state": {
       "description_width": "initial"
      }
     },
     "7b809eff031c434780d814fbce8c1a47": {
      "model_module": "@jupyter-widgets/controls",
      "model_module_version": "1.5.0",
      "model_name": "ButtonStyleModel",
      "state": {}
     },
     "7edb778dc8a04960941ea39e4a3dbb5e": {
      "model_module": "@jupyter-widgets/base",
      "model_module_version": "1.2.0",
      "model_name": "LayoutModel",
      "state": {}
     },
     "7fe6a98f3f1e479badccb70659328e6e": {
      "model_module": "@jupyter-widgets/base",
      "model_module_version": "1.2.0",
      "model_name": "LayoutModel",
      "state": {}
     },
     "8178985901d648efb463ef7e2ef6f95b": {
      "model_module": "@jupyter-widgets/base",
      "model_module_version": "1.2.0",
      "model_name": "LayoutModel",
      "state": {}
     },
     "8243c8b131294053998ba13ddfdc71a4": {
      "model_module": "@jupyter-widgets/controls",
      "model_module_version": "1.5.0",
      "model_name": "TextModel",
      "state": {
       "description": "Run Title",
       "layout": "IPY_MODEL_fab72547f5314fe79cebf66971688884",
       "style": "IPY_MODEL_12c87b4fad2749e695f7f6b513782db4",
       "value": "Test_2-27-23g"
      }
     },
     "82455402eef04bf8b8a7c3e89833c5ce": {
      "model_module": "@jupyter-widgets/controls",
      "model_module_version": "1.5.0",
      "model_name": "ButtonModel",
      "state": {
       "description": "Store Settings",
       "layout": "IPY_MODEL_84a8278f3e9a4b7ba8f12e77c47568df",
       "style": "IPY_MODEL_2bafb4cbae8a468ab86f96ea681d6789"
      }
     },
     "84a8278f3e9a4b7ba8f12e77c47568df": {
      "model_module": "@jupyter-widgets/base",
      "model_module_version": "1.2.0",
      "model_name": "LayoutModel",
      "state": {}
     },
     "84e32b6be05d4e8cb5b1e34f0a281b42": {
      "model_module": "@jupyter-widgets/controls",
      "model_module_version": "1.5.0",
      "model_name": "DescriptionStyleModel",
      "state": {
       "description_width": "initial"
      }
     },
     "852c1e329bb1405281373557a9bfa41f": {
      "model_module": "@jupyter-widgets/base",
      "model_module_version": "1.2.0",
      "model_name": "LayoutModel",
      "state": {}
     },
     "859b4009af9e45f9a37bfc3f3dac5743": {
      "model_module": "@jupyter-widgets/base",
      "model_module_version": "1.2.0",
      "model_name": "LayoutModel",
      "state": {}
     },
     "89654575d5d740dbb69b120b1a46dd0d": {
      "model_module": "@jupyter-widgets/controls",
      "model_module_version": "1.5.0",
      "model_name": "DescriptionStyleModel",
      "state": {
       "description_width": "initial"
      }
     },
     "8c2a41f7166649c2a443856a33329972": {
      "model_module": "@jupyter-widgets/controls",
      "model_module_version": "1.5.0",
      "model_name": "TextModel",
      "state": {
       "description": "$^o C$",
       "disabled": true,
       "layout": "IPY_MODEL_686dbfbfdfee4ed4bf0407a32c30ba4c",
       "style": "IPY_MODEL_987f47db52634c23b9744abb1ade2f08",
       "value": "21.87"
      }
     },
     "8e8ad0ccaf5843218b2bcc76bf80fa21": {
      "model_module": "@jupyter-widgets/base",
      "model_module_version": "1.2.0",
      "model_name": "LayoutModel",
      "state": {}
     },
     "90e6ae499ab8401e8df6bd712e79c7b3": {
      "model_module": "@jupyter-widgets/base",
      "model_module_version": "1.2.0",
      "model_name": "LayoutModel",
      "state": {}
     },
     "90fda905f2e0479796730924aa2eb8da": {
      "model_module": "@jupyter-widgets/controls",
      "model_module_version": "1.5.0",
      "model_name": "ButtonStyleModel",
      "state": {}
     },
     "91c32bfbf62f49d38682ddd38a1a9377": {
      "model_module": "@jupyter-widgets/controls",
      "model_module_version": "1.5.0",
      "model_name": "TextModel",
      "state": {
       "description": "% open",
       "disabled": true,
       "layout": "IPY_MODEL_7a0a03e7fccb4e17ab134f9e261b6b56",
       "style": "IPY_MODEL_0e6a29342431469e9bf2a8c771b1abf4",
       "value": "74.2166"
      }
     },
     "94a2a0bea8a044d58ef653721b9d25ce": {
      "model_module": "@jupyter-widgets/controls",
      "model_module_version": "1.5.0",
      "model_name": "ButtonModel",
      "state": {
       "button_style": "success",
       "description": "Start",
       "layout": "IPY_MODEL_ed4064cff990416eb538522e77415f77",
       "style": "IPY_MODEL_45a71755eff04354acd7b3a2f1a7e926"
      }
     },
     "987f47db52634c23b9744abb1ade2f08": {
      "model_module": "@jupyter-widgets/controls",
      "model_module_version": "1.5.0",
      "model_name": "DescriptionStyleModel",
      "state": {
       "description_width": "initial"
      }
     },
     "9a3d048fa1ee44428f43128d140779c5": {
      "model_module": "@jupyter-widgets/controls",
      "model_module_version": "1.5.0",
      "model_name": "AccordionModel",
      "state": {
       "_titles": {
        "0": "Status"
       },
       "children": [
        "IPY_MODEL_b0bc48a70b584a86a1452e8ce552d6e9"
       ],
       "layout": "IPY_MODEL_780f09fba7bc4ab5bb1e103fe0cdf109"
      }
     },
     "9b13940e8e974d0591179448155e3562": {
      "model_module": "@jupyter-widgets/base",
      "model_module_version": "1.2.0",
      "model_name": "LayoutModel",
      "state": {}
     },
     "9c07741bfa644089aa3d022f2e8922de": {
      "model_module": "@jupyter-widgets/base",
      "model_module_version": "1.2.0",
      "model_name": "LayoutModel",
      "state": {}
     },
     "a022936e6a86438f94a492acafb7860d": {
      "model_module": "@jupyter-widgets/base",
      "model_module_version": "1.2.0",
      "model_name": "LayoutModel",
      "state": {}
     },
     "a1584c831ea048899fd4c0aa9d1a02a9": {
      "model_module": "@jupyter-widgets/controls",
      "model_module_version": "1.5.0",
      "model_name": "LabelModel",
      "state": {
       "layout": "IPY_MODEL_e3b2a4bc386e4843a93e19db3f1d3a4a",
       "style": "IPY_MODEL_192b3a9b8668474a8075ad922c4361f1",
       "value": "Target"
      }
     },
     "a1ae41ed2469440e9b5f73aead4c697d": {
      "model_module": "@jupyter-widgets/controls",
      "model_module_version": "1.5.0",
      "model_name": "HBoxModel",
      "state": {
       "children": [
        "IPY_MODEL_f04b158399b14576894cceff5f6e3a84",
        "IPY_MODEL_6fd5515cd7b544f59b9e10216b661aac"
       ],
       "layout": "IPY_MODEL_7edb778dc8a04960941ea39e4a3dbb5e"
      }
     },
     "a1bf74f54f8d4245870f97cc458bf17e": {
      "model_module": "@jupyter-widgets/base",
      "model_module_version": "1.2.0",
      "model_name": "LayoutModel",
      "state": {}
     },
     "a23855d652d74f94b836f3aacc88f0f4": {
      "model_module": "@jupyter-widgets/controls",
      "model_module_version": "1.5.0",
      "model_name": "DescriptionStyleModel",
      "state": {
       "description_width": ""
      }
     },
     "a4f6a5f6a5624562b0a68d5466e9a82c": {
      "model_module": "@jupyter-widgets/base",
      "model_module_version": "1.2.0",
      "model_name": "LayoutModel",
      "state": {}
     },
     "a507954741094a5e8138db7bb9d97ef7": {
      "model_module": "@jupyter-widgets/base",
      "model_module_version": "1.2.0",
      "model_name": "LayoutModel",
      "state": {}
     },
     "a6fb85fd4187415983f83aba039264ee": {
      "model_module": "@jupyter-widgets/controls",
      "model_module_version": "1.5.0",
      "model_name": "HBoxModel",
      "state": {
       "children": [
        "IPY_MODEL_c3fed5bc0b3a406ca669b7ba9f66f4b8",
        "IPY_MODEL_8c2a41f7166649c2a443856a33329972"
       ],
       "layout": "IPY_MODEL_d19e8126eea94c6f8e86963e9695cf2d"
      }
     },
     "a780c1ec42854dd8b0d443bd3ca8cb23": {
      "model_module": "@jupyter-widgets/base",
      "model_module_version": "1.2.0",
      "model_name": "LayoutModel",
      "state": {}
     },
     "a935e914ab6a4156844f7ce751be0f20": {
      "model_module": "@jupyter-widgets/base",
      "model_module_version": "1.2.0",
      "model_name": "LayoutModel",
      "state": {}
     },
     "aaa0fe8d12cf4be193dd1d9d8d99c960": {
      "model_module": "@jupyter-widgets/controls",
      "model_module_version": "1.5.0",
      "model_name": "HBoxModel",
      "state": {
       "children": [
        "IPY_MODEL_ef2e7182dbad45509ed18bdcbda7ea7c",
        "IPY_MODEL_3d0447c2bcf341b482693917ea2f0a1e",
        "IPY_MODEL_d5536398778f4630bf2f74cf86889176"
       ],
       "layout": "IPY_MODEL_083af1dc7daa4f09a932c110f69f9441"
      }
     },
     "ac0e181c115d4a14b942a793c7891d8e": {
      "model_module": "@jupyter-widgets/controls",
      "model_module_version": "1.5.0",
      "model_name": "ButtonStyleModel",
      "state": {}
     },
     "ad1268a88d8e47cbbe6152c0404dc5af": {
      "model_module": "@jupyter-widgets/controls",
      "model_module_version": "1.5.0",
      "model_name": "TextModel",
      "state": {
       "description": "Run Title",
       "layout": "IPY_MODEL_859b4009af9e45f9a37bfc3f3dac5743",
       "style": "IPY_MODEL_311ae2f61f0340828bbf2ab02c9d61c7",
       "value": "Test_2-27-23h"
      }
     },
     "ae3f3c012d8240f3b6359de928e6e32f": {
      "model_module": "@jupyter-widgets/controls",
      "model_module_version": "1.5.0",
      "model_name": "TextModel",
      "state": {
       "description": "mg",
       "disabled": true,
       "layout": "IPY_MODEL_74670cce59e34218b13752ccfd6ca14b",
       "style": "IPY_MODEL_e20dc5dec55a4fd48a0e43d48542ffb4",
       "value": "0.606"
      }
     },
     "af223c7d5d6640dd8bd335aa9a032795": {
      "model_module": "@jupyter-widgets/base",
      "model_module_version": "1.2.0",
      "model_name": "LayoutModel",
      "state": {}
     },
     "b0bc48a70b584a86a1452e8ce552d6e9": {
      "model_module": "@jupyter-widgets/controls",
      "model_module_version": "1.5.0",
      "model_name": "VBoxModel",
      "state": {
       "children": [
        "IPY_MODEL_edeaf2b4efa54619b6a64bf2ea4e7707",
        "IPY_MODEL_a6fb85fd4187415983f83aba039264ee"
       ],
       "layout": "IPY_MODEL_5abee8d58231431dac876e0a0226a4fe"
      }
     },
     "b1461546f1fb488fb877f3dd604e76c6": {
      "model_module": "@jupyter-widgets/controls",
      "model_module_version": "1.5.0",
      "model_name": "DescriptionStyleModel",
      "state": {
       "description_width": ""
      }
     },
     "bb55052c619946909a024ba573e46816": {
      "model_module": "@jupyter-widgets/base",
      "model_module_version": "1.2.0",
      "model_name": "LayoutModel",
      "state": {}
     },
     "bda4547572c44ec9b6b807828eca137f": {
      "model_module": "@jupyter-widgets/base",
      "model_module_version": "1.2.0",
      "model_name": "LayoutModel",
      "state": {}
     },
     "bde20477f04d41bfb525b34a6e433120": {
      "model_module": "@jupyter-widgets/controls",
      "model_module_version": "1.5.0",
      "model_name": "HBoxModel",
      "state": {
       "children": [
        "IPY_MODEL_f3f426a0e78547e2bea924855e57c812",
        "IPY_MODEL_0c3117ab500b436d89c910a6736fef9f",
        "IPY_MODEL_f4f02deee8414dedaf61b64c2e9e5a49"
       ],
       "layout": "IPY_MODEL_ca2ebc7d506749ae87d410b1595a06eb"
      }
     },
     "bed675373e714fe4b1727485dbd3b8f4": {
      "model_module": "@jupyter-widgets/controls",
      "model_module_version": "1.5.0",
      "model_name": "DescriptionStyleModel",
      "state": {
       "description_width": ""
      }
     },
     "bf62e8dcf7f841e7ba7b5eb5ff2922ea": {
      "model_module": "@jupyter-widgets/controls",
      "model_module_version": "1.5.0",
      "model_name": "DescriptionStyleModel",
      "state": {
       "description_width": "initial"
      }
     },
     "c271942325f54ffab8f22f18f88a372c": {
      "model_module": "@jupyter-widgets/base",
      "model_module_version": "1.2.0",
      "model_name": "LayoutModel",
      "state": {}
     },
     "c3fed5bc0b3a406ca669b7ba9f66f4b8": {
      "model_module": "@jupyter-widgets/controls",
      "model_module_version": "1.5.0",
      "model_name": "TextModel",
      "state": {
       "description": "$\\pi$ (mN/m)",
       "disabled": true,
       "layout": "IPY_MODEL_ff42f2c9ad234068896f21dfca1d92b0",
       "style": "IPY_MODEL_6604ccc4f42442a8ad049db5c3011344",
       "value": "32.564"
      }
     },
     "c5180fd81fd64f42b22489e4ab7e74b6": {
      "model_module": "@jupyter-widgets/controls",
      "model_module_version": "1.5.0",
      "model_name": "HBoxModel",
      "state": {
       "children": [
        "IPY_MODEL_ef2e7182dbad45509ed18bdcbda7ea7c",
        "IPY_MODEL_3d0447c2bcf341b482693917ea2f0a1e",
        "IPY_MODEL_d5536398778f4630bf2f74cf86889176"
       ],
       "layout": "IPY_MODEL_af223c7d5d6640dd8bd335aa9a032795"
      }
     },
     "c757dd2b1d6241ab8e898471b65a3249": {
      "model_module": "@jupyter-widgets/controls",
      "model_module_version": "1.5.0",
      "model_name": "DescriptionStyleModel",
      "state": {
       "description_width": ""
      }
     },
     "c970a34b4be4400f8c71a4cf085b862f": {
      "model_module": "@jupyter-widgets/controls",
      "model_module_version": "1.5.0",
      "model_name": "DropdownModel",
      "state": {
       "_options_labels": [
        "None",
        "Test_2-27-23g"
       ],
       "description": "Base on",
       "index": 0,
       "layout": "IPY_MODEL_a4f6a5f6a5624562b0a68d5466e9a82c",
       "style": "IPY_MODEL_bed675373e714fe4b1727485dbd3b8f4"
      }
     },
     "ca025649e0f34720b24db0e824fff268": {
      "model_module": "@jupyter-widgets/base",
      "model_module_version": "1.2.0",
      "model_name": "LayoutModel",
      "state": {}
     },
     "ca2ebc7d506749ae87d410b1595a06eb": {
      "model_module": "@jupyter-widgets/base",
      "model_module_version": "1.2.0",
      "model_name": "LayoutModel",
      "state": {}
     },
     "d154d12662304df7933ab2b6a43844e8": {
      "model_module": "@jupyter-widgets/base",
      "model_module_version": "1.2.0",
      "model_name": "LayoutModel",
      "state": {}
     },
     "d19e8126eea94c6f8e86963e9695cf2d": {
      "model_module": "@jupyter-widgets/base",
      "model_module_version": "1.2.0",
      "model_name": "LayoutModel",
      "state": {}
     },
     "d5536398778f4630bf2f74cf86889176": {
      "model_module": "@jupyter-widgets/controls",
      "model_module_version": "1.5.0",
      "model_name": "FloatTextModel",
      "state": {
       "description": "moles of molecules",
       "layout": "IPY_MODEL_bb55052c619946909a024ba573e46816",
       "step": null,
       "style": "IPY_MODEL_f65950ffdb084b6caaab6bb267f3ad43",
       "value": 3e-08
      }
     },
     "d64434bdf07c47fe94fd1d3386773a03": {
      "model_module": "@jupyter-widgets/controls",
      "model_module_version": "1.5.0",
      "model_name": "DropdownModel",
      "state": {
       "_options_labels": [
        "None"
       ],
       "description": "Base on",
       "index": 0,
       "layout": "IPY_MODEL_c271942325f54ffab8f22f18f88a372c",
       "style": "IPY_MODEL_c757dd2b1d6241ab8e898471b65a3249"
      }
     },
     "d693aea7e04944f2914a73944afbc2dd": {
      "model_module": "@jupyter-widgets/controls",
      "model_module_version": "1.5.0",
      "model_name": "DescriptionStyleModel",
      "state": {
       "description_width": "initial"
      }
     },
     "d9320fa3d46347da90e093c3dd0c6158": {
      "model_module": "@jupyter-widgets/controls",
      "model_module_version": "1.5.0",
      "model_name": "HBoxModel",
      "state": {
       "children": [
        "IPY_MODEL_c3fed5bc0b3a406ca669b7ba9f66f4b8",
        "IPY_MODEL_55f631c3a72142078e813420ae1c37dd"
       ],
       "layout": "IPY_MODEL_67a3309347594e988e4076792a350342"
      }
     },
     "dabed9a9087b48e3939a5417b3709c21": {
      "model_module": "@jupyter-widgets/controls",
      "model_module_version": "1.5.0",
      "model_name": "HBoxModel",
      "state": {
       "children": [
        "IPY_MODEL_ad1268a88d8e47cbbe6152c0404dc5af",
        "IPY_MODEL_c970a34b4be4400f8c71a4cf085b862f"
       ],
       "layout": "IPY_MODEL_fbd0ac494cd8482bb117c2beb692be40"
      }
     },
     "dea1720f0f424a338639fab7f99026a9": {
      "model_module": "@jupyter-widgets/controls",
      "model_module_version": "1.5.0",
      "model_name": "TextModel",
      "state": {
       "description": "Balance Raw:",
       "disabled": true,
       "layout": "IPY_MODEL_414b9b175b1246fb9ed4bd54a78fc63f",
       "style": "IPY_MODEL_89654575d5d740dbb69b120b1a46dd0d",
       "value": "-0.28750"
      }
     },
     "e20dc5dec55a4fd48a0e43d48542ffb4": {
      "model_module": "@jupyter-widgets/controls",
      "model_module_version": "1.5.0",
      "model_name": "DescriptionStyleModel",
      "state": {
       "description_width": "initial"
      }
     },
     "e2a553870d7e4b58b7a70f5d8784e3c4": {
      "model_module": "@jupyter-widgets/controls",
      "model_module_version": "1.5.0",
      "model_name": "ButtonModel",
      "state": {
       "description": "Store Settings",
       "layout": "IPY_MODEL_e7f9d516eb6448c5b7c3eae0e0fc2251",
       "style": "IPY_MODEL_7b809eff031c434780d814fbce8c1a47"
      }
     },
     "e35a7b49edcd48f480fe21d23a7efc08": {
      "model_module": "@jupyter-widgets/controls",
      "model_module_version": "1.5.0",
      "model_name": "VBoxModel",
      "state": {
       "children": [
        "IPY_MODEL_aaa0fe8d12cf4be193dd1d9d8d99c960",
        "IPY_MODEL_2c991a3dcbe5467da92375533d92b267",
        "IPY_MODEL_357cd52c22c44f2e9b60e7d027b792bb"
       ],
       "layout": "IPY_MODEL_11e2cb35e77d485eb7d4fe449e43b417"
      }
     },
     "e3b2a4bc386e4843a93e19db3f1d3a4a": {
      "model_module": "@jupyter-widgets/base",
      "model_module_version": "1.2.0",
      "model_name": "LayoutModel",
      "state": {}
     },
     "e508b3cbf1e04d599cb4407aad825490": {
      "model_module": "@jupyter-widgets/base",
      "model_module_version": "1.2.0",
      "model_name": "LayoutModel",
      "state": {}
     },
     "e50b0137a98e413aaea58a39c8b11ce7": {
      "model_module": "@jupyter-widgets/controls",
      "model_module_version": "1.5.0",
      "model_name": "AccordionModel",
      "state": {
       "_titles": {
        "0": "Settings"
       },
       "children": [
        "IPY_MODEL_e35a7b49edcd48f480fe21d23a7efc08"
       ],
       "layout": "IPY_MODEL_90e6ae499ab8401e8df6bd712e79c7b3"
      }
     },
     "e737516dde144c098f4d8af2daf60554": {
      "model_module": "@jupyter-widgets/controls",
      "model_module_version": "1.5.0",
      "model_name": "RadioButtonsModel",
      "state": {
       "_options_labels": [
        "Open",
        "Close",
        "Move To"
       ],
       "index": 0,
       "layout": "IPY_MODEL_fac44bf952934ae9be1d6818e1625fef",
       "style": "IPY_MODEL_ea97ad57514b4283ba2e73f11d9cd377"
      }
     },
     "e7bb6c2356de4b1db9f02896e7733c6d": {
      "model_module": "@jupyter-widgets/controls",
      "model_module_version": "1.5.0",
      "model_name": "HBoxModel",
      "state": {
       "children": [
        "IPY_MODEL_8c2a41f7166649c2a443856a33329972",
        "IPY_MODEL_f3f426a0e78547e2bea924855e57c812"
       ],
       "layout": "IPY_MODEL_151031326227408983ff1dc32a21ae3d"
      }
     },
     "e7f9d516eb6448c5b7c3eae0e0fc2251": {
      "model_module": "@jupyter-widgets/base",
      "model_module_version": "1.2.0",
      "model_name": "LayoutModel",
      "state": {}
     },
     "ea97ad57514b4283ba2e73f11d9cd377": {
      "model_module": "@jupyter-widgets/controls",
      "model_module_version": "1.5.0",
      "model_name": "DescriptionStyleModel",
      "state": {
       "description_width": ""
      }
     },
     "ed4064cff990416eb538522e77415f77": {
      "model_module": "@jupyter-widgets/base",
      "model_module_version": "1.2.0",
      "model_name": "LayoutModel",
      "state": {}
     },
     "edeaf2b4efa54619b6a64bf2ea4e7707": {
      "model_module": "@jupyter-widgets/controls",
      "model_module_version": "1.5.0",
      "model_name": "HBoxModel",
      "state": {
       "children": [
        "IPY_MODEL_f3f426a0e78547e2bea924855e57c812",
        "IPY_MODEL_0c3117ab500b436d89c910a6736fef9f",
        "IPY_MODEL_f4f02deee8414dedaf61b64c2e9e5a49"
       ],
       "layout": "IPY_MODEL_9c07741bfa644089aa3d022f2e8922de"
      }
     },
     "ef2e7182dbad45509ed18bdcbda7ea7c": {
      "model_module": "@jupyter-widgets/controls",
      "model_module_version": "1.5.0",
      "model_name": "ButtonModel",
      "state": {
       "description": "Zero Pressure",
       "layout": "IPY_MODEL_a022936e6a86438f94a492acafb7860d",
       "style": "IPY_MODEL_ac0e181c115d4a14b942a793c7891d8e"
      }
     },
     "f04b158399b14576894cceff5f6e3a84": {
      "model_module": "@jupyter-widgets/controls",
      "model_module_version": "1.5.0",
      "model_name": "DropdownModel",
      "state": {
       "_options_labels": [
        "cm",
        "cm^2",
        "Angstrom^2/molec"
       ],
       "description": "Units",
       "index": 2,
       "layout": "IPY_MODEL_189a19631d29425d89943831785cc682",
       "style": "IPY_MODEL_6752ccc468c447d38f87f0779e634772"
      }
     },
     "f1a1ebfed6aa42d38cd9cd1e170e80ac": {
      "model_module": "@jupyter-widgets/base",
      "model_module_version": "1.2.0",
      "model_name": "LayoutModel",
      "state": {}
     },
     "f3f426a0e78547e2bea924855e57c812": {
      "model_module": "@jupyter-widgets/controls",
      "model_module_version": "1.5.0",
      "model_name": "TextModel",
      "state": {
       "description": "Separation (cm)",
       "disabled": true,
       "layout": "IPY_MODEL_a1bf74f54f8d4245870f97cc458bf17e",
       "style": "IPY_MODEL_70ea577198374c3e8b2c0cb8e7e9a7d3",
       "value": "10.34"
      }
     },
     "f4f02deee8414dedaf61b64c2e9e5a49": {
      "model_module": "@jupyter-widgets/controls",
      "model_module_version": "1.5.0",
      "model_name": "TextModel",
      "state": {
       "description": "$\\mathring{A^2}$/molecule",
       "disabled": true,
       "layout": "IPY_MODEL_a507954741094a5e8138db7bb9d97ef7",
       "style": "IPY_MODEL_bf62e8dcf7f841e7ba7b5eb5ff2922ea",
       "value": "54.8"
      }
     },
     "f65950ffdb084b6caaab6bb267f3ad43": {
      "model_module": "@jupyter-widgets/controls",
      "model_module_version": "1.5.0",
      "model_name": "DescriptionStyleModel",
      "state": {
       "description_width": "initial"
      }
     },
     "f736f70a13c64af2b5d63e9cbdb2028a": {
      "model_module": "@jupyter-widgets/controls",
      "model_module_version": "1.5.0",
      "model_name": "BoundedFloatTextModel",
      "state": {
       "layout": "IPY_MODEL_7fe6a98f3f1e479badccb70659328e6e",
       "max": 66.6803300249218,
       "min": 14.785951853661645,
       "step": 0.01,
       "style": "IPY_MODEL_b1461546f1fb488fb877f3dd604e76c6",
       "value": 55
      }
     },
     "fab72547f5314fe79cebf66971688884": {
      "model_module": "@jupyter-widgets/base",
      "model_module_version": "1.2.0",
      "model_name": "LayoutModel",
      "state": {}
     },
     "fac44bf952934ae9be1d6818e1625fef": {
      "model_module": "@jupyter-widgets/base",
      "model_module_version": "1.2.0",
      "model_name": "LayoutModel",
      "state": {}
     },
     "fbd0ac494cd8482bb117c2beb692be40": {
      "model_module": "@jupyter-widgets/base",
      "model_module_version": "1.2.0",
      "model_name": "LayoutModel",
      "state": {}
     },
     "fe2fcb6a411c4f8bb1c6533811ec8bce": {
      "model_module": "@jupyter-widgets/base",
      "model_module_version": "1.2.0",
      "model_name": "LayoutModel",
      "state": {
       "border": "solid"
      }
     },
     "ff42f2c9ad234068896f21dfca1d92b0": {
      "model_module": "@jupyter-widgets/base",
      "model_module_version": "1.2.0",
      "model_name": "LayoutModel",
      "state": {}
     }
    },
    "version_major": 2,
    "version_minor": 0
   }
  }
 },
 "nbformat": 4,
 "nbformat_minor": 5
}
