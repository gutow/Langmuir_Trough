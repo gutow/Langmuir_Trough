{
 "cells": [
  {
   "cell_type": "code",
   "execution_count": 1,
   "id": "9940e702",
   "metadata": {},
   "outputs": [],
   "source": [
    "import piplates.DAQC2plate as DAQC2"
   ]
  },
  {
   "cell_type": "code",
   "execution_count": 2,
   "id": "37418ffc",
   "metadata": {},
   "outputs": [
    {
     "name": "stdout",
     "output_type": "stream",
     "text": [
      "0.54 5.83 5.83\n",
      "0.54 5.83 5.84\n",
      "0.54 5.83 5.84\n",
      "0.54 5.83 5.85\n",
      "0.54 5.83 5.84\n",
      "0.54 5.83 5.84\n",
      "0.54 5.83 5.84\n",
      "0.54 5.83 5.83\n",
      "0.54 5.83 5.83\n",
      "0.54 5.83 5.84\n",
      "0.54 5.83 5.84\n",
      "0.54 5.83 5.83\n",
      "0.54 5.83 5.84\n",
      "0.54 5.83 5.83\n",
      "0.54 5.83 5.83\n",
      "0.54 5.83 5.83\n",
      "0.54 5.83 5.83\n",
      "0.54 5.83 5.83\n",
      "0.54 5.83 5.84\n",
      "0.54 5.83 5.84\n"
     ]
    }
   ],
   "source": [
    "# Read Barrier Position\n",
    "# All the way open\n",
    "for i in range(0,20):\n",
    "    position = DAQC2.getADC(0,0)-DAQC2.getADC(0,1)\n",
    "    Vdd = DAQC2.getADC(0,8)\n",
    "    print(round(position,2)-5.29, round(position,2), round(position*5.20/Vdd,2))"
   ]
  },
  {
   "cell_type": "code",
   "execution_count": 2,
   "id": "652a76e3",
   "metadata": {},
   "outputs": [
    {
     "data": {
      "text/plain": [
       "17372"
      ]
     },
     "execution_count": 2,
     "metadata": {},
     "output_type": "execute_result"
    }
   ],
   "source": [
    "import os\n",
    "pid = os.getpid()\n",
    "file = open('/tmp/troughctl.pid','w')\n",
    "file.write(str(pid)+'\\n')\n",
    "file.close()\n",
    "pid"
   ]
  },
  {
   "cell_type": "code",
   "execution_count": 12,
   "id": "dd4cb325",
   "metadata": {},
   "outputs": [],
   "source": [
    "# Close Barriers\n",
    "DAQC2.setDAC(0,0,4) # set fast close\n",
    "DAQC2.setDOUTbit(0,0) # turn on power/start barriers"
   ]
  },
  {
   "cell_type": "code",
   "execution_count": 26,
   "id": "aa30461e",
   "metadata": {},
   "outputs": [],
   "source": [
    "#stop Barriers\n",
    "DAQC2.clrDOUTbit(0,0) # switch off power/stop barriers"
   ]
  },
  {
   "cell_type": "code",
   "execution_count": 18,
   "id": "9a0b1e7a",
   "metadata": {},
   "outputs": [],
   "source": [
    "# Close Barriers slowly\n",
    "DAQC2.setDAC(0,0,2.7)\n",
    "DAQC2.setDOUTbit(0,0) # turn on power/start barriers"
   ]
  },
  {
   "cell_type": "code",
   "execution_count": 25,
   "id": "24141597",
   "metadata": {},
   "outputs": [],
   "source": [
    "# open Barriers slowly\n",
    "DAQC2.setDAC(0,0,1.9)\n",
    "DAQC2.setDOUTbit(0,0) # turn on power/start barriers"
   ]
  },
  {
   "cell_type": "code",
   "execution_count": 3,
   "id": "8000e3df",
   "metadata": {},
   "outputs": [],
   "source": [
    "import os"
   ]
  },
  {
   "cell_type": "code",
   "execution_count": 4,
   "id": "13cbb586",
   "metadata": {},
   "outputs": [
    {
     "data": {
      "text/plain": [
       "91208"
      ]
     },
     "execution_count": 4,
     "metadata": {},
     "output_type": "execute_result"
    }
   ],
   "source": [
    "pid = os.getpid()\n",
    "file = open('/tmp/troughctl.pid','w')\n",
    "file.write(str(pid)+'\\n')\n",
    "file.close()\n",
    "pid"
   ]
  },
  {
   "cell_type": "code",
   "execution_count": 27,
   "id": "be671066",
   "metadata": {},
   "outputs": [],
   "source": [
    "os.remove('/tmp/troughctl.pid')"
   ]
  },
  {
   "cell_type": "code",
   "execution_count": 23,
   "id": "719e6bc7",
   "metadata": {},
   "outputs": [
    {
     "data": {
      "text/plain": [
       "65325"
      ]
     },
     "execution_count": 23,
     "metadata": {},
     "output_type": "execute_result"
    }
   ],
   "source": [
    "pid = 65325\n",
    "file = open('/tmp/troughctl.pid','w')\n",
    "file.write(str(pid)+'\\n')\n",
    "file.close()\n",
    "pid"
   ]
  },
  {
   "cell_type": "markdown",
   "id": "e1d29a8d",
   "metadata": {},
   "source": [
    "The above test verifies that the trough daemon will shut off power to the barriers if the pid file does not exist or the id does not match a running process."
   ]
  },
  {
   "cell_type": "code",
   "execution_count": 23,
   "id": "33576a9d",
   "metadata": {},
   "outputs": [],
   "source": [
    "#stop Barriers\n",
    "DAQC2.clrDOUTbit(0,0) # switch off power/stop barriers"
   ]
  },
  {
   "cell_type": "code",
   "execution_count": 9,
   "id": "f1d40641",
   "metadata": {},
   "outputs": [
    {
     "data": {
      "text/plain": [
       "7.705"
      ]
     },
     "execution_count": 9,
     "metadata": {},
     "output_type": "execute_result"
    }
   ],
   "source": [
    "# Read Barrier Position\n",
    "# All the way closed\n",
    "DAQC2.getADC(0,0)-DAQC2.getADC(0,1)"
   ]
  },
  {
   "cell_type": "code",
   "execution_count": 14,
   "id": "3970c5c9",
   "metadata": {},
   "outputs": [],
   "source": [
    "# Open Barriers\n",
    "DAQC2.setDAC(0,0,0) # set fast open\n",
    "DAQC2.setDOUTbit(0,0) # turn on power/start barriers"
   ]
  },
  {
   "cell_type": "code",
   "execution_count": 15,
   "id": "3d5e287c",
   "metadata": {},
   "outputs": [],
   "source": [
    "#stop Barriers\n",
    "DAQC2.clrDOUTbit(0,0) # switch off power/stop barriers"
   ]
  },
  {
   "cell_type": "code",
   "execution_count": 14,
   "id": "3962e4d2",
   "metadata": {},
   "outputs": [
    {
     "data": {
      "text/plain": [
       "0.001"
      ]
     },
     "execution_count": 14,
     "metadata": {},
     "output_type": "execute_result"
    }
   ],
   "source": [
    "# Read Barrier Position\n",
    "# All the way open\n",
    "DAQC2.getADC(0,0)-DAQC2.getADC(0,1)"
   ]
  },
  {
   "cell_type": "markdown",
   "id": "11f87df0",
   "metadata": {},
   "source": [
    "Change of < 0.2 V for our whole signal. We're looking at a +/- 12 V range at about 13 bit resolution. Should be good to ~ 1% (0.002 V). That may be OK. If reach the advertised 16 bit resolution through averaging then about 10X better."
   ]
  },
  {
   "cell_type": "code",
   "execution_count": 4,
   "id": "b91aba84",
   "metadata": {},
   "outputs": [],
   "source": [
    "def barrier_at_limit_check():\n",
    "    \"\"\"\n",
    "    Checks if barrier is at or beyond limit and stops barrier if it is headed moving\n",
    "    in a direction that would make it worse.\n",
    "    \n",
    "    Returns\n",
    "    =======\n",
    "    True or False. If True also shuts down power to barrier\n",
    "    \"\"\"\n",
    "    direction = 0 # -1 closing, 0 stopped, 1 openning.\n",
    "    if (DAQC2.getDAC(0,0)>=2.5):\n",
    "        direction = -1\n",
    "    else:\n",
    "        direction = 1\n",
    "    position = DAQC2.getADC(0,0)-DAQC2.getADC(0,1)\n",
    "    if (position >= 7.78) and (direction == -1):\n",
    "        DAQC2.clrDOUTbit(0,0) # switch off power/stop barriers\n",
    "        return True\n",
    "    if (position <= 0.005) and (direction == 1):\n",
    "        DAQC2.clrDOUTbit(0,0) # switch off power/stop barriers\n",
    "        return True\n",
    "    return print(\"fell through\")"
   ]
  },
  {
   "cell_type": "code",
   "execution_count": 49,
   "id": "97aa4b6e",
   "metadata": {},
   "outputs": [
    {
     "data": {
      "text/plain": [
       "8.302"
      ]
     },
     "execution_count": 49,
     "metadata": {},
     "output_type": "execute_result"
    }
   ],
   "source": [
    "DAQC2.getADC(0,0)-DAQC2.getADC(0,1)"
   ]
  },
  {
   "cell_type": "markdown",
   "id": "952a77bb",
   "metadata": {},
   "source": [
    "Large fluctuations in barrier position measurement. Problem with voltage supply? Yes, it is being turned off when power to motor is shut off. Needs to be on unswitch +12V line. FIXED."
   ]
  },
  {
   "cell_type": "code",
   "execution_count": 7,
   "id": "63029bbb",
   "metadata": {},
   "outputs": [
    {
     "name": "stdout",
     "output_type": "stream",
     "text": [
      "fell through\n"
     ]
    }
   ],
   "source": [
    "barrier_at_limit_check()"
   ]
  },
  {
   "cell_type": "code",
   "execution_count": 8,
   "id": "fa8920a4",
   "metadata": {},
   "outputs": [
    {
     "data": {
      "text/plain": [
       "1.0"
      ]
     },
     "execution_count": 8,
     "metadata": {},
     "output_type": "execute_result"
    }
   ],
   "source": [
    "DAQC2.getDAC(0,0)"
   ]
  },
  {
   "cell_type": "markdown",
   "id": "d72de9cf",
   "metadata": {},
   "source": [
    "It is possible to have a separate thread running to check and shut off barrier motion. However, the interface board access does not appear to be thread safe. Collisions occur and then reads or messages to the board throw errors. So all board communication needs to go through a single thread. It could communicate asynchronously with other threads."
   ]
  },
  {
   "cell_type": "code",
   "execution_count": null,
   "id": "fc0c11ba",
   "metadata": {},
   "outputs": [],
   "source": []
  }
 ],
 "metadata": {
  "kernelspec": {
   "display_name": "Python 3 (ipykernel)",
   "language": "python",
   "name": "python3"
  },
  "language_info": {
   "codemirror_mode": {
    "name": "ipython",
    "version": 3
   },
   "file_extension": ".py",
   "mimetype": "text/x-python",
   "name": "python",
   "nbconvert_exporter": "python",
   "pygments_lexer": "ipython3",
   "version": "3.8.10"
  }
 },
 "nbformat": 4,
 "nbformat_minor": 5
}
