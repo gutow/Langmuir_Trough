{
 "cells": [
  {
   "cell_type": "code",
   "execution_count": 4,
   "id": "859c79cb",
   "metadata": {},
   "outputs": [
    {
     "name": "stdout",
     "output_type": "stream",
     "text": [
      "['Starting Motor Calibration. Please wait...']\n",
      "['Trough ready']\n",
      "['time stamp', 'position voltage', 'position standard deviation', 'balance voltage', 'balance standard deviation', 'thermistor voltage', 'thermistor standard deviation', 'messages']\n",
      "Polling for data...\n",
      "Polling for data...\n",
      "Received data:\n",
      "time stamp\n",
      "[1667586604.5117698, 1667586605.0070567, 1667586605.5023522, 1667586605.9976535, 1667586606.4929752, 1667586606.9883833, 1667586607.4836874, 1667586607.9789796, 1667586608.4742832, 1667586608.969617, 1667586609.4648814]\n",
      "position voltage\n",
      "[2.0838510638297865, 2.083755102040816, 2.0840232558139533, 2.083510204081633, 2.08384, 2.083627450980392, 2.0836799999999998, 2.0838163265306124, 2.083627450980392, 2.08404, 2.0833061224489793]\n",
      "position standard deviation\n",
      "[0.00016928516904639977, 0.00016374292383552246, 0.00019543055823756565, 0.00020437903500269907, 0.00015481391067593566, 0.00017254901960784676, 0.0001839254507363561, 0.000199219286991289, 0.00019191661652144453, 0.00014557416231835715, 0.00014927284528906348]\n",
      "balance voltage\n",
      "[7.326319148936171, 7.325142857142858, 7.325837209302327, 7.328142857142856, 7.331259999999999, 7.332254901960784, 7.3319600000000005, 7.33230612244898, 7.33092156862745, 7.3306, 7.331000000000001]\n",
      "balance standard deviation\n",
      "[0.00023580198143439832, 0.00022208045364496506, 0.00025108895186298693, 0.0001889822365046042, 0.00029666169834561136, 0.0001977186300541959, 0.00020396078054371296, 0.0002066169054215936, 0.0002237700802774475, 0.0002249716535431914, 0.00021229231547770932]\n",
      "thermistor voltage\n",
      "[4.502702127659574, 4.502489795918367, 4.5024186046511625, 4.502367346938775, 4.5023599999999995, 4.502745098039215, 4.502980000000001, 4.502877551020409, 4.502862745098039, 4.50258, 4.502755102040816]\n",
      "thermistor standard deviation\n",
      "[0.0001487378089657365, 0.00018239349930326506, 0.0001671616949833036, 0.0001949487058626701, 0.0002171428571428367, 0.00020358191925359782, 0.00019689425318879074, 0.00020125594819709418, 0.00017268265769649366, 0.00016924803679565294, 0.0002153359427393662]\n",
      "messages\n",
      "[]\n",
      "Received data:\n",
      "time stamp\n",
      "[1667586609.9602542, 1667586610.4555745, 1667586610.95088, 1667586611.446166, 1667586611.9414673, 1667586612.4367542, 1667586612.9320168, 1667586613.4272714, 1667586613.9226804, 1667586614.4180431]\n",
      "position voltage\n",
      "[2.0836862745098035, 2.083632653061225, 2.083931818181818, 2.0838979591836737, 2.083952380952381, 2.0838823529411767, 2.0836875000000004, 2.083409090909091, 2.0834545454545452, 2.0835399999999997]\n",
      "position standard deviation\n",
      "[0.00012982702240978066, 0.00015620357147217798, 0.00016704662308489573, 0.0001681352760539174, 0.0001403181259980272, 0.00017286876871919194, 0.00019331984392901365, 0.00021887223390849135, 0.00017035761867166115, 0.00014058188114448661]\n",
      "balance voltage\n",
      "[7.331882352941176, 7.33565306122449, 7.337727272727273, 7.33565306122449, 7.333190476190476, 7.332117647058824, 7.332375, 7.332090909090908, 7.332500000000002, 7.333800000000001]\n",
      "balance standard deviation\n",
      "[0.00021809704410170498, 0.00016890760568618704, 0.00021655489263934912, 0.00024666313958252706, 0.00023423112968092905, 0.0002524909976417245, 0.00021803645020276093, 0.00019458358481124076, 0.00023104688668704326, 0.00029692299558321605]\n",
      "thermistor voltage\n",
      "[4.502745098039216, 4.502673469387755, 4.502522727272727, 4.502551020408164, 4.503190476190476, 4.50279411764706, 4.502291666666666, 4.502659090909091, 4.502772727272728, 4.5026]\n",
      "thermistor standard deviation\n",
      "[0.00019167606917409207, 0.00018985259924611381, 0.00024651618347320436, 0.00016767017066482648, 0.00016778288898904004, 0.00023039689758840907, 0.00022073043902902012, 0.00017791124773310651, 0.00021777181349351673, 0.00021189138534557215]\n",
      "messages\n",
      "[]\n",
      "Polling for data...\n",
      "Polling for data...\n",
      "Received data:\n",
      "time stamp\n",
      "[1667586614.9133563, 1667586615.408636, 1667586615.9039207, 1667586616.4006763, 1667586616.896007, 1667586617.391302, 1667586617.8865972, 1667586618.3818955, 1667586618.8771772, 1667586619.3724608, 1667586619.8676615]\n",
      "position voltage\n",
      "[2.083755555555556, 2.0834772727272726, 2.0834081632653065, 2.0835, 2.08348, 2.083121212121212, 2.0835918367346937, 2.083486486486486, 2.08348, 2.08372, 2.0836590909090913]\n",
      "position standard deviation\n",
      "[0.00016561960661865485, 0.0001824447449256641, 0.000172315087095111, 0.00013517005859853916, 0.00015711688096991432, 0.00015544154945973133, 0.00020185864115588844, 0.00023767398123014728, 0.00015711688096991727, 0.00018303562717768087, 0.00019219215471011477]\n",
      "balance voltage\n",
      "[7.331199999999999, 7.330363636363637, 7.331408163265307, 7.333176470588235, 7.33382, 7.334424242424244, 7.3357346938775505, 7.333837837837837, 7.37642, 7.439020000000002, 7.454318181818182]\n",
      "balance standard deviation\n",
      "[0.00029915706492568596, 0.00021588822643152033, 0.0002180587812901283, 0.0002514506512408163, 0.0002170112383057825, 0.00025757575757574206, 0.0001839095232949237, 0.0002726620891967624, 0.0026377309358226668, 0.0010941365060528703, 0.00026368010135116403]\n",
      "thermistor voltage\n",
      "[4.5030222222222225, 4.502931818181818, 4.502775510204081, 4.50314705882353, 4.5029, 4.502909090909091, 4.502938775510204, 4.502972972972972, 4.50262, 4.5025200000000005, 4.502750000000001]\n",
      "thermistor standard deviation\n",
      "[0.00022582931090879232, 0.00015039668221708115, 0.00021678170570243018, 0.0003048401964139355, 0.00022360679774996865, 0.0002730427468324153, 0.0002170617080222586, 0.00021743276371434072, 0.00022111037044507403, 0.00019428571428569135, 0.0002059500750274237]\n",
      "messages\n",
      "[]\n",
      "Received data:\n",
      "time stamp\n",
      "[1667586620.3629856, 1667586620.858276, 1667586621.3537393, 1667586621.849029, 1667586622.344318, 1667586622.8396287, 1667586623.3349028, 1667586623.830226, 1667586624.3255253, 1667586624.820825]\n",
      "position voltage\n",
      "[2.083285714285714, 2.0833, 2.083232558139535, 2.083387755102041, 2.08294, 2.08338, 2.083285714285714, 2.0834871794871797, 2.0833469387755104, 2.083795918367347]\n",
      "position standard deviation\n",
      "[0.00018671889453997874, 0.00017202277969703385, 0.00017870336880571297, 0.0001565365101905358, 0.00014683045894320397, 0.00015879649407531915, 0.00019342948582466867, 0.00017568756340431693, 0.00016637138913463737, 0.00015424710671256206]\n",
      "balance voltage\n",
      "[7.455632653061225, 7.506220000000001, 7.541093023255815, 7.585142857142857, 7.646060000000001, 7.703100000000001, 7.714979591836735, 7.953769230769231, 7.807326530612245, 7.591897959183673]\n",
      "balance standard deviation\n",
      "[0.0015891034880953186, 0.0010267006797086882, 0.0009672453799969953, 0.0014977307097444467, 0.0012445505704666898, 0.0016185783633693336, 0.001084244696161844, 0.00538885508816269, 0.007024276886495005, 0.0038100347385751038]\n",
      "thermistor voltage\n",
      "[4.502428571428571, 4.50248, 4.502488372093022, 4.502755102040816, 4.50254, 4.50226, 4.502775510204081, 4.502410256410256, 4.50234693877551, 4.503020408163264]\n",
      "thermistor standard deviation\n",
      "[0.0002239867585979245, 0.00021804324603814644, 0.00022167212382208766, 0.00018100863531494965, 0.00020446046471788018, 0.00018911177992425, 0.00019180778476014185, 0.00018629837167853693, 0.0002093702502926693, 0.00024482708725071813]\n",
      "messages\n",
      "[]\n",
      "Polling for data...\n",
      "Polling for data...\n",
      "Received data:\n",
      "time stamp\n",
      "[1667586625.3161216, 1667586625.8114166, 1667586626.306713, 1667586626.8020077, 1667586627.297296, 1667586627.7925854, 1667586628.287877, 1667586628.7831564, 1667586629.278575, 1667586629.7738714, 1667586630.269158]\n",
      "position voltage\n",
      "[2.0833043478260866, 2.0836341463414634, 2.083704545454545, 2.083488888888889, 2.08336, 2.083625, 2.083457142857143, 2.083822222222222, 2.0836666666666663, 2.0834, 2.08346]\n",
      "position standard deviation\n",
      "[0.00016112396648913167, 0.00018063606303693464, 0.00014749330960762158, 0.00021230391362294526, 0.00014780019607288882, 0.00018504599773190724, 0.0002182545624302279, 0.00016602570352568512, 0.00016666666666666997, 0.00018516401995451122, 0.00017192784438092363]\n",
      "balance voltage\n",
      "[7.531934782608696, 7.521097560975608, 7.51565909090909, 7.545355555555555, 7.763240000000001, 7.654479166666667, 7.587600000000001, 7.562177777777777, 7.5569375, 7.55466, 7.553720000000001]\n",
      "balance standard deviation\n",
      "[0.001209624117730878, 0.0008651835263144044, 0.0004397567819737807, 0.008342247084554196, 0.0033471962071231257, 0.0024098993503550267, 0.0008611112617089499, 0.0009536156018278061, 0.0006667151467301732, 0.0005588691205260454, 0.0008642750884825081]\n",
      "thermistor voltage\n",
      "[4.502956521739129, 4.502707317073171, 4.503409090909091, 4.503466666666666, 4.5028, 4.502666666666666, 4.502999999999999, 4.502955555555555, 4.503166666666666, 4.50322, 4.50282]\n",
      "thermistor standard deviation\n",
      "[0.0002152552057737058, 0.0001855903646804432, 0.0001959370120834853, 0.00019488406291892497, 0.00021380899352992747, 0.00021539451955508205, 0.00022454435656952447, 0.00022908592088346025, 0.00018192560763659484, 0.0001858021770044461, 0.00020140324055514949]\n",
      "messages\n",
      "[]\n",
      "Received data:\n",
      "time stamp\n",
      "[1667586630.7644567, 1667586631.2597566, 1667586631.7550125, 1667586632.2503524, 1667586632.7457623, 1667586633.2410383, 1667586633.7363262, 1667586634.2316313, 1667586634.726922, 1667586635.2222085]\n",
      "position voltage\n",
      "[2.083254901960784, 2.083590909090909, 2.0835476190476188, 2.0835999999999997, 2.08348, 2.08334, 2.0835999999999997, 2.08342, 2.08326, 2.0833600000000003]\n",
      "position standard deviation\n",
      "[0.00016531167771261857, 0.00016679474865803032, 0.000156924495453645, 0.0001590789817951419, 0.00016960939519606701, 0.0001752199783595685, 0.00016162440712835276, 0.00017633456141953922, 0.00016114387031090343, 0.00016353243452862676]\n",
      "balance voltage\n",
      "[7.563568627450982, 7.551295454545453, 7.567690476190475, 7.58822, 7.590460000000002, 7.5729999999999995, 7.593220000000001, 7.584960000000001, 7.573180000000001, 7.565799999999999]\n",
      "balance standard deviation\n",
      "[0.0004916996548274856, 0.0008079805074879561, 0.0016794474283586033, 0.000602911304269807, 0.00023072202552252603, 0.0009967293452864238, 0.000829698740507668, 0.00030634114636982247, 0.00047353641327133305, 0.000533758334064851]\n",
      "thermistor voltage\n",
      "[4.5031372549019615, 4.503022727272728, 4.50252380952381, 4.50306, 4.502619999999999, 4.50264, 4.5032, 4.5031, 4.50308, 4.503119999999999]\n",
      "thermistor standard deviation\n",
      "[0.0002058356623060336, 0.00017353627169467217, 0.0002555722672436894, 0.00021648396273730585, 0.0001638565823878628, 0.000193274680288992, 0.0001807015805810452, 0.00017202277969702407, 0.0001734170389199162, 0.0001930210943320425]\n",
      "messages\n",
      "[]\n"
     ]
    },
    {
     "name": "stdout",
     "output_type": "stream",
     "text": [
      "Polling for data...\n",
      "Polling for data...\n",
      "Received data:\n",
      "time stamp\n",
      "[1667586635.7174811, 1667586636.212772, 1667586636.7081003, 1667586637.2033682, 1667586637.6986508, 1667586638.1941094, 1667586638.6894116, 1667586639.1846776, 1667586639.6799798, 1667586640.1752787, 1667586640.67057]\n",
      "position voltage\n",
      "[2.0841399999999997, 2.0835714285714286, 2.083690476190476, 2.08334693877551, 2.0835799999999995, 2.083408163265306, 2.0835882352941173, 2.083265306122449, 2.083387755102041, 2.08296, 2.0834705882352944]\n",
      "position standard deviation\n",
      "[0.00016662312356369006, 0.00019777675864090645, 0.0001786778622030716, 0.00013537244042267089, 0.00019397033225706853, 0.0001647466807933658, 0.0001563717806853165, 0.000171962240268908, 0.00016187760590871737, 0.00018285714285715067, 0.0001800935294620396]\n",
      "balance voltage\n",
      "[7.64682, 7.608632653061226, 7.587238095238095, 7.578510204081632, 7.5931000000000015, 7.5910816326530615, 7.5913529411764715, 7.585836734693878, 7.594673469387756, 7.60682, 7.617274509803923]\n",
      "balance standard deviation\n",
      "[0.0017324490156529003, 0.00029694286646548656, 0.0007259976705644211, 0.0012261751440255958, 0.0004043134770881462, 0.000282476798598569, 0.00030783689265554076, 0.0005978610817810676, 0.0003226007134599466, 0.002363962429343356, 0.0007356887829715936]\n",
      "thermistor voltage\n",
      "[4.50322, 4.502897959183674, 4.502595238095237, 4.502795918367347, 4.50274, 4.502979591836735, 4.502294117647058, 4.502551020408164, 4.503122448979592, 4.5024, 4.502529411764706]\n",
      "thermistor standard deviation\n",
      "[0.00020261555030274254, 0.0002186945225262287, 0.0001899309851107399, 0.0002181781238775183, 0.00017334641499562015, 0.0001712543656486225, 0.00019462204225376376, 0.000162519555311545, 0.0002213760557179911, 0.0002060315014550765, 0.00018439714424325714]\n",
      "messages\n",
      "[]\n",
      "Received data:\n",
      "time stamp\n",
      "[1667586641.1658645, 1667586641.6611629, 1667586642.1564236, 1667586642.651692, 1667586643.1470122, 1667586643.6423106, 1667586644.1376262, 1667586644.6329207, 1667586645.1282215, 1667586645.6235042]\n",
      "position voltage\n",
      "[2.0829375, 2.08324, 2.083307692307692, 2.0832340425531912, 2.083061224489796, 2.0831999999999997, 2.0834489795918367, 2.0836595744680846, 2.08332, 2.0830638297872333]\n",
      "position standard deviation\n",
      "[0.00015869103864013713, 0.00019285185177927514, 0.00016491868586416254, 0.000202237177594378, 0.00019865226871359059, 0.0001784285142399571, 0.0001676701706648559, 0.0001831894318497244, 0.00019470542899886856, 0.00015025188631899076]\n",
      "balance voltage\n",
      "[8.261479166666666, 8.03642, 7.580948717948716, 7.304489361702127, 6.99742857142857, 6.937200000000001, 7.233020408163266, 7.396893617021275, 7.46622, 7.489446808510639]\n",
      "balance standard deviation\n",
      "[0.020878277539942564, 0.013877454627516364, 0.008475410866911039, 0.008099341137673395, 0.007576705259216171, 0.006444741567941328, 0.007358095742494303, 0.0015113612424970061, 0.0008438444580535873, 0.0007693290988810355]\n",
      "thermistor voltage\n",
      "[4.501729166666667, 4.50206, 4.502564102564102, 4.502765957446808, 4.5031020408163265, 4.503240000000001, 4.503204081632653, 4.503106382978722, 4.5026600000000006, 4.5025106382978715]\n",
      "thermistor standard deviation\n",
      "[0.00020572390636510452, 0.00019253412101520647, 0.00018657677537808936, 0.00023404255319148937, 0.00019176254173916337, 0.0002090991367260651, 0.0002122514389363523, 0.00024376411945287987, 0.00021113879756390488, 0.00018216586871280032]\n",
      "messages\n",
      "[]\n",
      "Polling for data...\n",
      "Polling for data...\n",
      "Received data:\n",
      "time stamp\n",
      "[1667586646.119073, 1667586646.6143932, 1667586647.1096873, 1667586647.60507, 1667586648.1003551, 1667586648.5956883, 1667586649.0909696, 1667586649.5862875, 1667586650.0815535, 1667586650.5768743, 1667586651.0721502]\n",
      "position voltage\n",
      "[2.0833043478260866, 2.083313725490196, 2.0830681818181818, 2.0834130434782607, 2.08286, 2.08326, 2.0834489795918367, 2.083204081632653, 2.0835490196078434, 2.083326530612245, 2.08318]\n",
      "position standard deviation\n",
      "[0.0001640948388952859, 0.00018255312646757378, 0.00017628335610988022, 0.00019305849269200066, 0.00016164965896932877, 0.00015067196426783649, 0.0001572002722216578, 0.00022957293950953347, 0.00019058984910153877, 0.0001410232138886304, 0.00015568151686657858]\n",
      "balance voltage\n",
      "[7.494391304347826, 7.497666666666667, 7.514636363636364, 7.519565217391305, 7.516099999999999, 7.50832, 7.507795918367347, 7.503551020408164, 7.4977647058823536, 7.496653061224489, 7.498719999999999]\n",
      "balance standard deviation\n",
      "[0.0005926100956597308, 0.00039869066751807824, 0.000388920157747643, 0.00046381340358589884, 0.0002714285714285808, 0.00034456716415270645, 0.0004460518332620054, 0.0003757772268592353, 0.000252963975260709, 0.0002192888560504114, 0.00025720634136976183]\n",
      "thermistor voltage\n",
      "[4.502434782608695, 4.50286274509804, 4.502727272727271, 4.502956521739131, 4.50292, 4.50294, 4.502938775510204, 4.5031020408163265, 4.502686274509804, 4.502632653061224, 4.502879999999999]\n",
      "thermistor standard deviation\n",
      "[0.0001855978039835547, 0.00019203677720305268, 0.00022843255851168214, 0.00021525520577370553, 0.00022285714285714367, 0.00016265651802844033, 0.00020078113457471617, 0.00017796300626238208, 0.00018468881316574155, 0.0001667360677384424, 0.0001887445093133006]\n",
      "messages\n",
      "[]\n",
      "Received data:\n",
      "time stamp\n",
      "[1667586651.5674672, 1667586652.0627403, 1667586652.5580187, 1667586653.0533066, 1667586653.5486217, 1667586654.043919, 1667586654.5391984, 1667586655.0345263, 1667586655.5298438, 1667586656.025189]\n",
      "position voltage\n",
      "[2.0834117647058825, 2.083409090909091, 2.0830243902439025, 2.083211538461539, 2.0831600000000003, 2.08308, 2.082959183673469, 2.083469387755102, 2.0834999999999995, 2.083387755102041]\n",
      "position standard deviation\n",
      "[0.00017970885078258012, 0.00016033191595884728, 0.0002109438859555168, 0.000146184604209709, 0.0001881380300931951, 0.0001848109900433917, 0.00017966139654754663, 0.00020224513821659882, 0.00017437936593905237, 0.00017451664669884668]\n",
      "balance voltage\n",
      "[7.50058823529412, 7.502340909090908, 7.50248780487805, 7.508019230769232, 7.511699999999999, 7.520340000000001, 7.522877551020407, 7.527775510204082, 7.5286599999999995, 7.53142857142857]\n",
      "balance standard deviation\n",
      "[0.00020802803466472286, 0.0002620120186271255, 0.0003998810055008809, 0.00023542007737683993, 0.00024285714285715557, 0.00029082570697366807, 0.0003135715005169133, 0.00032637113452488136, 0.0002484400309523392, 0.00021626073957840762]\n",
      "thermistor voltage\n",
      "[4.503666666666666, 4.502704545454546, 4.502951219512195, 4.502923076923077, 4.502859999999999, 4.5028999999999995, 4.502877551020408, 4.50330612244898, 4.503119999999999, 4.503142857142857]\n",
      "thermistor standard deviation\n",
      "[0.00022520869043702333, 0.00018840474585480848, 0.00020645444637861887, 0.00020337676114286235, 0.0001807241668670569, 0.0001857142857142837, 0.00019481513359219865, 0.00021270064883342318, 0.0001843687520559981, 0.0001700340102033793]\n",
      "messages\n",
      "[]\n"
     ]
    }
   ],
   "source": [
    "def extract_messages(datapkg):\n",
    "    \"\"\"\n",
    "    Parameters\n",
    "    ----------\n",
    "    datapkg: list\n",
    "    list of lists containing trought data bundle, messages in the last list.\n",
    "    \n",
    "    Returns\n",
    "    -------\n",
    "    list: list of strings consisting of the messages.\n",
    "    \"\"\"\n",
    "    messages = datapkg[len(datapkg)-1]\n",
    "    return messages\n",
    "\n",
    "from multiprocessing import Process, Pipe\n",
    "from trough_util import troughctl\n",
    "import time\n",
    "cmdsend, cmdrcv = Pipe()\n",
    "datasend, datarcv = Pipe()\n",
    "TROUGH = Process(target=troughctl,args=(cmdrcv,datasend))\n",
    "TROUGH.start()\n",
    "time.sleep(0.2)\n",
    "waiting = True\n",
    "while waiting:\n",
    "    #print(\"polling datarcv...\")\n",
    "    if datarcv.poll():\n",
    "        #print(\"got something:\")\n",
    "        datapkg =datarcv.recv()\n",
    "        #print(type(datapkg))\n",
    "        #print(str(datapkg))\n",
    "        print(str(extract_messages(datapkg)))\n",
    "        if \"Trough ready\" in extract_messages(datapkg):\n",
    "            waiting = False\n",
    "    time.sleep(2)\n",
    "cmdsend.send(['DataLabels',''])\n",
    "waiting = True\n",
    "while waiting:\n",
    "    if datarcv.poll():\n",
    "        datapkg = datarcv.recv()\n",
    "        labels = extract_messages(datapkg)[0]\n",
    "        #print(str(labels))\n",
    "        if len(labels) == len(datapkg):\n",
    "            waiting = False\n",
    "print(str(labels))\n",
    "for i in range(10):\n",
    "    time.sleep(5)\n",
    "    cmdsend.send(['Send',''])\n",
    "    time.sleep(0.2)\n",
    "    print(\"Polling for data...\")\n",
    "    while datarcv.poll():\n",
    "        print(\"Received data:\")\n",
    "        for j, k in zip(labels,datarcv.recv()):\n",
    "            print(str(j))\n",
    "            print(str(k))\n",
    "cmdsend.send(['ShutDown',''])\n",
    "cmdsend.close()\n",
    "cmdrcv.close()\n",
    "datasend.close()\n",
    "datarcv.close()\n",
    "TROUGH.join()  # make sure garbage collection occurs when it stops.\n",
    "TROUGH.close()"
   ]
  },
  {
   "cell_type": "code",
   "execution_count": null,
   "id": "9ed0d4e2",
   "metadata": {},
   "outputs": [],
   "source": [
    "import piplates.DAQC2plate as DAQC2\n",
    "round(DAQC2.getADC(0, 0) - DAQC2.getADC(0, 1), 2)"
   ]
  },
  {
   "cell_type": "code",
   "execution_count": null,
   "id": "8a279077",
   "metadata": {},
   "outputs": [],
   "source": [
    "import piplates.DAQC2plate as DAQC2\n",
    "DAQC2.clrDOUTbit(0, 0)"
   ]
  },
  {
   "cell_type": "code",
   "execution_count": null,
   "id": "75d6db79",
   "metadata": {},
   "outputs": [],
   "source": [
    "from multiprocessing import Process, Pipe\n",
    "from troughctl import troughctl\n",
    "import time\n",
    "cmdsend, cmdrcv = Pipe()\n",
    "datasend, datarcv = Pipe()\n",
    "TROUGH = Process(target=troughctl,args=(cmdrcv,datasend))\n",
    "TROUGH.start()\n",
    "time.sleep(0.2)\n",
    "waiting = True\n",
    "while waiting:\n",
    "    #print(\"polling datarcv...\")\n",
    "    if datarcv.poll():\n",
    "        #print(\"got something:\")\n",
    "        datapkg =datarcv.recv()\n",
    "        #print(type(datapkg))\n",
    "        print(str(datapkg))\n",
    "        if \"Trough ready\" in datapkg:\n",
    "            waiting = False\n",
    "    time.sleep(10)\n",
    "for i in range(10):\n",
    "    time.sleep(5)\n",
    "    cmdsend.send(['Send',''])\n",
    "    time.sleep(0.2)\n",
    "    print(\"Polling for data...\")\n",
    "    while datarcv.poll():\n",
    "        print(\"Received data:\")\n",
    "        for k in datarcv.recv():\n",
    "            print(type(k))\n",
    "            print(str(k))\n",
    "cmdsend.close()\n",
    "cmdrcv.close()\n",
    "datasend.close()\n",
    "datarcv.close()\n",
    "TROUGH.join()  # make sure garbage collection occurs when it stops.\n",
    "TROUGH.kill()"
   ]
  },
  {
   "cell_type": "code",
   "execution_count": 6,
   "id": "d68998cf",
   "metadata": {},
   "outputs": [],
   "source": [
    "try:\n",
    "    datarcv.poll()\n",
    "except Exception as e:\n",
    "    print(e)"
   ]
  },
  {
   "cell_type": "code",
   "execution_count": 1,
   "id": "fba68a1b",
   "metadata": {},
   "outputs": [
    {
     "name": "stdout",
     "output_type": "stream",
     "text": [
      "['Starting Motor Calibration. Please wait...']\n"
     ]
    },
    {
     "name": "stderr",
     "output_type": "stream",
     "text": [
      "Process Process-1:\n",
      "Traceback (most recent call last):\n",
      "  File \"/usr/lib/python3.8/multiprocessing/process.py\", line 315, in _bootstrap\n",
      "    self.run()\n",
      "  File \"/usr/lib/python3.8/multiprocessing/process.py\", line 108, in run\n",
      "    self._target(*self._args, **self._kwargs)\n",
      "  File \"/home/Trough/Documents/troughtsting/Trough_Control/trough_util.py\", line 494, in troughctl\n",
      "    maxcloseV, mincloseV, startcloseV, maxopenV, minopenV, startopenV = motorcal(openlimit, closelimit)\n",
      "  File \"/home/Trough/Documents/troughtsting/Trough_Control/trough_util.py\", line 299, in motorcal\n",
      "    atlimit = barrier_at_limit_check(barriermin, barriermax)\n",
      "  File \"/home/Trough/Documents/troughtsting/Trough_Control/trough_util.py\", line 161, in barrier_at_limit_check\n",
      "    position = etol_call(DAQC2.getADC,(0, 0)) - etol_call(DAQC2.getADC,(0, 1))\n",
      "  File \"/home/Trough/Documents/troughtsting/Trough_Control/trough_util.py\", line 38, in etol_call\n",
      "    result = obj(*param)\n",
      "  File \"/home/Trough/.local/share/virtualenvs/troughtsting-vyRpr9hR/lib/python3.8/site-packages/piplates/DAQC2plate.py\", line 88, in getADC\n",
      "    resp=ppCMD(addr,0x30,channel,0,2)\n",
      "  File \"/home/Trough/.local/share/virtualenvs/troughtsting-vyRpr9hR/lib/python3.8/site-packages/piplates/DAQC2plate.py\", line 634, in ppCMD\n",
      "    if (GPIO.input(ppACK)!=1):  #wait 50msec for the addressed DAQC2 to ACKnowledge command\n",
      "KeyboardInterrupt\n"
     ]
    },
    {
     "ename": "KeyboardInterrupt",
     "evalue": "",
     "output_type": "error",
     "traceback": [
      "\u001b[0;31m---------------------------------------------------------------------------\u001b[0m",
      "\u001b[0;31mKeyboardInterrupt\u001b[0m                         Traceback (most recent call last)",
      "\u001b[0;32m/tmp/ipykernel_6750/1765719778.py\u001b[0m in \u001b[0;36m<module>\u001b[0;34m\u001b[0m\n\u001b[1;32m      1\u001b[0m \u001b[0;32mfrom\u001b[0m \u001b[0mTrough_Control\u001b[0m\u001b[0;34m.\u001b[0m\u001b[0mtrough_util\u001b[0m \u001b[0;32mimport\u001b[0m \u001b[0minit_trough\u001b[0m\u001b[0;34m\u001b[0m\u001b[0;34m\u001b[0m\u001b[0m\n\u001b[0;32m----> 2\u001b[0;31m \u001b[0mcmdsend\u001b[0m\u001b[0;34m,\u001b[0m \u001b[0mdatarcv\u001b[0m\u001b[0;34m,\u001b[0m \u001b[0mTROUGH\u001b[0m \u001b[0;34m=\u001b[0m \u001b[0minit_trough\u001b[0m\u001b[0;34m(\u001b[0m\u001b[0;34m)\u001b[0m\u001b[0;34m\u001b[0m\u001b[0;34m\u001b[0m\u001b[0m\n\u001b[0m",
      "\u001b[0;32m~/Documents/troughtsting/Trough_Control/trough_util.py\u001b[0m in \u001b[0;36minit_trough\u001b[0;34m()\u001b[0m\n\u001b[1;32m     92\u001b[0m     \u001b[0mwaiting\u001b[0m \u001b[0;34m=\u001b[0m \u001b[0;32mTrue\u001b[0m\u001b[0;34m\u001b[0m\u001b[0;34m\u001b[0m\u001b[0m\n\u001b[1;32m     93\u001b[0m     \u001b[0;32mwhile\u001b[0m \u001b[0mwaiting\u001b[0m\u001b[0;34m:\u001b[0m\u001b[0;34m\u001b[0m\u001b[0;34m\u001b[0m\u001b[0m\n\u001b[0;32m---> 94\u001b[0;31m         \u001b[0;32mif\u001b[0m \u001b[0mdatarcv\u001b[0m\u001b[0;34m.\u001b[0m\u001b[0mpoll\u001b[0m\u001b[0;34m(\u001b[0m\u001b[0;34m)\u001b[0m\u001b[0;34m:\u001b[0m\u001b[0;34m\u001b[0m\u001b[0;34m\u001b[0m\u001b[0m\n\u001b[0m\u001b[1;32m     95\u001b[0m             \u001b[0mdatapkg\u001b[0m \u001b[0;34m=\u001b[0m \u001b[0mdatarcv\u001b[0m\u001b[0;34m.\u001b[0m\u001b[0mrecv\u001b[0m\u001b[0;34m(\u001b[0m\u001b[0;34m)\u001b[0m\u001b[0;34m\u001b[0m\u001b[0;34m\u001b[0m\u001b[0m\n\u001b[1;32m     96\u001b[0m             \u001b[0mmessages\u001b[0m \u001b[0;34m=\u001b[0m \u001b[0mextract_messages\u001b[0m\u001b[0;34m(\u001b[0m\u001b[0mdatapkg\u001b[0m\u001b[0;34m)\u001b[0m\u001b[0;34m\u001b[0m\u001b[0;34m\u001b[0m\u001b[0m\n",
      "\u001b[0;31mKeyboardInterrupt\u001b[0m: "
     ]
    }
   ],
   "source": [
    "from Trough_Control.trough_util import init_trough\n",
    "cmdsend, datarcv, TROUGH = init_trough()"
   ]
  },
  {
   "cell_type": "code",
   "execution_count": 22,
   "id": "b748db99",
   "metadata": {},
   "outputs": [],
   "source": [
    "# Shut down trough\n",
    "cmdsend.send(['ShutDown',''])\n",
    "cmdsend.close()\n",
    "datarcv.close()\n",
    "TROUGH.join()  # make sure garbage collection occurs when it stops.\n",
    "TROUGH.close()\n",
    "del cmdsend\n",
    "del datarcv\n",
    "del TROUGH"
   ]
  },
  {
   "cell_type": "code",
   "execution_count": 23,
   "id": "e15cf302",
   "metadata": {},
   "outputs": [
    {
     "name": "stdout",
     "output_type": "stream",
     "text": [
      "False\n"
     ]
    }
   ],
   "source": [
    "# Need to check on existence of TROUGH and pipes...\n",
    "from IPython import get_ipython\n",
    "from multiprocessing import Process\n",
    "from multiprocessing.connection import Connection\n",
    "user_ns = get_ipython().user_ns\n",
    "trough_running = False\n",
    "if \"TROUGH\" in user_ns:\n",
    "    # Check that it is a process\n",
    "    if isinstance(TROUGH, Process):\n",
    "        if TROUGH.is_alive():\n",
    "            if isinstance(cmdsend,Connection) and isinstance(datarcv, Connection):\n",
    "                trough_running = True\n",
    "print(trough_running)"
   ]
  },
  {
   "cell_type": "code",
   "execution_count": 13,
   "id": "55f081ce",
   "metadata": {},
   "outputs": [
    {
     "data": {
      "text/plain": [
       "multiprocessing.connection.Connection"
      ]
     },
     "execution_count": 13,
     "metadata": {},
     "output_type": "execute_result"
    }
   ],
   "source": [
    "type(cmdsend)"
   ]
  },
  {
   "cell_type": "code",
   "execution_count": 16,
   "id": "bdad52fd",
   "metadata": {},
   "outputs": [],
   "source": [
    "# Shut down trough without proper cleanup\n",
    "cmdsend.send(['ShutDown',''])"
   ]
  },
  {
   "cell_type": "code",
   "execution_count": 20,
   "id": "3f7f18ed",
   "metadata": {},
   "outputs": [
    {
     "name": "stdout",
     "output_type": "stream",
     "text": [
      "False\n"
     ]
    }
   ],
   "source": [
    "# Need to check on existence of TROUGH and pipes after bad shutdown\n",
    "from IPython import get_ipython\n",
    "from multiprocessing import Process\n",
    "from multiprocessing.connection import Connection\n",
    "user_ns = get_ipython().user_ns\n",
    "trough_running = False\n",
    "if \"TROUGH\" in user_ns:\n",
    "    # Check that it is a process\n",
    "    if isinstance(TROUGH, Process):\n",
    "        if TROUGH.is_alive():\n",
    "            if isinstance(cmdsend,Connection) and isinstance(datarcv, Connection):\n",
    "                trough_running = True\n",
    "print(trough_running)"
   ]
  },
  {
   "cell_type": "code",
   "execution_count": 19,
   "id": "4fce4a58",
   "metadata": {},
   "outputs": [
    {
     "data": {
      "text/plain": [
       "False"
      ]
     },
     "execution_count": 19,
     "metadata": {},
     "output_type": "execute_result"
    }
   ],
   "source": [
    "TROUGH.is_alive()"
   ]
  },
  {
   "cell_type": "code",
   "execution_count": 2,
   "id": "ce59efba",
   "metadata": {},
   "outputs": [
    {
     "data": {
      "text/plain": [
       "False"
      ]
     },
     "execution_count": 2,
     "metadata": {},
     "output_type": "execute_result"
    }
   ],
   "source": [
    "from Trough_Control.trough_util import is_trough_initialized\n",
    "is_trough_initialized()"
   ]
  },
  {
   "cell_type": "code",
   "execution_count": null,
   "id": "7669f157",
   "metadata": {},
   "outputs": [],
   "source": []
  }
 ],
 "metadata": {
  "kernelspec": {
   "display_name": "Python 3 (ipykernel)",
   "language": "python",
   "name": "python3"
  },
  "language_info": {
   "codemirror_mode": {
    "name": "ipython",
    "version": 3
   },
   "file_extension": ".py",
   "mimetype": "text/x-python",
   "name": "python",
   "nbconvert_exporter": "python",
   "pygments_lexer": "ipython3",
   "version": "3.8.10"
  }
 },
 "nbformat": 4,
 "nbformat_minor": 5
}
