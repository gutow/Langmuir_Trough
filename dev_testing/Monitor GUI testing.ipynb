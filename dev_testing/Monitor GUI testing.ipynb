{
 "cells": [
  {
   "cell_type": "code",
   "execution_count": 1,
   "id": "b7987216",
   "metadata": {},
   "outputs": [],
   "source": [
    "import Trough_GUI"
   ]
  },
  {
   "cell_type": "code",
   "execution_count": 2,
   "id": "a0eb1cb2",
   "metadata": {},
   "outputs": [],
   "source": [
    "cals = Trough_GUI.calibration_utils.Calibrations()"
   ]
  },
  {
   "cell_type": "code",
   "execution_count": 3,
   "id": "4f32dfa3",
   "metadata": {
    "scrolled": false
   },
   "outputs": [
    {
     "data": {
      "application/vnd.jupyter.widget-view+json": {
       "model_id": "bfa82efb14d8476c82d62093286086a5",
       "version_major": 2,
       "version_minor": 0
      },
      "text/plain": [
       "VBox(children=(HBox(children=(Label(value='BALANCE:'), VBox(children=(Text(value='', description='mg', disable…"
      ]
     },
     "metadata": {},
     "output_type": "display_data"
    }
   ],
   "source": [
    "Trough_GUI.Monitor_Calibrate.Monitor_Setup_Trough(cals)"
   ]
  },
  {
   "cell_type": "code",
   "execution_count": null,
   "id": "ccd96a29",
   "metadata": {},
   "outputs": [],
   "source": [
    "print(status_widgets.tare_pi)"
   ]
  },
  {
   "cell_type": "code",
   "execution_count": null,
   "id": "bf7fb6b2",
   "metadata": {},
   "outputs": [],
   "source": [
    "print(cals.balance.units, cals.barriers.units, cals.temperature.units)"
   ]
  },
  {
   "cell_type": "code",
   "execution_count": null,
   "id": "f601d62c",
   "metadata": {},
   "outputs": [],
   "source": [
    "cmdsend.send(['Speed',1])\n",
    "cmdsend.send(['Direction',-1])\n",
    "cmdsend.send(['Start',''])"
   ]
  },
  {
   "cell_type": "code",
   "execution_count": null,
   "id": "6263da34",
   "metadata": {},
   "outputs": [],
   "source": [
    "cmdsend.send(['Stop',''])"
   ]
  },
  {
   "cell_type": "code",
   "execution_count": 4,
   "id": "712ce17e",
   "metadata": {},
   "outputs": [],
   "source": [
    "Trough_GUI.status_widgets.update_status({'bal_raw':1.27,'bal_dev':0.02,\n",
    "                                         'barr_raw':0.8,'barr_dev':0.002,\n",
    "                                         'temp_raw':3.30,'temp_dev':0.01,\n",
    "                                         'messages':['No updates',]}, cals)"
   ]
  },
  {
   "cell_type": "code",
   "execution_count": null,
   "id": "e9750bef",
   "metadata": {},
   "outputs": [],
   "source": [
    "# First initialize trough\n",
    "import Trough_Control\n",
    "if not Trough_Control.trough_util.is_trough_initialized():\n",
    "    cmdsend, datarcv, TROUGH = Trough_Control.trough_util.init_trough()\n",
    "# Event loop\n",
    "from time import time, sleep\n",
    "# datapkg[0] = [timestamp list]\n",
    "# datapkg[1] = [barrier raw list]\n",
    "# datapkg[2] = [barrier stdev list]\n",
    "# datapkg[3] = [balance raw list]\n",
    "# datapkg[4] = [balance stdev list]\n",
    "# datapkg[5] = [temperature raw list]\n",
    "# datapkg[6] = [temperature stdev list]\n",
    "# datapkg[7] = [message list]\n",
    "datapkg = []\n",
    "run = True\n",
    "update = 0\n",
    "while run:\n",
    "    # TODO give processor time to command widgets\n",
    "    \n",
    "    # send for data at a maximum rate of 1 Hz\n",
    "    min_next_time = time() + 1.0\n",
    "    cmdsend.send(['Send',''])\n",
    "    waiting = True\n",
    "    while waiting:\n",
    "        if datarcv.poll():\n",
    "            datapkg =datarcv.recv()\n",
    "            update_dict = {'barr_raw':datapkg[1][-1],\n",
    "                           'barr_dev':datapkg[2][-1],\n",
    "                           'bal_raw':datapkg[3][-1],\n",
    "                           'bal_dev':datapkg[4][-1],\n",
    "                           'temp_raw':datapkg[5][-1],\n",
    "                           'temp_dev':datapkg[6][-1],\n",
    "                           'messages':datapkg[7]}\n",
    "            Trough_GUI.status_widgets.update_status(update_dict, cals)\n",
    "            update+=1\n",
    "            waiting = False\n",
    "    if time()< min_next_time:\n",
    "        sleep(min_next_time - time())"
   ]
  },
  {
   "cell_type": "code",
   "execution_count": null,
   "id": "cc81314d",
   "metadata": {},
   "outputs": [],
   "source": [
    "datapkg"
   ]
  },
  {
   "cell_type": "code",
   "execution_count": null,
   "id": "dc00da1d",
   "metadata": {},
   "outputs": [],
   "source": [
    "cals.barriers.cal_apply([0.7613993559219399, 0.7613712807244503, 0.7614248322753392],\n",
    "                       [2.684617327574853e-05, 2.057942843404166e-05, 2.3285347508477762e-05])"
   ]
  },
  {
   "cell_type": "code",
   "execution_count": null,
   "id": "837c15c4",
   "metadata": {},
   "outputs": [],
   "source": [
    "from multiprocessing import Process\n",
    "isinstance(TROUGH,Process)"
   ]
  },
  {
   "cell_type": "code",
   "execution_count": null,
   "id": "5899d608",
   "metadata": {},
   "outputs": [],
   "source": [
    "TROUGH.is_alive()"
   ]
  },
  {
   "cell_type": "code",
   "execution_count": 5,
   "id": "b1c7c2ca",
   "metadata": {},
   "outputs": [
    {
     "name": "stdout",
     "output_type": "stream",
     "text": [
      "['Starting Motor Calibration. Please wait...']\n",
      "['Trough ready']\n"
     ]
    }
   ],
   "source": [
    "import Trough_Control\n",
    "if not Trough_Control.trough_util.is_trough_initialized():\n",
    "    cmdsend, datarcv, TROUGH = Trough_Control.trough_util.init_trough()"
   ]
  },
  {
   "cell_type": "code",
   "execution_count": 6,
   "id": "2822a55f",
   "metadata": {},
   "outputs": [],
   "source": [
    "# Asynchronous update of status widgets\n",
    "import threading\n",
    "import Trough_GUI\n",
    "\n",
    "def update_status(cmdsend, datarcv, cals):\n",
    "    import time\n",
    "    datapkg = []\n",
    "    run = True\n",
    "    update = 0\n",
    "    while run:\n",
    "        min_next_time = time.time() + 2.0\n",
    "        cmdsend.send(['Send',''])\n",
    "        waiting = True\n",
    "        while waiting:\n",
    "            if datarcv.poll():\n",
    "                datapkg =datarcv.recv()\n",
    "                update_dict = {'barr_raw':datapkg[1][-1],\n",
    "                               'barr_dev':datapkg[2][-1],\n",
    "                               'bal_raw':datapkg[3][-1],\n",
    "                               'bal_dev':datapkg[4][-1],\n",
    "                               'temp_raw':datapkg[5][-1],\n",
    "                               'temp_dev':datapkg[6][-1],\n",
    "                               'messages':datapkg[7]}\n",
    "                Trough_GUI.status_widgets.update_status(update_dict, cals)\n",
    "                waiting = False\n",
    "        if time.time()< min_next_time:\n",
    "            time.sleep(min_next_time - time.time())\n",
    "    return\n",
    "\n",
    "thread = threading.Thread(target=update_status, args=(cmdsend, datarcv, cals,))\n",
    "thread.start()"
   ]
  },
  {
   "cell_type": "code",
   "execution_count": null,
   "id": "9380a7f6",
   "metadata": {},
   "outputs": [],
   "source": []
  },
  {
   "cell_type": "code",
   "execution_count": null,
   "id": "f4cfaaf4",
   "metadata": {},
   "outputs": [],
   "source": []
  }
 ],
 "metadata": {
  "kernelspec": {
   "display_name": "Python 3 (ipykernel)",
   "language": "python",
   "name": "python3"
  },
  "language_info": {
   "codemirror_mode": {
    "name": "ipython",
    "version": 3
   },
   "file_extension": ".py",
   "mimetype": "text/x-python",
   "name": "python",
   "nbconvert_exporter": "python",
   "pygments_lexer": "ipython3",
   "version": "3.8.10"
  }
 },
 "nbformat": 4,
 "nbformat_minor": 5
}
