{
 "cells": [
  {
   "cell_type": "code",
   "execution_count": 1,
   "id": "0f6b5c2b",
   "metadata": {},
   "outputs": [],
   "source": [
    "import piplates.DAQC2plate as DAQC2\n",
    "import os"
   ]
  },
  {
   "cell_type": "code",
   "execution_count": 2,
   "id": "b40f5497",
   "metadata": {},
   "outputs": [
    {
     "data": {
      "text/plain": [
       "1.985"
      ]
     },
     "execution_count": 2,
     "metadata": {},
     "output_type": "execute_result"
    }
   ],
   "source": [
    "# Read Barrier Position\n",
    "DAQC2.getADC(0,0)-DAQC2.getADC(0,1)"
   ]
  },
  {
   "cell_type": "code",
   "execution_count": 6,
   "id": "463813f4",
   "metadata": {},
   "outputs": [
    {
     "name": "stdout",
     "output_type": "stream",
     "text": [
      "psplus: 11.95 psminus: -11.9\n"
     ]
    }
   ],
   "source": [
    "# Read Power Supply Voltages\n",
    "psplus = round(DAQC2.getADC(0,7),2)\n",
    "psminus = round(DAQC2.getADC(0,6),2)\n",
    "print('psplus: '+str(psplus)+' psminus: '+str(psminus))"
   ]
  },
  {
   "cell_type": "markdown",
   "id": "e0572b25",
   "metadata": {},
   "source": [
    "Calibrated voltmeter reads +:12.11, -:-12.04. We may be over range on the ADC. Probably as the barrier position voltage is spot on."
   ]
  },
  {
   "cell_type": "markdown",
   "id": "8671f445",
   "metadata": {},
   "source": [
    "# Open Barriers\n",
    "DAQC2.setDAC(0,0,1) # set fast close\n",
    "DAQC2.setDOUTbit(0,0) # turn on power/start barriers"
   ]
  },
  {
   "cell_type": "code",
   "execution_count": 3,
   "id": "c8862cd5",
   "metadata": {},
   "outputs": [],
   "source": [
    "def barrier_at_limit_check(openlimit, closelimit):\n",
    "    \"\"\"\n",
    "    Checks if barrier is at or beyond limit and stops barrier if it is moving\n",
    "    in a direction that would make it worse.\n",
    "    :param float openlimit: lowest voltage allowed for opening\n",
    "    :param float closelimit: highest voltage allowed for closing\n",
    "\n",
    "    Returns\n",
    "    =======\n",
    "    True or False. If True also shuts down power to barrier\n",
    "    \"\"\"\n",
    "\n",
    "    direction = 0  # -1 closing, 0 stopped, 1 openning.\n",
    "    if (DAQC2.getDAC(0, 0) >= 2.5):\n",
    "        direction = -1\n",
    "    else:\n",
    "        direction = 1\n",
    "    position = DAQC2.getADC(0, 0) - DAQC2.getADC(0, 1)\n",
    "    if (position >= closelimit) and (direction == -1):\n",
    "        DAQC2.clrDOUTbit(0, 0)  # switch off power/stop barriers\n",
    "        #print(position,direction)\n",
    "        return True\n",
    "    if (position <= openlimit) and (direction == 1):\n",
    "        DAQC2.clrDOUTbit(0, 0)  # switch off power/stop barriers\n",
    "        #print(position,direction)\n",
    "        return True\n",
    "    return False"
   ]
  },
  {
   "cell_type": "code",
   "execution_count": 8,
   "id": "9f2e8e28",
   "metadata": {},
   "outputs": [],
   "source": [
    "def motorcal(barriermin,barriermax):\n",
    "    '''\n",
    "    :param float barriermin: minimum voltage for barrier (do not open more).\n",
    "    :param float barriermax: maximum voltage for barrier (do not close more).\n",
    "    :returns float maxclose: DAC setting for maximum close speed.\n",
    "    :returns float minclose: DAC setting for minimum close speed.\n",
    "    :returns float startclose: DAC setting providing minimum voltage to start closing.\n",
    "    :returns float maxopen: DAC setting for maximum close speed.\n",
    "    :returns float minopen: DAC setting for minimum close speed.\n",
    "    :returns float startopen: DAC setting providing minimum voltage to start opening.\n",
    "    '''\n",
    "    \n",
    "    import os, time\n",
    "    # Since this runs in a tight loop needs to take over watching barriers.\n",
    "    # Check if a trough controller is registered at /tmp/troughctl.pid.\n",
    "    # If one is store it's pid and replace with own. Will revert on exit without\n",
    "    # crashing.\n",
    "    pidpath = '/tmp/troughctl.pid'\n",
    "    ctlpid = None\n",
    "    if os.path.exists(pidpath):\n",
    "        file=open(pidpath,'r')\n",
    "        ctlpid = int(file.readline())\n",
    "        file.close()\n",
    "    pid = os.getpid()\n",
    "    #print(str(pid))\n",
    "    file = open(pidpath,'w')\n",
    "    file.write(str(pid)+'\\n')\n",
    "    file.close()\n",
    "    # Do not proceed until this file exists on the file system\n",
    "    while not os.path.exists(pidpath):\n",
    "        pass # just waiting for file system to catch up.\n",
    "    # Read it to make sure\n",
    "    file = open(pidpath,'r')\n",
    "    checkpid = file.readline()\n",
    "    file.close()\n",
    "    if int(checkpid) != pid:\n",
    "        raise FileNotFoundError('Checkpid = '+checkpid+', but should = '+str(pid))\n",
    "        \n",
    "    # Set base values\n",
    "    maxclose = 4\n",
    "    minclose = 2.6\n",
    "    startclose = 2.6\n",
    "    maxopen = 0\n",
    "    minopen = 2.4\n",
    "    startopen = 2.4\n",
    "    # Calibrate the barrier. This assumes a DAQC2 pi-plate is the controlling interface.\n",
    "    # First move to fully open.\n",
    "    print('Moving to fully open...')\n",
    "    position = round(DAQC2.getADC(0, 0) - DAQC2.getADC(0, 1),2) # not stable past 2 decimals\n",
    "    if position > barriermin:\n",
    "        # need to open some\n",
    "        atlimit = False\n",
    "        DAQC2.setDAC(0,0,maxopen) # set fast open\n",
    "        DAQC2.setDOUTbit(0,0) # turn on power/start barriers\n",
    "        time.sleep(1)\n",
    "        while not atlimit:\n",
    "            atlimit = barrier_at_limit_check(barriermin, barriermax)\n",
    "    # Get rid of any hysteresis in the close direction\n",
    "    print('Removing close hysteresis...')\n",
    "    position = round(DAQC2.getADC(0, 0) - DAQC2.getADC(0, 1),2) # not stable past 2 decimals\n",
    "    stoppos = position+0.05\n",
    "    if stoppos > barriermax:\n",
    "        stoppos = barriermax\n",
    "    DAQC2.setDAC(0,0,maxclose) # set fast close\n",
    "    DAQC2.setDOUTbit(0,0) # turn on power/start barriers\n",
    "    time.sleep(1)\n",
    "    atlimit = False\n",
    "    while not atlimit:\n",
    "        atlimit = barrier_at_limit_check(barriermin, stoppos)\n",
    "    # Find closing stall voltage\n",
    "    print('Finding closing stall voltage...')\n",
    "    oldposition = round(DAQC2.getADC(0, 0) - DAQC2.getADC(0, 1),2) # not stable past 2 decimals\n",
    "    DAQC2.setDAC(0,0,maxclose) # set fast close\n",
    "    DAQC2.setDOUTbit(0,0) # turn on power/start barriers\n",
    "    testclose = maxclose\n",
    "    time.sleep(2)\n",
    "    atlimit = False\n",
    "    while not atlimit:\n",
    "        atlimit = barrier_at_limit_check(barriermin, barriermax)\n",
    "        position = round(DAQC2.getADC(0, 0) - DAQC2.getADC(0, 1),2) # not stable past 2 decimals\n",
    "#        if position > 6.5:\n",
    "#            print ('old: '+str(oldposition)+' position: '+str(position))\n",
    "        if (position - oldposition) < 0.01:\n",
    "            # because there can be noise take a new reading and check again\n",
    "            position = round(DAQC2.getADC(0, 0) - DAQC2.getADC(0, 1),2) # not stable past 2 decimals\n",
    "            if (position - oldposition) < 0.01:\n",
    "                minclose = testclose\n",
    "                atlimit = True\n",
    "                DAQC2.clrDOUTbit(0, 0)\n",
    "        oldposition = position\n",
    "        testclose = testclose -0.05\n",
    "        DAQC2.setDAC(0,0,testclose)\n",
    "        time.sleep(2)\n",
    "    \n",
    "    # Find minimum closing start voltage\n",
    "    print('Finding minimum closing start voltage...')\n",
    "    oldposition = round(DAQC2.getADC(0, 0) - DAQC2.getADC(0, 1),2) # not stable past 2 decimals\n",
    "    startclose = minclose\n",
    "    atlimit = False\n",
    "    while not atlimit:\n",
    "        atlimit = barrier_at_limit_check(barriermin, barriermax)\n",
    "        DAQC2.setDAC(0,0,startclose)\n",
    "        DAQC2.setDOUTbit(0,0) # turn on power/start barriers\n",
    "        time.sleep(2)\n",
    "        position = round(DAQC2.getADC(0, 0) - DAQC2.getADC(0, 1),2) # not stable past 2 decimals\n",
    "        if (position - oldposition) < 0.01:\n",
    "            # because there can be noise take a new reading and check again\n",
    "            position = round(DAQC2.getADC(0, 0) - DAQC2.getADC(0, 1),2) # not stable past 2 decimals\n",
    "            if (position - oldposition) < 0.01:\n",
    "                startclose = startclose + 0.05\n",
    "        else:\n",
    "            atlimit = True\n",
    "            DAQC2.clrDOUTbit(0, 0)\n",
    "            startclose = startclose + 0.05 # To provide a margin.\n",
    "    # Move to fully closed\n",
    "    print('Moving to fully closed...')\n",
    "    position = round(DAQC2.getADC(0, 0) - DAQC2.getADC(0, 1),2) # not stable past 2 decimals\n",
    "    if position < barriermax:\n",
    "        # need to close some\n",
    "        atlimit = False\n",
    "        DAQC2.setDAC(0,0,maxclose) # set fast close\n",
    "        DAQC2.setDOUTbit(0,0) # turn on power/start barriers\n",
    "        time.sleep(1)\n",
    "        while not atlimit:\n",
    "            atlimit = barrier_at_limit_check(barriermin, barriermax)\n",
    "            \n",
    "    # Get rid of any hysteresis in the open direction\n",
    "    print('Removing open hysteresis...')\n",
    "    position = round(DAQC2.getADC(0, 0) - DAQC2.getADC(0, 1),2) # not stable past 2 decimals\n",
    "    stoppos = position-0.05\n",
    "    if stoppos < barriermin:\n",
    "        stoppos = barriermin\n",
    "    DAQC2.setDAC(0,0,maxopen) # set fast close\n",
    "    DAQC2.setDOUTbit(0,0) # turn on power/start barriers\n",
    "    time.sleep(1)\n",
    "    atlimit = False\n",
    "    while not atlimit:\n",
    "        atlimit = barrier_at_limit_check(stoppos, barriermax)\n",
    "\n",
    "    # Find openning stall voltage\n",
    "    print('Finding openning stall voltage...')\n",
    "    oldposition = round(DAQC2.getADC(0, 0) - DAQC2.getADC(0, 1),2) # not stable past 2 decimals\n",
    "    DAQC2.setDAC(0,0,maxopen) # set fast close\n",
    "    DAQC2.setDOUTbit(0,0) # turn on power/start barriers\n",
    "    testopen = maxopen\n",
    "    time.sleep(2)\n",
    "    atlimit = False\n",
    "    while not atlimit:\n",
    "        atlimit = barrier_at_limit_check(barriermin, barriermax)\n",
    "        position = round(DAQC2.getADC(0, 0) - DAQC2.getADC(0, 1),2) # not stable past 2 decimals\n",
    "#        if position > 6.5:\n",
    "#            print ('old: '+str(oldposition)+' position: '+str(position))\n",
    "        if (oldposition - position) < 0.01:\n",
    "            # because there can be noise take a new reading and check again\n",
    "            position = round(DAQC2.getADC(0, 0) - DAQC2.getADC(0, 1),2) # not stable past 2 decimals\n",
    "            if (oldposition - position) < 0.01:\n",
    "                minopen = testopen\n",
    "                atlimit = True\n",
    "                DAQC2.clrDOUTbit(0, 0)\n",
    "        oldposition = position\n",
    "        testopen = testopen  + 0.05\n",
    "        DAQC2.setDAC(0,0,testopen)\n",
    "        time.sleep(2)\n",
    "\n",
    "    # Find minimum opening start voltage\n",
    "    print('Finding minimum openning start voltage...')\n",
    "    oldposition = round(DAQC2.getADC(0, 0) - DAQC2.getADC(0, 1),2) # not stable past 2 decimals\n",
    "    startopen = minopen\n",
    "    atlimit = False\n",
    "    while not atlimit:\n",
    "        atlimit = barrier_at_limit_check(barriermin, barriermax)\n",
    "        DAQC2.setDAC(0,0,startopen)\n",
    "        DAQC2.setDOUTbit(0,0) # turn on power/start barriers\n",
    "        time.sleep(2)\n",
    "        position = round(DAQC2.getADC(0, 0) - DAQC2.getADC(0, 1),2) # not stable past 2 decimals\n",
    "        if (oldposition - position) < 0.01:\n",
    "            # because there can be noise take a new reading and check again\n",
    "            position = round(DAQC2.getADC(0, 0) - DAQC2.getADC(0, 1),2) # not stable past 2 decimals\n",
    "            if (oldposition - position) < 0.01:\n",
    "                startopen = startopen - 0.05\n",
    "        else:\n",
    "            atlimit = True\n",
    "            DAQC2.clrDOUTbit(0, 0)\n",
    "            startopen = startopen - 0.05 # To provide a margin.\n",
    "            \n",
    "    # Return control to previous trough controller\n",
    "    if ctlpid is not None:\n",
    "        file = open(pidpath,'w')\n",
    "        file.write(str(ctlpid)+'\\n')\n",
    "        file.close()\n",
    "    elif os.path.exists(pidpath):\n",
    "        os.remove(pidpath)\n",
    "    elif os.path.exists(pidpath): # double check\n",
    "        os.remove(pidpath)\n",
    "    \n",
    "    \n",
    "    # Return the results\n",
    "    return(maxclose,minclose,startclose,maxopen,minopen,startopen)\n",
    "    "
   ]
  },
  {
   "cell_type": "markdown",
   "id": "174bbfca",
   "metadata": {},
   "source": [
    "Some how the position measured in the barrier_at_limit_check() call is wrong. Are we looping to fast? No, the resitor was dirty. Cleaned, but maybe should replace."
   ]
  },
  {
   "cell_type": "code",
   "execution_count": 17,
   "id": "da03deb2",
   "metadata": {},
   "outputs": [
    {
     "name": "stdout",
     "output_type": "stream",
     "text": [
      "Moving to fully open...\n",
      "Removing close hysteresis...\n",
      "Finding closing stall voltage...\n",
      "Finding minimum closing start voltage...\n",
      "Moving to fully closed...\n",
      "Removing open hysteresis...\n",
      "Finding openning stall voltage...\n",
      "Finding minimum openning start voltage...\n"
     ]
    },
    {
     "data": {
      "text/plain": [
       "(4, 2.650000000000005, 2.7500000000000044, 0, 0.3, 0.25)"
      ]
     },
     "execution_count": 17,
     "metadata": {},
     "output_type": "execute_result"
    }
   ],
   "source": [
    "motorcal(0.05,7.78)"
   ]
  },
  {
   "cell_type": "code",
   "execution_count": 7,
   "id": "81ba6e2d",
   "metadata": {},
   "outputs": [
    {
     "data": {
      "text/plain": [
       "2.8"
      ]
     },
     "execution_count": 7,
     "metadata": {},
     "output_type": "execute_result"
    }
   ],
   "source": [
    "DAQC2.getDAC(0, 0)"
   ]
  },
  {
   "cell_type": "code",
   "execution_count": 27,
   "id": "3f512829",
   "metadata": {},
   "outputs": [
    {
     "name": "stdout",
     "output_type": "stream",
     "text": [
      "3867\n"
     ]
    }
   ],
   "source": [
    "pidpath = '/tmp/troughctl.pid'\n",
    "ctlpid = None\n",
    "if os.path.exists(pidpath):\n",
    "    file=open(pidpath,'r')\n",
    "    ctlpid = int(file.readline())\n",
    "    file.close()\n",
    "pid = os.getpid()\n",
    "print(str(pid))\n",
    "file = open(pidpath,'w')\n",
    "file.write(str(pid)+'\\n')\n",
    "file.close()\n",
    "#DAQC2.setDAC(0,0,0) # set fast open\n",
    "DAQC2.setDAC(0,0,4) # set fast close\n",
    "DAQC2.setDOUTbit(0,0) # turn on power/start barriers"
   ]
  },
  {
   "cell_type": "code",
   "execution_count": 4,
   "id": "ffef8e79",
   "metadata": {},
   "outputs": [
    {
     "name": "stdout",
     "output_type": "stream",
     "text": [
      "Barrier: 0.0 Power +: 11.95 Power -: -11.9\n",
      "Barrier: 0.0 Power +: 11.95 Power -: -11.9\n",
      "Barrier: -0.0 Power +: 11.95 Power -: -11.9\n",
      "Barrier: 0.0 Power +: 11.95 Power -: -11.9\n",
      "Barrier: -0.0 Power +: 11.95 Power -: -11.9\n",
      "Barrier: 0.0 Power +: 11.95 Power -: -11.9\n",
      "Barrier: 0.0 Power +: 11.95 Power -: -11.9\n",
      "Barrier: 0.0 Power +: 11.95 Power -: -11.9\n",
      "Barrier: 0.0 Power +: 11.95 Power -: -11.9\n",
      "Barrier: -0.0 Power +: 11.95 Power -: -11.9\n",
      "Barrier: 0.0 Power +: 11.95 Power -: -11.9\n",
      "Barrier: -0.0 Power +: 11.95 Power -: -11.9\n",
      "Barrier: 0.3 Power +: 11.95 Power -: -11.9\n",
      "Barrier: 0.81 Power +: 11.95 Power -: -11.9\n",
      "Barrier: 1.3 Power +: 11.95 Power -: -11.9\n",
      "Barrier: 1.47 Power +: 11.95 Power -: -11.9\n",
      "Barrier: 1.47 Power +: 11.95 Power -: -11.9\n",
      "Barrier: 1.47 Power +: 11.95 Power -: -11.9\n",
      "Barrier: 1.47 Power +: 11.95 Power -: -11.9\n",
      "Barrier: 1.47 Power +: 11.95 Power -: -11.9\n",
      "Barrier: 1.47 Power +: 11.95 Power -: -11.9\n",
      "Barrier: 1.47 Power +: 11.95 Power -: -11.9\n",
      "Barrier: 1.47 Power +: 11.95 Power -: -11.9\n",
      "Barrier: 1.47 Power +: 11.95 Power -: -11.9\n",
      "Barrier: 1.47 Power +: 11.95 Power -: -11.9\n",
      "Barrier: 1.47 Power +: 11.95 Power -: -11.9\n",
      "Barrier: 1.47 Power +: 11.95 Power -: -11.9\n",
      "Barrier: 1.47 Power +: 11.95 Power -: -11.9\n",
      "Barrier: 1.96 Power +: 11.95 Power -: -11.9\n",
      "Barrier: 2.6 Power +: 11.95 Power -: -11.9\n",
      "Barrier: 3.08 Power +: 11.95 Power -: -11.9\n",
      "Barrier: 3.43 Power +: 11.95 Power -: -11.9\n",
      "Barrier: 3.72 Power +: 11.95 Power -: -11.9\n",
      "Barrier: 4.1 Power +: 11.95 Power -: -11.9\n",
      "Barrier: 4.36 Power +: 11.95 Power -: -11.9\n",
      "Barrier: 4.63 Power +: 11.95 Power -: -11.9\n",
      "Barrier: 4.35 Power +: 11.95 Power -: -11.9\n",
      "Barrier: 5.41 Power +: 11.95 Power -: -11.9\n",
      "Barrier: 5.41 Power +: 11.95 Power -: -11.9\n",
      "Barrier: 5.41 Power +: 11.95 Power -: -11.9\n",
      "Barrier: 5.41 Power +: 11.95 Power -: -11.9\n",
      "Barrier: 5.41 Power +: 11.95 Power -: -11.9\n",
      "Barrier: 5.41 Power +: 11.95 Power -: -11.9\n",
      "Barrier: 5.41 Power +: 11.95 Power -: -11.9\n",
      "Barrier: 5.41 Power +: 11.95 Power -: -11.9\n",
      "Barrier: 5.41 Power +: 11.95 Power -: -11.9\n",
      "Barrier: 5.41 Power +: 11.95 Power -: -11.9\n",
      "Barrier: 5.41 Power +: 11.95 Power -: -11.9\n",
      "Barrier: 5.74 Power +: 11.95 Power -: -11.9\n",
      "Barrier: 7.57 Power +: 11.95 Power -: -11.9\n",
      "Barrier: 8.81 Power +: 11.95 Power -: -11.9\n",
      "Barrier: 8.81 Power +: 11.95 Power -: -11.9\n",
      "Barrier: 8.82 Power +: 11.95 Power -: -11.9\n",
      "Barrier: 8.82 Power +: 11.95 Power -: -11.9\n",
      "Barrier: 8.81 Power +: 11.95 Power -: -11.9\n",
      "Barrier: 8.81 Power +: 11.95 Power -: -11.9\n",
      "Barrier: 8.5 Power +: 11.95 Power -: -11.9\n",
      "Barrier: 7.96 Power +: 11.95 Power -: -11.9\n",
      "Barrier: 7.37 Power +: 11.95 Power -: -11.9\n",
      "Barrier: 7.17 Power +: 11.95 Power -: -11.9\n",
      "Barrier: 6.84 Power +: 11.95 Power -: -11.9\n",
      "Barrier: 6.34 Power +: 11.95 Power -: -11.9\n",
      "Barrier: 6.04 Power +: 11.95 Power -: -11.9\n",
      "Barrier: 5.4 Power +: 11.95 Power -: -11.9\n",
      "Barrier: 4.83 Power +: 11.95 Power -: -11.9\n",
      "Barrier: 4.26 Power +: 11.95 Power -: -11.9\n",
      "Barrier: 3.83 Power +: 11.95 Power -: -11.9\n",
      "Barrier: 3.0 Power +: 11.95 Power -: -11.9\n",
      "Barrier: 2.88 Power +: 11.95 Power -: -11.9\n",
      "Barrier: 2.88 Power +: 11.95 Power -: -11.9\n",
      "Barrier: 2.87 Power +: 11.95 Power -: -11.9\n",
      "Barrier: 2.88 Power +: 11.95 Power -: -11.9\n",
      "Barrier: 2.88 Power +: 11.95 Power -: -11.9\n"
     ]
    },
    {
     "ename": "KeyboardInterrupt",
     "evalue": "",
     "output_type": "error",
     "traceback": [
      "\u001b[0;31m---------------------------------------------------------------------------\u001b[0m",
      "\u001b[0;31mKeyboardInterrupt\u001b[0m                         Traceback (most recent call last)",
      "\u001b[0;32m/tmp/ipykernel_4527/2790209432.py\u001b[0m in \u001b[0;36m<module>\u001b[0;34m\u001b[0m\n\u001b[1;32m      3\u001b[0m     \u001b[0mprint\u001b[0m \u001b[0;34m(\u001b[0m\u001b[0;34m'Barrier: '\u001b[0m\u001b[0;34m+\u001b[0m\u001b[0mstr\u001b[0m\u001b[0;34m(\u001b[0m\u001b[0mround\u001b[0m\u001b[0;34m(\u001b[0m\u001b[0mDAQC2\u001b[0m\u001b[0;34m.\u001b[0m\u001b[0mgetADC\u001b[0m\u001b[0;34m(\u001b[0m\u001b[0;36m0\u001b[0m\u001b[0;34m,\u001b[0m\u001b[0;36m0\u001b[0m\u001b[0;34m)\u001b[0m\u001b[0;34m-\u001b[0m\u001b[0mDAQC2\u001b[0m\u001b[0;34m.\u001b[0m\u001b[0mgetADC\u001b[0m\u001b[0;34m(\u001b[0m\u001b[0;36m0\u001b[0m\u001b[0;34m,\u001b[0m\u001b[0;36m1\u001b[0m\u001b[0;34m)\u001b[0m\u001b[0;34m,\u001b[0m\u001b[0;36m2\u001b[0m\u001b[0;34m)\u001b[0m\u001b[0;34m)\u001b[0m\u001b[0;34m,\u001b[0m\u001b[0mend\u001b[0m\u001b[0;34m=\u001b[0m\u001b[0;34m''\u001b[0m\u001b[0;34m)\u001b[0m\u001b[0;34m\u001b[0m\u001b[0;34m\u001b[0m\u001b[0m\n\u001b[1;32m      4\u001b[0m     \u001b[0mprint\u001b[0m \u001b[0;34m(\u001b[0m\u001b[0;34m' Power +: '\u001b[0m\u001b[0;34m+\u001b[0m\u001b[0mstr\u001b[0m\u001b[0;34m(\u001b[0m\u001b[0mround\u001b[0m\u001b[0;34m(\u001b[0m\u001b[0mDAQC2\u001b[0m\u001b[0;34m.\u001b[0m\u001b[0mgetADC\u001b[0m\u001b[0;34m(\u001b[0m\u001b[0;36m0\u001b[0m\u001b[0;34m,\u001b[0m\u001b[0;36m7\u001b[0m\u001b[0;34m)\u001b[0m\u001b[0;34m,\u001b[0m\u001b[0;36m2\u001b[0m\u001b[0;34m)\u001b[0m\u001b[0;34m)\u001b[0m\u001b[0;34m+\u001b[0m\u001b[0;34m' Power -: '\u001b[0m\u001b[0;34m+\u001b[0m\u001b[0mstr\u001b[0m\u001b[0;34m(\u001b[0m\u001b[0mround\u001b[0m\u001b[0;34m(\u001b[0m\u001b[0mDAQC2\u001b[0m\u001b[0;34m.\u001b[0m\u001b[0mgetADC\u001b[0m\u001b[0;34m(\u001b[0m\u001b[0;36m0\u001b[0m\u001b[0;34m,\u001b[0m\u001b[0;36m6\u001b[0m\u001b[0;34m)\u001b[0m\u001b[0;34m,\u001b[0m\u001b[0;36m2\u001b[0m\u001b[0;34m)\u001b[0m\u001b[0;34m)\u001b[0m\u001b[0;34m)\u001b[0m\u001b[0;34m\u001b[0m\u001b[0;34m\u001b[0m\u001b[0m\n\u001b[0;32m----> 5\u001b[0;31m     \u001b[0mtime\u001b[0m\u001b[0;34m.\u001b[0m\u001b[0msleep\u001b[0m\u001b[0;34m(\u001b[0m\u001b[0;36m0.5\u001b[0m\u001b[0;34m)\u001b[0m\u001b[0;34m\u001b[0m\u001b[0;34m\u001b[0m\u001b[0m\n\u001b[0m",
      "\u001b[0;31mKeyboardInterrupt\u001b[0m: "
     ]
    }
   ],
   "source": [
    "import time\n",
    "while True:\n",
    "    print ('Barrier: '+str(round(DAQC2.getADC(0,0)-DAQC2.getADC(0,1),2)),end='')\n",
    "    print (' Power +: '+str(round(DAQC2.getADC(0,7),2))+' Power -: '+str(round(DAQC2.getADC(0,6),2)))\n",
    "    time.sleep(0.5)"
   ]
  },
  {
   "cell_type": "code",
   "execution_count": 15,
   "id": "0d48561d",
   "metadata": {},
   "outputs": [],
   "source": [
    "DAQC2.clrDOUTbit(0, 0)"
   ]
  },
  {
   "cell_type": "code",
   "execution_count": 14,
   "id": "91a53a3b",
   "metadata": {},
   "outputs": [
    {
     "name": "stdout",
     "output_type": "stream",
     "text": [
      "Moving to fully open...\n"
     ]
    },
    {
     "ename": "NameError",
     "evalue": "name 'time' is not defined",
     "output_type": "error",
     "traceback": [
      "\u001b[0;31m---------------------------------------------------------------------------\u001b[0m",
      "\u001b[0;31mNameError\u001b[0m                                 Traceback (most recent call last)",
      "\u001b[0;32m/tmp/ipykernel_3184/3537291456.py\u001b[0m in \u001b[0;36m<module>\u001b[0;34m\u001b[0m\n\u001b[1;32m      6\u001b[0m     \u001b[0mDAQC2\u001b[0m\u001b[0;34m.\u001b[0m\u001b[0msetDAC\u001b[0m\u001b[0;34m(\u001b[0m\u001b[0;36m0\u001b[0m\u001b[0;34m,\u001b[0m\u001b[0;36m0\u001b[0m\u001b[0;34m,\u001b[0m\u001b[0;36m0\u001b[0m\u001b[0;34m)\u001b[0m \u001b[0;31m# set fast open\u001b[0m\u001b[0;34m\u001b[0m\u001b[0;34m\u001b[0m\u001b[0m\n\u001b[1;32m      7\u001b[0m     \u001b[0mDAQC2\u001b[0m\u001b[0;34m.\u001b[0m\u001b[0msetDOUTbit\u001b[0m\u001b[0;34m(\u001b[0m\u001b[0;36m0\u001b[0m\u001b[0;34m,\u001b[0m\u001b[0;36m0\u001b[0m\u001b[0;34m)\u001b[0m \u001b[0;31m# turn on power/start barriers\u001b[0m\u001b[0;34m\u001b[0m\u001b[0;34m\u001b[0m\u001b[0m\n\u001b[0;32m----> 8\u001b[0;31m     \u001b[0mtime\u001b[0m\u001b[0;34m.\u001b[0m\u001b[0msleep\u001b[0m\u001b[0;34m(\u001b[0m\u001b[0;36m1\u001b[0m\u001b[0;34m)\u001b[0m\u001b[0;34m\u001b[0m\u001b[0;34m\u001b[0m\u001b[0m\n\u001b[0m\u001b[1;32m      9\u001b[0m     \u001b[0;32mwhile\u001b[0m \u001b[0;32mnot\u001b[0m \u001b[0matlimit\u001b[0m\u001b[0;34m:\u001b[0m\u001b[0;34m\u001b[0m\u001b[0;34m\u001b[0m\u001b[0m\n\u001b[1;32m     10\u001b[0m         \u001b[0matlimit\u001b[0m \u001b[0;34m=\u001b[0m \u001b[0mbarrier_at_limit_check\u001b[0m\u001b[0;34m(\u001b[0m\u001b[0;36m0.05\u001b[0m\u001b[0;34m,\u001b[0m \u001b[0;36m7.78\u001b[0m\u001b[0;34m)\u001b[0m\u001b[0;34m\u001b[0m\u001b[0;34m\u001b[0m\u001b[0m\n",
      "\u001b[0;31mNameError\u001b[0m: name 'time' is not defined"
     ]
    }
   ],
   "source": [
    "print('Moving to fully open...')\n",
    "position = round(DAQC2.getADC(0, 0) - DAQC2.getADC(0, 1),2) # not stable past 2 decimals\n",
    "if position > 0.05:\n",
    "    # need to open some\n",
    "    atlimit = False\n",
    "    DAQC2.setDAC(0,0,0) # set fast open \n",
    "    DAQC2.setDOUTbit(0,0) # turn on power/start barriers\n",
    "    time.sleep(1)\n",
    "    while not atlimit:\n",
    "        atlimit = barrier_at_limit_check(0.05, 7.78)"
   ]
  },
  {
   "cell_type": "code",
   "execution_count": null,
   "id": "b344aca2",
   "metadata": {},
   "outputs": [],
   "source": []
  }
 ],
 "metadata": {
  "kernelspec": {
   "display_name": "Python 3 (ipykernel)",
   "language": "python",
   "name": "python3"
  },
  "language_info": {
   "codemirror_mode": {
    "name": "ipython",
    "version": 3
   },
   "file_extension": ".py",
   "mimetype": "text/x-python",
   "name": "python",
   "nbconvert_exporter": "python",
   "pygments_lexer": "ipython3",
   "version": "3.8.10"
  }
 },
 "nbformat": 4,
 "nbformat_minor": 5
}
