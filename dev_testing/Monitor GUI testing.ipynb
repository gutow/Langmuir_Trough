{
 "cells": [
  {
   "cell_type": "code",
   "execution_count": 1,
   "id": "b7987216",
   "metadata": {},
   "outputs": [],
   "source": [
    "import Trough_GUI"
   ]
  },
  {
   "cell_type": "code",
   "execution_count": 2,
   "id": "a0eb1cb2",
   "metadata": {},
   "outputs": [],
   "source": [
    "cals = Trough_GUI.calibration_utils.Calibrations()"
   ]
  },
  {
   "cell_type": "code",
   "execution_count": 3,
   "id": "4f32dfa3",
   "metadata": {
    "scrolled": false
   },
   "outputs": [
    {
     "data": {
      "application/vnd.jupyter.widget-view+json": {
       "model_id": "3331e3ea1bf64fc2827f2e304133da20",
       "version_major": 2,
       "version_minor": 0
      },
      "text/plain": [
       "VBox(children=(HBox(children=(Label(value='BALANCE:'), VBox(children=(Text(value='', description='mg', disable…"
      ]
     },
     "metadata": {},
     "output_type": "display_data"
    },
    {
     "name": "stdout",
     "output_type": "stream",
     "text": [
      "{'name': 'value', 'old': '% of max', 'new': 'cm^2', 'owner': Dropdown(description='Units', index=2, options=('% of max', 'cm', 'cm^2', 'Angstrom^2/molec'), value='cm^2'), 'type': 'change'}\n",
      "{'name': 'value', 'old': 'cm^2', 'new': 'cm', 'owner': Dropdown(description='Units', index=1, options=('% of max', 'cm', 'cm^2', 'Angstrom^2/molec'), value='cm'), 'type': 'change'}\n",
      "{'name': 'value', 'old': 'cm', 'new': '% of max', 'owner': Dropdown(description='Units', options=('% of max', 'cm', 'cm^2', 'Angstrom^2/molec'), value='% of max'), 'type': 'change'}\n",
      "{'name': 'value', 'old': '% of max', 'new': 'cm^2', 'owner': Dropdown(description='Units', index=2, options=('% of max', 'cm', 'cm^2', 'Angstrom^2/molec'), value='cm^2'), 'type': 'change'}\n",
      "{'name': 'value', 'old': 'cm^2', 'new': '% of max', 'owner': Dropdown(description='Units', options=('% of max', 'cm', 'cm^2', 'Angstrom^2/molec'), value='% of max'), 'type': 'change'}\n"
     ]
    }
   ],
   "source": [
    "Trough_GUI.Monitor_Calibrate.Monitor_Setup_Trough(cals)"
   ]
  },
  {
   "cell_type": "code",
   "execution_count": null,
   "id": "bf7fb6b2",
   "metadata": {},
   "outputs": [],
   "source": [
    "print(cals.balance.units, cals.barriers.units, cals.temperature.units)"
   ]
  },
  {
   "cell_type": "code",
   "execution_count": null,
   "id": "93318eff",
   "metadata": {},
   "outputs": [],
   "source": []
  },
  {
   "cell_type": "code",
   "execution_count": null,
   "id": "712ce17e",
   "metadata": {},
   "outputs": [],
   "source": [
    "Trough_GUI.status_widgets.update_status({'bal_raw':1.27,'bal_dev':0.02,\n",
    "                                         'barr_raw':0.8,'barr_dev':0.002,\n",
    "                                         'temp_raw':-4.56,'temp_dev':0.01,\n",
    "                                         'messages':['No updates',]}, cals)"
   ]
  },
  {
   "cell_type": "code",
   "execution_count": null,
   "id": "e9750bef",
   "metadata": {},
   "outputs": [],
   "source": [
    "# First initialize trough\n",
    "import Trough_Control\n",
    "if not Trough_Control.trough_util.is_trough_initialized():\n",
    "    cmdsend, datarcv, TROUGH = Trough_Control.trough_util.init_trough()\n",
    "# Event loop\n",
    "from time import time, sleep\n",
    "# datapkg[0] = [timestamp list]\n",
    "# datapkg[1] = [barrier raw list]\n",
    "# datapkg[2] = [barrier stdev list]\n",
    "# datapkg[3] = [balance raw list]\n",
    "# datapkg[4] = [balance stdev list]\n",
    "# datapkg[5] = [temperature raw list]\n",
    "# datapkg[6] = [temperature stdev list]\n",
    "# datapkg[7] = [message list]\n",
    "datapkg = []\n",
    "run = True\n",
    "update = 0\n",
    "while run:\n",
    "    # send for data at a maximum rate of 1 Hz\n",
    "    min_next_time = time() + 1.0\n",
    "    cmdsend.send(['Send',''])\n",
    "    waiting = True\n",
    "    while waiting:\n",
    "        if datarcv.poll():\n",
    "            datapkg =datarcv.recv()\n",
    "            update_dict = {'barr_raw':datapkg[1][-1],\n",
    "                           'barr_dev':datapkg[2][-1],\n",
    "                           'bal_raw':datapkg[3][-1],\n",
    "                           'bal_dev':datapkg[4][-1],\n",
    "                           'temp_raw':datapkg[5][-1],\n",
    "                           'temp_dev':datapkg[6][-1],\n",
    "                           'messages':datapkg[7]}\n",
    "            Trough_GUI.status_widgets.update_status(update_dict, cals)\n",
    "            update+=1\n",
    "            waiting = False\n",
    "    if time()< min_next_time:\n",
    "        sleep(1)"
   ]
  },
  {
   "cell_type": "code",
   "execution_count": null,
   "id": "f5d08a27",
   "metadata": {},
   "outputs": [],
   "source": [
    "datapkg"
   ]
  },
  {
   "cell_type": "code",
   "execution_count": null,
   "id": "364808ba",
   "metadata": {},
   "outputs": [],
   "source": [
    "cals.barriers.cal_apply([0.7613993559219399, 0.7613712807244503, 0.7614248322753392],\n",
    "                       [2.684617327574853e-05, 2.057942843404166e-05, 2.3285347508477762e-05])"
   ]
  },
  {
   "cell_type": "code",
   "execution_count": null,
   "id": "837c15c4",
   "metadata": {},
   "outputs": [],
   "source": [
    "from multiprocessing import Process\n",
    "isinstance(TROUGH,Process)"
   ]
  },
  {
   "cell_type": "code",
   "execution_count": null,
   "id": "c3fdc2d6",
   "metadata": {},
   "outputs": [],
   "source": [
    "TROUGH.is_alive()"
   ]
  },
  {
   "cell_type": "code",
   "execution_count": null,
   "id": "561a2440",
   "metadata": {},
   "outputs": [],
   "source": [
    "from IPython import get_ipython\n",
    "get_ipython"
   ]
  }
 ],
 "metadata": {
  "kernelspec": {
   "display_name": "Python 3 (ipykernel)",
   "language": "python",
   "name": "python3"
  },
  "language_info": {
   "codemirror_mode": {
    "name": "ipython",
    "version": 3
   },
   "file_extension": ".py",
   "mimetype": "text/x-python",
   "name": "python",
   "nbconvert_exporter": "python",
   "pygments_lexer": "ipython3",
   "version": "3.8.10"
  }
 },
 "nbformat": 4,
 "nbformat_minor": 5
}
