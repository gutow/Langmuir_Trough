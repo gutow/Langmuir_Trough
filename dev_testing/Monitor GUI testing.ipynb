{
 "cells": [
  {
   "cell_type": "code",
   "execution_count": 1,
   "id": "b7987216",
   "metadata": {},
   "outputs": [],
   "source": [
    "import Trough_GUI"
   ]
  },
  {
   "cell_type": "code",
   "execution_count": 5,
   "id": "a0eb1cb2",
   "metadata": {},
   "outputs": [],
   "source": [
    "cals = Trough_GUI.calibration_utils.Calibrations()"
   ]
  },
  {
   "cell_type": "code",
   "execution_count": 6,
   "id": "4f32dfa3",
   "metadata": {},
   "outputs": [
    {
     "data": {
      "application/vnd.jupyter.widget-view+json": {
       "model_id": "e12ee249145d4d218efa9df93fc80752",
       "version_major": 2,
       "version_minor": 0
      },
      "text/plain": [
       "VBox(children=(HBox(children=(Label(value='BALANCE:'), VBox(children=(Text(value='', description='mg', disable…"
      ]
     },
     "metadata": {},
     "output_type": "display_data"
    }
   ],
   "source": [
    "Trough_GUI.Monitor_Calibrate.Monitor_Setup_Trough(cals)"
   ]
  },
  {
   "cell_type": "code",
   "execution_count": 8,
   "id": "bf7fb6b2",
   "metadata": {},
   "outputs": [
    {
     "name": "stdout",
     "output_type": "stream",
     "text": [
      "mg cm C\n"
     ]
    }
   ],
   "source": [
    "print(cals.balance.units, cals.barriers.units, cals.temperature.units)"
   ]
  },
  {
   "cell_type": "code",
   "execution_count": 9,
   "id": "712ce17e",
   "metadata": {},
   "outputs": [],
   "source": [
    "Trough_GUI.status_widgets.update_status({'bal_raw':1.27,'barr_raw':0.8,'temp_raw':-4.56}, cals)"
   ]
  },
  {
   "cell_type": "code",
   "execution_count": null,
   "id": "e9750bef",
   "metadata": {},
   "outputs": [],
   "source": [
    "# First initialize trough\n",
    "import Trough_Control\n",
    "if not Trough_Control.trough_util.is_trough_initialized():\n",
    "    cmdsend, datarcv, TROUGH = Trough_Control.trough_util.init_trough()\n",
    "# Event loop\n",
    "from time import time\n",
    "run = True\n",
    "while run:\n",
    "    # send for data at a maximum rate of 1 Hz\n",
    "    min_next_time = time() + 1.0\n",
    "    cmdsend.\n",
    "    \n",
    "    "
   ]
  }
 ],
 "metadata": {
  "kernelspec": {
   "display_name": "Python 3 (ipykernel)",
   "language": "python",
   "name": "python3"
  },
  "language_info": {
   "codemirror_mode": {
    "name": "ipython",
    "version": 3
   },
   "file_extension": ".py",
   "mimetype": "text/x-python",
   "name": "python",
   "nbconvert_exporter": "python",
   "pygments_lexer": "ipython3",
   "version": "3.10.8"
  }
 },
 "nbformat": 4,
 "nbformat_minor": 5
}
