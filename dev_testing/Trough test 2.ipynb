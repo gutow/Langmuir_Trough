{
 "cells": [
  {
   "cell_type": "code",
   "execution_count": 1,
   "id": "8bd4e18a",
   "metadata": {},
   "outputs": [
    {
     "name": "stdout",
     "output_type": "stream",
     "text": [
      "Importing drivers and searching for available data acquisition hardware."
     ]
    },
    {
     "data": {
      "text/html": [
       "<script type=\"text/javascript\">// Jupyter Notebook Utilities\n",
       "JPSLUtils = new Object();\n",
       "\n",
       "/*\n",
       "Cell Utilities\n",
       "*/\n",
       "\n",
       "JPSLUtils.select_containing_cell = function(elem){\n",
       "    //Create a synthetic click in the cell to force selection of the cell containing the table\n",
       "    var event = new MouseEvent('click', {\n",
       "    view: window,\n",
       "    bubbles: true,\n",
       "    cancelable: true\n",
       "    });\n",
       "    var cancelled = !elem.dispatchEvent(event);\n",
       "    if (cancelled) {\n",
       "    // A handler called preventDefault.\n",
       "    alert(\"Something is wrong. Try running the cell that creates this table.\");\n",
       "    }\n",
       "};\n",
       "\n",
       "JPSLUtils.insert_newline_at_end_of_current_cell = function(text){\n",
       "    var lastline = Jupyter.notebook.get_selected_cell().code_mirror.doc.\n",
       "        lineCount();\n",
       "    Jupyter.notebook.get_selected_cell().code_mirror.doc.setCursor(lastline,0);\n",
       "    Jupyter.notebook.get_selected_cell().code_mirror.doc.\n",
       "         replaceSelection(\"\\n\" + text);\n",
       "};\n",
       "\n",
       "JPSLUtils.insert_text_at_beginning_of_current_cell = function(text){\n",
       "    // append \\n to line insert as a separate line.\n",
       "    Jupyter.notebook.get_selected_cell().code_mirror.doc.\n",
       "           setCursor({line:0,ch:0});\n",
       "    Jupyter.notebook.get_selected_cell().code_mirror.doc.\n",
       "           replaceSelection(text);\n",
       "};\n",
       "\n",
       "/*\n",
       "input/textarea utilities\n",
       "*/\n",
       "\n",
       "JPSLUtils.record_input = function (element){\n",
       "    var nodetype = element.nodeName.toLowerCase();\n",
       "    var tempval = ''+element.value;//force to string\n",
       "    var tempsize = ''+element.size;\n",
       "    if (tempsize==null){tempsize='7'};\n",
       "    var tempclass = element.className;\n",
       "    if (tempclass==null){tempclass=''};\n",
       "    var tempid = element.id;\n",
       "    if (tempid==null){tempid=''};\n",
       "    var tempelem = document.createElement(nodetype);\n",
       "    tempelem.className =tempclass;\n",
       "    tempelem.id=tempid;\n",
       "    tempelem.setAttribute('size',tempsize);\n",
       "    if (nodetype=='input'){\n",
       "        tempelem.setAttribute('value',tempval);\n",
       "    } else {\n",
       "        tempelem.innerHTML = element.value;\n",
       "    }\n",
       "    tempelem.setAttribute('onblur','JPSLUtils.record_input(this)');\n",
       "    element.replaceWith(tempelem);\n",
       "};\n",
       "\n",
       "/*\n",
       "Python Execution\n",
       "*/\n",
       "\n",
       "JPSLUtils.executePython = function(python) {\n",
       "    return new Promise((resolve, reject) => {\n",
       "        var callbacks = {\n",
       "            iopub: {\n",
       "                output: (data) => resolve(data.content.text.trim())\n",
       "            }\n",
       "        };\n",
       "        Jupyter.notebook.kernel.execute(`print(${python})`, callbacks);\n",
       "    });\n",
       "};\n",
       "\n",
       "JPSLUtils.executePython2 = function(python) {\n",
       "    return new Promise((resolve, reject) => {\n",
       "        var callbacks = {\n",
       "            iopub: {\n",
       "                output: (data) => resolve(JSON.stringify(data, null, 4))\n",
       "            }\n",
       "        };\n",
       "        Jupyter.notebook.kernel.execute(`print(${python})`, callbacks);\n",
       "    });\n",
       "};\n",
       "\n",
       "/*\n",
       "Dialogs\n",
       "*/\n",
       "\n",
       "JPSLUtils.record_names = function(){\n",
       "    var currentcell = Jupyter.notebook.get_selected_cell();\n",
       "    var dlg = document.createElement('div');\n",
       "    dlg.setAttribute('id','get_names_dlg');\n",
       "    var tmp = document.createElement('H4');\n",
       "    var inststr = \"In the box below type your name and your partners' names\";\n",
       "    inststr += \" (one per line):\";\n",
       "    tmp.innerHTML=inststr\n",
       "    dlg.append(tmp);\n",
       "    tmp = document.createElement('div');\n",
       "    tmp.innerHTML = '<textarea cols=\"30\" onblur=\"JPSLUtils.record_input(this)\"/>';\n",
       "    dlg.append(tmp);\n",
       "    $(dlg).dialog({modal:true,\n",
       "                  close: function(){$(this).dialog('destroy')},\n",
       "                  buttons:[\n",
       "                  {text: 'Cancel',\n",
       "                  click: function(){$(this).dialog('destroy')}},\n",
       "                  {text: 'OK/Do It',\n",
       "                  click: function(){var rcrd = document.getElementById(\n",
       "                                    'Last-User');\n",
       "                                    var parent = rcrd.parentNode;\n",
       "                                    var dlg = document.getElementById(\n",
       "                                    'get_names_dlg');\n",
       "                                    var textboxes = dlg.querySelectorAll(\n",
       "                                    \"textarea\");\n",
       "                                    var tmp = document.createElement('div');\n",
       "                                    tmp.setAttribute('id','Grp-names');\n",
       "                                    tmp.\n",
       "                                    setAttribute('style','font-weight:bold;');\n",
       "                                    var refeed = /\\r?\\n|\\n\\r?|\\n/g;\n",
       "                                    var tmpstr = 'Partners: '+ textboxes[0]\n",
       "                                    .innerHTML.replace(refeed,'; ');\n",
       "                                    //tmpstr.replace(refeed,'; ');\n",
       "                                    tmp.innerHTML = tmpstr;\n",
       "                                    tmpstr = '# '+rcrd.innerHTML +'\\n# '\n",
       "                                    +tmpstr;\n",
       "                                    //rcrd.append(tmp);\n",
       "                                    JPSLUtils.\n",
       "                                    insert_newline_at_end_of_current_cell(\n",
       "                                    tmpstr);\n",
       "                                   $(this).dialog('destroy');}}\n",
       "                  ]})\n",
       "    Jupyter.notebook.focus_cell();//Make sure keyboard manager doesn't grab inputs.\n",
       "    Jupyter.notebook.keyboard_manager.enabled=false;\n",
       "    dlg.focus();\n",
       "    Jupyter.notebook.keyboard_manager.enabled=false; //Make sure keyboard manager doesn't grab inputs.\n",
       "};</script>"
      ],
      "text/plain": [
       "<IPython.core.display.HTML object>"
      ]
     },
     "metadata": {},
     "output_type": "display_data"
    },
    {
     "name": "stdout",
     "output_type": "stream",
     "text": [
      "..........."
     ]
    },
    {
     "data": {
      "text/html": [
       "<script type=\"text/javascript\">var insertruncount = 0\n",
       "var newrunstr = 'fig$ = go.FigureWidget() # Create figure to show data.\\n'\n",
       "newrunstr += 'newRun(fig$) # Initiate run setup.\\n'\n",
       "newrunstr += 'fig$ # Display the live figure.'\n",
       "\n",
       "function insertnewRun(){\n",
       "    //Insert a cell below the current selection\n",
       "    Jupyter.notebook.insert_cell_below();\n",
       "    Jupyter.notebook.select_next(true);\n",
       "    Jupyter.notebook.focus_cell();\n",
       "    var currentcell = Jupyter.notebook.get_selected_cell();\n",
       "    insertruncount += 1\n",
       "    var cmdstr = newrunstr.replaceAll('$',insertruncount)\n",
       "    currentcell.set_text(cmdstr);\n",
       "    currentcell.execute()\n",
       "}\n",
       "\n",
       "function addnewRun(){\n",
       "    //find the last cell in notebook\n",
       "    var lastcellidx = Jupyter.notebook.ncells()-1;\n",
       "    var lastcell=Jupyter.notebook.get_cell(lastcellidx);\n",
       "    Jupyter.notebook.select(lastcellidx);\n",
       "    //If the cell is empty put command in it. Otherwise\n",
       "    //add another cell at the end of the worksheet. Then\n",
       "    //put the command in the new lastcell.\n",
       "    insertruncount += 1\n",
       "    var cmdstr = newrunstr.replaceAll('$',insertruncount)\n",
       "    if(lastcell.get_text()==''){\n",
       "        lastcell.set_text(cmdstr);\n",
       "    }else{\n",
       "        Jupyter.notebook.insert_cell_below();\n",
       "        Jupyter.notebook.select_next(true);\n",
       "        Jupyter.notebook.focus_cell();\n",
       "        lastcell=Jupyter.notebook.get_cell(lastcellidx+1);\n",
       "        lastcell.set_text(cmdstr);\n",
       "    }\n",
       "    lastcell.execute()\n",
       "}\n",
       "\n",
       "function showDataTable(){\n",
       "    //find the currently active cell\n",
       "    var currentcell = Jupyter.notebook.get_selected_cell();\n",
       "    //Because we could destroy date created by having run\n",
       "    //this cell previously do not use this cell if it contains\n",
       "    //anything\n",
       "    if (currentcell.get_text()==''){\n",
       "        currentcell.set_text('showDataTable()');\n",
       "    }else{\n",
       "        Jupyter.notebook.insert_cell_below();\n",
       "        Jupyter.notebook.select_next(true);\n",
       "        Jupyter.notebook.focus_cell();\n",
       "        currentcell = Jupyter.notebook.get_selected_cell();\n",
       "        currentcell.set_text('showDataTable()');\n",
       "    }\n",
       "    currentcell.execute()\n",
       "}\n",
       "\n",
       "function newCalculatedColumn(){\n",
       "    //Insert a cell below the current selection\n",
       "    Jupyter.notebook.insert_cell_below();\n",
       "    Jupyter.notebook.select_next(true);\n",
       "    Jupyter.notebook.focus_cell();\n",
       "    var currentcell = Jupyter.notebook.get_selected_cell();\n",
       "     currentcell.set_text('newCalculatedColumn()');\n",
       "    currentcell.execute()\n",
       "}\n",
       "\n",
       "function newPlot(){\n",
       "    //Insert a cell below the current selection\n",
       "    Jupyter.notebook.insert_cell_below();\n",
       "    Jupyter.notebook.select_next(true);\n",
       "    Jupyter.notebook.focus_cell();\n",
       "    var currentcell = Jupyter.notebook.get_selected_cell();\n",
       "     currentcell.set_text('newPlot()');\n",
       "    currentcell.execute()\n",
       "}\n",
       "\n",
       "function createCmdMenu(){\n",
       "    if(!document.getElementById('jupyterpiDAQcmdsmnu')){\n",
       "        var newselect=document.createElement('select');\n",
       "        newselect.id = 'jupyterpiDAQcmdsmnu';\n",
       "        newselect.classList.add('form-control'); //class to match notebook formatting\n",
       "        newselect.classList.add('select-xs'); //class to match notebook formatting\n",
       "        newselect.onchange=function(){\n",
       "            var lastvalue = this.value;\n",
       "            this.value='DAQ Commands';\n",
       "            if (lastvalue=='Insert New Run after selection...'){\n",
       "                insertnewRun()\n",
       "            }\n",
       "            if (lastvalue=='Append New Run to end...'){\n",
       "                addnewRun()\n",
       "            }\n",
       "            if (lastvalue=='Show data in table...'){\n",
       "                showDataTable()\n",
       "            }\n",
       "            if (lastvalue=='Calculate new column...'){\n",
       "                newCalculatedColumn()\n",
       "            }\n",
       "            if (lastvalue=='Insert new plot after selection...'){\n",
       "                newPlot()\n",
       "            }\n",
       "        }\n",
       "        var optiontxt = '<option title=\"Insert data aquisition related command.\">DAQ Commands</option>';\n",
       "        optiontxt+='<option title=\"Insert cell below selected and start new run.\">Insert New Run after selection...</option>';\n",
       "        optiontxt+='<option title=\"Add new run at end of notebook.\">Append New Run to end...</option>';\n",
       "        optiontxt+='<option title=\"Insert show data table command at end of current cell.\">Show data in table...</option>';\n",
       "        optiontxt+='<option title=\"Calculate new column below current cell.\">Calculate new column...</option>';\n",
       "        optiontxt+='<option title=\"New plot below current cell.\">Insert new plot after selection...</option>';\n",
       "        newselect.innerHTML=optiontxt;\n",
       "        if(document.getElementById('maintoolbar-container')){ //classic Jupyter\n",
       "            document.getElementById('maintoolbar-container').appendChild(newselect);\n",
       "        }\n",
       "        if(document.getElementsByClassName('jp-NotebookPanel-toolbar')[0]){\n",
       "        //JLab\n",
       "            document.getElementsByClassName('jp-NotebookPanel-toolbar')[0]\n",
       "            .appendChild(newselect); // If there is more than one only add to\n",
       "            //first.\n",
       "        }\n",
       "    }\n",
       "}\n",
       "\n",
       "function deleteCmdMenu(){\n",
       "    if(document.getElementById('jupyterpiDAQcmdsmnu')){\n",
       "        document.getElementById('jupyterpiDAQcmdsmnu').remove();\n",
       "    }\n",
       "}</script>"
      ],
      "text/plain": [
       "<IPython.core.display.HTML object>"
      ]
     },
     "metadata": {},
     "output_type": "display_data"
    },
    {
     "data": {
      "application/javascript": [
       "createCmdMenu()"
      ],
      "text/plain": [
       "<IPython.core.display.Javascript object>"
      ]
     },
     "metadata": {},
     "output_type": "display_data"
    },
    {
     "name": "stdout",
     "output_type": "stream",
     "text": [
      "Done with setup.\n"
     ]
    }
   ],
   "source": [
    "from jupyterpidaq.DAQinstance import *"
   ]
  },
  {
   "cell_type": "code",
   "execution_count": 3,
   "id": "5e47c0a6",
   "metadata": {},
   "outputs": [],
   "source": [
    "import piplates.DAQC2plate as DAQC2"
   ]
  },
  {
   "cell_type": "code",
   "execution_count": 4,
   "id": "d0da2129",
   "metadata": {},
   "outputs": [
    {
     "data": {
      "text/plain": [
       "0.0"
      ]
     },
     "execution_count": 4,
     "metadata": {},
     "output_type": "execute_result"
    }
   ],
   "source": [
    "DAQC2.getDAC(0,0)"
   ]
  },
  {
   "cell_type": "code",
   "execution_count": 5,
   "id": "839b7964",
   "metadata": {},
   "outputs": [],
   "source": [
    "DAQC2.setDAC(0,0,2.5)"
   ]
  },
  {
   "cell_type": "code",
   "execution_count": 6,
   "id": "6221ad5d",
   "metadata": {},
   "outputs": [],
   "source": [
    "DAQC2.setDAC(0,0,4)"
   ]
  },
  {
   "cell_type": "code",
   "execution_count": 7,
   "id": "8f11355c",
   "metadata": {},
   "outputs": [
    {
     "data": {
      "text/plain": [
       "4.0"
      ]
     },
     "execution_count": 7,
     "metadata": {},
     "output_type": "execute_result"
    }
   ],
   "source": [
    "DAQC2.getDAC(0,0)"
   ]
  },
  {
   "cell_type": "markdown",
   "id": "c6f52049",
   "metadata": {},
   "source": [
    "Cannot drive the 10 kohm load. Needs Mohm?"
   ]
  },
  {
   "cell_type": "code",
   "execution_count": 8,
   "id": "e4a0e728",
   "metadata": {},
   "outputs": [],
   "source": [
    "DAQC2.setDAC(0,0,2.5)"
   ]
  },
  {
   "cell_type": "code",
   "execution_count": 9,
   "id": "d3a3a598",
   "metadata": {},
   "outputs": [
    {
     "data": {
      "text/plain": [
       "2.5"
      ]
     },
     "execution_count": 9,
     "metadata": {},
     "output_type": "execute_result"
    }
   ],
   "source": [
    "DAQC2.getDAC(0,0)"
   ]
  },
  {
   "cell_type": "code",
   "execution_count": 10,
   "id": "c60a4daf",
   "metadata": {},
   "outputs": [],
   "source": [
    "DAQC2.setDAC(0,0,4)"
   ]
  },
  {
   "cell_type": "code",
   "execution_count": 11,
   "id": "071969c9",
   "metadata": {},
   "outputs": [],
   "source": [
    "DAQC2.setDAC(0,0,2.5)"
   ]
  },
  {
   "cell_type": "code",
   "execution_count": 12,
   "id": "1643b78b",
   "metadata": {},
   "outputs": [],
   "source": [
    "DAQC2.setDAC(0,0,1)"
   ]
  },
  {
   "cell_type": "code",
   "execution_count": 13,
   "id": "4d5ec91f",
   "metadata": {},
   "outputs": [],
   "source": [
    "DAQC2.setDAC(0,0,0)"
   ]
  },
  {
   "cell_type": "code",
   "execution_count": 14,
   "id": "5c3c09bc",
   "metadata": {},
   "outputs": [],
   "source": [
    "DAQC2.setDAC(0,0,2.5)"
   ]
  },
  {
   "cell_type": "code",
   "execution_count": 17,
   "id": "f25ec766",
   "metadata": {},
   "outputs": [],
   "source": [
    "DAQC2.setDAC(0,0,4.095)"
   ]
  },
  {
   "cell_type": "code",
   "execution_count": 18,
   "id": "35abaafe",
   "metadata": {},
   "outputs": [
    {
     "data": {
      "text/plain": [
       "4.094"
      ]
     },
     "execution_count": 18,
     "metadata": {},
     "output_type": "execute_result"
    }
   ],
   "source": [
    "DAQC2.getDAC(0,0)"
   ]
  },
  {
   "cell_type": "code",
   "execution_count": 19,
   "id": "cf856e3d",
   "metadata": {},
   "outputs": [],
   "source": [
    "DAQC2.setDAC(0,0,2.5)"
   ]
  },
  {
   "cell_type": "code",
   "execution_count": 20,
   "id": "445e0aee",
   "metadata": {},
   "outputs": [
    {
     "data": {
      "text/plain": [
       "2.5"
      ]
     },
     "execution_count": 20,
     "metadata": {},
     "output_type": "execute_result"
    }
   ],
   "source": [
    "DAQC2.getDAC(0,0)"
   ]
  },
  {
   "cell_type": "code",
   "execution_count": null,
   "id": "70c7d778",
   "metadata": {},
   "outputs": [],
   "source": []
  }
 ],
 "metadata": {
  "kernelspec": {
   "display_name": "Python 3 (ipykernel)",
   "language": "python",
   "name": "python3"
  },
  "language_info": {
   "codemirror_mode": {
    "name": "ipython",
    "version": 3
   },
   "file_extension": ".py",
   "mimetype": "text/x-python",
   "name": "python",
   "nbconvert_exporter": "python",
   "pygments_lexer": "ipython3",
   "version": "3.8.10"
  }
 },
 "nbformat": 4,
 "nbformat_minor": 5
}
